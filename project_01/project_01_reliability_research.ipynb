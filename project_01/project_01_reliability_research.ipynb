{
 "cells": [
  {
   "cell_type": "markdown",
   "id": "591e3623",
   "metadata": {},
   "source": [
    "# Исследование надёжности заёмщиков — анализ банковских данных"
   ]
  },
  {
   "cell_type": "markdown",
   "id": "e7835a69",
   "metadata": {
    "id": "57eAOGIz_Zcs"
   },
   "source": [
    "Кредитный отдела банка - заказчик исследования.\n",
    "Входные данные от банка - статистика о платежеспособности клиентов.\n",
    "\n",
    "**Цель исследования** — ответить на вопросы:\n",
    "1. Есть ли зависимость между количеством детей и возвратом кредита в срок?\n",
    "2. Есть ли зависимость между семейным положением и возвратом кредита в срок?\n",
    "3. Есть ли зависимость между уровнем дохода и возвратом кредита в срок?\n",
    "4. Как разные цели кредита влияют на его возврат в срок?\n",
    "\n",
    "**Ход исследования**\n",
    "\n",
    "Данные о поведении пользователей мы получим из файла `data.csv`. О качестве данных ничего не известно. Поэтому понадобится обзор данных. \n",
    "\n",
    "Мы проверим данные на ошибки и оценим их влияние на исследование. Затем, на этапе предобработки мы поищем возможность исправить самые критичные ошибки данных."
   ]
  },
  {
   "cell_type": "markdown",
   "id": "8841cba5",
   "metadata": {
    "toc": true
   },
   "source": [
    "<h1>Содержание<span class=\"tocSkip\"></span></h1>\n",
    "<div class=\"toc\"><ul class=\"toc-item\"><li><span><a href=\"#Обзор-данных\" data-toc-modified-id=\"Обзор-данных-1\"><span class=\"toc-item-num\">1&nbsp;&nbsp;</span>Обзор данных</a></span></li><li><span><a href=\"#Предобработка-данных\" data-toc-modified-id=\"Предобработка-данных-2\"><span class=\"toc-item-num\">2&nbsp;&nbsp;</span>Предобработка данных</a></span><ul class=\"toc-item\"><li><span><a href=\"#Заполнение-пропусков\" data-toc-modified-id=\"Заполнение-пропусков-2.1\"><span class=\"toc-item-num\">2.1&nbsp;&nbsp;</span>Заполнение пропусков</a></span></li><li><span><a href=\"#Проверка-данных-на-аномалии\" data-toc-modified-id=\"Проверка-данных-на-аномалии-2.2\"><span class=\"toc-item-num\">2.2&nbsp;&nbsp;</span>Проверка данных на аномалии</a></span></li><li><span><a href=\"#Изменение-типов-данных\" data-toc-modified-id=\"Изменение-типов-данных-2.3\"><span class=\"toc-item-num\">2.3&nbsp;&nbsp;</span>Изменение типов данных</a></span></li><li><span><a href=\"#Удаление-дубликатов\" data-toc-modified-id=\"Удаление-дубликатов-2.4\"><span class=\"toc-item-num\">2.4&nbsp;&nbsp;</span>Удаление дубликатов</a></span></li><li><span><a href=\"#Формирование-дополнительных-датафреймов-словарей,-декомпозиция-исходного-датафрейма\" data-toc-modified-id=\"Формирование-дополнительных-датафреймов-словарей,-декомпозиция-исходного-датафрейма-2.5\"><span class=\"toc-item-num\">2.5&nbsp;&nbsp;</span>Формирование дополнительных датафреймов словарей, декомпозиция исходного датафрейма</a></span></li><li><span><a href=\"#Категоризация-дохода\" data-toc-modified-id=\"Категоризация-дохода-2.6\"><span class=\"toc-item-num\">2.6&nbsp;&nbsp;</span>Категоризация дохода</a></span></li><li><span><a href=\"#Категоризация-целей-кредита\" data-toc-modified-id=\"Категоризация-целей-кредита-2.7\"><span class=\"toc-item-num\">2.7&nbsp;&nbsp;</span>Категоризация целей кредита</a></span></li></ul></li><li><span><a href=\"#Ответы-на-вопросы\" data-toc-modified-id=\"Ответы-на-вопросы-3\"><span class=\"toc-item-num\">3&nbsp;&nbsp;</span>Ответы на вопросы</a></span><ul class=\"toc-item\"><li><span><a href=\"#Есть-ли-зависимость-между-количеством-детей-и-возвратом-кредита-в-срок?\" data-toc-modified-id=\"Есть-ли-зависимость-между-количеством-детей-и-возвратом-кредита-в-срок?-3.1\"><span class=\"toc-item-num\">3.1&nbsp;&nbsp;</span>Есть ли зависимость между количеством детей и возвратом кредита в срок?</a></span></li><li><span><a href=\"#Есть-ли-зависимость-между-семейным-положением-и-возвратом-кредита-в-срок?\" data-toc-modified-id=\"Есть-ли-зависимость-между-семейным-положением-и-возвратом-кредита-в-срок?-3.2\"><span class=\"toc-item-num\">3.2&nbsp;&nbsp;</span>Есть ли зависимость между семейным положением и возвратом кредита в срок?</a></span></li><li><span><a href=\"#Есть-ли-зависимость-между-уровнем-дохода-и-возвратом-кредита-в-срок?\" data-toc-modified-id=\"Есть-ли-зависимость-между-уровнем-дохода-и-возвратом-кредита-в-срок?-3.3\"><span class=\"toc-item-num\">3.3&nbsp;&nbsp;</span>Есть ли зависимость между уровнем дохода и возвратом кредита в срок?</a></span></li><li><span><a href=\"#Как-разные-цели-кредита-влияют-на-его-возврат-в-срок?\" data-toc-modified-id=\"Как-разные-цели-кредита-влияют-на-его-возврат-в-срок?-3.4\"><span class=\"toc-item-num\">3.4&nbsp;&nbsp;</span>Как разные цели кредита влияют на его возврат в срок?</a></span></li></ul></li><li><span><a href=\"#Общий-вывод\" data-toc-modified-id=\"Общий-вывод-4\"><span class=\"toc-item-num\">4&nbsp;&nbsp;</span>Общий вывод</a></span></li></ul></div>"
   ]
  },
  {
   "cell_type": "markdown",
   "id": "8c0dd7d4",
   "metadata": {},
   "source": [
    "## Обзор данных"
   ]
  },
  {
   "cell_type": "markdown",
   "id": "5042cb89",
   "metadata": {
    "id": "57eAOGIz_Zcs"
   },
   "source": [
    "Импортируем библиотеки"
   ]
  },
  {
   "cell_type": "code",
   "execution_count": 1,
   "id": "01b3fc2f",
   "metadata": {},
   "outputs": [],
   "source": [
    "import matplotlib.pyplot as plt\n",
    "import numpy as np\n",
    "import pandas as pd"
   ]
  },
  {
   "cell_type": "markdown",
   "id": "7e6e178b",
   "metadata": {
    "id": "SG23P8tt_Zcs"
   },
   "source": [
    "Прочитаем файл `data.csv` из папки `datasets` и сохраним его в переменной `df`:"
   ]
  },
  {
   "cell_type": "code",
   "execution_count": 2,
   "id": "17c629d8",
   "metadata": {},
   "outputs": [],
   "source": [
    "df = pd.read_csv('datasets/data.csv')"
   ]
  },
  {
   "cell_type": "markdown",
   "id": "1ac4d1d3",
   "metadata": {
    "id": "rDoOMd3uTqnZ"
   },
   "source": [
    "Выведем на экран первые пять строк таблицы `df`:"
   ]
  },
  {
   "cell_type": "code",
   "execution_count": 3,
   "id": "eba6845c",
   "metadata": {
    "id": "oWTVX3gW_Zct"
   },
   "outputs": [
    {
     "data": {
      "text/html": [
       "<div>\n",
       "<style scoped>\n",
       "    .dataframe tbody tr th:only-of-type {\n",
       "        vertical-align: middle;\n",
       "    }\n",
       "\n",
       "    .dataframe tbody tr th {\n",
       "        vertical-align: top;\n",
       "    }\n",
       "\n",
       "    .dataframe thead th {\n",
       "        text-align: right;\n",
       "    }\n",
       "</style>\n",
       "<table border=\"1\" class=\"dataframe\">\n",
       "  <thead>\n",
       "    <tr style=\"text-align: right;\">\n",
       "      <th></th>\n",
       "      <th>children</th>\n",
       "      <th>days_employed</th>\n",
       "      <th>dob_years</th>\n",
       "      <th>education</th>\n",
       "      <th>education_id</th>\n",
       "      <th>family_status</th>\n",
       "      <th>family_status_id</th>\n",
       "      <th>gender</th>\n",
       "      <th>income_type</th>\n",
       "      <th>debt</th>\n",
       "      <th>total_income</th>\n",
       "      <th>purpose</th>\n",
       "    </tr>\n",
       "  </thead>\n",
       "  <tbody>\n",
       "    <tr>\n",
       "      <th>0</th>\n",
       "      <td>1</td>\n",
       "      <td>-8437.673028</td>\n",
       "      <td>42</td>\n",
       "      <td>высшее</td>\n",
       "      <td>0</td>\n",
       "      <td>женат / замужем</td>\n",
       "      <td>0</td>\n",
       "      <td>F</td>\n",
       "      <td>сотрудник</td>\n",
       "      <td>0</td>\n",
       "      <td>253875.639453</td>\n",
       "      <td>покупка жилья</td>\n",
       "    </tr>\n",
       "    <tr>\n",
       "      <th>1</th>\n",
       "      <td>1</td>\n",
       "      <td>-4024.803754</td>\n",
       "      <td>36</td>\n",
       "      <td>среднее</td>\n",
       "      <td>1</td>\n",
       "      <td>женат / замужем</td>\n",
       "      <td>0</td>\n",
       "      <td>F</td>\n",
       "      <td>сотрудник</td>\n",
       "      <td>0</td>\n",
       "      <td>112080.014102</td>\n",
       "      <td>приобретение автомобиля</td>\n",
       "    </tr>\n",
       "    <tr>\n",
       "      <th>2</th>\n",
       "      <td>0</td>\n",
       "      <td>-5623.422610</td>\n",
       "      <td>33</td>\n",
       "      <td>Среднее</td>\n",
       "      <td>1</td>\n",
       "      <td>женат / замужем</td>\n",
       "      <td>0</td>\n",
       "      <td>M</td>\n",
       "      <td>сотрудник</td>\n",
       "      <td>0</td>\n",
       "      <td>145885.952297</td>\n",
       "      <td>покупка жилья</td>\n",
       "    </tr>\n",
       "    <tr>\n",
       "      <th>3</th>\n",
       "      <td>3</td>\n",
       "      <td>-4124.747207</td>\n",
       "      <td>32</td>\n",
       "      <td>среднее</td>\n",
       "      <td>1</td>\n",
       "      <td>женат / замужем</td>\n",
       "      <td>0</td>\n",
       "      <td>M</td>\n",
       "      <td>сотрудник</td>\n",
       "      <td>0</td>\n",
       "      <td>267628.550329</td>\n",
       "      <td>дополнительное образование</td>\n",
       "    </tr>\n",
       "    <tr>\n",
       "      <th>4</th>\n",
       "      <td>0</td>\n",
       "      <td>340266.072047</td>\n",
       "      <td>53</td>\n",
       "      <td>среднее</td>\n",
       "      <td>1</td>\n",
       "      <td>гражданский брак</td>\n",
       "      <td>1</td>\n",
       "      <td>F</td>\n",
       "      <td>пенсионер</td>\n",
       "      <td>0</td>\n",
       "      <td>158616.077870</td>\n",
       "      <td>сыграть свадьбу</td>\n",
       "    </tr>\n",
       "  </tbody>\n",
       "</table>\n",
       "</div>"
      ],
      "text/plain": [
       "   children  days_employed  dob_years education  education_id  \\\n",
       "0         1   -8437.673028         42    высшее             0   \n",
       "1         1   -4024.803754         36   среднее             1   \n",
       "2         0   -5623.422610         33   Среднее             1   \n",
       "3         3   -4124.747207         32   среднее             1   \n",
       "4         0  340266.072047         53   среднее             1   \n",
       "\n",
       "      family_status  family_status_id gender income_type  debt   total_income  \\\n",
       "0   женат / замужем                 0      F   сотрудник     0  253875.639453   \n",
       "1   женат / замужем                 0      F   сотрудник     0  112080.014102   \n",
       "2   женат / замужем                 0      M   сотрудник     0  145885.952297   \n",
       "3   женат / замужем                 0      M   сотрудник     0  267628.550329   \n",
       "4  гражданский брак                 1      F   пенсионер     0  158616.077870   \n",
       "\n",
       "                      purpose  \n",
       "0               покупка жилья  \n",
       "1     приобретение автомобиля  \n",
       "2               покупка жилья  \n",
       "3  дополнительное образование  \n",
       "4             сыграть свадьбу  "
      ]
     },
     "execution_count": 3,
     "metadata": {},
     "output_type": "execute_result"
    }
   ],
   "source": [
    "df.head()"
   ]
  },
  {
   "cell_type": "markdown",
   "id": "864da62a",
   "metadata": {
    "id": "EO73Kwic_Zct"
   },
   "source": [
    "Получим общую информацию о таблице:"
   ]
  },
  {
   "cell_type": "code",
   "execution_count": 4,
   "id": "50dfec98",
   "metadata": {
    "id": "DSf2kIb-_Zct",
    "scrolled": true
   },
   "outputs": [
    {
     "name": "stdout",
     "output_type": "stream",
     "text": [
      "<class 'pandas.core.frame.DataFrame'>\n",
      "RangeIndex: 21525 entries, 0 to 21524\n",
      "Data columns (total 12 columns):\n",
      " #   Column            Non-Null Count  Dtype  \n",
      "---  ------            --------------  -----  \n",
      " 0   children          21525 non-null  int64  \n",
      " 1   days_employed     19351 non-null  float64\n",
      " 2   dob_years         21525 non-null  int64  \n",
      " 3   education         21525 non-null  object \n",
      " 4   education_id      21525 non-null  int64  \n",
      " 5   family_status     21525 non-null  object \n",
      " 6   family_status_id  21525 non-null  int64  \n",
      " 7   gender            21525 non-null  object \n",
      " 8   income_type       21525 non-null  object \n",
      " 9   debt              21525 non-null  int64  \n",
      " 10  total_income      19351 non-null  float64\n",
      " 11  purpose           21525 non-null  object \n",
      "dtypes: float64(2), int64(5), object(5)\n",
      "memory usage: 2.0+ MB\n"
     ]
    }
   ],
   "source": [
    "df.info()"
   ]
  },
  {
   "cell_type": "markdown",
   "id": "bfeaa83f",
   "metadata": {
    "id": "TaQ2Iwbr_Zct"
   },
   "source": [
    "Итак, в таблице 12 столбцов, 21525 строк. Тип данных в столбцах: `object`, `float`, `int64`.\n",
    "\n",
    "Описание данных\n",
    "- `children` — количество детей в семье\n",
    "- `days_employed` — общий трудовой стаж в днях\n",
    "- `dob_years` — возраст клиента в годах\n",
    "- `education` — уровень образования клиента\n",
    "- `education_id` — идентификатор уровня образования\n",
    "- `family_status` — семейное положение\n",
    "- `family_status_id` — идентификатор семейного положения\n",
    "- `gender` — пол клиента\n",
    "- `income_type` — тип занятости\n",
    "- `debt` — имел ли задолженность по возврату кредитов\n",
    "- `total_income` — ежемесячный доход\n",
    "- `purpose` — цель получения кредита\n",
    "\n",
    "В названиях столбцов нет нарушений стиля.\n",
    "\n",
    "Количество значений в столбцах различается. Значит, в данных есть пропущенные значения."
   ]
  },
  {
   "cell_type": "markdown",
   "id": "d8405faa",
   "metadata": {},
   "source": [
    "## Предобработка данных"
   ]
  },
  {
   "cell_type": "markdown",
   "id": "e73e3dd2",
   "metadata": {},
   "source": [
    "### Заполнение пропусков\n",
    "\n",
    "Сначала посчитаем количество пропущенных значений в таблице:"
   ]
  },
  {
   "cell_type": "code",
   "execution_count": 5,
   "id": "20708381",
   "metadata": {
    "scrolled": true
   },
   "outputs": [
    {
     "data": {
      "text/plain": [
       "children               0\n",
       "days_employed       2174\n",
       "dob_years              0\n",
       "education              0\n",
       "education_id           0\n",
       "family_status          0\n",
       "family_status_id       0\n",
       "gender                 0\n",
       "income_type            0\n",
       "debt                   0\n",
       "total_income        2174\n",
       "purpose                0\n",
       "dtype: int64"
      ]
     },
     "execution_count": 5,
     "metadata": {},
     "output_type": "execute_result"
    }
   ],
   "source": [
    "df.isna().sum()"
   ]
  },
  {
   "cell_type": "markdown",
   "id": "47ec892d",
   "metadata": {},
   "source": [
    "В столбцах `days_employed` и `income_type` есть пропущенные значения: по 2174 в каждой колонке.\n",
    "Проверим: пропущены ли значения одновременно в обоих столбцах во всех 2174 строках и посчитаем долю пропущенных значений"
   ]
  },
  {
   "cell_type": "code",
   "execution_count": 6,
   "id": "c1240716",
   "metadata": {
    "scrolled": true
   },
   "outputs": [
    {
     "data": {
      "text/plain": [
       "2174"
      ]
     },
     "execution_count": 6,
     "metadata": {},
     "output_type": "execute_result"
    }
   ],
   "source": [
    "df[(df['days_employed'].isna()) & (df['total_income'].isna())].shape[0]"
   ]
  },
  {
   "cell_type": "code",
   "execution_count": 7,
   "id": "b39a48d4",
   "metadata": {
    "scrolled": true
   },
   "outputs": [
    {
     "name": "stdout",
     "output_type": "stream",
     "text": [
      "доля пропущенных значений составляет: 10%\n"
     ]
    }
   ],
   "source": [
    "print('доля пропущенных значений составляет: {:.0%}'.format(df['days_employed'].isna().mean()))"
   ]
  },
  {
   "cell_type": "markdown",
   "id": "cf898590",
   "metadata": {},
   "source": [
    "Действительно, в исходной таблице мы имеем 2174 строк, в каждой из которой одновременно пропущены значения в столбцах `days_employed` и `income_type`.\n",
    "\n",
    "**Возможная причина** появления такого рода пропущенных значений - это выдача банком кредитов без подтверждения дохода, то есть без предоставления заёмщиком данных о заработной плате и трудовом стаже.\n",
    "\n",
    "Заполним пропуски в столбцах с количесвенными переменными медианными значениями, так как медиана устойчива к выбросам.\n",
    "\n",
    "Посмотрим на значения, которые лежат в столбце `total_income` - ежемесячный доход"
   ]
  },
  {
   "cell_type": "code",
   "execution_count": 8,
   "id": "411e6dd5",
   "metadata": {
    "scrolled": true
   },
   "outputs": [
    {
     "data": {
      "text/plain": [
       "count    1.935100e+04\n",
       "mean     1.674223e+05\n",
       "std      1.029716e+05\n",
       "min      2.066726e+04\n",
       "25%      1.030532e+05\n",
       "50%      1.450179e+05\n",
       "75%      2.034351e+05\n",
       "max      2.265604e+06\n",
       "Name: total_income, dtype: float64"
      ]
     },
     "execution_count": 8,
     "metadata": {},
     "output_type": "execute_result"
    }
   ],
   "source": [
    "df['total_income'].describe()"
   ]
  },
  {
   "cell_type": "markdown",
   "id": "48008917",
   "metadata": {},
   "source": [
    "Заполним пропуски в столбце `total_income` медианными значениями дохода в каждом типе занятости, для чего будем использовать метод `transform` в связке с `groupby`"
   ]
  },
  {
   "cell_type": "code",
   "execution_count": 9,
   "id": "bce20025",
   "metadata": {},
   "outputs": [],
   "source": [
    "df.fillna({'total_income': df.groupby('income_type')['total_income'].transform('median')}, inplace=True)"
   ]
  },
  {
   "cell_type": "code",
   "execution_count": 10,
   "id": "e22a22ae",
   "metadata": {},
   "outputs": [
    {
     "name": "stdout",
     "output_type": "stream",
     "text": [
      "Количество пропущенных значений в столбце 'total_income': 0\n"
     ]
    }
   ],
   "source": [
    "print('Количество пропущенных значений в столбце \\'total_income\\':', df['total_income'].isna().sum())"
   ]
  },
  {
   "cell_type": "markdown",
   "id": "dbe02124",
   "metadata": {},
   "source": [
    "### Проверка данных на аномалии"
   ]
  },
  {
   "cell_type": "markdown",
   "id": "95de38c8",
   "metadata": {},
   "source": [
    "Посмотрим на значения, которые лежат в столбце `days_employed`"
   ]
  },
  {
   "cell_type": "code",
   "execution_count": 11,
   "id": "f7e51d59",
   "metadata": {},
   "outputs": [
    {
     "data": {
      "text/plain": [
       "count     19351.000000\n",
       "mean      63046.497661\n",
       "std      140827.311974\n",
       "min      -18388.949901\n",
       "25%       -2747.423625\n",
       "50%       -1203.369529\n",
       "75%        -291.095954\n",
       "max      401755.400475\n",
       "Name: days_employed, dtype: float64"
      ]
     },
     "execution_count": 11,
     "metadata": {},
     "output_type": "execute_result"
    }
   ],
   "source": [
    "df['days_employed'].describe()"
   ]
  },
  {
   "cell_type": "code",
   "execution_count": 12,
   "id": "ab1dfb39",
   "metadata": {
    "scrolled": true
   },
   "outputs": [
    {
     "data": {
      "text/plain": [
       "(-20000.001, 0.0]       15906\n",
       "(0.0, 66000.0]              0\n",
       "(66000.0, 316000.0]         0\n",
       "(316000.0, 402000.0]     3445\n",
       "Name: days_employed, dtype: int64"
      ]
     },
     "execution_count": 12,
     "metadata": {},
     "output_type": "execute_result"
    }
   ],
   "source": [
    "df['days_employed'].value_counts(bins=[-20_000, 0, 66_000, 316_000, 402_000]).sort_index()"
   ]
  },
  {
   "cell_type": "markdown",
   "id": "421af46b",
   "metadata": {},
   "source": [
    "Видим, что в столбце `days_employed` есть отрицательные значения в диапазоне от -18388 до 0, и значения больше 316 тысяч дней (870 лет). Возможная причина появления аномалий - это указание значений не в днях, а в часах для значений больше 316 тысяч, и случано поставленный знак минус или тире перед отрицательными значениями, или неверная формула расчёта трудового стажа, в которой дата начала стажа и конца стажа перепутаны местами. \n",
    "\n",
    "Напишем функцию `days_employed_modify` для преобразования значений: значения больше 316 тысяч разделим на 24, а отрицательные значения сделаем положительными и применим эту функцию ко всем значениям столбца `days_employed`. Обработаем ошибку типа данных в функции с помощью `try except`"
   ]
  },
  {
   "cell_type": "code",
   "execution_count": 13,
   "id": "bda55398",
   "metadata": {},
   "outputs": [],
   "source": [
    "def days_employed_modify(x):\n",
    "    try:\n",
    "        if x > 316_000:\n",
    "            x/=24\n",
    "        return abs(x)\n",
    "    except TypeError:\n",
    "        return f'Исключение TypeError для данных'"
   ]
  },
  {
   "cell_type": "code",
   "execution_count": 14,
   "id": "5d9b5f35",
   "metadata": {
    "scrolled": false
   },
   "outputs": [],
   "source": [
    "df['days_employed'] = df['days_employed'].apply(days_employed_modify)"
   ]
  },
  {
   "cell_type": "code",
   "execution_count": 15,
   "id": "defb6ec3",
   "metadata": {
    "scrolled": true
   },
   "outputs": [
    {
     "data": {
      "text/plain": [
       "count    19351.000000\n",
       "mean      4641.641176\n",
       "std       5355.964289\n",
       "min         24.141633\n",
       "25%        927.009265\n",
       "50%       2194.220567\n",
       "75%       5537.882441\n",
       "max      18388.949901\n",
       "Name: days_employed, dtype: float64"
      ]
     },
     "execution_count": 15,
     "metadata": {},
     "output_type": "execute_result"
    }
   ],
   "source": [
    "df['days_employed'].describe()"
   ]
  },
  {
   "cell_type": "markdown",
   "id": "e3013dc2",
   "metadata": {},
   "source": [
    "Теперь можно заполнить пропуски в столбце `days_employed` медианными значениями:"
   ]
  },
  {
   "cell_type": "code",
   "execution_count": 16,
   "id": "d7b00b5c",
   "metadata": {
    "scrolled": true
   },
   "outputs": [
    {
     "name": "stdout",
     "output_type": "stream",
     "text": [
      "Медианное значение столбца 'days_employed': 2194.220566878695\n",
      "Количество пропущенных значений в столбце 'days_employed': 0\n"
     ]
    }
   ],
   "source": [
    "df['days_employed'].fillna(df['days_employed'].median(), inplace=True)\n",
    "print('Медианное значение столбца \\'days_employed\\':', df['days_employed'].median())\n",
    "print('Количество пропущенных значений в столбце \\'days_employed\\':', df['days_employed'].isna().sum())"
   ]
  },
  {
   "cell_type": "markdown",
   "id": "576b9098",
   "metadata": {},
   "source": [
    "Посмотрим на значения в столбце `children` - количество детей"
   ]
  },
  {
   "cell_type": "code",
   "execution_count": 17,
   "id": "96cfc895",
   "metadata": {
    "scrolled": false
   },
   "outputs": [
    {
     "data": {
      "text/plain": [
       " 0     14149\n",
       " 1      4818\n",
       " 2      2055\n",
       " 3       330\n",
       " 20       76\n",
       "-1        47\n",
       " 4        41\n",
       " 5         9\n",
       "Name: children, dtype: int64"
      ]
     },
     "execution_count": 17,
     "metadata": {},
     "output_type": "execute_result"
    }
   ],
   "source": [
    "df['children'].value_counts()"
   ]
  },
  {
   "cell_type": "markdown",
   "id": "e12f338e",
   "metadata": {},
   "source": [
    "В столбце `children` есть аномалии значений. Исправим значение \"-1\" на \"1\" (ошибка постановки тире перед значением), а \"20\" как ошибку при вводе числа исправим на \"2\". Заменим значения на корректные с помощью логической индексации:"
   ]
  },
  {
   "cell_type": "code",
   "execution_count": 18,
   "id": "967150a0",
   "metadata": {
    "scrolled": false
   },
   "outputs": [
    {
     "data": {
      "text/plain": [
       "0    14149\n",
       "1     4865\n",
       "2     2131\n",
       "3      330\n",
       "4       41\n",
       "5        9\n",
       "Name: children, dtype: int64"
      ]
     },
     "execution_count": 18,
     "metadata": {},
     "output_type": "execute_result"
    }
   ],
   "source": [
    "df.loc[df['children'] == -1, 'children'] = 1\n",
    "df.loc[df['children'] == 20, 'children'] = 2\n",
    "df['children'].value_counts()"
   ]
  },
  {
   "cell_type": "markdown",
   "id": "922f19f9",
   "metadata": {},
   "source": [
    "Посмотрим на значения в столбце `dob_years` - возраст клиента в годах"
   ]
  },
  {
   "cell_type": "code",
   "execution_count": 19,
   "id": "b21c9942",
   "metadata": {},
   "outputs": [
    {
     "data": {
      "image/png": "[encoded data removed]",
      "text/plain": [
       "<Figure size 432x288 with 1 Axes>"
      ]
     },
     "metadata": {
      "needs_background": "light"
     },
     "output_type": "display_data"
    }
   ],
   "source": [
    "df.plot(y='dob_years', kind='hist', bins=75, grid=True, title='Распределение клиентов по возрасту', legend=False)\n",
    "plt.xlim(0, 75)\n",
    "plt.xlabel('возраст клиента в годах')\n",
    "plt.ylabel('количество клиентов')\n",
    "plt.show()"
   ]
  },
  {
   "cell_type": "markdown",
   "id": "e0121a43",
   "metadata": {},
   "source": [
    "Видим небольшое количество нулевых значений. Так как этот столбец не влияет на ответы на поставленные в исследовании вопросы, то не будет заниматься корректировкой нулевых значений данного столбца."
   ]
  },
  {
   "cell_type": "markdown",
   "id": "44914129",
   "metadata": {},
   "source": [
    "Посмотрим на значения в столбце `debt` - имел ли задолженность по возврату кредитов"
   ]
  },
  {
   "cell_type": "code",
   "execution_count": 20,
   "id": "b470d098",
   "metadata": {},
   "outputs": [
    {
     "data": {
      "text/plain": [
       "0    19784\n",
       "1     1741\n",
       "Name: debt, dtype: int64"
      ]
     },
     "execution_count": 20,
     "metadata": {},
     "output_type": "execute_result"
    }
   ],
   "source": [
    "df['debt'].value_counts()"
   ]
  },
  {
   "cell_type": "markdown",
   "id": "e649259b",
   "metadata": {},
   "source": [
    "Проблем с данными в столбце `debt` нет"
   ]
  },
  {
   "cell_type": "markdown",
   "id": "1df39ca0",
   "metadata": {},
   "source": [
    "### Изменение типов данных"
   ]
  },
  {
   "cell_type": "markdown",
   "id": "c4a6c277",
   "metadata": {},
   "source": [
    "Заменим вещественный тип данных в столбце `total_income` на целочисленный. Обработаем ошибку типа данных с помощью `try except`"
   ]
  },
  {
   "cell_type": "code",
   "execution_count": 21,
   "id": "682cfa9a",
   "metadata": {
    "scrolled": true
   },
   "outputs": [
    {
     "name": "stdout",
     "output_type": "stream",
     "text": [
      "int64\n"
     ]
    }
   ],
   "source": [
    "try:\n",
    "    df['total_income'] = df['total_income'].astype('int64')\n",
    "    print(df['total_income'].dtype)\n",
    "except:\n",
    "    print(f'Ошибка данных из столбца \\'total_income\\'')"
   ]
  },
  {
   "cell_type": "markdown",
   "id": "9dbc9603",
   "metadata": {},
   "source": [
    "### Удаление дубликатов"
   ]
  },
  {
   "cell_type": "markdown",
   "id": "7db947fe",
   "metadata": {},
   "source": [
    "Посчитаем явные дубликаты в таблице:"
   ]
  },
  {
   "cell_type": "code",
   "execution_count": 22,
   "id": "c64b1d07",
   "metadata": {},
   "outputs": [
    {
     "data": {
      "text/plain": [
       "54"
      ]
     },
     "execution_count": 22,
     "metadata": {},
     "output_type": "execute_result"
    }
   ],
   "source": [
    "df.duplicated().sum()"
   ]
  },
  {
   "cell_type": "markdown",
   "id": "f0a380ee",
   "metadata": {
    "id": "Ot25h6XR_Zct"
   },
   "source": [
    "Удалим явные дубликаты, удалим старые индексы и сформируем новые:"
   ]
  },
  {
   "cell_type": "code",
   "execution_count": 23,
   "id": "581c8607",
   "metadata": {
    "id": "exFHq6tt_Zct",
    "scrolled": true
   },
   "outputs": [],
   "source": [
    "df = df.drop_duplicates().reset_index(drop=True)"
   ]
  },
  {
   "cell_type": "markdown",
   "id": "f5bd485b",
   "metadata": {
    "id": "Im2YwBEG_Zct"
   },
   "source": [
    "Ещё раз посчитаем явные дубликаты в таблице — убедимся, что полностью от них избавились:"
   ]
  },
  {
   "cell_type": "code",
   "execution_count": 24,
   "id": "a056f15c",
   "metadata": {
    "id": "-8PuNWQ0_Zct"
   },
   "outputs": [
    {
     "data": {
      "text/plain": [
       "0"
      ]
     },
     "execution_count": 24,
     "metadata": {},
     "output_type": "execute_result"
    }
   ],
   "source": [
    "df.duplicated().sum()"
   ]
  },
  {
   "cell_type": "markdown",
   "id": "dbb80eaa",
   "metadata": {},
   "source": [
    "Теперь избавимся от неявных дубликатов в столбце `education`: есть одни и те же значения, но записанные по-разному с использованием заглавных и строчных букв. Приведём их к одному регистру"
   ]
  },
  {
   "cell_type": "code",
   "execution_count": 25,
   "id": "b66ee198",
   "metadata": {},
   "outputs": [
    {
     "data": {
      "text/plain": [
       "среднее                13705\n",
       "высшее                  4710\n",
       "СРЕДНЕЕ                  772\n",
       "Среднее                  711\n",
       "неоконченное высшее      668\n",
       "ВЫСШЕЕ                   273\n",
       "Высшее                   268\n",
       "начальное                250\n",
       "Неоконченное высшее       47\n",
       "НЕОКОНЧЕННОЕ ВЫСШЕЕ       29\n",
       "НАЧАЛЬНОЕ                 17\n",
       "Начальное                 15\n",
       "ученая степень             4\n",
       "Ученая степень             1\n",
       "УЧЕНАЯ СТЕПЕНЬ             1\n",
       "Name: education, dtype: int64"
      ]
     },
     "execution_count": 25,
     "metadata": {},
     "output_type": "execute_result"
    }
   ],
   "source": [
    "df['education'].value_counts()"
   ]
  },
  {
   "cell_type": "code",
   "execution_count": 26,
   "id": "112db706",
   "metadata": {
    "scrolled": true
   },
   "outputs": [
    {
     "name": "stdout",
     "output_type": "stream",
     "text": [
      "среднее                15188\n",
      "высшее                  5251\n",
      "неоконченное высшее      744\n",
      "начальное                282\n",
      "ученая степень             6\n",
      "Name: education, dtype: int64\n"
     ]
    }
   ],
   "source": [
    "df['education']=df['education'].str.lower()\n",
    "print(df['education'].value_counts())"
   ]
  },
  {
   "cell_type": "markdown",
   "id": "19f73dcc",
   "metadata": {},
   "source": [
    "проверим другие столбцы с категориальными переменными на неявные дубликаты"
   ]
  },
  {
   "cell_type": "code",
   "execution_count": 27,
   "id": "140e427a",
   "metadata": {
    "scrolled": true
   },
   "outputs": [
    {
     "data": {
      "text/plain": [
       "женат / замужем          12344\n",
       "гражданский брак          4163\n",
       "Не женат / не замужем     2810\n",
       "в разводе                 1195\n",
       "вдовец / вдова             959\n",
       "Name: family_status, dtype: int64"
      ]
     },
     "execution_count": 27,
     "metadata": {},
     "output_type": "execute_result"
    }
   ],
   "source": [
    "df['family_status'].value_counts()"
   ]
  },
  {
   "cell_type": "code",
   "execution_count": 28,
   "id": "1d9f026e",
   "metadata": {},
   "outputs": [
    {
     "data": {
      "text/plain": [
       "сотрудник          11091\n",
       "компаньон           5080\n",
       "пенсионер           3837\n",
       "госслужащий         1457\n",
       "предприниматель        2\n",
       "безработный            2\n",
       "студент                1\n",
       "в декрете              1\n",
       "Name: income_type, dtype: int64"
      ]
     },
     "execution_count": 28,
     "metadata": {},
     "output_type": "execute_result"
    }
   ],
   "source": [
    "df['income_type'].value_counts()"
   ]
  },
  {
   "cell_type": "code",
   "execution_count": 29,
   "id": "70ad060f",
   "metadata": {
    "scrolled": true
   },
   "outputs": [
    {
     "data": {
      "text/plain": [
       "F      14189\n",
       "M       7281\n",
       "XNA        1\n",
       "Name: gender, dtype: int64"
      ]
     },
     "execution_count": 29,
     "metadata": {},
     "output_type": "execute_result"
    }
   ],
   "source": [
    "df['gender'].value_counts()"
   ]
  },
  {
   "cell_type": "markdown",
   "id": "2e929c9a",
   "metadata": {},
   "source": [
    "В столбцах `family_status`, `income_type`, `gender` отсутствуют неявные дубликаты.\n",
    "В столбце `gender` присутствует одно значение `XNA`, но на качество исследования это значение не влияет."
   ]
  },
  {
   "cell_type": "markdown",
   "id": "f0ff3d76",
   "metadata": {},
   "source": [
    "Для поиска неявных дубликатов использовали метод `value_counts()`, который в отличие от метода `unique()` позволяет увидеть не только все уникальные значения в требуемом столбце, но и количество их повторений. Удаление дубликтов в столбце `education` осуществили с помощью метода `lower()` - приведение строк к нижнему регистру."
   ]
  },
  {
   "cell_type": "markdown",
   "id": "2214753c",
   "metadata": {},
   "source": [
    "### Формирование дополнительных датафреймов словарей, декомпозиция исходного датафрейма"
   ]
  },
  {
   "cell_type": "markdown",
   "id": "bb2fd6ad",
   "metadata": {},
   "source": [
    "Создадим новый датафрейм `education_dict` со столбцами `education_id`, `education`. Удалим из получившегося датафрейма дубликаты. Устанавливаем столбец `education_id` в качестве индекса фрейма данных. Выведем на экран получившийся \"словарь\""
   ]
  },
  {
   "cell_type": "code",
   "execution_count": 30,
   "id": "67de480d",
   "metadata": {},
   "outputs": [
    {
     "data": {
      "text/html": [
       "<div>\n",
       "<style scoped>\n",
       "    .dataframe tbody tr th:only-of-type {\n",
       "        vertical-align: middle;\n",
       "    }\n",
       "\n",
       "    .dataframe tbody tr th {\n",
       "        vertical-align: top;\n",
       "    }\n",
       "\n",
       "    .dataframe thead th {\n",
       "        text-align: right;\n",
       "    }\n",
       "</style>\n",
       "<table border=\"1\" class=\"dataframe\">\n",
       "  <thead>\n",
       "    <tr style=\"text-align: right;\">\n",
       "      <th></th>\n",
       "      <th>education</th>\n",
       "    </tr>\n",
       "    <tr>\n",
       "      <th>education_id</th>\n",
       "      <th></th>\n",
       "    </tr>\n",
       "  </thead>\n",
       "  <tbody>\n",
       "    <tr>\n",
       "      <th>0</th>\n",
       "      <td>высшее</td>\n",
       "    </tr>\n",
       "    <tr>\n",
       "      <th>1</th>\n",
       "      <td>среднее</td>\n",
       "    </tr>\n",
       "    <tr>\n",
       "      <th>2</th>\n",
       "      <td>неоконченное высшее</td>\n",
       "    </tr>\n",
       "    <tr>\n",
       "      <th>3</th>\n",
       "      <td>начальное</td>\n",
       "    </tr>\n",
       "    <tr>\n",
       "      <th>4</th>\n",
       "      <td>ученая степень</td>\n",
       "    </tr>\n",
       "  </tbody>\n",
       "</table>\n",
       "</div>"
      ],
      "text/plain": [
       "                        education\n",
       "education_id                     \n",
       "0                          высшее\n",
       "1                         среднее\n",
       "2             неоконченное высшее\n",
       "3                       начальное\n",
       "4                  ученая степень"
      ]
     },
     "metadata": {},
     "output_type": "display_data"
    }
   ],
   "source": [
    "education_dict = df[['education_id', 'education']].drop_duplicates()\n",
    "education_dict.set_index('education_id', inplace = True)\n",
    "display(education_dict)"
   ]
  },
  {
   "cell_type": "markdown",
   "id": "9456a618",
   "metadata": {},
   "source": [
    "Создадим новый датафрейм `family_status_dict` со столбцами `family_status_id`, `family_status`. Удалим из получившегося датафрейма дубликаты. Устанавливаем столбец `family_status_id` в качестве индекса фрейма данных.Выведем на экран получившийся \"словарь\""
   ]
  },
  {
   "cell_type": "code",
   "execution_count": 31,
   "id": "711e7cf3",
   "metadata": {
    "scrolled": true
   },
   "outputs": [
    {
     "data": {
      "text/html": [
       "<div>\n",
       "<style scoped>\n",
       "    .dataframe tbody tr th:only-of-type {\n",
       "        vertical-align: middle;\n",
       "    }\n",
       "\n",
       "    .dataframe tbody tr th {\n",
       "        vertical-align: top;\n",
       "    }\n",
       "\n",
       "    .dataframe thead th {\n",
       "        text-align: right;\n",
       "    }\n",
       "</style>\n",
       "<table border=\"1\" class=\"dataframe\">\n",
       "  <thead>\n",
       "    <tr style=\"text-align: right;\">\n",
       "      <th></th>\n",
       "      <th>family_status</th>\n",
       "    </tr>\n",
       "    <tr>\n",
       "      <th>family_status_id</th>\n",
       "      <th></th>\n",
       "    </tr>\n",
       "  </thead>\n",
       "  <tbody>\n",
       "    <tr>\n",
       "      <th>0</th>\n",
       "      <td>женат / замужем</td>\n",
       "    </tr>\n",
       "    <tr>\n",
       "      <th>1</th>\n",
       "      <td>гражданский брак</td>\n",
       "    </tr>\n",
       "    <tr>\n",
       "      <th>2</th>\n",
       "      <td>вдовец / вдова</td>\n",
       "    </tr>\n",
       "    <tr>\n",
       "      <th>3</th>\n",
       "      <td>в разводе</td>\n",
       "    </tr>\n",
       "    <tr>\n",
       "      <th>4</th>\n",
       "      <td>Не женат / не замужем</td>\n",
       "    </tr>\n",
       "  </tbody>\n",
       "</table>\n",
       "</div>"
      ],
      "text/plain": [
       "                          family_status\n",
       "family_status_id                       \n",
       "0                       женат / замужем\n",
       "1                      гражданский брак\n",
       "2                        вдовец / вдова\n",
       "3                             в разводе\n",
       "4                 Не женат / не замужем"
      ]
     },
     "metadata": {},
     "output_type": "display_data"
    }
   ],
   "source": [
    "family_status_dict = df[['family_status_id', 'family_status']].drop_duplicates()\n",
    "family_status_dict.set_index('family_status_id', inplace = True)\n",
    "display(family_status_dict)"
   ]
  },
  {
   "cell_type": "markdown",
   "id": "f2ffd29e",
   "metadata": {},
   "source": [
    "Удалим из исходного датафрейма столбцы `education` и `family_status`. Выведем на экран получившийся датафрейм:"
   ]
  },
  {
   "cell_type": "code",
   "execution_count": 32,
   "id": "696a1ace",
   "metadata": {},
   "outputs": [
    {
     "data": {
      "text/html": [
       "<div>\n",
       "<style scoped>\n",
       "    .dataframe tbody tr th:only-of-type {\n",
       "        vertical-align: middle;\n",
       "    }\n",
       "\n",
       "    .dataframe tbody tr th {\n",
       "        vertical-align: top;\n",
       "    }\n",
       "\n",
       "    .dataframe thead th {\n",
       "        text-align: right;\n",
       "    }\n",
       "</style>\n",
       "<table border=\"1\" class=\"dataframe\">\n",
       "  <thead>\n",
       "    <tr style=\"text-align: right;\">\n",
       "      <th></th>\n",
       "      <th>children</th>\n",
       "      <th>days_employed</th>\n",
       "      <th>dob_years</th>\n",
       "      <th>education_id</th>\n",
       "      <th>family_status_id</th>\n",
       "      <th>gender</th>\n",
       "      <th>income_type</th>\n",
       "      <th>debt</th>\n",
       "      <th>total_income</th>\n",
       "      <th>purpose</th>\n",
       "    </tr>\n",
       "  </thead>\n",
       "  <tbody>\n",
       "    <tr>\n",
       "      <th>0</th>\n",
       "      <td>1</td>\n",
       "      <td>8437.673028</td>\n",
       "      <td>42</td>\n",
       "      <td>0</td>\n",
       "      <td>0</td>\n",
       "      <td>F</td>\n",
       "      <td>сотрудник</td>\n",
       "      <td>0</td>\n",
       "      <td>253875</td>\n",
       "      <td>покупка жилья</td>\n",
       "    </tr>\n",
       "    <tr>\n",
       "      <th>1</th>\n",
       "      <td>1</td>\n",
       "      <td>4024.803754</td>\n",
       "      <td>36</td>\n",
       "      <td>1</td>\n",
       "      <td>0</td>\n",
       "      <td>F</td>\n",
       "      <td>сотрудник</td>\n",
       "      <td>0</td>\n",
       "      <td>112080</td>\n",
       "      <td>приобретение автомобиля</td>\n",
       "    </tr>\n",
       "    <tr>\n",
       "      <th>2</th>\n",
       "      <td>0</td>\n",
       "      <td>5623.422610</td>\n",
       "      <td>33</td>\n",
       "      <td>1</td>\n",
       "      <td>0</td>\n",
       "      <td>M</td>\n",
       "      <td>сотрудник</td>\n",
       "      <td>0</td>\n",
       "      <td>145885</td>\n",
       "      <td>покупка жилья</td>\n",
       "    </tr>\n",
       "    <tr>\n",
       "      <th>3</th>\n",
       "      <td>3</td>\n",
       "      <td>4124.747207</td>\n",
       "      <td>32</td>\n",
       "      <td>1</td>\n",
       "      <td>0</td>\n",
       "      <td>M</td>\n",
       "      <td>сотрудник</td>\n",
       "      <td>0</td>\n",
       "      <td>267628</td>\n",
       "      <td>дополнительное образование</td>\n",
       "    </tr>\n",
       "    <tr>\n",
       "      <th>4</th>\n",
       "      <td>0</td>\n",
       "      <td>14177.753002</td>\n",
       "      <td>53</td>\n",
       "      <td>1</td>\n",
       "      <td>1</td>\n",
       "      <td>F</td>\n",
       "      <td>пенсионер</td>\n",
       "      <td>0</td>\n",
       "      <td>158616</td>\n",
       "      <td>сыграть свадьбу</td>\n",
       "    </tr>\n",
       "  </tbody>\n",
       "</table>\n",
       "</div>"
      ],
      "text/plain": [
       "   children  days_employed  dob_years  education_id  family_status_id gender  \\\n",
       "0         1    8437.673028         42             0                 0      F   \n",
       "1         1    4024.803754         36             1                 0      F   \n",
       "2         0    5623.422610         33             1                 0      M   \n",
       "3         3    4124.747207         32             1                 0      M   \n",
       "4         0   14177.753002         53             1                 1      F   \n",
       "\n",
       "  income_type  debt  total_income                     purpose  \n",
       "0   сотрудник     0        253875               покупка жилья  \n",
       "1   сотрудник     0        112080     приобретение автомобиля  \n",
       "2   сотрудник     0        145885               покупка жилья  \n",
       "3   сотрудник     0        267628  дополнительное образование  \n",
       "4   пенсионер     0        158616             сыграть свадьбу  "
      ]
     },
     "execution_count": 32,
     "metadata": {},
     "output_type": "execute_result"
    }
   ],
   "source": [
    "df.drop(['education', 'family_status'], axis=1, inplace=True)\n",
    "df.head()"
   ]
  },
  {
   "cell_type": "markdown",
   "id": "74909268",
   "metadata": {},
   "source": [
    "### Категоризация дохода"
   ]
  },
  {
   "cell_type": "markdown",
   "id": "136ce697",
   "metadata": {},
   "source": [
    "На основании диапазонов, указанных ниже, создадим столбец `total_income_category` с категориями дохода с помощью метода `cut()`:\n",
    "- 0 - 30000 - 'E'\n",
    "- 30001 - 50000 - 'D'\n",
    "- 50001 - 200000 - 'C'\n",
    "- 200001 - 1000000 - 'B'\n",
    "- 1000001 и выше - 'A'"
   ]
  },
  {
   "cell_type": "code",
   "execution_count": 33,
   "id": "b3660c6c",
   "metadata": {},
   "outputs": [],
   "source": [
    "df['total_income_category'] = pd.cut(x=df['total_income'], \n",
    "                                     bins=[0, 30_000, 50_000, 200_000, 1_000_000, np.inf],\n",
    "                                     labels=['E', 'D', 'C', 'B', 'A'],\n",
    "                                     include_lowest=True)"
   ]
  },
  {
   "cell_type": "code",
   "execution_count": 34,
   "id": "298066d9",
   "metadata": {
    "scrolled": false
   },
   "outputs": [
    {
     "data": {
      "text/plain": [
       "C    16032\n",
       "B     5042\n",
       "D      350\n",
       "A       25\n",
       "E       22\n",
       "Name: total_income_category, dtype: int64"
      ]
     },
     "execution_count": 34,
     "metadata": {},
     "output_type": "execute_result"
    }
   ],
   "source": [
    "df['total_income_category'].value_counts()"
   ]
  },
  {
   "cell_type": "markdown",
   "id": "84cb2178",
   "metadata": {},
   "source": [
    "Выведем на экран первые 5 строк получившегося датафрейма"
   ]
  },
  {
   "cell_type": "code",
   "execution_count": 35,
   "id": "c3f2a333",
   "metadata": {},
   "outputs": [
    {
     "data": {
      "text/html": [
       "<div>\n",
       "<style scoped>\n",
       "    .dataframe tbody tr th:only-of-type {\n",
       "        vertical-align: middle;\n",
       "    }\n",
       "\n",
       "    .dataframe tbody tr th {\n",
       "        vertical-align: top;\n",
       "    }\n",
       "\n",
       "    .dataframe thead th {\n",
       "        text-align: right;\n",
       "    }\n",
       "</style>\n",
       "<table border=\"1\" class=\"dataframe\">\n",
       "  <thead>\n",
       "    <tr style=\"text-align: right;\">\n",
       "      <th></th>\n",
       "      <th>children</th>\n",
       "      <th>days_employed</th>\n",
       "      <th>dob_years</th>\n",
       "      <th>education_id</th>\n",
       "      <th>family_status_id</th>\n",
       "      <th>gender</th>\n",
       "      <th>income_type</th>\n",
       "      <th>debt</th>\n",
       "      <th>total_income</th>\n",
       "      <th>purpose</th>\n",
       "      <th>total_income_category</th>\n",
       "    </tr>\n",
       "  </thead>\n",
       "  <tbody>\n",
       "    <tr>\n",
       "      <th>0</th>\n",
       "      <td>1</td>\n",
       "      <td>8437.673028</td>\n",
       "      <td>42</td>\n",
       "      <td>0</td>\n",
       "      <td>0</td>\n",
       "      <td>F</td>\n",
       "      <td>сотрудник</td>\n",
       "      <td>0</td>\n",
       "      <td>253875</td>\n",
       "      <td>покупка жилья</td>\n",
       "      <td>B</td>\n",
       "    </tr>\n",
       "    <tr>\n",
       "      <th>1</th>\n",
       "      <td>1</td>\n",
       "      <td>4024.803754</td>\n",
       "      <td>36</td>\n",
       "      <td>1</td>\n",
       "      <td>0</td>\n",
       "      <td>F</td>\n",
       "      <td>сотрудник</td>\n",
       "      <td>0</td>\n",
       "      <td>112080</td>\n",
       "      <td>приобретение автомобиля</td>\n",
       "      <td>C</td>\n",
       "    </tr>\n",
       "    <tr>\n",
       "      <th>2</th>\n",
       "      <td>0</td>\n",
       "      <td>5623.422610</td>\n",
       "      <td>33</td>\n",
       "      <td>1</td>\n",
       "      <td>0</td>\n",
       "      <td>M</td>\n",
       "      <td>сотрудник</td>\n",
       "      <td>0</td>\n",
       "      <td>145885</td>\n",
       "      <td>покупка жилья</td>\n",
       "      <td>C</td>\n",
       "    </tr>\n",
       "    <tr>\n",
       "      <th>3</th>\n",
       "      <td>3</td>\n",
       "      <td>4124.747207</td>\n",
       "      <td>32</td>\n",
       "      <td>1</td>\n",
       "      <td>0</td>\n",
       "      <td>M</td>\n",
       "      <td>сотрудник</td>\n",
       "      <td>0</td>\n",
       "      <td>267628</td>\n",
       "      <td>дополнительное образование</td>\n",
       "      <td>B</td>\n",
       "    </tr>\n",
       "    <tr>\n",
       "      <th>4</th>\n",
       "      <td>0</td>\n",
       "      <td>14177.753002</td>\n",
       "      <td>53</td>\n",
       "      <td>1</td>\n",
       "      <td>1</td>\n",
       "      <td>F</td>\n",
       "      <td>пенсионер</td>\n",
       "      <td>0</td>\n",
       "      <td>158616</td>\n",
       "      <td>сыграть свадьбу</td>\n",
       "      <td>C</td>\n",
       "    </tr>\n",
       "  </tbody>\n",
       "</table>\n",
       "</div>"
      ],
      "text/plain": [
       "   children  days_employed  dob_years  education_id  family_status_id gender  \\\n",
       "0         1    8437.673028         42             0                 0      F   \n",
       "1         1    4024.803754         36             1                 0      F   \n",
       "2         0    5623.422610         33             1                 0      M   \n",
       "3         3    4124.747207         32             1                 0      M   \n",
       "4         0   14177.753002         53             1                 1      F   \n",
       "\n",
       "  income_type  debt  total_income                     purpose  \\\n",
       "0   сотрудник     0        253875               покупка жилья   \n",
       "1   сотрудник     0        112080     приобретение автомобиля   \n",
       "2   сотрудник     0        145885               покупка жилья   \n",
       "3   сотрудник     0        267628  дополнительное образование   \n",
       "4   пенсионер     0        158616             сыграть свадьбу   \n",
       "\n",
       "  total_income_category  \n",
       "0                     B  \n",
       "1                     C  \n",
       "2                     C  \n",
       "3                     B  \n",
       "4                     C  "
      ]
     },
     "execution_count": 35,
     "metadata": {},
     "output_type": "execute_result"
    }
   ],
   "source": [
    "df.head()"
   ]
  },
  {
   "cell_type": "markdown",
   "id": "db0d818e",
   "metadata": {},
   "source": [
    "### Категоризация целей кредита"
   ]
  },
  {
   "cell_type": "markdown",
   "id": "265d5957",
   "metadata": {},
   "source": [
    "Посмотрим на значения в столбце `purpose` - цель получения кредита"
   ]
  },
  {
   "cell_type": "code",
   "execution_count": 36,
   "id": "d112a009",
   "metadata": {},
   "outputs": [
    {
     "data": {
      "text/plain": [
       "свадьба                                   793\n",
       "на проведение свадьбы                     773\n",
       "сыграть свадьбу                           769\n",
       "операции с недвижимостью                  675\n",
       "покупка коммерческой недвижимости         662\n",
       "операции с жильем                         652\n",
       "покупка жилья для сдачи                   652\n",
       "операции с коммерческой недвижимостью     650\n",
       "покупка жилья                             646\n",
       "жилье                                     646\n",
       "покупка жилья для семьи                   638\n",
       "строительство собственной недвижимости    635\n",
       "недвижимость                              633\n",
       "операции со своей недвижимостью           627\n",
       "строительство жилой недвижимости          625\n",
       "покупка недвижимости                      621\n",
       "покупка своего жилья                      620\n",
       "строительство недвижимости                619\n",
       "ремонт жилью                              607\n",
       "покупка жилой недвижимости                606\n",
       "на покупку своего автомобиля              505\n",
       "заняться высшим образованием              496\n",
       "автомобиль                                494\n",
       "сделка с подержанным автомобилем          486\n",
       "свой автомобиль                           479\n",
       "на покупку подержанного автомобиля        478\n",
       "автомобили                                478\n",
       "на покупку автомобиля                     472\n",
       "приобретение автомобиля                   461\n",
       "дополнительное образование                460\n",
       "сделка с автомобилем                      455\n",
       "высшее образование                        452\n",
       "образование                               447\n",
       "получение дополнительного образования     447\n",
       "получение образования                     442\n",
       "профильное образование                    436\n",
       "получение высшего образования             426\n",
       "заняться образованием                     408\n",
       "Name: purpose, dtype: int64"
      ]
     },
     "execution_count": 36,
     "metadata": {},
     "output_type": "execute_result"
    }
   ],
   "source": [
    "df['purpose'].value_counts()"
   ]
  },
  {
   "cell_type": "markdown",
   "id": "e1f34bd6",
   "metadata": {},
   "source": [
    "Видим в столбце повторяющиеся по смыслу цели выдачи кредита. На основании оценки значений столбца можно выделить 4 общие цели.\n",
    "Выполним категоризацию целей кредита. Для этого создадим функцию `purpose_group` и применим её к столбцу `purpose`, а результат сохраним в новый столбец `purpose_category`. Обработаем ошибку типа данных с помощью `try except`"
   ]
  },
  {
   "cell_type": "code",
   "execution_count": 37,
   "id": "5c7b6a84",
   "metadata": {
    "code_folding": []
   },
   "outputs": [],
   "source": [
    "def purpose_group(purpose):\n",
    "    try:\n",
    "        if 'свадьб' in purpose:\n",
    "            return 'проведение свадьбы'\n",
    "        if 'образовани' in purpose:\n",
    "            return 'получение образования'\n",
    "        if 'автомобил' in purpose:\n",
    "            return 'операции с автомобилем'\n",
    "        if 'жиль' in purpose or 'недвижимост' in purpose:\n",
    "            return 'операции с недвижимостью'\n",
    "        return 'undefined'\n",
    "    except TypeError:\n",
    "        return f'Исключение TypeError для данных из столбца purpose: {purpose}'"
   ]
  },
  {
   "cell_type": "code",
   "execution_count": 38,
   "id": "9e795a4b",
   "metadata": {
    "scrolled": true
   },
   "outputs": [
    {
     "data": {
      "text/plain": [
       "операции с недвижимостью    10814\n",
       "операции с автомобилем       4308\n",
       "получение образования        4014\n",
       "проведение свадьбы           2335\n",
       "Name: purpose_category, dtype: int64"
      ]
     },
     "execution_count": 38,
     "metadata": {},
     "output_type": "execute_result"
    }
   ],
   "source": [
    "df['purpose_category'] = df['purpose'].apply(purpose_group)\n",
    "df['purpose_category'].value_counts()"
   ]
  },
  {
   "cell_type": "code",
   "execution_count": 39,
   "id": "de3ab573",
   "metadata": {},
   "outputs": [
    {
     "data": {
      "text/html": [
       "<div>\n",
       "<style scoped>\n",
       "    .dataframe tbody tr th:only-of-type {\n",
       "        vertical-align: middle;\n",
       "    }\n",
       "\n",
       "    .dataframe tbody tr th {\n",
       "        vertical-align: top;\n",
       "    }\n",
       "\n",
       "    .dataframe thead th {\n",
       "        text-align: right;\n",
       "    }\n",
       "</style>\n",
       "<table border=\"1\" class=\"dataframe\">\n",
       "  <thead>\n",
       "    <tr style=\"text-align: right;\">\n",
       "      <th></th>\n",
       "      <th>children</th>\n",
       "      <th>days_employed</th>\n",
       "      <th>dob_years</th>\n",
       "      <th>education_id</th>\n",
       "      <th>family_status_id</th>\n",
       "      <th>gender</th>\n",
       "      <th>income_type</th>\n",
       "      <th>debt</th>\n",
       "      <th>total_income</th>\n",
       "      <th>purpose</th>\n",
       "      <th>total_income_category</th>\n",
       "      <th>purpose_category</th>\n",
       "    </tr>\n",
       "  </thead>\n",
       "  <tbody>\n",
       "    <tr>\n",
       "      <th>0</th>\n",
       "      <td>1</td>\n",
       "      <td>8437.673028</td>\n",
       "      <td>42</td>\n",
       "      <td>0</td>\n",
       "      <td>0</td>\n",
       "      <td>F</td>\n",
       "      <td>сотрудник</td>\n",
       "      <td>0</td>\n",
       "      <td>253875</td>\n",
       "      <td>покупка жилья</td>\n",
       "      <td>B</td>\n",
       "      <td>операции с недвижимостью</td>\n",
       "    </tr>\n",
       "    <tr>\n",
       "      <th>1</th>\n",
       "      <td>1</td>\n",
       "      <td>4024.803754</td>\n",
       "      <td>36</td>\n",
       "      <td>1</td>\n",
       "      <td>0</td>\n",
       "      <td>F</td>\n",
       "      <td>сотрудник</td>\n",
       "      <td>0</td>\n",
       "      <td>112080</td>\n",
       "      <td>приобретение автомобиля</td>\n",
       "      <td>C</td>\n",
       "      <td>операции с автомобилем</td>\n",
       "    </tr>\n",
       "    <tr>\n",
       "      <th>2</th>\n",
       "      <td>0</td>\n",
       "      <td>5623.422610</td>\n",
       "      <td>33</td>\n",
       "      <td>1</td>\n",
       "      <td>0</td>\n",
       "      <td>M</td>\n",
       "      <td>сотрудник</td>\n",
       "      <td>0</td>\n",
       "      <td>145885</td>\n",
       "      <td>покупка жилья</td>\n",
       "      <td>C</td>\n",
       "      <td>операции с недвижимостью</td>\n",
       "    </tr>\n",
       "    <tr>\n",
       "      <th>3</th>\n",
       "      <td>3</td>\n",
       "      <td>4124.747207</td>\n",
       "      <td>32</td>\n",
       "      <td>1</td>\n",
       "      <td>0</td>\n",
       "      <td>M</td>\n",
       "      <td>сотрудник</td>\n",
       "      <td>0</td>\n",
       "      <td>267628</td>\n",
       "      <td>дополнительное образование</td>\n",
       "      <td>B</td>\n",
       "      <td>получение образования</td>\n",
       "    </tr>\n",
       "    <tr>\n",
       "      <th>4</th>\n",
       "      <td>0</td>\n",
       "      <td>14177.753002</td>\n",
       "      <td>53</td>\n",
       "      <td>1</td>\n",
       "      <td>1</td>\n",
       "      <td>F</td>\n",
       "      <td>пенсионер</td>\n",
       "      <td>0</td>\n",
       "      <td>158616</td>\n",
       "      <td>сыграть свадьбу</td>\n",
       "      <td>C</td>\n",
       "      <td>проведение свадьбы</td>\n",
       "    </tr>\n",
       "  </tbody>\n",
       "</table>\n",
       "</div>"
      ],
      "text/plain": [
       "   children  days_employed  dob_years  education_id  family_status_id gender  \\\n",
       "0         1    8437.673028         42             0                 0      F   \n",
       "1         1    4024.803754         36             1                 0      F   \n",
       "2         0    5623.422610         33             1                 0      M   \n",
       "3         3    4124.747207         32             1                 0      M   \n",
       "4         0   14177.753002         53             1                 1      F   \n",
       "\n",
       "  income_type  debt  total_income                     purpose  \\\n",
       "0   сотрудник     0        253875               покупка жилья   \n",
       "1   сотрудник     0        112080     приобретение автомобиля   \n",
       "2   сотрудник     0        145885               покупка жилья   \n",
       "3   сотрудник     0        267628  дополнительное образование   \n",
       "4   пенсионер     0        158616             сыграть свадьбу   \n",
       "\n",
       "  total_income_category          purpose_category  \n",
       "0                     B  операции с недвижимостью  \n",
       "1                     C    операции с автомобилем  \n",
       "2                     C  операции с недвижимостью  \n",
       "3                     B     получение образования  \n",
       "4                     C        проведение свадьбы  "
      ]
     },
     "metadata": {},
     "output_type": "display_data"
    }
   ],
   "source": [
    "display(df.head())"
   ]
  },
  {
   "cell_type": "markdown",
   "id": "0c1b6d8e",
   "metadata": {},
   "source": [
    "## Ответы на вопросы"
   ]
  },
  {
   "cell_type": "markdown",
   "id": "23af2684",
   "metadata": {},
   "source": [
    "### Есть ли зависимость между количеством детей и возвратом кредита в срок?"
   ]
  },
  {
   "cell_type": "markdown",
   "id": "a8c93be6",
   "metadata": {},
   "source": [
    "Составим сводную таблицу `children_pivot` с помощью метода `pivot_table()`. С помощью метода `rename()` изменим имена столбцов для лучшего визуального восприятия"
   ]
  },
  {
   "cell_type": "code",
   "execution_count": 40,
   "id": "ac1bad3e",
   "metadata": {},
   "outputs": [
    {
     "data": {
      "text/html": [
       "<div>\n",
       "<style scoped>\n",
       "    .dataframe tbody tr th:only-of-type {\n",
       "        vertical-align: middle;\n",
       "    }\n",
       "\n",
       "    .dataframe tbody tr th {\n",
       "        vertical-align: top;\n",
       "    }\n",
       "\n",
       "    .dataframe thead th {\n",
       "        text-align: right;\n",
       "    }\n",
       "</style>\n",
       "<table border=\"1\" class=\"dataframe\">\n",
       "  <thead>\n",
       "    <tr style=\"text-align: right;\">\n",
       "      <th></th>\n",
       "      <th>количество заёмщиков</th>\n",
       "      <th>доля кредитов с задолженностью</th>\n",
       "    </tr>\n",
       "    <tr>\n",
       "      <th>количество детей</th>\n",
       "      <th></th>\n",
       "      <th></th>\n",
       "    </tr>\n",
       "  </thead>\n",
       "  <tbody>\n",
       "    <tr>\n",
       "      <th>0</th>\n",
       "      <td>14107.0</td>\n",
       "      <td>7.54%</td>\n",
       "    </tr>\n",
       "    <tr>\n",
       "      <th>1</th>\n",
       "      <td>4856.0</td>\n",
       "      <td>9.16%</td>\n",
       "    </tr>\n",
       "    <tr>\n",
       "      <th>2</th>\n",
       "      <td>2128.0</td>\n",
       "      <td>9.49%</td>\n",
       "    </tr>\n",
       "    <tr>\n",
       "      <th>3</th>\n",
       "      <td>330.0</td>\n",
       "      <td>8.18%</td>\n",
       "    </tr>\n",
       "    <tr>\n",
       "      <th>4</th>\n",
       "      <td>41.0</td>\n",
       "      <td>9.76%</td>\n",
       "    </tr>\n",
       "    <tr>\n",
       "      <th>5</th>\n",
       "      <td>9.0</td>\n",
       "      <td>0.00%</td>\n",
       "    </tr>\n",
       "  </tbody>\n",
       "</table>\n",
       "</div>"
      ],
      "text/plain": [
       "                  количество заёмщиков доля кредитов с задолженностью\n",
       "количество детей                                                     \n",
       "0                              14107.0                          7.54%\n",
       "1                               4856.0                          9.16%\n",
       "2                               2128.0                          9.49%\n",
       "3                                330.0                          8.18%\n",
       "4                                 41.0                          9.76%\n",
       "5                                  9.0                          0.00%"
      ]
     },
     "metadata": {},
     "output_type": "display_data"
    }
   ],
   "source": [
    "children_pivot = df.pivot_table(index='children', values='debt', aggfunc={'debt':['count', 'mean']})\n",
    "children_pivot['mean'] = children_pivot['mean'].map('{:.2%}'.format)\n",
    "children_pivot.rename({'count': 'количество заёмщиков', 'mean': 'доля кредитов с задолженностью'}, \n",
    "                      axis='columns', inplace=True)\n",
    "children_pivot.index.name = 'количество детей'\n",
    "display(children_pivot)"
   ]
  },
  {
   "cell_type": "markdown",
   "id": "72971757",
   "metadata": {},
   "source": [
    "**Вывод:**\n",
    "\n",
    "Реже всего кредиты возвращают с задолженностью заёмщики без детей: 7,54% - процент возврата кредита с задолженностью среди заёмщиков без детей, а чаще всего люди с двумя детьми: 9,49% - процент возврата кредита с задолженностью среди заёмщиков с двумя детьми. По клиентам с количеством детей больше трех недостаточно данных для построения выводов"
   ]
  },
  {
   "cell_type": "markdown",
   "id": "94b1008f",
   "metadata": {},
   "source": [
    "### Есть ли зависимость между семейным положением и возвратом кредита в срок?"
   ]
  },
  {
   "cell_type": "markdown",
   "id": "52e8b167",
   "metadata": {},
   "source": [
    "Для начала объедим исходный датафрейм после декомпозиции и словарь `family_status_dict` методом `merge()` по столбцу `family_status_id`.\n",
    "Составим сводную таблицу `family_pivot` с помощью метода `pivot_table()`. С помощью метода `rename()` изменим имена столбцов для лучшего визуального восприятия"
   ]
  },
  {
   "cell_type": "code",
   "execution_count": 41,
   "id": "b74afb9b",
   "metadata": {},
   "outputs": [
    {
     "data": {
      "text/html": [
       "<div>\n",
       "<style scoped>\n",
       "    .dataframe tbody tr th:only-of-type {\n",
       "        vertical-align: middle;\n",
       "    }\n",
       "\n",
       "    .dataframe tbody tr th {\n",
       "        vertical-align: top;\n",
       "    }\n",
       "\n",
       "    .dataframe thead th {\n",
       "        text-align: right;\n",
       "    }\n",
       "</style>\n",
       "<table border=\"1\" class=\"dataframe\">\n",
       "  <thead>\n",
       "    <tr style=\"text-align: right;\">\n",
       "      <th></th>\n",
       "      <th>количество заёмщиков</th>\n",
       "      <th>доля кредитов с задолженностью</th>\n",
       "    </tr>\n",
       "    <tr>\n",
       "      <th>семейное положение</th>\n",
       "      <th></th>\n",
       "      <th></th>\n",
       "    </tr>\n",
       "  </thead>\n",
       "  <tbody>\n",
       "    <tr>\n",
       "      <th>Не женат / не замужем</th>\n",
       "      <td>2810.0</td>\n",
       "      <td>9.75%</td>\n",
       "    </tr>\n",
       "    <tr>\n",
       "      <th>в разводе</th>\n",
       "      <td>1195.0</td>\n",
       "      <td>7.11%</td>\n",
       "    </tr>\n",
       "    <tr>\n",
       "      <th>вдовец / вдова</th>\n",
       "      <td>959.0</td>\n",
       "      <td>6.57%</td>\n",
       "    </tr>\n",
       "    <tr>\n",
       "      <th>гражданский брак</th>\n",
       "      <td>4163.0</td>\n",
       "      <td>9.32%</td>\n",
       "    </tr>\n",
       "    <tr>\n",
       "      <th>женат / замужем</th>\n",
       "      <td>12344.0</td>\n",
       "      <td>7.54%</td>\n",
       "    </tr>\n",
       "  </tbody>\n",
       "</table>\n",
       "</div>"
      ],
      "text/plain": [
       "                       количество заёмщиков доля кредитов с задолженностью\n",
       "семейное положение                                                        \n",
       "Не женат / не замужем                2810.0                          9.75%\n",
       "в разводе                            1195.0                          7.11%\n",
       "вдовец / вдова                        959.0                          6.57%\n",
       "гражданский брак                     4163.0                          9.32%\n",
       "женат / замужем                     12344.0                          7.54%"
      ]
     },
     "metadata": {},
     "output_type": "display_data"
    }
   ],
   "source": [
    "family_pivot = df.merge(family_status_dict, on='family_status_id')\n",
    "family_pivot = family_pivot.pivot_table(index='family_status', values='debt', aggfunc={'debt':['count', 'mean']})\n",
    "family_pivot['mean'] = family_pivot['mean'].map('{:.2%}'.format)\n",
    "family_pivot.rename({'count': 'количество заёмщиков', 'mean': 'доля кредитов с задолженностью'}, \n",
    "                    axis=1, inplace=True)\n",
    "family_pivot.index.name = 'семейное положение'\n",
    "display(family_pivot)"
   ]
  },
  {
   "cell_type": "markdown",
   "id": "c5ee81c1",
   "metadata": {},
   "source": [
    "**Вывод:**\n",
    "\n",
    "Самые надежные заемщики - это вдовцы: 6,56% - процент возврата кредита с задолженностью среди вдовцов. У не женатых/не замужних и живущих в гражданском браке процент возврата кредита с задолженностью самый высокий: 9,75% и 9,32% соответственно."
   ]
  },
  {
   "cell_type": "markdown",
   "id": "2040dcc0",
   "metadata": {},
   "source": [
    "### Есть ли зависимость между уровнем дохода и возвратом кредита в срок?"
   ]
  },
  {
   "cell_type": "markdown",
   "id": "1c41be9a",
   "metadata": {},
   "source": [
    "Составим сводную таблицу `total_income_pivot` с помощью метода `pivot_table()`. С помощью метода `rename()` изменим имена столбцов для лучшего визуального восприятия"
   ]
  },
  {
   "cell_type": "code",
   "execution_count": 42,
   "id": "53b58666",
   "metadata": {},
   "outputs": [
    {
     "data": {
      "text/html": [
       "<div>\n",
       "<style scoped>\n",
       "    .dataframe tbody tr th:only-of-type {\n",
       "        vertical-align: middle;\n",
       "    }\n",
       "\n",
       "    .dataframe tbody tr th {\n",
       "        vertical-align: top;\n",
       "    }\n",
       "\n",
       "    .dataframe thead th {\n",
       "        text-align: right;\n",
       "    }\n",
       "</style>\n",
       "<table border=\"1\" class=\"dataframe\">\n",
       "  <thead>\n",
       "    <tr style=\"text-align: right;\">\n",
       "      <th></th>\n",
       "      <th>количество заёмщиков</th>\n",
       "      <th>доля кредитов с задолженностью</th>\n",
       "    </tr>\n",
       "    <tr>\n",
       "      <th>уровень дохода</th>\n",
       "      <th></th>\n",
       "      <th></th>\n",
       "    </tr>\n",
       "  </thead>\n",
       "  <tbody>\n",
       "    <tr>\n",
       "      <th>E</th>\n",
       "      <td>22.0</td>\n",
       "      <td>9.09%</td>\n",
       "    </tr>\n",
       "    <tr>\n",
       "      <th>D</th>\n",
       "      <td>350.0</td>\n",
       "      <td>6.00%</td>\n",
       "    </tr>\n",
       "    <tr>\n",
       "      <th>C</th>\n",
       "      <td>16032.0</td>\n",
       "      <td>8.48%</td>\n",
       "    </tr>\n",
       "    <tr>\n",
       "      <th>B</th>\n",
       "      <td>5042.0</td>\n",
       "      <td>7.06%</td>\n",
       "    </tr>\n",
       "    <tr>\n",
       "      <th>A</th>\n",
       "      <td>25.0</td>\n",
       "      <td>8.00%</td>\n",
       "    </tr>\n",
       "  </tbody>\n",
       "</table>\n",
       "</div>"
      ],
      "text/plain": [
       "                количество заёмщиков доля кредитов с задолженностью\n",
       "уровень дохода                                                     \n",
       "E                               22.0                          9.09%\n",
       "D                              350.0                          6.00%\n",
       "C                            16032.0                          8.48%\n",
       "B                             5042.0                          7.06%\n",
       "A                               25.0                          8.00%"
      ]
     },
     "metadata": {},
     "output_type": "display_data"
    }
   ],
   "source": [
    "total_income_pivot = df.pivot_table(index='total_income_category', values='debt', \n",
    "                                    aggfunc={'debt':['count', 'mean']})\n",
    "total_income_pivot['mean'] = total_income_pivot['mean'].map('{:.2%}'.format)\n",
    "total_income_pivot.rename({'count': 'количество заёмщиков', 'mean': 'доля кредитов с задолженностью'}, \n",
    "                          axis=1, inplace=True)\n",
    "total_income_pivot.index.names = ['уровень дохода']\n",
    "display(total_income_pivot)"
   ]
  },
  {
   "cell_type": "markdown",
   "id": "9a6516aa",
   "metadata": {},
   "source": [
    "**Вывод:**\n",
    "\n",
    "По клиентам с уровнем дохода категорий A, D и E недостаточно данных для построения выводов. По категориям дохода B и C можно сделать вывод, что заёмщики с бОльшим уровнем дохода реже возвращают кредит с задолженностью: 7,06% возврата кредита с задолженностью для уровня дохода В (200001 - 1000000) против 8,46% для уровня дохода С (50000 - 200001)"
   ]
  },
  {
   "cell_type": "markdown",
   "id": "3a3b6b0d",
   "metadata": {},
   "source": [
    "### Как разные цели кредита влияют на его возврат в срок?"
   ]
  },
  {
   "cell_type": "markdown",
   "id": "16786d92",
   "metadata": {},
   "source": [
    "Составим сводную таблицу `purpose_pivot` с помощью метода `pivot_table()`. С помощью метода `rename()` изменим имена столбцов для лучшего визуального восприятия"
   ]
  },
  {
   "cell_type": "code",
   "execution_count": 43,
   "id": "87997269",
   "metadata": {
    "scrolled": false
   },
   "outputs": [
    {
     "data": {
      "text/html": [
       "<div>\n",
       "<style scoped>\n",
       "    .dataframe tbody tr th:only-of-type {\n",
       "        vertical-align: middle;\n",
       "    }\n",
       "\n",
       "    .dataframe tbody tr th {\n",
       "        vertical-align: top;\n",
       "    }\n",
       "\n",
       "    .dataframe thead th {\n",
       "        text-align: right;\n",
       "    }\n",
       "</style>\n",
       "<table border=\"1\" class=\"dataframe\">\n",
       "  <thead>\n",
       "    <tr style=\"text-align: right;\">\n",
       "      <th></th>\n",
       "      <th>доля кредитов с задолженностью</th>\n",
       "    </tr>\n",
       "    <tr>\n",
       "      <th>цель получения кредита</th>\n",
       "      <th></th>\n",
       "    </tr>\n",
       "  </thead>\n",
       "  <tbody>\n",
       "    <tr>\n",
       "      <th>операции с недвижимостью</th>\n",
       "      <td>7.23%</td>\n",
       "    </tr>\n",
       "    <tr>\n",
       "      <th>проведение свадьбы</th>\n",
       "      <td>7.97%</td>\n",
       "    </tr>\n",
       "    <tr>\n",
       "      <th>получение образования</th>\n",
       "      <td>9.22%</td>\n",
       "    </tr>\n",
       "    <tr>\n",
       "      <th>операции с автомобилем</th>\n",
       "      <td>9.35%</td>\n",
       "    </tr>\n",
       "  </tbody>\n",
       "</table>\n",
       "</div>"
      ],
      "text/plain": [
       "                         доля кредитов с задолженностью\n",
       "цель получения кредита                                 \n",
       "операции с недвижимостью                          7.23%\n",
       "проведение свадьбы                                7.97%\n",
       "получение образования                             9.22%\n",
       "операции с автомобилем                            9.35%"
      ]
     },
     "metadata": {},
     "output_type": "display_data"
    }
   ],
   "source": [
    "purpose_pivot = df.pivot_table(index='purpose_category', values='debt', aggfunc='mean').sort_values(by='debt')\n",
    "purpose_pivot['debt'] = purpose_pivot['debt'].map('{:.2%}'.format)\n",
    "purpose_pivot.rename({'debt': 'доля кредитов с задолженностью'}, axis='columns', inplace=True)\n",
    "purpose_pivot.index.name = 'цель получения кредита'\n",
    "display(purpose_pivot)"
   ]
  },
  {
   "cell_type": "markdown",
   "id": "ab6a6192",
   "metadata": {},
   "source": [
    "**Вывод:**\n",
    "\n",
    "Цель получения кредита влияет на возврат кредита: кредит чаще возвращают без задолженности те, кто берёт кредит с целью операции с недвижимостью. Те, кто брал деньги на автомобиль или образование, чаще возвращают кредит с задолженностью"
   ]
  },
  {
   "cell_type": "markdown",
   "id": "cbd1a8e2",
   "metadata": {},
   "source": [
    "## Общий вывод"
   ]
  },
  {
   "cell_type": "markdown",
   "id": "1ab9f6d1",
   "metadata": {},
   "source": [
    "В ходе исследования мы искали зависимость между:\n",
    "\n",
    "- наличием детей и возвратом кредита в срок - должников с детьми больше, чем бездетных. Следовательно, наличие детей негативно влияет на возврат кредита в срок;\n",
    "- семейным положением и возвратом кредита в срок - чаще всего становятся должниками люди с семейным положением не женат / не замужем;\n",
    "- уровнем дохода и возвратом кредита в срок - выраженная зависимость между уровнем дохода и возвратом кредита в срок не установлена;\n",
    "- целью кредита и возвратом кредита в срок - зависимость есть, бОльшая доля должников взяла кредит на автомобиль или образование."
   ]
  }
 ],
 "metadata": {
  "ExecuteTimeLog": [
   {
    "duration": 440,
    "start_time": "2022-03-06T14:11:10.821Z"
   },
   {
    "duration": 60,
    "start_time": "2022-03-06T14:11:11.263Z"
   },
   {
    "duration": 15,
    "start_time": "2022-03-06T14:11:11.325Z"
   },
   {
    "duration": 13,
    "start_time": "2022-03-06T14:11:11.342Z"
   },
   {
    "duration": 8,
    "start_time": "2022-03-06T14:11:11.357Z"
   },
   {
    "duration": 4,
    "start_time": "2022-03-06T14:11:11.366Z"
   },
   {
    "duration": 3,
    "start_time": "2022-03-06T14:11:11.372Z"
   },
   {
    "duration": 32,
    "start_time": "2022-03-06T14:11:11.376Z"
   },
   {
    "duration": 5,
    "start_time": "2022-03-06T14:11:11.411Z"
   },
   {
    "duration": 12,
    "start_time": "2022-03-06T14:11:11.418Z"
   },
   {
    "duration": 9,
    "start_time": "2022-03-06T14:11:11.431Z"
   },
   {
    "duration": 3,
    "start_time": "2022-03-06T14:11:11.441Z"
   },
   {
    "duration": 10,
    "start_time": "2022-03-06T14:11:11.445Z"
   },
   {
    "duration": 6,
    "start_time": "2022-03-06T14:11:11.456Z"
   },
   {
    "duration": 7,
    "start_time": "2022-03-06T14:11:11.463Z"
   },
   {
    "duration": 4,
    "start_time": "2022-03-06T14:11:11.471Z"
   },
   {
    "duration": 6,
    "start_time": "2022-03-06T14:11:11.504Z"
   },
   {
    "duration": 1077,
    "start_time": "2022-03-06T14:11:11.512Z"
   },
   {
    "duration": 4,
    "start_time": "2022-03-06T14:11:12.590Z"
   },
   {
    "duration": 10,
    "start_time": "2022-03-06T14:11:12.596Z"
   },
   {
    "duration": 16,
    "start_time": "2022-03-06T14:11:12.607Z"
   },
   {
    "duration": 18,
    "start_time": "2022-03-06T14:11:12.625Z"
   },
   {
    "duration": 15,
    "start_time": "2022-03-06T14:11:12.644Z"
   },
   {
    "duration": 6,
    "start_time": "2022-03-06T14:11:12.660Z"
   },
   {
    "duration": 42,
    "start_time": "2022-03-06T14:11:12.667Z"
   },
   {
    "duration": 6,
    "start_time": "2022-03-06T14:11:12.711Z"
   },
   {
    "duration": 7,
    "start_time": "2022-03-06T14:11:12.720Z"
   },
   {
    "duration": 7,
    "start_time": "2022-03-06T14:11:12.729Z"
   },
   {
    "duration": 13,
    "start_time": "2022-03-06T14:11:12.738Z"
   },
   {
    "duration": 10,
    "start_time": "2022-03-06T14:11:12.753Z"
   },
   {
    "duration": 46,
    "start_time": "2022-03-06T14:11:12.764Z"
   },
   {
    "duration": 9,
    "start_time": "2022-03-06T14:11:12.812Z"
   },
   {
    "duration": 8,
    "start_time": "2022-03-06T14:11:12.823Z"
   },
   {
    "duration": 19,
    "start_time": "2022-03-06T14:11:12.833Z"
   },
   {
    "duration": 7,
    "start_time": "2022-03-06T14:11:12.854Z"
   },
   {
    "duration": 10,
    "start_time": "2022-03-06T14:11:12.863Z"
   },
   {
    "duration": 18,
    "start_time": "2022-03-06T14:11:12.874Z"
   },
   {
    "duration": 24,
    "start_time": "2022-03-06T14:11:12.893Z"
   },
   {
    "duration": 25,
    "start_time": "2022-03-06T14:11:12.920Z"
   },
   {
    "duration": 36,
    "start_time": "2022-03-06T14:11:12.946Z"
   },
   {
    "duration": 37,
    "start_time": "2022-03-06T14:11:12.984Z"
   },
   {
    "duration": 17,
    "start_time": "2022-03-06T14:11:13.023Z"
   },
   {
    "duration": 58,
    "start_time": "2022-03-06T17:37:54.844Z"
   },
   {
    "duration": 57,
    "start_time": "2022-03-06T17:37:58.565Z"
   },
   {
    "duration": 69,
    "start_time": "2022-03-06T17:38:01.979Z"
   },
   {
    "duration": 56,
    "start_time": "2022-03-06T17:38:13.665Z"
   },
   {
    "duration": 575,
    "start_time": "2022-03-06T17:43:45.717Z"
   },
   {
    "duration": 44,
    "start_time": "2022-03-06T17:43:48.643Z"
   },
   {
    "duration": 17,
    "start_time": "2022-03-06T17:43:49.892Z"
   },
   {
    "duration": 10,
    "start_time": "2022-03-06T17:43:51.525Z"
   },
   {
    "duration": 10,
    "start_time": "2022-03-06T17:43:53.692Z"
   },
   {
    "duration": 7,
    "start_time": "2022-03-06T17:43:55.065Z"
   },
   {
    "duration": 4,
    "start_time": "2022-03-06T17:43:56.178Z"
   },
   {
    "duration": 10,
    "start_time": "2022-03-06T17:43:57.274Z"
   },
   {
    "duration": 7,
    "start_time": "2022-03-06T17:43:59.736Z"
   },
   {
    "duration": 9,
    "start_time": "2022-03-06T17:44:02.463Z"
   },
   {
    "duration": 15,
    "start_time": "2022-03-06T17:44:02.810Z"
   },
   {
    "duration": 3,
    "start_time": "2022-03-06T17:44:03.564Z"
   },
   {
    "duration": 10,
    "start_time": "2022-03-06T17:44:03.892Z"
   },
   {
    "duration": 8,
    "start_time": "2022-03-06T17:44:04.112Z"
   },
   {
    "duration": 7,
    "start_time": "2022-03-06T17:44:04.765Z"
   },
   {
    "duration": 5,
    "start_time": "2022-03-06T17:44:05.865Z"
   },
   {
    "duration": 12,
    "start_time": "2022-03-06T17:44:07.133Z"
   },
   {
    "duration": 237,
    "start_time": "2022-03-06T17:44:08.145Z"
   },
   {
    "duration": 382,
    "start_time": "2022-03-06T17:52:32.746Z"
   },
   {
    "duration": 184,
    "start_time": "2022-03-06T17:53:15.228Z"
   },
   {
    "duration": 221,
    "start_time": "2022-03-06T17:53:24.096Z"
   },
   {
    "duration": 344,
    "start_time": "2022-03-06T17:54:05.848Z"
   },
   {
    "duration": 331,
    "start_time": "2022-03-06T17:56:39.560Z"
   },
   {
    "duration": 337,
    "start_time": "2022-03-06T17:56:45.887Z"
   },
   {
    "duration": 346,
    "start_time": "2022-03-06T17:56:55.546Z"
   },
   {
    "duration": 352,
    "start_time": "2022-03-06T17:59:50.964Z"
   },
   {
    "duration": 383,
    "start_time": "2022-03-06T18:00:02.590Z"
   },
   {
    "duration": 3,
    "start_time": "2022-03-06T18:02:21.542Z"
   },
   {
    "duration": 355,
    "start_time": "2022-03-06T18:02:28.349Z"
   },
   {
    "duration": 171,
    "start_time": "2022-03-06T18:03:10.592Z"
   },
   {
    "duration": 355,
    "start_time": "2022-03-06T18:03:15.976Z"
   },
   {
    "duration": 3,
    "start_time": "2022-03-06T18:03:22.581Z"
   },
   {
    "duration": 359,
    "start_time": "2022-03-06T18:03:29.793Z"
   },
   {
    "duration": 358,
    "start_time": "2022-03-06T18:03:37.996Z"
   },
   {
    "duration": 402,
    "start_time": "2022-03-06T18:03:41.915Z"
   },
   {
    "duration": 3,
    "start_time": "2022-03-06T18:04:07.518Z"
   },
   {
    "duration": 178,
    "start_time": "2022-03-06T18:04:15.368Z"
   },
   {
    "duration": 182,
    "start_time": "2022-03-06T18:04:18.347Z"
   },
   {
    "duration": 181,
    "start_time": "2022-03-06T18:04:57.116Z"
   },
   {
    "duration": 185,
    "start_time": "2022-03-06T18:05:19.742Z"
   },
   {
    "duration": 185,
    "start_time": "2022-03-06T18:05:37.441Z"
   },
   {
    "duration": 195,
    "start_time": "2022-03-06T18:06:07.003Z"
   },
   {
    "duration": 193,
    "start_time": "2022-03-06T18:06:18.736Z"
   },
   {
    "duration": 179,
    "start_time": "2022-03-06T18:06:56.407Z"
   },
   {
    "duration": 336,
    "start_time": "2022-03-06T18:07:46.826Z"
   },
   {
    "duration": 357,
    "start_time": "2022-03-06T18:07:57.434Z"
   },
   {
    "duration": 277,
    "start_time": "2022-03-06T18:08:51.872Z"
   },
   {
    "duration": 284,
    "start_time": "2022-03-06T18:09:01.828Z"
   },
   {
    "duration": 274,
    "start_time": "2022-03-06T18:09:11.255Z"
   },
   {
    "duration": 587,
    "start_time": "2022-03-06T18:11:27.367Z"
   },
   {
    "duration": 43,
    "start_time": "2022-03-06T18:11:29.138Z"
   },
   {
    "duration": 14,
    "start_time": "2022-03-06T18:11:30.086Z"
   },
   {
    "duration": 11,
    "start_time": "2022-03-06T18:11:30.689Z"
   },
   {
    "duration": 10,
    "start_time": "2022-03-06T18:11:35.406Z"
   },
   {
    "duration": 6,
    "start_time": "2022-03-06T18:11:36.027Z"
   },
   {
    "duration": 5,
    "start_time": "2022-03-06T18:11:36.388Z"
   },
   {
    "duration": 9,
    "start_time": "2022-03-06T18:11:37.205Z"
   },
   {
    "duration": 224,
    "start_time": "2022-03-06T18:13:26.453Z"
   },
   {
    "duration": 8,
    "start_time": "2022-03-06T18:13:35.925Z"
   },
   {
    "duration": 5,
    "start_time": "2022-03-06T18:22:06.278Z"
   },
   {
    "duration": 24,
    "start_time": "2022-03-06T18:58:13.267Z"
   },
   {
    "duration": 4,
    "start_time": "2022-03-06T18:58:43.736Z"
   },
   {
    "duration": 7,
    "start_time": "2022-03-06T18:58:58.352Z"
   },
   {
    "duration": 6,
    "start_time": "2022-03-06T18:59:02.577Z"
   },
   {
    "duration": 3,
    "start_time": "2022-03-06T18:59:06.814Z"
   },
   {
    "duration": 7,
    "start_time": "2022-03-06T18:59:51.120Z"
   },
   {
    "duration": 4,
    "start_time": "2022-03-06T19:03:29.498Z"
   },
   {
    "duration": 623,
    "start_time": "2022-03-06T19:05:14.741Z"
   },
   {
    "duration": 42,
    "start_time": "2022-03-06T19:05:15.365Z"
   },
   {
    "duration": 13,
    "start_time": "2022-03-06T19:05:15.409Z"
   },
   {
    "duration": 16,
    "start_time": "2022-03-06T19:05:15.424Z"
   },
   {
    "duration": 8,
    "start_time": "2022-03-06T19:05:15.442Z"
   },
   {
    "duration": 6,
    "start_time": "2022-03-06T19:05:15.452Z"
   },
   {
    "duration": 4,
    "start_time": "2022-03-06T19:05:15.460Z"
   },
   {
    "duration": 8,
    "start_time": "2022-03-06T19:05:15.466Z"
   },
   {
    "duration": 6,
    "start_time": "2022-03-06T19:05:15.476Z"
   },
   {
    "duration": 6,
    "start_time": "2022-03-06T19:05:15.483Z"
   },
   {
    "duration": 4,
    "start_time": "2022-03-06T19:05:15.490Z"
   },
   {
    "duration": 8,
    "start_time": "2022-03-06T19:05:15.533Z"
   },
   {
    "duration": 14,
    "start_time": "2022-03-06T19:05:15.542Z"
   },
   {
    "duration": 3,
    "start_time": "2022-03-06T19:05:15.557Z"
   },
   {
    "duration": 12,
    "start_time": "2022-03-06T19:05:15.561Z"
   },
   {
    "duration": 9,
    "start_time": "2022-03-06T19:05:15.575Z"
   },
   {
    "duration": 6,
    "start_time": "2022-03-06T19:05:15.586Z"
   },
   {
    "duration": 40,
    "start_time": "2022-03-06T19:05:15.593Z"
   },
   {
    "duration": 12,
    "start_time": "2022-03-06T19:05:15.635Z"
   },
   {
    "duration": 310,
    "start_time": "2022-03-06T19:05:15.649Z"
   },
   {
    "duration": 6,
    "start_time": "2022-03-06T19:05:15.962Z"
   },
   {
    "duration": 7,
    "start_time": "2022-03-06T19:05:15.970Z"
   },
   {
    "duration": 17,
    "start_time": "2022-03-06T19:05:15.981Z"
   },
   {
    "duration": 51,
    "start_time": "2022-03-06T19:05:16.000Z"
   },
   {
    "duration": 17,
    "start_time": "2022-03-06T19:05:16.053Z"
   },
   {
    "duration": 7,
    "start_time": "2022-03-06T19:05:16.072Z"
   },
   {
    "duration": 18,
    "start_time": "2022-03-06T19:05:16.081Z"
   },
   {
    "duration": 33,
    "start_time": "2022-03-06T19:05:16.101Z"
   },
   {
    "duration": 8,
    "start_time": "2022-03-06T19:05:16.135Z"
   },
   {
    "duration": 12,
    "start_time": "2022-03-06T19:05:16.145Z"
   },
   {
    "duration": 15,
    "start_time": "2022-03-06T19:05:16.159Z"
   },
   {
    "duration": 10,
    "start_time": "2022-03-06T19:05:16.176Z"
   },
   {
    "duration": 12,
    "start_time": "2022-03-06T19:05:16.188Z"
   },
   {
    "duration": 35,
    "start_time": "2022-03-06T19:05:16.202Z"
   },
   {
    "duration": 8,
    "start_time": "2022-03-06T19:05:16.239Z"
   },
   {
    "duration": 13,
    "start_time": "2022-03-06T19:05:16.249Z"
   },
   {
    "duration": 9,
    "start_time": "2022-03-06T19:05:16.264Z"
   },
   {
    "duration": 4,
    "start_time": "2022-03-06T19:05:16.275Z"
   },
   {
    "duration": 18,
    "start_time": "2022-03-06T19:05:16.280Z"
   },
   {
    "duration": 37,
    "start_time": "2022-03-06T19:05:16.300Z"
   },
   {
    "duration": 21,
    "start_time": "2022-03-06T19:05:16.339Z"
   },
   {
    "duration": 31,
    "start_time": "2022-03-06T19:05:16.361Z"
   },
   {
    "duration": 41,
    "start_time": "2022-03-06T19:05:16.393Z"
   },
   {
    "duration": 15,
    "start_time": "2022-03-06T19:05:16.436Z"
   },
   {
    "duration": 615,
    "start_time": "2022-03-06T19:27:47.036Z"
   },
   {
    "duration": 52,
    "start_time": "2022-03-06T19:27:47.653Z"
   },
   {
    "duration": 14,
    "start_time": "2022-03-06T19:27:47.707Z"
   },
   {
    "duration": 15,
    "start_time": "2022-03-06T19:27:47.723Z"
   },
   {
    "duration": 9,
    "start_time": "2022-03-06T19:27:47.739Z"
   },
   {
    "duration": 6,
    "start_time": "2022-03-06T19:27:47.750Z"
   },
   {
    "duration": 5,
    "start_time": "2022-03-06T19:27:47.758Z"
   },
   {
    "duration": 8,
    "start_time": "2022-03-06T19:27:47.765Z"
   },
   {
    "duration": 7,
    "start_time": "2022-03-06T19:27:47.776Z"
   },
   {
    "duration": 4,
    "start_time": "2022-03-06T19:27:47.785Z"
   },
   {
    "duration": 49,
    "start_time": "2022-03-06T19:27:47.790Z"
   },
   {
    "duration": 14,
    "start_time": "2022-03-06T19:27:47.840Z"
   },
   {
    "duration": 3,
    "start_time": "2022-03-06T19:27:47.855Z"
   },
   {
    "duration": 11,
    "start_time": "2022-03-06T19:27:47.859Z"
   },
   {
    "duration": 9,
    "start_time": "2022-03-06T19:27:47.871Z"
   },
   {
    "duration": 6,
    "start_time": "2022-03-06T19:27:47.882Z"
   },
   {
    "duration": 6,
    "start_time": "2022-03-06T19:27:47.889Z"
   },
   {
    "duration": 11,
    "start_time": "2022-03-06T19:27:47.936Z"
   },
   {
    "duration": 308,
    "start_time": "2022-03-06T19:27:47.950Z"
   },
   {
    "duration": 5,
    "start_time": "2022-03-06T19:27:48.260Z"
   },
   {
    "duration": 5,
    "start_time": "2022-03-06T19:27:48.266Z"
   },
   {
    "duration": 16,
    "start_time": "2022-03-06T19:27:48.273Z"
   },
   {
    "duration": 16,
    "start_time": "2022-03-06T19:27:48.290Z"
   },
   {
    "duration": 34,
    "start_time": "2022-03-06T19:27:48.308Z"
   },
   {
    "duration": 6,
    "start_time": "2022-03-06T19:27:48.344Z"
   },
   {
    "duration": 17,
    "start_time": "2022-03-06T19:27:48.352Z"
   },
   {
    "duration": 7,
    "start_time": "2022-03-06T19:27:48.371Z"
   },
   {
    "duration": 7,
    "start_time": "2022-03-06T19:27:48.380Z"
   },
   {
    "duration": 8,
    "start_time": "2022-03-06T19:27:48.389Z"
   },
   {
    "duration": 44,
    "start_time": "2022-03-06T19:27:48.399Z"
   },
   {
    "duration": 11,
    "start_time": "2022-03-06T19:27:48.445Z"
   },
   {
    "duration": 11,
    "start_time": "2022-03-06T19:27:48.457Z"
   },
   {
    "duration": 7,
    "start_time": "2022-03-06T19:27:48.470Z"
   },
   {
    "duration": 8,
    "start_time": "2022-03-06T19:27:48.478Z"
   },
   {
    "duration": 10,
    "start_time": "2022-03-06T19:27:48.487Z"
   },
   {
    "duration": 37,
    "start_time": "2022-03-06T19:27:48.498Z"
   },
   {
    "duration": 3,
    "start_time": "2022-03-06T19:27:48.537Z"
   },
   {
    "duration": 15,
    "start_time": "2022-03-06T19:27:48.542Z"
   },
   {
    "duration": 13,
    "start_time": "2022-03-06T19:27:48.559Z"
   },
   {
    "duration": 21,
    "start_time": "2022-03-06T19:27:48.573Z"
   },
   {
    "duration": 56,
    "start_time": "2022-03-06T19:27:48.595Z"
   },
   {
    "duration": 19,
    "start_time": "2022-03-06T19:27:48.652Z"
   },
   {
    "duration": 13,
    "start_time": "2022-03-06T19:27:48.672Z"
   }
  ],
  "kernelspec": {
   "display_name": "Python 3 (ipykernel)",
   "language": "python",
   "name": "python3"
  },
  "language_info": {
   "codemirror_mode": {
    "name": "ipython",
    "version": 3
   },
   "file_extension": ".py",
   "mimetype": "text/x-python",
   "name": "python",
   "nbconvert_exporter": "python",
   "pygments_lexer": "ipython3",
   "version": "3.9.13"
  },
  "toc": {
   "base_numbering": 1,
   "nav_menu": {},
   "number_sections": true,
   "sideBar": true,
   "skip_h1_title": true,
   "title_cell": "Содержание",
   "title_sidebar": "Содержание",
   "toc_cell": true,
   "toc_position": {
    "height": "calc(100% - 180px)",
    "left": "10px",
    "top": "150px",
    "width": "433px"
   },
   "toc_section_display": true,
   "toc_window_display": true
  }
 },
 "nbformat": 4,
 "nbformat_minor": 5
}
