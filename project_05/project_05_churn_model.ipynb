{
 "cells": [
  {
   "cell_type": "markdown",
   "id": "cc373085",
   "metadata": {},
   "source": [
    "# Прогнозирование оттока клиента Банка"
   ]
  },
  {
   "cell_type": "markdown",
   "id": "e9ef77dc",
   "metadata": {},
   "source": [
    "Из «Бета-Банка» стали уходить клиенты. Каждый месяц. Немного, но заметно. Банковские маркетологи посчитали: сохранять текущих клиентов дешевле, чем привлекать новых.\n",
    "\n",
    "    \n",
    "Нам предоставлены исторические данные о поведении клиентов и расторжении договоров с банком.\n",
    "\n",
    "**Цель исследования**:\n",
    "\n",
    "Спрогнозировать, уйдёт клиент из банка в ближайшее время или нет:\n",
    "\n",
    "- Построить модель с предельно большим значением F1-меры: нужно довести метрику до 0.59. Проверить F1-меру на тестовой выборке самостоятельно.\n",
    "\n",
    "- Дополнительно измерить AUC-ROC, сравнивайте её значение с F1-мерой."
   ]
  },
  {
   "cell_type": "markdown",
   "id": "4a8fa93f",
   "metadata": {},
   "source": [
    "Признаки:\n",
    "- `RowNumber` — индекс строки в данных\n",
    "- `CustomerId` — уникальный идентификатор клиента\n",
    "- `Surname` — фамилия\n",
    "- `CreditScore` — кредитный рейтинг\n",
    "- `Geography` — страна проживания\n",
    "- `Gender` — пол\n",
    "- `Age` — возраст\n",
    "- `Tenure` — сколько лет человек является клиентом банка\n",
    "- `Balance` — баланс на счёте\n",
    "- `NumOfProducts` — количество продуктов банка, используемых клиентом\n",
    "- `HasCrCard` — наличие кредитной карты\n",
    "- `IsActiveMember` — активность клиента\n",
    "- `EstimatedSalary` — предполагаемая зарплата\n",
    "\n",
    "Целевой признак:\n",
    "- `Exited` — факт ухода клиента"
   ]
  },
  {
   "cell_type": "markdown",
   "id": "ddac26cf",
   "metadata": {
    "toc": true
   },
   "source": [
    "<h1>Содержание<span class=\"tocSkip\"></span></h1>\n",
    "<div class=\"toc\"><ul class=\"toc-item\"><li><span><a href=\"#Открытие-данных\" data-toc-modified-id=\"Открытие-данных-1\"><span class=\"toc-item-num\">1&nbsp;&nbsp;</span>Открытие данных</a></span></li><li><span><a href=\"#Предобработка-данных\" data-toc-modified-id=\"Предобработка-данных-2\"><span class=\"toc-item-num\">2&nbsp;&nbsp;</span>Предобработка данных</a></span><ul class=\"toc-item\"><li><span><a href=\"#Удаляем-лишние-столбцы\" data-toc-modified-id=\"Удаляем-лишние-столбцы-2.1\"><span class=\"toc-item-num\">2.1&nbsp;&nbsp;</span>Удаляем лишние столбцы</a></span></li><li><span><a href=\"#Обработка-дубликатов\" data-toc-modified-id=\"Обработка-дубликатов-2.2\"><span class=\"toc-item-num\">2.2&nbsp;&nbsp;</span>Обработка дубликатов</a></span></li><li><span><a href=\"#Обработка-пропущенных-значений\" data-toc-modified-id=\"Обработка-пропущенных-значений-2.3\"><span class=\"toc-item-num\">2.3&nbsp;&nbsp;</span>Обработка пропущенных значений</a></span></li><li><span><a href=\"#Кодирование-категориальных-признаков\" data-toc-modified-id=\"Кодирование-категориальных-признаков-2.4\"><span class=\"toc-item-num\">2.4&nbsp;&nbsp;</span>Кодирование категориальных признаков</a></span></li></ul></li><li><span><a href=\"#Анализ-данных\" data-toc-modified-id=\"Анализ-данных-3\"><span class=\"toc-item-num\">3&nbsp;&nbsp;</span>Анализ данных</a></span></li><li><span><a href=\"#Исследование-задачи\" data-toc-modified-id=\"Исследование-задачи-4\"><span class=\"toc-item-num\">4&nbsp;&nbsp;</span>Исследование задачи</a></span><ul class=\"toc-item\"><li><span><a href=\"#Баланс-классов\" data-toc-modified-id=\"Баланс-классов-4.1\"><span class=\"toc-item-num\">4.1&nbsp;&nbsp;</span>Баланс классов</a></span></li><li><span><a href=\"#Разделение-данных\" data-toc-modified-id=\"Разделение-данных-4.2\"><span class=\"toc-item-num\">4.2&nbsp;&nbsp;</span>Разделение данных</a></span></li><li><span><a href=\"#Масштабирование-признаков\" data-toc-modified-id=\"Масштабирование-признаков-4.3\"><span class=\"toc-item-num\">4.3&nbsp;&nbsp;</span>Масштабирование признаков</a></span></li><li><span><a href=\"#Обучение-базовой-модели-RandomForestClassifier\" data-toc-modified-id=\"Обучение-базовой-модели-RandomForestClassifier-4.4\"><span class=\"toc-item-num\">4.4&nbsp;&nbsp;</span>Обучение базовой модели RandomForestClassifier</a></span><ul class=\"toc-item\"><li><span><a href=\"#Важность-признаков\" data-toc-modified-id=\"Важность-признаков-4.4.1\"><span class=\"toc-item-num\">4.4.1&nbsp;&nbsp;</span>Важность признаков</a></span></li><li><span><a href=\"#Главные-компоненты\" data-toc-modified-id=\"Главные-компоненты-4.4.2\"><span class=\"toc-item-num\">4.4.2&nbsp;&nbsp;</span>Главные компоненты</a></span></li></ul></li><li><span><a href=\"#Обучение-базовой-модели-CatBoostClassifier\" data-toc-modified-id=\"Обучение-базовой-модели-CatBoostClassifier-4.5\"><span class=\"toc-item-num\">4.5&nbsp;&nbsp;</span>Обучение базовой модели CatBoostClassifier</a></span><ul class=\"toc-item\"><li><span><a href=\"#Важность-признаков\" data-toc-modified-id=\"Важность-признаков-4.5.1\"><span class=\"toc-item-num\">4.5.1&nbsp;&nbsp;</span>Важность признаков</a></span></li></ul></li><li><span><a href=\"#Сравнение-важностей\" data-toc-modified-id=\"Сравнение-важностей-4.6\"><span class=\"toc-item-num\">4.6&nbsp;&nbsp;</span>Сравнение важностей</a></span></li><li><span><a href=\"#Случайный-лес\" data-toc-modified-id=\"Случайный-лес-4.7\"><span class=\"toc-item-num\">4.7&nbsp;&nbsp;</span>Случайный лес</a></span><ul class=\"toc-item\"><li><span><a href=\"#Оптимизация-гиперпараметров:-раунд-1\" data-toc-modified-id=\"Оптимизация-гиперпараметров:-раунд-1-4.7.1\"><span class=\"toc-item-num\">4.7.1&nbsp;&nbsp;</span>Оптимизация гиперпараметров: раунд 1</a></span></li><li><span><a href=\"#Оптимизация-гиперпараметров:-раунд-2\" data-toc-modified-id=\"Оптимизация-гиперпараметров:-раунд-2-4.7.2\"><span class=\"toc-item-num\">4.7.2&nbsp;&nbsp;</span>Оптимизация гиперпараметров: раунд 2</a></span></li></ul></li><li><span><a href=\"#Тест-моделей-на-несбалансированной-обучающей-выборке\" data-toc-modified-id=\"Тест-моделей-на-несбалансированной-обучающей-выборке-4.8\"><span class=\"toc-item-num\">4.8&nbsp;&nbsp;</span>Тест моделей на несбалансированной обучающей выборке</a></span></li><li><span><a href=\"#Проверка-качества-модели-на-валидационной-выборке\" data-toc-modified-id=\"Проверка-качества-модели-на-валидационной-выборке-4.9\"><span class=\"toc-item-num\">4.9&nbsp;&nbsp;</span>Проверка качества модели на валидационной выборке</a></span></li></ul></li><li><span><a href=\"#Борьба-с-дисбалансом\" data-toc-modified-id=\"Борьба-с-дисбалансом-5\"><span class=\"toc-item-num\">5&nbsp;&nbsp;</span>Борьба с дисбалансом</a></span><ul class=\"toc-item\"><li><span><a href=\"#NEARMISS\" data-toc-modified-id=\"NEARMISS-5.1\"><span class=\"toc-item-num\">5.1&nbsp;&nbsp;</span>NEARMISS</a></span></li><li><span><a href=\"#SMOTE\" data-toc-modified-id=\"SMOTE-5.2\"><span class=\"toc-item-num\">5.2&nbsp;&nbsp;</span>SMOTE</a></span></li><li><span><a href=\"#Взвешивание-классов\" data-toc-modified-id=\"Взвешивание-классов-5.3\"><span class=\"toc-item-num\">5.3&nbsp;&nbsp;</span>Взвешивание классов</a></span></li><li><span><a href=\"#Порог-классификации\" data-toc-modified-id=\"Порог-классификации-5.4\"><span class=\"toc-item-num\">5.4&nbsp;&nbsp;</span>Порог классификации</a></span><ul class=\"toc-item\"><li><span><a href=\"#Посмотрим-на-пороги-классификации-в-кросс-валидации\" data-toc-modified-id=\"Посмотрим-на-пороги-классификации-в-кросс-валидации-5.4.1\"><span class=\"toc-item-num\">5.4.1&nbsp;&nbsp;</span>Посмотрим на пороги классификации в кросс-валидации</a></span></li></ul></li><li><span><a href=\"#Выбор-лучшей-модели\" data-toc-modified-id=\"Выбор-лучшей-модели-5.5\"><span class=\"toc-item-num\">5.5&nbsp;&nbsp;</span>Выбор лучшей модели</a></span></li></ul></li><li><span><a href=\"#Тестирование-лучшей-модели-на-тестовых-данных\" data-toc-modified-id=\"Тестирование-лучшей-модели-на-тестовых-данных-6\"><span class=\"toc-item-num\">6&nbsp;&nbsp;</span>Тестирование лучшей модели на тестовых данных</a></span><ul class=\"toc-item\"><li><span><a href=\"#1-место:-CatBoostClassifier-с-SMOTE\" data-toc-modified-id=\"1-место:-CatBoostClassifier-с-SMOTE-6.1\"><span class=\"toc-item-num\">6.1&nbsp;&nbsp;</span>1 место: CatBoostClassifier с SMOTE</a></span></li><li><span><a href=\"#2-место-RandomForestClassifier-с-порогом-0.31\" data-toc-modified-id=\"2-место-RandomForestClassifier-с-порогом-0.31-6.2\"><span class=\"toc-item-num\">6.2&nbsp;&nbsp;</span>2 место RandomForestClassifier с порогом 0.31</a></span></li></ul></li><li><span><a href=\"#Вывод\" data-toc-modified-id=\"Вывод-7\"><span class=\"toc-item-num\">7&nbsp;&nbsp;</span>Вывод</a></span></li></ul></div>"
   ]
  },
  {
   "cell_type": "markdown",
   "id": "eed5a9a0",
   "metadata": {},
   "source": [
    "## Открытие данных"
   ]
  },
  {
   "cell_type": "markdown",
   "id": "694c641b",
   "metadata": {
    "id": "57eAOGIz_Zcs"
   },
   "source": [
    "Импортируем библиотеки:"
   ]
  },
  {
   "cell_type": "code",
   "execution_count": 1,
   "id": "60eefcd4",
   "metadata": {},
   "outputs": [],
   "source": [
    "import matplotlib.pyplot as plt\n",
    "import numpy as np\n",
    "import os.path\n",
    "import pandas as pd\n",
    "import seaborn as sns\n",
    "\n",
    "from catboost import CatBoostClassifier\n",
    "from imblearn.over_sampling import SMOTE\n",
    "from imblearn.under_sampling import NearMiss\n",
    "from sklearn.decomposition import PCA\n",
    "from sklearn.ensemble import RandomForestClassifier\n",
    "from sklearn.linear_model import LogisticRegression\n",
    "from sklearn.metrics import accuracy_score\n",
    "from sklearn.metrics import confusion_matrix \n",
    "from sklearn.metrics import f1_score\n",
    "from sklearn.metrics import roc_auc_score \n",
    "from sklearn.metrics import roc_curve \n",
    "from sklearn.model_selection import cross_val_score\n",
    "from sklearn.model_selection import GridSearchCV\n",
    "from sklearn.model_selection import KFold\n",
    "from sklearn.model_selection import RandomizedSearchCV\n",
    "from sklearn.model_selection import train_test_split\n",
    "from sklearn.preprocessing import StandardScaler\n",
    "from tqdm import tqdm"
   ]
  },
  {
   "cell_type": "markdown",
   "id": "8814dbdd",
   "metadata": {},
   "source": [
    "Настроим вывод для вещественных чисел:"
   ]
  },
  {
   "cell_type": "code",
   "execution_count": 2,
   "id": "436353f0",
   "metadata": {},
   "outputs": [],
   "source": [
    "pd.options.display.float_format = '{:,.4f}'.format"
   ]
  },
  {
   "cell_type": "code",
   "execution_count": 3,
   "id": "96bd5f00",
   "metadata": {},
   "outputs": [],
   "source": [
    "pd.set_option('display.max_columns', 500)\n",
    "pd.set_option('display.width', 1000)"
   ]
  },
  {
   "cell_type": "code",
   "execution_count": 4,
   "id": "93e6b668",
   "metadata": {},
   "outputs": [],
   "source": [
    "pd.options.mode.chained_assignment = None"
   ]
  },
  {
   "cell_type": "markdown",
   "id": "0c51a38d",
   "metadata": {
    "id": "SG23P8tt_Zcs"
   },
   "source": [
    "Прочитаем файл `Churn.csv` из папки `datasets` и сохраним его в переменной `df`:"
   ]
  },
  {
   "cell_type": "code",
   "execution_count": 5,
   "id": "e16139f9",
   "metadata": {},
   "outputs": [
    {
     "name": "stdout",
     "output_type": "stream",
     "text": [
      "Прочитали файл datasets/Churn.csv\n"
     ]
    }
   ],
   "source": [
    "try:\n",
    "    if os.path.exists('datasets/Churn.csv'):\n",
    "        df = pd.read_csv('datasets/Churn.csv')\n",
    "        print('Прочитали файл datasets/Churn.csv')\n",
    "    else:\n",
    "        df = pd.read_csv('/datasets/Churn.csv')\n",
    "        print('Прочитали файл с /datasets/Churn.csv')\n",
    "except:\n",
    "    print('У нас проблема')"
   ]
  },
  {
   "cell_type": "markdown",
   "id": "ff24e77c",
   "metadata": {
    "id": "rDoOMd3uTqnZ"
   },
   "source": [
    "Выведем на экран случайные 5 строк таблицы `df`:"
   ]
  },
  {
   "cell_type": "code",
   "execution_count": 6,
   "id": "ede20bc2",
   "metadata": {},
   "outputs": [
    {
     "data": {
      "text/html": [
       "<div>\n",
       "<style scoped>\n",
       "    .dataframe tbody tr th:only-of-type {\n",
       "        vertical-align: middle;\n",
       "    }\n",
       "\n",
       "    .dataframe tbody tr th {\n",
       "        vertical-align: top;\n",
       "    }\n",
       "\n",
       "    .dataframe thead th {\n",
       "        text-align: right;\n",
       "    }\n",
       "</style>\n",
       "<table border=\"1\" class=\"dataframe\">\n",
       "  <thead>\n",
       "    <tr style=\"text-align: right;\">\n",
       "      <th></th>\n",
       "      <th>451</th>\n",
       "      <th>5907</th>\n",
       "      <th>5085</th>\n",
       "      <th>7143</th>\n",
       "      <th>9005</th>\n",
       "    </tr>\n",
       "  </thead>\n",
       "  <tbody>\n",
       "    <tr>\n",
       "      <th>RowNumber</th>\n",
       "      <td>452</td>\n",
       "      <td>5908</td>\n",
       "      <td>5086</td>\n",
       "      <td>7144</td>\n",
       "      <td>9006</td>\n",
       "    </tr>\n",
       "    <tr>\n",
       "      <th>CustomerId</th>\n",
       "      <td>15785798</td>\n",
       "      <td>15813862</td>\n",
       "      <td>15687372</td>\n",
       "      <td>15761158</td>\n",
       "      <td>15802823</td>\n",
       "    </tr>\n",
       "    <tr>\n",
       "      <th>Surname</th>\n",
       "      <td>Uchechukwu</td>\n",
       "      <td>Yevseyev</td>\n",
       "      <td>Padovesi</td>\n",
       "      <td>Y?an</td>\n",
       "      <td>Maclean</td>\n",
       "    </tr>\n",
       "    <tr>\n",
       "      <th>CreditScore</th>\n",
       "      <td>850</td>\n",
       "      <td>526</td>\n",
       "      <td>547</td>\n",
       "      <td>719</td>\n",
       "      <td>745</td>\n",
       "    </tr>\n",
       "    <tr>\n",
       "      <th>Geography</th>\n",
       "      <td>France</td>\n",
       "      <td>Spain</td>\n",
       "      <td>Germany</td>\n",
       "      <td>France</td>\n",
       "      <td>Spain</td>\n",
       "    </tr>\n",
       "    <tr>\n",
       "      <th>Gender</th>\n",
       "      <td>Male</td>\n",
       "      <td>Male</td>\n",
       "      <td>Male</td>\n",
       "      <td>Female</td>\n",
       "      <td>Female</td>\n",
       "    </tr>\n",
       "    <tr>\n",
       "      <th>Age</th>\n",
       "      <td>40</td>\n",
       "      <td>66</td>\n",
       "      <td>49</td>\n",
       "      <td>54</td>\n",
       "      <td>38</td>\n",
       "    </tr>\n",
       "    <tr>\n",
       "      <th>Tenure</th>\n",
       "      <td>9.0000</td>\n",
       "      <td>NaN</td>\n",
       "      <td>8.0000</td>\n",
       "      <td>7.0000</td>\n",
       "      <td>7.0000</td>\n",
       "    </tr>\n",
       "    <tr>\n",
       "      <th>Balance</th>\n",
       "      <td>0.0000</td>\n",
       "      <td>132,044.6000</td>\n",
       "      <td>121,537.7100</td>\n",
       "      <td>0.0000</td>\n",
       "      <td>0.0000</td>\n",
       "    </tr>\n",
       "    <tr>\n",
       "      <th>NumOfProducts</th>\n",
       "      <td>2</td>\n",
       "      <td>2</td>\n",
       "      <td>2</td>\n",
       "      <td>2</td>\n",
       "      <td>2</td>\n",
       "    </tr>\n",
       "    <tr>\n",
       "      <th>HasCrCard</th>\n",
       "      <td>0</td>\n",
       "      <td>1</td>\n",
       "      <td>1</td>\n",
       "      <td>1</td>\n",
       "      <td>1</td>\n",
       "    </tr>\n",
       "    <tr>\n",
       "      <th>IsActiveMember</th>\n",
       "      <td>1</td>\n",
       "      <td>1</td>\n",
       "      <td>0</td>\n",
       "      <td>1</td>\n",
       "      <td>1</td>\n",
       "    </tr>\n",
       "    <tr>\n",
       "      <th>EstimatedSalary</th>\n",
       "      <td>119,232.3300</td>\n",
       "      <td>158,365.8900</td>\n",
       "      <td>46,521.4500</td>\n",
       "      <td>125,041.5200</td>\n",
       "      <td>194,230.8200</td>\n",
       "    </tr>\n",
       "    <tr>\n",
       "      <th>Exited</th>\n",
       "      <td>0</td>\n",
       "      <td>0</td>\n",
       "      <td>1</td>\n",
       "      <td>0</td>\n",
       "      <td>0</td>\n",
       "    </tr>\n",
       "  </tbody>\n",
       "</table>\n",
       "</div>"
      ],
      "text/plain": [
       "                        451          5907         5085         7143         9005\n",
       "RowNumber                452         5908         5086         7144         9006\n",
       "CustomerId          15785798     15813862     15687372     15761158     15802823\n",
       "Surname           Uchechukwu     Yevseyev     Padovesi         Y?an      Maclean\n",
       "CreditScore              850          526          547          719          745\n",
       "Geography             France        Spain      Germany       France        Spain\n",
       "Gender                  Male         Male         Male       Female       Female\n",
       "Age                       40           66           49           54           38\n",
       "Tenure                9.0000          NaN       8.0000       7.0000       7.0000\n",
       "Balance               0.0000 132,044.6000 121,537.7100       0.0000       0.0000\n",
       "NumOfProducts              2            2            2            2            2\n",
       "HasCrCard                  0            1            1            1            1\n",
       "IsActiveMember             1            1            0            1            1\n",
       "EstimatedSalary 119,232.3300 158,365.8900  46,521.4500 125,041.5200 194,230.8200\n",
       "Exited                     0            0            1            0            0"
      ]
     },
     "execution_count": 6,
     "metadata": {},
     "output_type": "execute_result"
    }
   ],
   "source": [
    "df.sample(5).T"
   ]
  },
  {
   "cell_type": "markdown",
   "id": "f533c802",
   "metadata": {
    "id": "EO73Kwic_Zct"
   },
   "source": [
    "Получим общую информацию о таблице:"
   ]
  },
  {
   "cell_type": "code",
   "execution_count": 7,
   "id": "064a5f28",
   "metadata": {
    "scrolled": false
   },
   "outputs": [
    {
     "name": "stdout",
     "output_type": "stream",
     "text": [
      "<class 'pandas.core.frame.DataFrame'>\n",
      "RangeIndex: 10000 entries, 0 to 9999\n",
      "Data columns (total 14 columns):\n",
      " #   Column           Non-Null Count  Dtype  \n",
      "---  ------           --------------  -----  \n",
      " 0   RowNumber        10000 non-null  int64  \n",
      " 1   CustomerId       10000 non-null  int64  \n",
      " 2   Surname          10000 non-null  object \n",
      " 3   CreditScore      10000 non-null  int64  \n",
      " 4   Geography        10000 non-null  object \n",
      " 5   Gender           10000 non-null  object \n",
      " 6   Age              10000 non-null  int64  \n",
      " 7   Tenure           9091 non-null   float64\n",
      " 8   Balance          10000 non-null  float64\n",
      " 9   NumOfProducts    10000 non-null  int64  \n",
      " 10  HasCrCard        10000 non-null  int64  \n",
      " 11  IsActiveMember   10000 non-null  int64  \n",
      " 12  EstimatedSalary  10000 non-null  float64\n",
      " 13  Exited           10000 non-null  int64  \n",
      "dtypes: float64(3), int64(8), object(3)\n",
      "memory usage: 1.1+ MB\n"
     ]
    }
   ],
   "source": [
    "df.info()"
   ]
  },
  {
   "cell_type": "markdown",
   "id": "b3e53e34",
   "metadata": {},
   "source": [
    "Итак, в таблице 14 колонок, 10000 строк. Тип данных в столбцах: `object`, `float64`, `int64`.\n",
    "\n",
    "**Описание данных**\n",
    "\n",
    "Признаки:\n",
    "- `RowNumber` — индекс строки в данных\n",
    "- `CustomerId` — уникальный идентификатор клиента\n",
    "- `Surname` — фамилия\n",
    "- `CreditScore` — кредитный рейтинг\n",
    "- `Geography` — страна проживания\n",
    "- `Gender` — пол\n",
    "- `Age` — возраст\n",
    "- `Tenure` — сколько лет человек является клиентом банка\n",
    "- `Balance` — баланс на счёте\n",
    "- `NumOfProducts` — количество продуктов банка, используемых клиентом\n",
    "- `HasCrCard` — наличие кредитной карты\n",
    "- `IsActiveMember` — активность клиента\n",
    "- `EstimatedSalary` — предполагаемая зарплата\n",
    "\n",
    "Целевой признак:\n",
    "- `Exited` — факт ухода клиента"
   ]
  },
  {
   "cell_type": "markdown",
   "id": "64e1439d",
   "metadata": {},
   "source": [
    "Посмотрим на количество уникальных значений по колонкам:"
   ]
  },
  {
   "cell_type": "code",
   "execution_count": 8,
   "id": "63a51afd",
   "metadata": {
    "scrolled": false
   },
   "outputs": [
    {
     "data": {
      "text/plain": [
       "RowNumber          10000\n",
       "CustomerId         10000\n",
       "Surname             2932\n",
       "CreditScore          460\n",
       "Geography              3\n",
       "Gender                 2\n",
       "Age                   70\n",
       "Tenure                11\n",
       "Balance             6382\n",
       "NumOfProducts          4\n",
       "HasCrCard              2\n",
       "IsActiveMember         2\n",
       "EstimatedSalary     9999\n",
       "Exited                 2\n",
       "dtype: int64"
      ]
     },
     "execution_count": 8,
     "metadata": {},
     "output_type": "execute_result"
    }
   ],
   "source": [
    "df.nunique()"
   ]
  },
  {
   "cell_type": "markdown",
   "id": "ee3a97b1",
   "metadata": {},
   "source": [
    "Бинарные признаки `Gender`, `HasCrCard`, `IsActiveMember`, `Exited`"
   ]
  },
  {
   "cell_type": "markdown",
   "id": "1b134194",
   "metadata": {},
   "source": [
    "Оценим столбцы с числовым типом данных: посмотрим на статистические данные, которые дают представление о распределении значений:"
   ]
  },
  {
   "cell_type": "code",
   "execution_count": 9,
   "id": "ce0dd333",
   "metadata": {},
   "outputs": [
    {
     "data": {
      "text/html": [
       "<div>\n",
       "<style scoped>\n",
       "    .dataframe tbody tr th:only-of-type {\n",
       "        vertical-align: middle;\n",
       "    }\n",
       "\n",
       "    .dataframe tbody tr th {\n",
       "        vertical-align: top;\n",
       "    }\n",
       "\n",
       "    .dataframe thead th {\n",
       "        text-align: right;\n",
       "    }\n",
       "</style>\n",
       "<table border=\"1\" class=\"dataframe\">\n",
       "  <thead>\n",
       "    <tr style=\"text-align: right;\">\n",
       "      <th></th>\n",
       "      <th>count</th>\n",
       "      <th>mean</th>\n",
       "      <th>std</th>\n",
       "      <th>min</th>\n",
       "      <th>25%</th>\n",
       "      <th>50%</th>\n",
       "      <th>75%</th>\n",
       "      <th>max</th>\n",
       "    </tr>\n",
       "  </thead>\n",
       "  <tbody>\n",
       "    <tr>\n",
       "      <th>RowNumber</th>\n",
       "      <td>10,000.0000</td>\n",
       "      <td>5,000.5000</td>\n",
       "      <td>2,886.8957</td>\n",
       "      <td>1.0000</td>\n",
       "      <td>2,500.7500</td>\n",
       "      <td>5,000.5000</td>\n",
       "      <td>7,500.2500</td>\n",
       "      <td>10,000.0000</td>\n",
       "    </tr>\n",
       "    <tr>\n",
       "      <th>CustomerId</th>\n",
       "      <td>10,000.0000</td>\n",
       "      <td>15,690,940.5694</td>\n",
       "      <td>71,936.1861</td>\n",
       "      <td>15,565,701.0000</td>\n",
       "      <td>15,628,528.2500</td>\n",
       "      <td>15,690,738.0000</td>\n",
       "      <td>15,753,233.7500</td>\n",
       "      <td>15,815,690.0000</td>\n",
       "    </tr>\n",
       "    <tr>\n",
       "      <th>CreditScore</th>\n",
       "      <td>10,000.0000</td>\n",
       "      <td>650.5288</td>\n",
       "      <td>96.6533</td>\n",
       "      <td>350.0000</td>\n",
       "      <td>584.0000</td>\n",
       "      <td>652.0000</td>\n",
       "      <td>718.0000</td>\n",
       "      <td>850.0000</td>\n",
       "    </tr>\n",
       "    <tr>\n",
       "      <th>Age</th>\n",
       "      <td>10,000.0000</td>\n",
       "      <td>38.9218</td>\n",
       "      <td>10.4878</td>\n",
       "      <td>18.0000</td>\n",
       "      <td>32.0000</td>\n",
       "      <td>37.0000</td>\n",
       "      <td>44.0000</td>\n",
       "      <td>92.0000</td>\n",
       "    </tr>\n",
       "    <tr>\n",
       "      <th>Tenure</th>\n",
       "      <td>9,091.0000</td>\n",
       "      <td>4.9977</td>\n",
       "      <td>2.8947</td>\n",
       "      <td>0.0000</td>\n",
       "      <td>2.0000</td>\n",
       "      <td>5.0000</td>\n",
       "      <td>7.0000</td>\n",
       "      <td>10.0000</td>\n",
       "    </tr>\n",
       "    <tr>\n",
       "      <th>Balance</th>\n",
       "      <td>10,000.0000</td>\n",
       "      <td>76,485.8893</td>\n",
       "      <td>62,397.4052</td>\n",
       "      <td>0.0000</td>\n",
       "      <td>0.0000</td>\n",
       "      <td>97,198.5400</td>\n",
       "      <td>127,644.2400</td>\n",
       "      <td>250,898.0900</td>\n",
       "    </tr>\n",
       "    <tr>\n",
       "      <th>NumOfProducts</th>\n",
       "      <td>10,000.0000</td>\n",
       "      <td>1.5302</td>\n",
       "      <td>0.5817</td>\n",
       "      <td>1.0000</td>\n",
       "      <td>1.0000</td>\n",
       "      <td>1.0000</td>\n",
       "      <td>2.0000</td>\n",
       "      <td>4.0000</td>\n",
       "    </tr>\n",
       "    <tr>\n",
       "      <th>HasCrCard</th>\n",
       "      <td>10,000.0000</td>\n",
       "      <td>0.7055</td>\n",
       "      <td>0.4558</td>\n",
       "      <td>0.0000</td>\n",
       "      <td>0.0000</td>\n",
       "      <td>1.0000</td>\n",
       "      <td>1.0000</td>\n",
       "      <td>1.0000</td>\n",
       "    </tr>\n",
       "    <tr>\n",
       "      <th>IsActiveMember</th>\n",
       "      <td>10,000.0000</td>\n",
       "      <td>0.5151</td>\n",
       "      <td>0.4998</td>\n",
       "      <td>0.0000</td>\n",
       "      <td>0.0000</td>\n",
       "      <td>1.0000</td>\n",
       "      <td>1.0000</td>\n",
       "      <td>1.0000</td>\n",
       "    </tr>\n",
       "    <tr>\n",
       "      <th>EstimatedSalary</th>\n",
       "      <td>10,000.0000</td>\n",
       "      <td>100,090.2399</td>\n",
       "      <td>57,510.4928</td>\n",
       "      <td>11.5800</td>\n",
       "      <td>51,002.1100</td>\n",
       "      <td>100,193.9150</td>\n",
       "      <td>149,388.2475</td>\n",
       "      <td>199,992.4800</td>\n",
       "    </tr>\n",
       "    <tr>\n",
       "      <th>Exited</th>\n",
       "      <td>10,000.0000</td>\n",
       "      <td>0.2037</td>\n",
       "      <td>0.4028</td>\n",
       "      <td>0.0000</td>\n",
       "      <td>0.0000</td>\n",
       "      <td>0.0000</td>\n",
       "      <td>0.0000</td>\n",
       "      <td>1.0000</td>\n",
       "    </tr>\n",
       "  </tbody>\n",
       "</table>\n",
       "</div>"
      ],
      "text/plain": [
       "                      count            mean         std             min             25%             50%             75%             max\n",
       "RowNumber       10,000.0000      5,000.5000  2,886.8957          1.0000      2,500.7500      5,000.5000      7,500.2500     10,000.0000\n",
       "CustomerId      10,000.0000 15,690,940.5694 71,936.1861 15,565,701.0000 15,628,528.2500 15,690,738.0000 15,753,233.7500 15,815,690.0000\n",
       "CreditScore     10,000.0000        650.5288     96.6533        350.0000        584.0000        652.0000        718.0000        850.0000\n",
       "Age             10,000.0000         38.9218     10.4878         18.0000         32.0000         37.0000         44.0000         92.0000\n",
       "Tenure           9,091.0000          4.9977      2.8947          0.0000          2.0000          5.0000          7.0000         10.0000\n",
       "Balance         10,000.0000     76,485.8893 62,397.4052          0.0000          0.0000     97,198.5400    127,644.2400    250,898.0900\n",
       "NumOfProducts   10,000.0000          1.5302      0.5817          1.0000          1.0000          1.0000          2.0000          4.0000\n",
       "HasCrCard       10,000.0000          0.7055      0.4558          0.0000          0.0000          1.0000          1.0000          1.0000\n",
       "IsActiveMember  10,000.0000          0.5151      0.4998          0.0000          0.0000          1.0000          1.0000          1.0000\n",
       "EstimatedSalary 10,000.0000    100,090.2399 57,510.4928         11.5800     51,002.1100    100,193.9150    149,388.2475    199,992.4800\n",
       "Exited          10,000.0000          0.2037      0.4028          0.0000          0.0000          0.0000          0.0000          1.0000"
      ]
     },
     "execution_count": 9,
     "metadata": {},
     "output_type": "execute_result"
    }
   ],
   "source": [
    "df.describe().T"
   ]
  },
  {
   "cell_type": "markdown",
   "id": "b8b1e8f5",
   "metadata": {},
   "source": [
    "Пропущенные значения есть только в колонке `Tenure`. Количество пропущенных значений:"
   ]
  },
  {
   "cell_type": "code",
   "execution_count": 10,
   "id": "2a9de6cc",
   "metadata": {
    "scrolled": true
   },
   "outputs": [
    {
     "data": {
      "text/plain": [
       "909"
      ]
     },
     "execution_count": 10,
     "metadata": {},
     "output_type": "execute_result"
    }
   ],
   "source": [
    "df.Tenure.isna().sum()"
   ]
  },
  {
   "cell_type": "code",
   "execution_count": 11,
   "id": "74d25117",
   "metadata": {},
   "outputs": [
    {
     "name": "stdout",
     "output_type": "stream",
     "text": [
      "['Surname', 'Geography', 'Gender']\n"
     ]
    }
   ],
   "source": [
    "object_features = list(df.loc[:, df.dtypes == 'object'].columns.values)\n",
    "print(object_features)"
   ]
  },
  {
   "cell_type": "markdown",
   "id": "903c8413",
   "metadata": {},
   "source": [
    "Построим тепловую матрицу корреляций:"
   ]
  },
  {
   "cell_type": "code",
   "execution_count": 12,
   "id": "f018ea1e",
   "metadata": {},
   "outputs": [
    {
     "data": {
      "image/png": "[encoded data removed]",
      "text/plain": [
       "<Figure size 432x288 with 2 Axes>"
      ]
     },
     "metadata": {
      "needs_background": "light"
     },
     "output_type": "display_data"
    }
   ],
   "source": [
    "sns.heatmap(df.drop(columns=['Exited']).corr(),cmap='coolwarm',annot=False)\n",
    "plt.show()"
   ]
  },
  {
   "cell_type": "markdown",
   "id": "c8854cd6",
   "metadata": {},
   "source": [
    "Видим, что сильной корреляции признаков нет"
   ]
  },
  {
   "cell_type": "markdown",
   "id": "747d93d4",
   "metadata": {},
   "source": [
    "**Вывод:**\n",
    "\n",
    "- в таблице 14 колонок, 10000 строк.\n",
    "- Столбцы `RowNumber`, `CustomerId` и `Surname` не понадобятся для проведения моделирования оттока клиентов. Их можно исключить из датасета.\n",
    "- в колонке `Tenure` 909 пропущенных значений. Заполнение таких данных нулями или средними значениями приведет к искажению данных и неправильной работе модели, поэтому их необходимо исключить из датасета.\n",
    "- cтолбцы `Geography` и `Gender` имеют тип данных `object`, для осуществления дальнейшего моделирования применим к ним кодирование данных.\n",
    "- Анализ численных данных показал, что практически во всех случаях среднее значение близко к медиане, что говорит об отсутствии существенных выбросов в данных. Исключением является столбец Balance, у него имеются значительные выбросы. Оценим этот столбец подробнее."
   ]
  },
  {
   "cell_type": "markdown",
   "id": "4f069b79",
   "metadata": {},
   "source": [
    "## Предобработка данных"
   ]
  },
  {
   "cell_type": "markdown",
   "id": "98023eaa",
   "metadata": {},
   "source": [
    "### Удаляем лишние столбцы"
   ]
  },
  {
   "cell_type": "markdown",
   "id": "dfc4500a",
   "metadata": {},
   "source": [
    "Колонки, которые не пригодятся нам:"
   ]
  },
  {
   "cell_type": "code",
   "execution_count": 13,
   "id": "6c911a21",
   "metadata": {},
   "outputs": [
    {
     "name": "stdout",
     "output_type": "stream",
     "text": [
      "(10000, 11)\n"
     ]
    }
   ],
   "source": [
    "df.drop(columns=['RowNumber', 'CustomerId', 'Surname', ], inplace=True)\n",
    "print(df.shape)"
   ]
  },
  {
   "cell_type": "markdown",
   "id": "6271f4dc",
   "metadata": {},
   "source": [
    "### Обработка дубликатов"
   ]
  },
  {
   "cell_type": "code",
   "execution_count": 14,
   "id": "7a3ee1bc",
   "metadata": {},
   "outputs": [
    {
     "data": {
      "text/plain": [
       "0"
      ]
     },
     "execution_count": 14,
     "metadata": {},
     "output_type": "execute_result"
    }
   ],
   "source": [
    "df.duplicated().sum()"
   ]
  },
  {
   "cell_type": "markdown",
   "id": "f340f397",
   "metadata": {},
   "source": [
    "Явных дубликатов в таблице нет"
   ]
  },
  {
   "cell_type": "markdown",
   "id": "9e2fc347",
   "metadata": {},
   "source": [
    "### Обработка пропущенных значений"
   ]
  },
  {
   "cell_type": "markdown",
   "id": "1a0c01f8",
   "metadata": {},
   "source": [
    "Удалим пропущенные значения:"
   ]
  },
  {
   "cell_type": "code",
   "execution_count": 15,
   "id": "c7e55482",
   "metadata": {},
   "outputs": [
    {
     "name": "stdout",
     "output_type": "stream",
     "text": [
      "(9091, 11)\n"
     ]
    }
   ],
   "source": [
    "df.dropna(inplace=True)\n",
    "print(df.shape)"
   ]
  },
  {
   "cell_type": "markdown",
   "id": "dd6e7e82",
   "metadata": {},
   "source": [
    "### Кодирование категориальных признаков"
   ]
  },
  {
   "cell_type": "markdown",
   "id": "e1fc21e9",
   "metadata": {},
   "source": [
    "Выполним кодирование признака `Gender` с помощью словаря"
   ]
  },
  {
   "cell_type": "code",
   "execution_count": 16,
   "id": "964ffa7f",
   "metadata": {},
   "outputs": [],
   "source": [
    "df['Gender'].replace({'Male': 1, 'Female':0}, inplace=True)"
   ]
  },
  {
   "cell_type": "code",
   "execution_count": 17,
   "id": "15ae6e09",
   "metadata": {
    "scrolled": true
   },
   "outputs": [
    {
     "data": {
      "text/plain": [
       "1    4974\n",
       "0    4117\n",
       "Name: Gender, dtype: int64"
      ]
     },
     "execution_count": 17,
     "metadata": {},
     "output_type": "execute_result"
    }
   ],
   "source": [
    "df['Gender'].value_counts()"
   ]
  },
  {
   "cell_type": "markdown",
   "id": "81d11713",
   "metadata": {},
   "source": [
    "Определим список категориальных признаков `category`"
   ]
  },
  {
   "cell_type": "code",
   "execution_count": 18,
   "id": "4d794a9f",
   "metadata": {},
   "outputs": [],
   "source": [
    "category = ['Geography']"
   ]
  },
  {
   "cell_type": "markdown",
   "id": "2aa6e79f",
   "metadata": {},
   "source": [
    "Будем использовать быстрое кодирование `One Hot Encoding` с помощью `get_dummies`:\n",
    "\n",
    "`drop_first = True` используется, чтобы избежать ловушки переменных, которая также называется мультиколлинеарностью, когда одна переменная предсказывает значение других"
   ]
  },
  {
   "cell_type": "code",
   "execution_count": 19,
   "id": "575df741",
   "metadata": {},
   "outputs": [],
   "source": [
    "df = pd.get_dummies(data=df, columns=category, drop_first=True)"
   ]
  },
  {
   "cell_type": "markdown",
   "id": "9d5acc3b",
   "metadata": {},
   "source": [
    "Посмотрим на результат:"
   ]
  },
  {
   "cell_type": "code",
   "execution_count": 20,
   "id": "1f9cbdda",
   "metadata": {
    "scrolled": false
   },
   "outputs": [
    {
     "data": {
      "text/html": [
       "<div>\n",
       "<style scoped>\n",
       "    .dataframe tbody tr th:only-of-type {\n",
       "        vertical-align: middle;\n",
       "    }\n",
       "\n",
       "    .dataframe tbody tr th {\n",
       "        vertical-align: top;\n",
       "    }\n",
       "\n",
       "    .dataframe thead th {\n",
       "        text-align: right;\n",
       "    }\n",
       "</style>\n",
       "<table border=\"1\" class=\"dataframe\">\n",
       "  <thead>\n",
       "    <tr style=\"text-align: right;\">\n",
       "      <th></th>\n",
       "      <th>Geography_Germany</th>\n",
       "      <th>Geography_Spain</th>\n",
       "      <th>Gender</th>\n",
       "    </tr>\n",
       "  </thead>\n",
       "  <tbody>\n",
       "    <tr>\n",
       "      <th>8489</th>\n",
       "      <td>0</td>\n",
       "      <td>0</td>\n",
       "      <td>0</td>\n",
       "    </tr>\n",
       "    <tr>\n",
       "      <th>2447</th>\n",
       "      <td>0</td>\n",
       "      <td>0</td>\n",
       "      <td>1</td>\n",
       "    </tr>\n",
       "    <tr>\n",
       "      <th>1706</th>\n",
       "      <td>0</td>\n",
       "      <td>1</td>\n",
       "      <td>1</td>\n",
       "    </tr>\n",
       "  </tbody>\n",
       "</table>\n",
       "</div>"
      ],
      "text/plain": [
       "      Geography_Germany  Geography_Spain  Gender\n",
       "8489                  0                0       0\n",
       "2447                  0                0       1\n",
       "1706                  0                1       1"
      ]
     },
     "execution_count": 20,
     "metadata": {},
     "output_type": "execute_result"
    }
   ],
   "source": [
    "df[[column for column in df.columns if 'Geography' in column] + ['Gender']].sample(3)"
   ]
  },
  {
   "cell_type": "markdown",
   "id": "ba73d9ea",
   "metadata": {},
   "source": [
    "## Анализ данных"
   ]
  },
  {
   "cell_type": "markdown",
   "id": "3f728058",
   "metadata": {},
   "source": [
    "Напишем функцию `histplot_boxplot` для вывода на экран распределения признака и ящика с усами"
   ]
  },
  {
   "cell_type": "code",
   "execution_count": 21,
   "id": "04662b3c",
   "metadata": {},
   "outputs": [],
   "source": [
    "def histplot_boxplot(column, bins=50, kde=True):\n",
    "    \"\"\"\n",
    "    \n",
    "    column - название колонки для построения распределения\n",
    "    bins - количество корзин (50 по умолчанию)\n",
    "    \n",
    "    \"\"\"\n",
    "    f, (ax_box, ax_hist) = plt.subplots(2, sharex=True, gridspec_kw={\"height_ratios\": (.2, .7)}, figsize=(10, 9))\n",
    "    sns.boxplot(data=df, \n",
    "                x=column, \n",
    "                y='Exited', \n",
    "                orient='h',\n",
    "                order=[1,0],\n",
    "                palette='husl',\n",
    "                ax=ax_box)\n",
    "    sns.histplot(data=df, \n",
    "                 x=column, \n",
    "                 hue='Exited', \n",
    "                 bins=bins, \n",
    "                 kde=kde, \n",
    "                 palette='husl', \n",
    "                 stat='probability', \n",
    "                 hue_order=[1,0],\n",
    "                 ax=ax_hist)\n",
    " \n",
    "    ax_box.set(xlabel='')\n",
    "    ax_box.set(title='Ящик с усами для \"{}\"'.format(column))\n",
    "    ax_hist.set(title='Распределение признака \"{}\" в разрезе целевого признака'.format(column))\n",
    "    plt.show()"
   ]
  },
  {
   "cell_type": "markdown",
   "id": "89730b96",
   "metadata": {},
   "source": [
    "Посмотрим на признак `Balance`"
   ]
  },
  {
   "cell_type": "code",
   "execution_count": 22,
   "id": "e3a635cf",
   "metadata": {
    "scrolled": false
   },
   "outputs": [
    {
     "data": {
      "image/png": "[encoded data removed]",
      "text/plain": [
       "<Figure size 720x648 with 2 Axes>"
      ]
     },
     "metadata": {
      "needs_background": "light"
     },
     "output_type": "display_data"
    }
   ],
   "source": [
    "histplot_boxplot('Balance', 100)"
   ]
  },
  {
   "cell_type": "markdown",
   "id": "996eb990",
   "metadata": {},
   "source": [
    "Не считая пика у нуля, обе гистограммы имеют нормальное распределение, при этом диаграммы размаха показывают, что выбросы для обоих гистограмм отсутствуют. Так как клиенты с нулевым балансом представляют значительную часть выборки, то они должны быть оставлены в датасете, таким образом предобработка данного столбца не требуется"
   ]
  },
  {
   "cell_type": "markdown",
   "id": "857e79d7",
   "metadata": {},
   "source": [
    "## Исследование задачи"
   ]
  },
  {
   "cell_type": "markdown",
   "id": "a68d491b",
   "metadata": {},
   "source": [
    "Подготовим входные признаки `x` и целевой признак `y`:"
   ]
  },
  {
   "cell_type": "code",
   "execution_count": 23,
   "id": "9cb137b1",
   "metadata": {},
   "outputs": [],
   "source": [
    "y = df['Exited']"
   ]
  },
  {
   "cell_type": "code",
   "execution_count": 24,
   "id": "3d9c6084",
   "metadata": {},
   "outputs": [],
   "source": [
    "x = df.drop(columns=['Exited'])"
   ]
  },
  {
   "cell_type": "markdown",
   "id": "4f285ff9",
   "metadata": {},
   "source": [
    "### Баланс классов"
   ]
  },
  {
   "cell_type": "code",
   "execution_count": 25,
   "id": "a4d88930",
   "metadata": {},
   "outputs": [
    {
     "data": {
      "image/png": "[encoded data removed]",
      "text/plain": [
       "<Figure size 432x288 with 1 Axes>"
      ]
     },
     "metadata": {
      "needs_background": "light"
     },
     "output_type": "display_data"
    }
   ],
   "source": [
    "sns.countplot(data = df, x='Exited')\n",
    "plt.title('No Exited (0) vs. Exited (1)')\n",
    "plt.show()"
   ]
  },
  {
   "cell_type": "code",
   "execution_count": 26,
   "id": "15115fa5",
   "metadata": {
    "scrolled": true
   },
   "outputs": [
    {
     "data": {
      "text/plain": [
       "0    79.61%\n",
       "1    20.39%\n",
       "Name: Exited, dtype: object"
      ]
     },
     "execution_count": 26,
     "metadata": {},
     "output_type": "execute_result"
    }
   ],
   "source": [
    "y.value_counts(normalize=True).map('{:.2%}'.format)"
   ]
  },
  {
   "cell_type": "markdown",
   "id": "ff5e5b41",
   "metadata": {},
   "source": [
    "Классы неслабансированы: соотношение 4 к 1\n",
    "\n",
    "Если создать константную модель, которая всегда предсказывает 0 (ни один клиент не уйдет), то ее `accuracy` будет равно  0.8. Видим, что значение достаточно высоко и модель нужно строить с учетом дисбаланса классов. Изначально построим модели без учета дисбаланса классов"
   ]
  },
  {
   "cell_type": "markdown",
   "id": "44fa9f78",
   "metadata": {},
   "source": [
    "### Разделение данных"
   ]
  },
  {
   "cell_type": "markdown",
   "id": "98db96f5",
   "metadata": {},
   "source": [
    "Зафиксируем параметр псевдослучайности для наших моделей и выборок:"
   ]
  },
  {
   "cell_type": "code",
   "execution_count": 27,
   "id": "8425ec25",
   "metadata": {},
   "outputs": [],
   "source": [
    "rnd_st = 12345"
   ]
  },
  {
   "cell_type": "markdown",
   "id": "e80c51eb",
   "metadata": {},
   "source": [
    "Разделим исходные данные на обучающую `train` и тестовую выборки `test` в пропорциях 4:1"
   ]
  },
  {
   "cell_type": "code",
   "execution_count": 28,
   "id": "515d21eb",
   "metadata": {},
   "outputs": [],
   "source": [
    "x_train, x_test, y_train, y_test = train_test_split(x, y, test_size=0.2, random_state=rnd_st, stratify=y)"
   ]
  },
  {
   "cell_type": "code",
   "execution_count": 29,
   "id": "788200b4",
   "metadata": {},
   "outputs": [
    {
     "name": "stdout",
     "output_type": "stream",
     "text": [
      "0    79.61%\n",
      "1    20.39%\n",
      "Name: Exited, dtype: object\n",
      "0    79.60%\n",
      "1    20.40%\n",
      "Name: Exited, dtype: object\n",
      "(7272,)\n",
      "(1819,)\n"
     ]
    }
   ],
   "source": [
    "print(y_train.value_counts(normalize=True).map('{:.2%}'.format))\n",
    "print(y_test.value_counts(normalize=True).map('{:.2%}'.format))\n",
    "print(y_train.shape)\n",
    "print(y_test.shape)"
   ]
  },
  {
   "cell_type": "markdown",
   "id": "2a5302d9",
   "metadata": {},
   "source": [
    "### Масштабирование признаков"
   ]
  },
  {
   "cell_type": "markdown",
   "id": "7c774780",
   "metadata": {},
   "source": [
    "Определим список признаков `numeric` для масштабирования (бинарные признаки не масштабируем):"
   ]
  },
  {
   "cell_type": "code",
   "execution_count": 30,
   "id": "c6b87d03",
   "metadata": {},
   "outputs": [
    {
     "data": {
      "text/html": [
       "<div>\n",
       "<style scoped>\n",
       "    .dataframe tbody tr th:only-of-type {\n",
       "        vertical-align: middle;\n",
       "    }\n",
       "\n",
       "    .dataframe tbody tr th {\n",
       "        vertical-align: top;\n",
       "    }\n",
       "\n",
       "    .dataframe thead th {\n",
       "        text-align: right;\n",
       "    }\n",
       "</style>\n",
       "<table border=\"1\" class=\"dataframe\">\n",
       "  <thead>\n",
       "    <tr style=\"text-align: right;\">\n",
       "      <th></th>\n",
       "      <th>count</th>\n",
       "      <th>mean</th>\n",
       "      <th>std</th>\n",
       "    </tr>\n",
       "  </thead>\n",
       "  <tbody>\n",
       "    <tr>\n",
       "      <th>CreditScore</th>\n",
       "      <td>7,272.0000</td>\n",
       "      <td>650.8501</td>\n",
       "      <td>96.2803</td>\n",
       "    </tr>\n",
       "    <tr>\n",
       "      <th>Gender</th>\n",
       "      <td>7,272.0000</td>\n",
       "      <td>0.5435</td>\n",
       "      <td>0.4981</td>\n",
       "    </tr>\n",
       "    <tr>\n",
       "      <th>Age</th>\n",
       "      <td>7,272.0000</td>\n",
       "      <td>38.9524</td>\n",
       "      <td>10.5897</td>\n",
       "    </tr>\n",
       "    <tr>\n",
       "      <th>Tenure</th>\n",
       "      <td>7,272.0000</td>\n",
       "      <td>4.9986</td>\n",
       "      <td>2.9024</td>\n",
       "    </tr>\n",
       "    <tr>\n",
       "      <th>Balance</th>\n",
       "      <td>7,272.0000</td>\n",
       "      <td>76,200.7962</td>\n",
       "      <td>62,345.2988</td>\n",
       "    </tr>\n",
       "    <tr>\n",
       "      <th>NumOfProducts</th>\n",
       "      <td>7,272.0000</td>\n",
       "      <td>1.5336</td>\n",
       "      <td>0.5847</td>\n",
       "    </tr>\n",
       "    <tr>\n",
       "      <th>HasCrCard</th>\n",
       "      <td>7,272.0000</td>\n",
       "      <td>0.7050</td>\n",
       "      <td>0.4561</td>\n",
       "    </tr>\n",
       "    <tr>\n",
       "      <th>IsActiveMember</th>\n",
       "      <td>7,272.0000</td>\n",
       "      <td>0.5188</td>\n",
       "      <td>0.4997</td>\n",
       "    </tr>\n",
       "    <tr>\n",
       "      <th>EstimatedSalary</th>\n",
       "      <td>7,272.0000</td>\n",
       "      <td>99,597.2045</td>\n",
       "      <td>57,501.9232</td>\n",
       "    </tr>\n",
       "    <tr>\n",
       "      <th>Geography_Germany</th>\n",
       "      <td>7,272.0000</td>\n",
       "      <td>0.2499</td>\n",
       "      <td>0.4330</td>\n",
       "    </tr>\n",
       "    <tr>\n",
       "      <th>Geography_Spain</th>\n",
       "      <td>7,272.0000</td>\n",
       "      <td>0.2494</td>\n",
       "      <td>0.4327</td>\n",
       "    </tr>\n",
       "  </tbody>\n",
       "</table>\n",
       "</div>"
      ],
      "text/plain": [
       "                       count        mean         std\n",
       "CreditScore       7,272.0000    650.8501     96.2803\n",
       "Gender            7,272.0000      0.5435      0.4981\n",
       "Age               7,272.0000     38.9524     10.5897\n",
       "Tenure            7,272.0000      4.9986      2.9024\n",
       "Balance           7,272.0000 76,200.7962 62,345.2988\n",
       "NumOfProducts     7,272.0000      1.5336      0.5847\n",
       "HasCrCard         7,272.0000      0.7050      0.4561\n",
       "IsActiveMember    7,272.0000      0.5188      0.4997\n",
       "EstimatedSalary   7,272.0000 99,597.2045 57,501.9232\n",
       "Geography_Germany 7,272.0000      0.2499      0.4330\n",
       "Geography_Spain   7,272.0000      0.2494      0.4327"
      ]
     },
     "metadata": {},
     "output_type": "display_data"
    },
    {
     "data": {
      "text/html": [
       "<div>\n",
       "<style scoped>\n",
       "    .dataframe tbody tr th:only-of-type {\n",
       "        vertical-align: middle;\n",
       "    }\n",
       "\n",
       "    .dataframe tbody tr th {\n",
       "        vertical-align: top;\n",
       "    }\n",
       "\n",
       "    .dataframe thead th {\n",
       "        text-align: right;\n",
       "    }\n",
       "</style>\n",
       "<table border=\"1\" class=\"dataframe\">\n",
       "  <thead>\n",
       "    <tr style=\"text-align: right;\">\n",
       "      <th></th>\n",
       "      <th>count</th>\n",
       "      <th>mean</th>\n",
       "      <th>std</th>\n",
       "    </tr>\n",
       "  </thead>\n",
       "  <tbody>\n",
       "    <tr>\n",
       "      <th>CreditScore</th>\n",
       "      <td>1,819.0000</td>\n",
       "      <td>650.2826</td>\n",
       "      <td>96.9545</td>\n",
       "    </tr>\n",
       "    <tr>\n",
       "      <th>Gender</th>\n",
       "      <td>1,819.0000</td>\n",
       "      <td>0.5618</td>\n",
       "      <td>0.4963</td>\n",
       "    </tr>\n",
       "    <tr>\n",
       "      <th>Age</th>\n",
       "      <td>1,819.0000</td>\n",
       "      <td>38.9362</td>\n",
       "      <td>10.4210</td>\n",
       "    </tr>\n",
       "    <tr>\n",
       "      <th>Tenure</th>\n",
       "      <td>1,819.0000</td>\n",
       "      <td>4.9940</td>\n",
       "      <td>2.8647</td>\n",
       "    </tr>\n",
       "    <tr>\n",
       "      <th>Balance</th>\n",
       "      <td>1,819.0000</td>\n",
       "      <td>77,809.8072</td>\n",
       "      <td>62,266.9378</td>\n",
       "    </tr>\n",
       "    <tr>\n",
       "      <th>NumOfProducts</th>\n",
       "      <td>1,819.0000</td>\n",
       "      <td>1.5168</td>\n",
       "      <td>0.5659</td>\n",
       "    </tr>\n",
       "    <tr>\n",
       "      <th>HasCrCard</th>\n",
       "      <td>1,819.0000</td>\n",
       "      <td>0.7048</td>\n",
       "      <td>0.4563</td>\n",
       "    </tr>\n",
       "    <tr>\n",
       "      <th>IsActiveMember</th>\n",
       "      <td>1,819.0000</td>\n",
       "      <td>0.5025</td>\n",
       "      <td>0.5001</td>\n",
       "    </tr>\n",
       "    <tr>\n",
       "      <th>EstimatedSalary</th>\n",
       "      <td>1,819.0000</td>\n",
       "      <td>102,515.9726</td>\n",
       "      <td>58,070.4574</td>\n",
       "    </tr>\n",
       "    <tr>\n",
       "      <th>Geography_Germany</th>\n",
       "      <td>1,819.0000</td>\n",
       "      <td>0.2617</td>\n",
       "      <td>0.4397</td>\n",
       "    </tr>\n",
       "    <tr>\n",
       "      <th>Geography_Spain</th>\n",
       "      <td>1,819.0000</td>\n",
       "      <td>0.2386</td>\n",
       "      <td>0.4263</td>\n",
       "    </tr>\n",
       "  </tbody>\n",
       "</table>\n",
       "</div>"
      ],
      "text/plain": [
       "                       count         mean         std\n",
       "CreditScore       1,819.0000     650.2826     96.9545\n",
       "Gender            1,819.0000       0.5618      0.4963\n",
       "Age               1,819.0000      38.9362     10.4210\n",
       "Tenure            1,819.0000       4.9940      2.8647\n",
       "Balance           1,819.0000  77,809.8072 62,266.9378\n",
       "NumOfProducts     1,819.0000       1.5168      0.5659\n",
       "HasCrCard         1,819.0000       0.7048      0.4563\n",
       "IsActiveMember    1,819.0000       0.5025      0.5001\n",
       "EstimatedSalary   1,819.0000 102,515.9726 58,070.4574\n",
       "Geography_Germany 1,819.0000       0.2617      0.4397\n",
       "Geography_Spain   1,819.0000       0.2386      0.4263"
      ]
     },
     "metadata": {},
     "output_type": "display_data"
    }
   ],
   "source": [
    "numeric = ['CreditScore', 'Age', 'Tenure', 'Balance', 'NumOfProducts', 'EstimatedSalary']\n",
    "display(x_train.describe().iloc[:3, :].T)\n",
    "display(x_test.describe().iloc[:3, :].T)"
   ]
  },
  {
   "cell_type": "markdown",
   "id": "e78c13e9",
   "metadata": {},
   "source": [
    "Приведём признаки к одному масштабу с помощью стандартизации данных (z-преобразование)\n",
    "\n",
    "Настроим `scaler` на обучающей выборке:"
   ]
  },
  {
   "cell_type": "code",
   "execution_count": 31,
   "id": "a6015546",
   "metadata": {},
   "outputs": [
    {
     "data": {
      "text/html": [
       "<style>#sk-container-id-1 {color: black;background-color: white;}#sk-container-id-1 pre{padding: 0;}#sk-container-id-1 div.sk-toggleable {background-color: white;}#sk-container-id-1 label.sk-toggleable__label {cursor: pointer;display: block;width: 100%;margin-bottom: 0;padding: 0.3em;box-sizing: border-box;text-align: center;}#sk-container-id-1 label.sk-toggleable__label-arrow:before {content: \"▸\";float: left;margin-right: 0.25em;color: #696969;}#sk-container-id-1 label.sk-toggleable__label-arrow:hover:before {color: black;}#sk-container-id-1 div.sk-estimator:hover label.sk-toggleable__label-arrow:before {color: black;}#sk-container-id-1 div.sk-toggleable__content {max-height: 0;max-width: 0;overflow: hidden;text-align: left;background-color: #f0f8ff;}#sk-container-id-1 div.sk-toggleable__content pre {margin: 0.2em;color: black;border-radius: 0.25em;background-color: #f0f8ff;}#sk-container-id-1 input.sk-toggleable__control:checked~div.sk-toggleable__content {max-height: 200px;max-width: 100%;overflow: auto;}#sk-container-id-1 input.sk-toggleable__control:checked~label.sk-toggleable__label-arrow:before {content: \"▾\";}#sk-container-id-1 div.sk-estimator input.sk-toggleable__control:checked~label.sk-toggleable__label {background-color: #d4ebff;}#sk-container-id-1 div.sk-label input.sk-toggleable__control:checked~label.sk-toggleable__label {background-color: #d4ebff;}#sk-container-id-1 input.sk-hidden--visually {border: 0;clip: rect(1px 1px 1px 1px);clip: rect(1px, 1px, 1px, 1px);height: 1px;margin: -1px;overflow: hidden;padding: 0;position: absolute;width: 1px;}#sk-container-id-1 div.sk-estimator {font-family: monospace;background-color: #f0f8ff;border: 1px dotted black;border-radius: 0.25em;box-sizing: border-box;margin-bottom: 0.5em;}#sk-container-id-1 div.sk-estimator:hover {background-color: #d4ebff;}#sk-container-id-1 div.sk-parallel-item::after {content: \"\";width: 100%;border-bottom: 1px solid gray;flex-grow: 1;}#sk-container-id-1 div.sk-label:hover label.sk-toggleable__label {background-color: #d4ebff;}#sk-container-id-1 div.sk-serial::before {content: \"\";position: absolute;border-left: 1px solid gray;box-sizing: border-box;top: 0;bottom: 0;left: 50%;z-index: 0;}#sk-container-id-1 div.sk-serial {display: flex;flex-direction: column;align-items: center;background-color: white;padding-right: 0.2em;padding-left: 0.2em;position: relative;}#sk-container-id-1 div.sk-item {position: relative;z-index: 1;}#sk-container-id-1 div.sk-parallel {display: flex;align-items: stretch;justify-content: center;background-color: white;position: relative;}#sk-container-id-1 div.sk-item::before, #sk-container-id-1 div.sk-parallel-item::before {content: \"\";position: absolute;border-left: 1px solid gray;box-sizing: border-box;top: 0;bottom: 0;left: 50%;z-index: -1;}#sk-container-id-1 div.sk-parallel-item {display: flex;flex-direction: column;z-index: 1;position: relative;background-color: white;}#sk-container-id-1 div.sk-parallel-item:first-child::after {align-self: flex-end;width: 50%;}#sk-container-id-1 div.sk-parallel-item:last-child::after {align-self: flex-start;width: 50%;}#sk-container-id-1 div.sk-parallel-item:only-child::after {width: 0;}#sk-container-id-1 div.sk-dashed-wrapped {border: 1px dashed gray;margin: 0 0.4em 0.5em 0.4em;box-sizing: border-box;padding-bottom: 0.4em;background-color: white;}#sk-container-id-1 div.sk-label label {font-family: monospace;font-weight: bold;display: inline-block;line-height: 1.2em;}#sk-container-id-1 div.sk-label-container {text-align: center;}#sk-container-id-1 div.sk-container {/* jupyter's `normalize.less` sets `[hidden] { display: none; }` but bootstrap.min.css set `[hidden] { display: none !important; }` so we also need the `!important` here to be able to override the default hidden behavior on the sphinx rendered scikit-learn.org. See: https://github.com/scikit-learn/scikit-learn/issues/21755 */display: inline-block !important;position: relative;}#sk-container-id-1 div.sk-text-repr-fallback {display: none;}</style><div id=\"sk-container-id-1\" class=\"sk-top-container\"><div class=\"sk-text-repr-fallback\"><pre>StandardScaler()</pre><b>In a Jupyter environment, please rerun this cell to show the HTML representation or trust the notebook. <br />On GitHub, the HTML representation is unable to render, please try loading this page with nbviewer.org.</b></div><div class=\"sk-container\" hidden><div class=\"sk-item\"><div class=\"sk-estimator sk-toggleable\"><input class=\"sk-toggleable__control sk-hidden--visually\" id=\"sk-estimator-id-1\" type=\"checkbox\" checked><label for=\"sk-estimator-id-1\" class=\"sk-toggleable__label sk-toggleable__label-arrow\">StandardScaler</label><div class=\"sk-toggleable__content\"><pre>StandardScaler()</pre></div></div></div></div></div>"
      ],
      "text/plain": [
       "StandardScaler()"
      ]
     },
     "execution_count": 31,
     "metadata": {},
     "output_type": "execute_result"
    }
   ],
   "source": [
    "scaler = StandardScaler()\n",
    "scaler.fit(x_train[numeric])"
   ]
  },
  {
   "cell_type": "markdown",
   "id": "45c9a4ba",
   "metadata": {},
   "source": [
    "Преобразуем выборки методом `transform`:"
   ]
  },
  {
   "cell_type": "code",
   "execution_count": 32,
   "id": "b5524612",
   "metadata": {},
   "outputs": [],
   "source": [
    "x_train[numeric] = scaler.transform(x_train[numeric])\n",
    "x_test[numeric] = scaler.transform(x_test[numeric])"
   ]
  },
  {
   "cell_type": "markdown",
   "id": "8f84274e",
   "metadata": {},
   "source": [
    "Посмотрим на выборки после масштабирования:"
   ]
  },
  {
   "cell_type": "code",
   "execution_count": 33,
   "id": "6ec9b6fd",
   "metadata": {
    "scrolled": false
   },
   "outputs": [
    {
     "data": {
      "text/html": [
       "<div>\n",
       "<style scoped>\n",
       "    .dataframe tbody tr th:only-of-type {\n",
       "        vertical-align: middle;\n",
       "    }\n",
       "\n",
       "    .dataframe tbody tr th {\n",
       "        vertical-align: top;\n",
       "    }\n",
       "\n",
       "    .dataframe thead th {\n",
       "        text-align: right;\n",
       "    }\n",
       "</style>\n",
       "<table border=\"1\" class=\"dataframe\">\n",
       "  <thead>\n",
       "    <tr style=\"text-align: right;\">\n",
       "      <th></th>\n",
       "      <th>count</th>\n",
       "      <th>mean</th>\n",
       "      <th>std</th>\n",
       "    </tr>\n",
       "  </thead>\n",
       "  <tbody>\n",
       "    <tr>\n",
       "      <th>CreditScore</th>\n",
       "      <td>7,272.0000</td>\n",
       "      <td>-0.0000</td>\n",
       "      <td>1.0001</td>\n",
       "    </tr>\n",
       "    <tr>\n",
       "      <th>Gender</th>\n",
       "      <td>7,272.0000</td>\n",
       "      <td>0.5435</td>\n",
       "      <td>0.4981</td>\n",
       "    </tr>\n",
       "    <tr>\n",
       "      <th>Age</th>\n",
       "      <td>7,272.0000</td>\n",
       "      <td>-0.0000</td>\n",
       "      <td>1.0001</td>\n",
       "    </tr>\n",
       "    <tr>\n",
       "      <th>Tenure</th>\n",
       "      <td>7,272.0000</td>\n",
       "      <td>-0.0000</td>\n",
       "      <td>1.0001</td>\n",
       "    </tr>\n",
       "    <tr>\n",
       "      <th>Balance</th>\n",
       "      <td>7,272.0000</td>\n",
       "      <td>0.0000</td>\n",
       "      <td>1.0001</td>\n",
       "    </tr>\n",
       "    <tr>\n",
       "      <th>NumOfProducts</th>\n",
       "      <td>7,272.0000</td>\n",
       "      <td>-0.0000</td>\n",
       "      <td>1.0001</td>\n",
       "    </tr>\n",
       "    <tr>\n",
       "      <th>HasCrCard</th>\n",
       "      <td>7,272.0000</td>\n",
       "      <td>0.7050</td>\n",
       "      <td>0.4561</td>\n",
       "    </tr>\n",
       "    <tr>\n",
       "      <th>IsActiveMember</th>\n",
       "      <td>7,272.0000</td>\n",
       "      <td>0.5188</td>\n",
       "      <td>0.4997</td>\n",
       "    </tr>\n",
       "    <tr>\n",
       "      <th>EstimatedSalary</th>\n",
       "      <td>7,272.0000</td>\n",
       "      <td>0.0000</td>\n",
       "      <td>1.0001</td>\n",
       "    </tr>\n",
       "    <tr>\n",
       "      <th>Geography_Germany</th>\n",
       "      <td>7,272.0000</td>\n",
       "      <td>0.2499</td>\n",
       "      <td>0.4330</td>\n",
       "    </tr>\n",
       "    <tr>\n",
       "      <th>Geography_Spain</th>\n",
       "      <td>7,272.0000</td>\n",
       "      <td>0.2494</td>\n",
       "      <td>0.4327</td>\n",
       "    </tr>\n",
       "  </tbody>\n",
       "</table>\n",
       "</div>"
      ],
      "text/plain": [
       "                       count    mean    std\n",
       "CreditScore       7,272.0000 -0.0000 1.0001\n",
       "Gender            7,272.0000  0.5435 0.4981\n",
       "Age               7,272.0000 -0.0000 1.0001\n",
       "Tenure            7,272.0000 -0.0000 1.0001\n",
       "Balance           7,272.0000  0.0000 1.0001\n",
       "NumOfProducts     7,272.0000 -0.0000 1.0001\n",
       "HasCrCard         7,272.0000  0.7050 0.4561\n",
       "IsActiveMember    7,272.0000  0.5188 0.4997\n",
       "EstimatedSalary   7,272.0000  0.0000 1.0001\n",
       "Geography_Germany 7,272.0000  0.2499 0.4330\n",
       "Geography_Spain   7,272.0000  0.2494 0.4327"
      ]
     },
     "metadata": {},
     "output_type": "display_data"
    },
    {
     "data": {
      "text/html": [
       "<div>\n",
       "<style scoped>\n",
       "    .dataframe tbody tr th:only-of-type {\n",
       "        vertical-align: middle;\n",
       "    }\n",
       "\n",
       "    .dataframe tbody tr th {\n",
       "        vertical-align: top;\n",
       "    }\n",
       "\n",
       "    .dataframe thead th {\n",
       "        text-align: right;\n",
       "    }\n",
       "</style>\n",
       "<table border=\"1\" class=\"dataframe\">\n",
       "  <thead>\n",
       "    <tr style=\"text-align: right;\">\n",
       "      <th></th>\n",
       "      <th>count</th>\n",
       "      <th>mean</th>\n",
       "      <th>std</th>\n",
       "    </tr>\n",
       "  </thead>\n",
       "  <tbody>\n",
       "    <tr>\n",
       "      <th>CreditScore</th>\n",
       "      <td>1,819.0000</td>\n",
       "      <td>-0.0059</td>\n",
       "      <td>1.0071</td>\n",
       "    </tr>\n",
       "    <tr>\n",
       "      <th>Gender</th>\n",
       "      <td>1,819.0000</td>\n",
       "      <td>0.5618</td>\n",
       "      <td>0.4963</td>\n",
       "    </tr>\n",
       "    <tr>\n",
       "      <th>Age</th>\n",
       "      <td>1,819.0000</td>\n",
       "      <td>-0.0015</td>\n",
       "      <td>0.9841</td>\n",
       "    </tr>\n",
       "    <tr>\n",
       "      <th>Tenure</th>\n",
       "      <td>1,819.0000</td>\n",
       "      <td>-0.0016</td>\n",
       "      <td>0.9871</td>\n",
       "    </tr>\n",
       "    <tr>\n",
       "      <th>Balance</th>\n",
       "      <td>1,819.0000</td>\n",
       "      <td>0.0258</td>\n",
       "      <td>0.9988</td>\n",
       "    </tr>\n",
       "    <tr>\n",
       "      <th>NumOfProducts</th>\n",
       "      <td>1,819.0000</td>\n",
       "      <td>-0.0287</td>\n",
       "      <td>0.9679</td>\n",
       "    </tr>\n",
       "    <tr>\n",
       "      <th>HasCrCard</th>\n",
       "      <td>1,819.0000</td>\n",
       "      <td>0.7048</td>\n",
       "      <td>0.4563</td>\n",
       "    </tr>\n",
       "    <tr>\n",
       "      <th>IsActiveMember</th>\n",
       "      <td>1,819.0000</td>\n",
       "      <td>0.5025</td>\n",
       "      <td>0.5001</td>\n",
       "    </tr>\n",
       "    <tr>\n",
       "      <th>EstimatedSalary</th>\n",
       "      <td>1,819.0000</td>\n",
       "      <td>0.0508</td>\n",
       "      <td>1.0100</td>\n",
       "    </tr>\n",
       "    <tr>\n",
       "      <th>Geography_Germany</th>\n",
       "      <td>1,819.0000</td>\n",
       "      <td>0.2617</td>\n",
       "      <td>0.4397</td>\n",
       "    </tr>\n",
       "    <tr>\n",
       "      <th>Geography_Spain</th>\n",
       "      <td>1,819.0000</td>\n",
       "      <td>0.2386</td>\n",
       "      <td>0.4263</td>\n",
       "    </tr>\n",
       "  </tbody>\n",
       "</table>\n",
       "</div>"
      ],
      "text/plain": [
       "                       count    mean    std\n",
       "CreditScore       1,819.0000 -0.0059 1.0071\n",
       "Gender            1,819.0000  0.5618 0.4963\n",
       "Age               1,819.0000 -0.0015 0.9841\n",
       "Tenure            1,819.0000 -0.0016 0.9871\n",
       "Balance           1,819.0000  0.0258 0.9988\n",
       "NumOfProducts     1,819.0000 -0.0287 0.9679\n",
       "HasCrCard         1,819.0000  0.7048 0.4563\n",
       "IsActiveMember    1,819.0000  0.5025 0.5001\n",
       "EstimatedSalary   1,819.0000  0.0508 1.0100\n",
       "Geography_Germany 1,819.0000  0.2617 0.4397\n",
       "Geography_Spain   1,819.0000  0.2386 0.4263"
      ]
     },
     "metadata": {},
     "output_type": "display_data"
    }
   ],
   "source": [
    "display(x_train.describe().iloc[:3, :].T)\n",
    "display(x_test.describe().iloc[:3, :].T)"
   ]
  },
  {
   "cell_type": "markdown",
   "id": "06e0c5aa",
   "metadata": {},
   "source": [
    "### Обучение базовой модели RandomForestClassifier"
   ]
  },
  {
   "cell_type": "markdown",
   "id": "9b607a38",
   "metadata": {},
   "source": [
    "Cоздадим модель №1 алгоритм `RandomForest` с использованием значений гиперпараметров, задаваемых по умолчанию:\n",
    "- инициализируем модель\n",
    "- обучаем её на масштабированной обучающей выборке\n",
    "- f1 модели измеряем на тестовой выборке"
   ]
  },
  {
   "cell_type": "markdown",
   "id": "6a90fd18",
   "metadata": {},
   "source": [
    "Но для начала разделим обучающую выборку на `обучающую`(`train_research`) и `валидационную`(`valid_research`): полученные выборки будем использовать только в оценке качества моделей: для подбора гиперпараметров используется поиск по решетке на обучающей выборке `train`"
   ]
  },
  {
   "cell_type": "code",
   "execution_count": 34,
   "id": "c0397c38",
   "metadata": {},
   "outputs": [],
   "source": [
    "x_train_research, x_valid_research, y_train_research, y_valid_research = train_test_split(x_train, \n",
    "                                                                                          y_train, \n",
    "                                                                                          test_size=0.25,\n",
    "                                                                                          stratify=y_train,\n",
    "                                                                                          random_state=rnd_st)"
   ]
  },
  {
   "cell_type": "code",
   "execution_count": 35,
   "id": "55453040",
   "metadata": {},
   "outputs": [
    {
     "name": "stdout",
     "output_type": "stream",
     "text": [
      "(5454, 11) (1818, 11) (1819, 11)\n",
      "(5454,) (1818,) (1819,)\n"
     ]
    }
   ],
   "source": [
    "print(x_train_research.shape, x_valid_research.shape, x_test.shape)\n",
    "print(y_train_research.shape, y_valid_research.shape, y_test.shape)"
   ]
  },
  {
   "cell_type": "code",
   "execution_count": 36,
   "id": "59249954",
   "metadata": {
    "scrolled": false
   },
   "outputs": [
    {
     "name": "stdout",
     "output_type": "stream",
     "text": [
      "RandomForest базовая модель f1 = 0.5611\n"
     ]
    }
   ],
   "source": [
    "base_model_rfc = RandomForestClassifier(random_state=rnd_st)\n",
    "base_model_rfc.fit(x_train_research, y_train_research)\n",
    "y_pred_research = base_model_rfc.predict(x_valid_research)\n",
    "f1 = f1_score(y_valid_research, y_pred_research)\n",
    "print('RandomForest базовая модель f1 =','{:.4f}'.format(f1))"
   ]
  },
  {
   "cell_type": "markdown",
   "id": "b8337a36",
   "metadata": {},
   "source": [
    "#### Важность признаков"
   ]
  },
  {
   "cell_type": "markdown",
   "id": "ac7d3c83",
   "metadata": {},
   "source": [
    "Посмотрим какие признаки являются самыми важными для RF-модели в деле предсказания\n",
    "\n",
    "Визуализируем и квантифицируем показатели важности признаков, обратившись к атрибуту `feature_importances_`:"
   ]
  },
  {
   "cell_type": "code",
   "execution_count": 37,
   "id": "f340e258",
   "metadata": {
    "scrolled": false
   },
   "outputs": [
    {
     "data": {
      "image/png": "[encoded data removed]",
      "text/plain": [
       "<Figure size 432x288 with 1 Axes>"
      ]
     },
     "metadata": {},
     "output_type": "display_data"
    },
    {
     "data": {
      "text/html": [
       "<div>\n",
       "<style scoped>\n",
       "    .dataframe tbody tr th:only-of-type {\n",
       "        vertical-align: middle;\n",
       "    }\n",
       "\n",
       "    .dataframe tbody tr th {\n",
       "        vertical-align: top;\n",
       "    }\n",
       "\n",
       "    .dataframe thead th {\n",
       "        text-align: right;\n",
       "    }\n",
       "</style>\n",
       "<table border=\"1\" class=\"dataframe\">\n",
       "  <thead>\n",
       "    <tr style=\"text-align: right;\">\n",
       "      <th></th>\n",
       "      <th>Features</th>\n",
       "      <th>Gini-Importance</th>\n",
       "    </tr>\n",
       "  </thead>\n",
       "  <tbody>\n",
       "    <tr>\n",
       "      <th>0</th>\n",
       "      <td>Age</td>\n",
       "      <td>23.2198</td>\n",
       "    </tr>\n",
       "    <tr>\n",
       "      <th>1</th>\n",
       "      <td>EstimatedSalary</td>\n",
       "      <td>14.8380</td>\n",
       "    </tr>\n",
       "    <tr>\n",
       "      <th>2</th>\n",
       "      <td>CreditScore</td>\n",
       "      <td>14.4479</td>\n",
       "    </tr>\n",
       "    <tr>\n",
       "      <th>3</th>\n",
       "      <td>Balance</td>\n",
       "      <td>14.2621</td>\n",
       "    </tr>\n",
       "    <tr>\n",
       "      <th>4</th>\n",
       "      <td>NumOfProducts</td>\n",
       "      <td>12.8519</td>\n",
       "    </tr>\n",
       "    <tr>\n",
       "      <th>5</th>\n",
       "      <td>Tenure</td>\n",
       "      <td>8.2063</td>\n",
       "    </tr>\n",
       "    <tr>\n",
       "      <th>6</th>\n",
       "      <td>IsActiveMember</td>\n",
       "      <td>4.2066</td>\n",
       "    </tr>\n",
       "    <tr>\n",
       "      <th>7</th>\n",
       "      <td>Geography_Germany</td>\n",
       "      <td>2.5346</td>\n",
       "    </tr>\n",
       "    <tr>\n",
       "      <th>8</th>\n",
       "      <td>Gender</td>\n",
       "      <td>2.0735</td>\n",
       "    </tr>\n",
       "    <tr>\n",
       "      <th>9</th>\n",
       "      <td>HasCrCard</td>\n",
       "      <td>1.9493</td>\n",
       "    </tr>\n",
       "    <tr>\n",
       "      <th>10</th>\n",
       "      <td>Geography_Spain</td>\n",
       "      <td>1.4100</td>\n",
       "    </tr>\n",
       "  </tbody>\n",
       "</table>\n",
       "</div>"
      ],
      "text/plain": [
       "             Features  Gini-Importance\n",
       "0                 Age          23.2198\n",
       "1     EstimatedSalary          14.8380\n",
       "2         CreditScore          14.4479\n",
       "3             Balance          14.2621\n",
       "4       NumOfProducts          12.8519\n",
       "5              Tenure           8.2063\n",
       "6      IsActiveMember           4.2066\n",
       "7   Geography_Germany           2.5346\n",
       "8              Gender           2.0735\n",
       "9           HasCrCard           1.9493\n",
       "10    Geography_Spain           1.4100"
      ]
     },
     "metadata": {},
     "output_type": "display_data"
    }
   ],
   "source": [
    "feats = {}\n",
    "for feature, importance in zip(x_train.columns, 100*base_model_rfc.feature_importances_):\n",
    "    feats[feature] = importance\n",
    "importances = pd.DataFrame.from_dict(feats, orient='index').rename(columns={0: 'Gini-Importance'})\n",
    "importances = importances.sort_values(by='Gini-Importance', ascending=False)\n",
    "importances = importances.reset_index()\n",
    "importances = importances.rename(columns={'index': 'Features'})\n",
    "sns.set(style=\"whitegrid\", color_codes=True, font_scale = 1.2)\n",
    "fig, ax = plt.subplots(figsize=(6,4))\n",
    "sns.barplot(x=importances['Gini-Importance'], y=importances['Features'], data=importances, color='gold')\n",
    "plt.xlabel('Важность, %', fontsize=13)\n",
    "plt.ylabel('Признаки', fontsize=13)\n",
    "plt.title('\"Важность\" признаков для RandomForestClassifier', fontsize=14)\n",
    "plt.show()\n",
    "display(importances)"
   ]
  },
  {
   "cell_type": "markdown",
   "id": "45733ea5",
   "metadata": {},
   "source": [
    "#### Главные компоненты"
   ]
  },
  {
   "cell_type": "markdown",
   "id": "9c3b9bd7",
   "metadata": {},
   "source": [
    "Зададимся вопросом о том, как можно улучшить базовую RF-модель. \n",
    "\n",
    "С использованием методики снижения размерности пространства признаков `PCA` можно представить исходный набор данных через меньшее количество переменных и при этом снизить объём вычислительных ресурсов, необходимых для обеспечения работы модели. Используя `PCA`, можно изучить кумулятивную выборочную дисперсию этих признаков для того чтобы понять то, какие признаки объясняют большую часть дисперсии в данных.\n",
    "\n",
    "Инициализируем объект `pca`, указывая количество компонент (признаков), которые нужно рассмотреть. Мы устанавливаем этот показатель в `11` для того чтобы увидеть объяснённую дисперсию всех сгенерированных компонент до того, как примем решение о том, сколько компонент нам понадобится. Затем передаём в `pca` масштабированные данные `x_train`, пользуясь методом `fit()`. После этого визуализируем данные"
   ]
  },
  {
   "cell_type": "code",
   "execution_count": 38,
   "id": "c7c3e2cc",
   "metadata": {
    "scrolled": false
   },
   "outputs": [
    {
     "data": {
      "text/html": [
       "<div>\n",
       "<style scoped>\n",
       "    .dataframe tbody tr th:only-of-type {\n",
       "        vertical-align: middle;\n",
       "    }\n",
       "\n",
       "    .dataframe tbody tr th {\n",
       "        vertical-align: top;\n",
       "    }\n",
       "\n",
       "    .dataframe thead th {\n",
       "        text-align: right;\n",
       "    }\n",
       "</style>\n",
       "<table border=\"1\" class=\"dataframe\">\n",
       "  <thead>\n",
       "    <tr style=\"text-align: right;\">\n",
       "      <th></th>\n",
       "      <th>Cumulative Variance Ratio</th>\n",
       "      <th>Explained Variance Ratio</th>\n",
       "    </tr>\n",
       "  </thead>\n",
       "  <tbody>\n",
       "    <tr>\n",
       "      <th>0</th>\n",
       "      <td>0.1857</td>\n",
       "      <td>0.1857</td>\n",
       "    </tr>\n",
       "    <tr>\n",
       "      <th>1</th>\n",
       "      <td>0.3301</td>\n",
       "      <td>0.1444</td>\n",
       "    </tr>\n",
       "    <tr>\n",
       "      <th>2</th>\n",
       "      <td>0.4716</td>\n",
       "      <td>0.1415</td>\n",
       "    </tr>\n",
       "    <tr>\n",
       "      <th>3</th>\n",
       "      <td>0.6113</td>\n",
       "      <td>0.1397</td>\n",
       "    </tr>\n",
       "    <tr>\n",
       "      <th>4</th>\n",
       "      <td>0.7506</td>\n",
       "      <td>0.1393</td>\n",
       "    </tr>\n",
       "    <tr>\n",
       "      <th>5</th>\n",
       "      <td>0.8548</td>\n",
       "      <td>0.1042</td>\n",
       "    </tr>\n",
       "    <tr>\n",
       "      <th>6</th>\n",
       "      <td>0.8907</td>\n",
       "      <td>0.0359</td>\n",
       "    </tr>\n",
       "    <tr>\n",
       "      <th>7</th>\n",
       "      <td>0.9247</td>\n",
       "      <td>0.0340</td>\n",
       "    </tr>\n",
       "    <tr>\n",
       "      <th>8</th>\n",
       "      <td>0.9551</td>\n",
       "      <td>0.0304</td>\n",
       "    </tr>\n",
       "    <tr>\n",
       "      <th>9</th>\n",
       "      <td>0.9839</td>\n",
       "      <td>0.0288</td>\n",
       "    </tr>\n",
       "    <tr>\n",
       "      <th>10</th>\n",
       "      <td>1.0000</td>\n",
       "      <td>0.0161</td>\n",
       "    </tr>\n",
       "  </tbody>\n",
       "</table>\n",
       "</div>"
      ],
      "text/plain": [
       "    Cumulative Variance Ratio  Explained Variance Ratio\n",
       "0                      0.1857                    0.1857\n",
       "1                      0.3301                    0.1444\n",
       "2                      0.4716                    0.1415\n",
       "3                      0.6113                    0.1397\n",
       "4                      0.7506                    0.1393\n",
       "5                      0.8548                    0.1042\n",
       "6                      0.8907                    0.0359\n",
       "7                      0.9247                    0.0340\n",
       "8                      0.9551                    0.0304\n",
       "9                      0.9839                    0.0288\n",
       "10                     1.0000                    0.0161"
      ]
     },
     "metadata": {},
     "output_type": "display_data"
    },
    {
     "data": {
      "image/png": "[encoded data removed]",
      "text/plain": [
       "<Figure size 432x288 with 1 Axes>"
      ]
     },
     "metadata": {},
     "output_type": "display_data"
    }
   ],
   "source": [
    "#Cumulative Variance Ratio (кумулятивный размер объяснённой дисперсии данных)\n",
    "#Explained Variance Ratio (вклад каждой компоненты в общий объём объяснённой дисперсии)\n",
    "pca = PCA(n_components=11)\n",
    "pca.fit(x_train)\n",
    "plt.plot(np.cumsum(pca.explained_variance_ratio_))\n",
    "plt.xlabel('количество компонент')\n",
    "plt.ylabel('cumulative explained variance')\n",
    "plt.title('Объясненная дисперсия данных', fontsize=14)\n",
    "plt.axvline(linewidth=4, color='r', linestyle = '--', x=8, ymin=0, ymax=1)\n",
    "evr = pca.explained_variance_ratio_\n",
    "cvr = np.cumsum(pca.explained_variance_ratio_)\n",
    "pca_df = pd.DataFrame()\n",
    "pca_df['Cumulative Variance Ratio'] = cvr\n",
    "pca_df['Explained Variance Ratio'] = evr\n",
    "display(pca_df.head(11))"
   ]
  },
  {
   "cell_type": "markdown",
   "id": "c2b9f4b3",
   "metadata": {},
   "source": [
    "Видим, что 9 компонент на 95% объясняют дисперсию данных. Число компонент уменьшать не будем"
   ]
  },
  {
   "cell_type": "markdown",
   "id": "b7c5610a",
   "metadata": {},
   "source": [
    "### Обучение базовой модели CatBoostClassifier"
   ]
  },
  {
   "cell_type": "markdown",
   "id": "d6c47522",
   "metadata": {},
   "source": [
    "Посмотрим на базовую модель Градиентный бустинг с CATBOOST"
   ]
  },
  {
   "cell_type": "code",
   "execution_count": 39,
   "id": "99a6bc7c",
   "metadata": {
    "scrolled": true
   },
   "outputs": [
    {
     "name": "stdout",
     "output_type": "stream",
     "text": [
      "CatBoostClassifier базовая модель f1 = 0.5990\n"
     ]
    }
   ],
   "source": [
    "base_model_cbc = CatBoostClassifier(random_state=rnd_st, verbose=False)\n",
    "base_model_cbc.fit(x_train_research, y_train_research)\n",
    "y_pred_research = base_model_cbc.predict(x_valid_research)\n",
    "f1 = f1_score(y_valid_research, y_pred_research)\n",
    "print('CatBoostClassifier базовая модель f1 =','{:.4f}'.format(f1))"
   ]
  },
  {
   "cell_type": "markdown",
   "id": "8a142f07",
   "metadata": {},
   "source": [
    "#### Важность признаков"
   ]
  },
  {
   "cell_type": "markdown",
   "id": "58dc2c12",
   "metadata": {},
   "source": [
    "Посмотрим какие признаки являются самыми важными для CatBoost-модели в деле предсказания\n",
    "\n",
    "Визуализируем и квантифицируем показатели важности признаков, обратившись к атрибуту `feature_importances_`:"
   ]
  },
  {
   "cell_type": "code",
   "execution_count": 40,
   "id": "4dba3508",
   "metadata": {
    "scrolled": false
   },
   "outputs": [
    {
     "data": {
      "image/png": "[encoded data removed]",
      "text/plain": [
       "<Figure size 432x288 with 1 Axes>"
      ]
     },
     "metadata": {},
     "output_type": "display_data"
    },
    {
     "data": {
      "text/html": [
       "<div>\n",
       "<style scoped>\n",
       "    .dataframe tbody tr th:only-of-type {\n",
       "        vertical-align: middle;\n",
       "    }\n",
       "\n",
       "    .dataframe tbody tr th {\n",
       "        vertical-align: top;\n",
       "    }\n",
       "\n",
       "    .dataframe thead th {\n",
       "        text-align: right;\n",
       "    }\n",
       "</style>\n",
       "<table border=\"1\" class=\"dataframe\">\n",
       "  <thead>\n",
       "    <tr style=\"text-align: right;\">\n",
       "      <th></th>\n",
       "      <th>Features</th>\n",
       "      <th>Gini-Importance</th>\n",
       "    </tr>\n",
       "  </thead>\n",
       "  <tbody>\n",
       "    <tr>\n",
       "      <th>0</th>\n",
       "      <td>NumOfProducts</td>\n",
       "      <td>19.8043</td>\n",
       "    </tr>\n",
       "    <tr>\n",
       "      <th>1</th>\n",
       "      <td>Age</td>\n",
       "      <td>19.6677</td>\n",
       "    </tr>\n",
       "    <tr>\n",
       "      <th>2</th>\n",
       "      <td>Balance</td>\n",
       "      <td>13.8878</td>\n",
       "    </tr>\n",
       "    <tr>\n",
       "      <th>3</th>\n",
       "      <td>CreditScore</td>\n",
       "      <td>11.5799</td>\n",
       "    </tr>\n",
       "    <tr>\n",
       "      <th>4</th>\n",
       "      <td>EstimatedSalary</td>\n",
       "      <td>10.4138</td>\n",
       "    </tr>\n",
       "    <tr>\n",
       "      <th>5</th>\n",
       "      <td>Geography_Germany</td>\n",
       "      <td>6.4466</td>\n",
       "    </tr>\n",
       "    <tr>\n",
       "      <th>6</th>\n",
       "      <td>Tenure</td>\n",
       "      <td>6.1951</td>\n",
       "    </tr>\n",
       "    <tr>\n",
       "      <th>7</th>\n",
       "      <td>IsActiveMember</td>\n",
       "      <td>5.7283</td>\n",
       "    </tr>\n",
       "    <tr>\n",
       "      <th>8</th>\n",
       "      <td>Gender</td>\n",
       "      <td>3.3428</td>\n",
       "    </tr>\n",
       "    <tr>\n",
       "      <th>9</th>\n",
       "      <td>HasCrCard</td>\n",
       "      <td>1.5576</td>\n",
       "    </tr>\n",
       "    <tr>\n",
       "      <th>10</th>\n",
       "      <td>Geography_Spain</td>\n",
       "      <td>1.3761</td>\n",
       "    </tr>\n",
       "  </tbody>\n",
       "</table>\n",
       "</div>"
      ],
      "text/plain": [
       "             Features  Gini-Importance\n",
       "0       NumOfProducts          19.8043\n",
       "1                 Age          19.6677\n",
       "2             Balance          13.8878\n",
       "3         CreditScore          11.5799\n",
       "4     EstimatedSalary          10.4138\n",
       "5   Geography_Germany           6.4466\n",
       "6              Tenure           6.1951\n",
       "7      IsActiveMember           5.7283\n",
       "8              Gender           3.3428\n",
       "9           HasCrCard           1.5576\n",
       "10    Geography_Spain           1.3761"
      ]
     },
     "metadata": {},
     "output_type": "display_data"
    }
   ],
   "source": [
    "feats = {}\n",
    "for feature, importance in zip(x_train.columns, base_model_cbc.feature_importances_):\n",
    "    feats[feature] = importance\n",
    "importances = pd.DataFrame.from_dict(feats, orient='index').rename(columns={0: 'Gini-Importance'})\n",
    "importances = importances.sort_values(by='Gini-Importance', ascending=False)\n",
    "importances = importances.reset_index()\n",
    "importances = importances.rename(columns={'index': 'Features'})\n",
    "sns.set(style=\"whitegrid\", color_codes=True, font_scale = 1.2)\n",
    "fig, ax = plt.subplots(figsize=(6,4))\n",
    "sns.barplot(x=importances['Gini-Importance'], y=importances['Features'], data=importances, color='gold')\n",
    "plt.xlabel('Важность, %', fontsize=16)\n",
    "plt.ylabel('Признаки', fontsize=16)\n",
    "plt.title('\"Важность\" признаков для CatBoostClassifier', fontsize=16)\n",
    "plt.show()\n",
    "display(importances)"
   ]
  },
  {
   "cell_type": "markdown",
   "id": "e62dae23",
   "metadata": {},
   "source": [
    "### Сравнение важностей"
   ]
  },
  {
   "cell_type": "code",
   "execution_count": 41,
   "id": "964058f8",
   "metadata": {
    "scrolled": false
   },
   "outputs": [
    {
     "data": {
      "image/png": "[encoded data removed]",
      "text/plain": [
       "<Figure size 576x288 with 1 Axes>"
      ]
     },
     "metadata": {},
     "output_type": "display_data"
    }
   ],
   "source": [
    "importances_compare = pd.DataFrame({'Catboost' : base_model_cbc.get_feature_importance(),\n",
    "                                    'RForest'  : 100*base_model_rfc.feature_importances_},\n",
    "                                   index=x_train.columns)\n",
    "\n",
    "fig, ax = plt.subplots(figsize=(8,4))\n",
    "ax = importances_compare.plot.bar(ax=ax)\n",
    "ax.set_xlabel('Признак')\n",
    "ax.set_ylabel('Важность, %')\n",
    "plt.show()"
   ]
  },
  {
   "cell_type": "markdown",
   "id": "c5b652fc",
   "metadata": {},
   "source": [
    "У каждой модели свои \"важные\" признаки"
   ]
  },
  {
   "cell_type": "markdown",
   "id": "3d0a5c40",
   "metadata": {},
   "source": [
    "### Случайный лес"
   ]
  },
  {
   "cell_type": "markdown",
   "id": "aed42d8a",
   "metadata": {},
   "source": [
    "#### Оптимизация гиперпараметров: раунд 1"
   ]
  },
  {
   "cell_type": "markdown",
   "id": "3ab0b2e8",
   "metadata": {},
   "source": [
    "Воспользуемся оптимизацией гиперпараметров модели для того чтобы улучшить качество предсказаний, выдаваемых RF-моделью. Начнем с алгоритма `RandomizedSearchCV`, который позволяет довольно грубо исследовать широкие диапазоны значений:\n",
    "- генерируем словарь `param_dist`, содержащий для каждого гиперпараметра диапазон значений, которые нужно испытать\n",
    "- инициализируем объект `rs` с помощью функции `RandomizedSearchCV()`, передавая ей `RF-модель`, `param_dist`, число итераций и число кросс-валидаций, которые нужно выполнить.\n",
    "\n",
    "Мы будем заниматься подбором следующих гиперпараметров:\n",
    "- `n_estimators` — число «деревьев» в «случайном лесу».\n",
    "- `max_features` — число признаков для выбора расщепления.\n",
    "- `max_depth` — максимальная глубина деревьев.\n",
    "- `min_samples_split` — минимальное число объектов, необходимое для того, чтобы узел дерева мог бы расщепиться.\n",
    "- `min_samples_leaf` — минимальное число объектов в листьях.\n",
    "- `bootstrap` — использование для построения деревьев подвыборки с возвращением."
   ]
  },
  {
   "cell_type": "code",
   "execution_count": 42,
   "id": "930a35a6",
   "metadata": {},
   "outputs": [
    {
     "name": "stdout",
     "output_type": "stream",
     "text": [
      "CPU times: user 1.26 s, sys: 265 ms, total: 1.53 s\n",
      "Wall time: 54.8 s\n"
     ]
    },
    {
     "data": {
      "text/plain": [
       "{'n_estimators': 100, 'max_features': 'log2', 'max_depth': 10}"
      ]
     },
     "execution_count": 42,
     "metadata": {},
     "output_type": "execute_result"
    }
   ],
   "source": [
    "%%time\n",
    "\n",
    "param_dist = {\n",
    "    'n_estimators': range(100, 1100, 200),\n",
    "    'max_features': ['log2', 'sqrt'],\n",
    "    'max_depth': range(2, 11, 2)\n",
    "}\n",
    "\n",
    "rs = RandomizedSearchCV(\n",
    "    estimator=RandomForestClassifier(random_state=rnd_st),  \n",
    "    param_distributions=param_dist, \n",
    "    n_iter=50, \n",
    "    cv=5, \n",
    "    n_jobs=-1, \n",
    "    random_state=rnd_st,\n",
    "    scoring='f1'\n",
    ")\n",
    "rs.fit(x_train, y_train)\n",
    "rs.best_params_"
   ]
  },
  {
   "cell_type": "markdown",
   "id": "090c412f",
   "metadata": {},
   "source": [
    "При значениях параметров `n_iter` = 50 и `cv` = 5, мы создали 250 RF-моделей, случайно выбирая комбинации представленных выше гиперпараметров. Мы можем обратиться к атрибуту `best_params_` для получения сведений о наборе параметров, позволяющем создать самую лучшую модель. Но на данной стадии это может не дать нам наиболее интересных данных о диапазонах параметров, которые стоит изучить на следующем раунде оптимизации. Для того чтобы выяснить то, в каком диапазоне значений стоит продолжать поиск, получим датафрейм, содержащий результаты работы алгоритма `RandomizedSearchCV`."
   ]
  },
  {
   "cell_type": "code",
   "execution_count": 43,
   "id": "fa48060e",
   "metadata": {
    "scrolled": true
   },
   "outputs": [
    {
     "data": {
      "text/html": [
       "<div>\n",
       "<style scoped>\n",
       "    .dataframe tbody tr th:only-of-type {\n",
       "        vertical-align: middle;\n",
       "    }\n",
       "\n",
       "    .dataframe tbody tr th {\n",
       "        vertical-align: top;\n",
       "    }\n",
       "\n",
       "    .dataframe thead th {\n",
       "        text-align: right;\n",
       "    }\n",
       "</style>\n",
       "<table border=\"1\" class=\"dataframe\">\n",
       "  <thead>\n",
       "    <tr style=\"text-align: right;\">\n",
       "      <th></th>\n",
       "      <th>0</th>\n",
       "      <th>1</th>\n",
       "      <th>2</th>\n",
       "      <th>3</th>\n",
       "      <th>4</th>\n",
       "      <th>5</th>\n",
       "      <th>6</th>\n",
       "      <th>7</th>\n",
       "      <th>8</th>\n",
       "      <th>9</th>\n",
       "    </tr>\n",
       "  </thead>\n",
       "  <tbody>\n",
       "    <tr>\n",
       "      <th>param_n_estimators</th>\n",
       "      <td>100</td>\n",
       "      <td>100</td>\n",
       "      <td>900</td>\n",
       "      <td>900</td>\n",
       "      <td>700</td>\n",
       "      <td>700</td>\n",
       "      <td>300</td>\n",
       "      <td>300</td>\n",
       "      <td>500</td>\n",
       "      <td>500</td>\n",
       "    </tr>\n",
       "    <tr>\n",
       "      <th>param_max_features</th>\n",
       "      <td>log2</td>\n",
       "      <td>sqrt</td>\n",
       "      <td>sqrt</td>\n",
       "      <td>log2</td>\n",
       "      <td>log2</td>\n",
       "      <td>sqrt</td>\n",
       "      <td>log2</td>\n",
       "      <td>sqrt</td>\n",
       "      <td>log2</td>\n",
       "      <td>sqrt</td>\n",
       "    </tr>\n",
       "    <tr>\n",
       "      <th>param_max_depth</th>\n",
       "      <td>10</td>\n",
       "      <td>10</td>\n",
       "      <td>10</td>\n",
       "      <td>10</td>\n",
       "      <td>10</td>\n",
       "      <td>10</td>\n",
       "      <td>10</td>\n",
       "      <td>10</td>\n",
       "      <td>10</td>\n",
       "      <td>10</td>\n",
       "    </tr>\n",
       "    <tr>\n",
       "      <th>mean_test_score</th>\n",
       "      <td>0.5670</td>\n",
       "      <td>0.5670</td>\n",
       "      <td>0.5659</td>\n",
       "      <td>0.5659</td>\n",
       "      <td>0.5654</td>\n",
       "      <td>0.5654</td>\n",
       "      <td>0.5642</td>\n",
       "      <td>0.5642</td>\n",
       "      <td>0.5635</td>\n",
       "      <td>0.5635</td>\n",
       "    </tr>\n",
       "    <tr>\n",
       "      <th>rank_test_score</th>\n",
       "      <td>1</td>\n",
       "      <td>1</td>\n",
       "      <td>3</td>\n",
       "      <td>3</td>\n",
       "      <td>5</td>\n",
       "      <td>5</td>\n",
       "      <td>7</td>\n",
       "      <td>7</td>\n",
       "      <td>9</td>\n",
       "      <td>9</td>\n",
       "    </tr>\n",
       "  </tbody>\n",
       "</table>\n",
       "</div>"
      ],
      "text/plain": [
       "                        0      1      2      3      4      5      6      7      8      9\n",
       "param_n_estimators    100    100    900    900    700    700    300    300    500    500\n",
       "param_max_features   log2   sqrt   sqrt   log2   log2   sqrt   log2   sqrt   log2   sqrt\n",
       "param_max_depth        10     10     10     10     10     10     10     10     10     10\n",
       "mean_test_score    0.5670 0.5670 0.5659 0.5659 0.5654 0.5654 0.5642 0.5642 0.5635 0.5635\n",
       "rank_test_score         1      1      3      3      5      5      7      7      9      9"
      ]
     },
     "execution_count": 43,
     "metadata": {},
     "output_type": "execute_result"
    }
   ],
   "source": [
    "rs_df = pd.DataFrame(rs.cv_results_).sort_values('rank_test_score').reset_index(drop=True)\n",
    "rs_df = rs_df.drop([\n",
    "    'mean_fit_time', \n",
    "    'std_fit_time', \n",
    "    'mean_score_time',\n",
    "    'std_score_time', \n",
    "    'params', \n",
    "    'split0_test_score', \n",
    "    'split1_test_score', \n",
    "    'split2_test_score', \n",
    "    'split3_test_score', \n",
    "    'split4_test_score', \n",
    "    'std_test_score'],\n",
    "    axis=1)\n",
    "rs_df.head(10).T"
   ]
  },
  {
   "cell_type": "markdown",
   "id": "c8858b70",
   "metadata": {},
   "source": [
    "Теперь создадим столбчатые графики, на которых, по оси Х, расположены значения гиперпараметров, а по оси Y — средние значения, показываемые моделями. Это позволит понять то, какие значения гиперпараметров, в среднем, лучше всего себя показывают."
   ]
  },
  {
   "cell_type": "code",
   "execution_count": 44,
   "id": "8725657c",
   "metadata": {},
   "outputs": [
    {
     "data": {
      "image/png": "[encoded data removed]",
      "text/plain": [
       "<Figure size 1152x288 with 3 Axes>"
      ]
     },
     "metadata": {},
     "output_type": "display_data"
    }
   ],
   "source": [
    "fig, axs = plt.subplots(nrows=1, ncols=3, figsize=(16,4))\n",
    "sns.set(style=\"whitegrid\", color_codes=True, font_scale = 1)\n",
    "sns.barplot(x='param_n_estimators', y='mean_test_score', data=rs_df, ax=axs[0], color='gold')\n",
    "axs[0].set_ylim([.3,.55])\n",
    "axs[0].set_title(label = 'n_estimators', size=20, weight='bold')\n",
    "sns.barplot(x='param_max_features', y='mean_test_score', data=rs_df, ax=axs[1], color='wheat')\n",
    "axs[1].set_ylim([.35,.45])\n",
    "axs[1].set_title(label = 'max_features', size=20, weight='bold')\n",
    "sns.barplot(x='param_max_depth', y='mean_test_score', data=rs_df, ax=axs[2], color='lightpink')\n",
    "axs[2].set_ylim([.1,.6])\n",
    "axs[2].set_title(label = 'max_depth', size=20, weight='bold')\n",
    "plt.show()"
   ]
  },
  {
   "cell_type": "markdown",
   "id": "37c85359",
   "metadata": {},
   "source": [
    "Анализ значений гиперпараметров:\n",
    "- `n_estimators`: значения 100, 300, 500, видимо, показывают наилучшие средние результаты.\n",
    "- `max_features`: варианты `log2` и `sqrt` дают приблизительно одинаковые результаты.\n",
    "- `max_depth`: чёткая зависимость между значением гиперпараметра и результатом работы: берем `10`."
   ]
  },
  {
   "cell_type": "markdown",
   "id": "e4cf9409",
   "metadata": {},
   "source": [
    "#### Оптимизация гиперпараметров: раунд 2"
   ]
  },
  {
   "cell_type": "markdown",
   "id": "38810130",
   "metadata": {},
   "source": [
    "После применения алгоритма `RandomizedSearchCV` воспользуемся алгоритмом `GridSearchCV` для проведения более точного поиска наилучшей комбинации гиперпараметров. \n",
    "\n",
    "Здесь исследуются те же гиперпараметры, но теперь мы применяем более «обстоятельный» поиск их наилучшей комбинации.\n",
    "\n",
    "При использовании алгоритма `GridSearchCV` исследуется каждая комбинация гиперпараметров. Это требует гораздо больших вычислительных ресурсов, чем использование алгоритма `RandomizedSearchCV`, когда мы самостоятельно задаём число итераций поиска."
   ]
  },
  {
   "cell_type": "code",
   "execution_count": 45,
   "id": "e31f0aa8",
   "metadata": {
    "scrolled": true
   },
   "outputs": [
    {
     "name": "stdout",
     "output_type": "stream",
     "text": [
      "RandomForest GridSearch наилучшие параметры: {'max_depth': 10, 'max_features': 'log2', 'n_estimators': 800}\n",
      "RandomForest GridSearch наибольший f1=0.5682\n",
      "CPU times: user 3.73 s, sys: 100 ms, total: 3.83 s\n",
      "Wall time: 27 s\n"
     ]
    }
   ],
   "source": [
    "%%time\n",
    "\n",
    "param_grid = { \n",
    "    'n_estimators': range(700, 900, 50),\n",
    "    'max_depth': [10],\n",
    "    'max_features': ['log2', 'sqrt']\n",
    "}\n",
    "gs_rfc = GridSearchCV(estimator=RandomForestClassifier(random_state=rnd_st), \n",
    "                      param_grid=param_grid, \n",
    "                      cv=5, \n",
    "                      n_jobs=8, \n",
    "                      scoring='f1')\n",
    "gs_rfc.fit(x_train, y_train)\n",
    "print('RandomForest GridSearch наилучшие параметры:', gs_rfc.best_params_)\n",
    "print('RandomForest GridSearch наибольший f1={:.4f}'.format(gs_rfc.best_score_))"
   ]
  },
  {
   "cell_type": "markdown",
   "id": "fa110a78",
   "metadata": {},
   "source": [
    "### Тест моделей на несбалансированной обучающей выборке"
   ]
  },
  {
   "cell_type": "markdown",
   "id": "a24cc28d",
   "metadata": {},
   "source": [
    "Напишем функцию `cv_func`для кросс-валидации:"
   ]
  },
  {
   "cell_type": "code",
   "execution_count": 46,
   "id": "e155b13d",
   "metadata": {},
   "outputs": [],
   "source": [
    "def cv_func(models, x, y, comment_rus, comment_eng):\n",
    "    \"\"\"\n",
    "    models - список моделей\n",
    "    x - входные признаки\n",
    "    y - целевой признак\n",
    "    comment_rus - дополнительный комментарий в заголовок графика\n",
    "    comment_eng - добавка в название колонки датафрейма с моделями и значениями f1\n",
    "    \n",
    "    \"\"\"\n",
    "    cv = 5\n",
    "    cv_df = pd.DataFrame(index=range(cv*len(models)))\n",
    "    entries = []\n",
    "    for model in tqdm(models):\n",
    "        model_name = model.__class__.__name__\n",
    "        f1_scores = cross_val_score(model, x, y, scoring='f1', cv=cv, verbose=0)\n",
    "        for fold_idx, f1 in enumerate(f1_scores):\n",
    "            entries.append((model_name, fold_idx, f1))\n",
    "            cv_df = pd.DataFrame(entries, columns=['model_name', 'fold_idx', 'f1'])\n",
    "\n",
    "    plt.figure(figsize=(8, 4))        \n",
    "    sns.boxplot(x='model_name', y='f1', data=cv_df)\n",
    "    sns.stripplot(x='model_name', y='f1', data=cv_df, \n",
    "                  size=8, jitter=True, edgecolor=\"gray\", linewidth=2)\n",
    "    plt.title('Ящики с усами для f1 на кросс-валидации {}'.format(comment_rus), fontsize=14)\n",
    "    plt.show()\n",
    "    cv_df_group = (\n",
    "        cv_df\n",
    "        .groupby('model_name')\n",
    "        .agg({'f1': 'median'})\n",
    "        .sort_values(by='f1', ascending=False)\n",
    "    )\n",
    "    cv_df_group = cv_df_group.rename(columns={'f1': 'f1_'+ comment_eng})\n",
    "    return cv_df_group"
   ]
  },
  {
   "cell_type": "markdown",
   "id": "2faa166f",
   "metadata": {},
   "source": [
    "Определим список моделей для кроссвалидации:"
   ]
  },
  {
   "cell_type": "code",
   "execution_count": 47,
   "id": "6f0bef0e",
   "metadata": {},
   "outputs": [],
   "source": [
    "models_imbalanced = [\n",
    "    RandomForestClassifier(\n",
    "        random_state=rnd_st, \n",
    "        max_depth=10, \n",
    "        n_estimators=800),\n",
    "    LogisticRegression(\n",
    "        random_state=rnd_st),\n",
    "    CatBoostClassifier(\n",
    "        random_state=rnd_st, \n",
    "        depth=7, \n",
    "        learning_rate=0.3, \n",
    "        iterations=63,\n",
    "        silent=True)\n",
    "]"
   ]
  },
  {
   "cell_type": "markdown",
   "id": "e06a28cd",
   "metadata": {},
   "source": [
    "Выполним кросс-валидацию на обучающей выборке с 5 фолдами для подобранных гиперпараметров."
   ]
  },
  {
   "cell_type": "code",
   "execution_count": 48,
   "id": "af8ce3ac",
   "metadata": {
    "scrolled": false
   },
   "outputs": [
    {
     "name": "stderr",
     "output_type": "stream",
     "text": [
      "100%|██████████| 3/3 [00:16<00:00,  5.58s/it]\n"
     ]
    },
    {
     "data": {
      "image/png": "[encoded data removed]",
      "text/plain": [
       "<Figure size 576x288 with 1 Axes>"
      ]
     },
     "metadata": {},
     "output_type": "display_data"
    }
   ],
   "source": [
    "cv_df_imbalanced = cv_func(models_imbalanced, x_train, y_train, 'c дисбалансом', 'imbalanced')"
   ]
  },
  {
   "cell_type": "code",
   "execution_count": 49,
   "id": "3cb82b12",
   "metadata": {},
   "outputs": [
    {
     "data": {
      "text/html": [
       "<div>\n",
       "<style scoped>\n",
       "    .dataframe tbody tr th:only-of-type {\n",
       "        vertical-align: middle;\n",
       "    }\n",
       "\n",
       "    .dataframe tbody tr th {\n",
       "        vertical-align: top;\n",
       "    }\n",
       "\n",
       "    .dataframe thead th {\n",
       "        text-align: right;\n",
       "    }\n",
       "</style>\n",
       "<table border=\"1\" class=\"dataframe\">\n",
       "  <thead>\n",
       "    <tr style=\"text-align: right;\">\n",
       "      <th></th>\n",
       "      <th>f1_imbalanced</th>\n",
       "    </tr>\n",
       "    <tr>\n",
       "      <th>model_name</th>\n",
       "      <th></th>\n",
       "    </tr>\n",
       "  </thead>\n",
       "  <tbody>\n",
       "    <tr>\n",
       "      <th>CatBoostClassifier</th>\n",
       "      <td>0.5783</td>\n",
       "    </tr>\n",
       "    <tr>\n",
       "      <th>RandomForestClassifier</th>\n",
       "      <td>0.5714</td>\n",
       "    </tr>\n",
       "    <tr>\n",
       "      <th>LogisticRegression</th>\n",
       "      <td>0.2907</td>\n",
       "    </tr>\n",
       "  </tbody>\n",
       "</table>\n",
       "</div>"
      ],
      "text/plain": [
       "                        f1_imbalanced\n",
       "model_name                           \n",
       "CatBoostClassifier             0.5783\n",
       "RandomForestClassifier         0.5714\n",
       "LogisticRegression             0.2907"
      ]
     },
     "execution_count": 49,
     "metadata": {},
     "output_type": "execute_result"
    }
   ],
   "source": [
    "cv_df_imbalanced"
   ]
  },
  {
   "cell_type": "markdown",
   "id": "c4de08c9",
   "metadata": {},
   "source": [
    "**Вывод:**\n",
    "\n",
    "Победитель CatBoostClassifier c f1 = 0.5783"
   ]
  },
  {
   "cell_type": "markdown",
   "id": "2cb9539e",
   "metadata": {},
   "source": [
    "### Проверка качества модели на валидационной выборке"
   ]
  },
  {
   "cell_type": "markdown",
   "id": "bf279d00",
   "metadata": {},
   "source": [
    "Напишем функцию `roc_cm_plot` для построения `ROC-кривой`, матрицы ошибок и расчета `AUC-ROC`:"
   ]
  },
  {
   "cell_type": "code",
   "execution_count": 50,
   "id": "61c2ca03",
   "metadata": {},
   "outputs": [],
   "source": [
    "def roc_cm_plot(model, x, y, comment):\n",
    "    \"\"\"\n",
    "    model - модель\n",
    "    x - входные признаки\n",
    "    y - целевой признак\n",
    "    comment - дополнительный комментарий в заголовок графика\n",
    "    \n",
    "    \"\"\"\n",
    "    y_pred = model.predict(x)\n",
    "    y_prob = model.predict_proba(x)\n",
    "    y_prob_one = y_prob[:, 1]\n",
    "    auc_roc = roc_auc_score(y, y_prob_one)\n",
    "    print('{} {}:'.format(model.__class__.__name__, comment))\n",
    "    print('\\t - f1 = {:.4f}'.format(f1_score(y, y_pred)))\n",
    "    print('\\t - AUC-ROC = {:.4f}'.format(auc_roc))\n",
    "    print('\\t - accuracy = {:.4f}'.format(accuracy_score(y, y_pred)))\n",
    "    fpr, tpr, thresholds = roc_curve(y, y_prob_one) \n",
    "    plt.figure(figsize=(5,2))\n",
    "    plt.plot(fpr, tpr, linestyle='-', label='ROC-кривая')\n",
    "    plt.plot([0, 1], [0, 1], linestyle='--', label='Константная модель')\n",
    "    plt.ylim([0, 1])\n",
    "    plt.xlim([0, 1])\n",
    "    plt.xlabel('False Positive Rate')\n",
    "    plt.ylabel('True Positive Rate')\n",
    "    plt.title('ROC-кривая для {} {}'.format(model.__class__.__name__, comment))\n",
    "    plt.legend(loc=\"lower right\")\n",
    "    \n",
    "    plt.text(0.58, 0.48, 'AUC-ROC = {:.4f}'.format(auc_roc), \n",
    "             bbox={'facecolor': 'green', 'alpha': 0.3, 'pad': 5})\n",
    "    plt.show()\n",
    "    cm = confusion_matrix(y, y_pred)    \n",
    "    plt.figure(figsize=(4,1))\n",
    "    sns.heatmap(cm, annot=True, fmt='d', linewidths=3, cmap='YlGnBu', linecolor='black')\n",
    "    plt.xlabel('Предсказания')\n",
    "    plt.ylabel('Ответы')\n",
    "    plt.title('Матрица ошибок')\n",
    "    plt.show()"
   ]
  },
  {
   "cell_type": "markdown",
   "id": "ff54dda8",
   "metadata": {},
   "source": [
    "Построим ROC-кривую и матрицу ошибок для с дисбалансом классов"
   ]
  },
  {
   "cell_type": "code",
   "execution_count": 51,
   "id": "3fbd6e32",
   "metadata": {
    "scrolled": false
   },
   "outputs": [
    {
     "name": "stdout",
     "output_type": "stream",
     "text": [
      "RandomForestClassifier с дисбалансом:\n",
      "\t - f1 = 0.5628\n",
      "\t - AUC-ROC = 0.8657\n",
      "\t - accuracy = 0.8641\n"
     ]
    },
    {
     "data": {
      "image/png": "[encoded data removed]",
      "text/plain": [
       "<Figure size 360x144 with 1 Axes>"
      ]
     },
     "metadata": {},
     "output_type": "display_data"
    },
    {
     "data": {
      "image/png": "[encoded data removed]",
      "text/plain": [
       "<Figure size 288x72 with 2 Axes>"
      ]
     },
     "metadata": {},
     "output_type": "display_data"
    },
    {
     "name": "stdout",
     "output_type": "stream",
     "text": [
      "LogisticRegression с дисбалансом:\n",
      "\t - f1 = 0.2828\n",
      "\t - AUC-ROC = 0.7578\n",
      "\t - accuracy = 0.8047\n"
     ]
    },
    {
     "data": {
      "image/png": "[encoded data removed]",
      "text/plain": [
       "<Figure size 360x144 with 1 Axes>"
      ]
     },
     "metadata": {},
     "output_type": "display_data"
    },
    {
     "data": {
      "image/png": "[encoded data removed]",
      "text/plain": [
       "<Figure size 288x72 with 2 Axes>"
      ]
     },
     "metadata": {},
     "output_type": "display_data"
    },
    {
     "name": "stdout",
     "output_type": "stream",
     "text": [
      "CatBoostClassifier с дисбалансом:\n",
      "\t - f1 = 0.5790\n",
      "\t - AUC-ROC = 0.8713\n",
      "\t - accuracy = 0.8608\n"
     ]
    },
    {
     "data": {
      "image/png": "[encoded data removed]",
      "text/plain": [
       "<Figure size 360x144 with 1 Axes>"
      ]
     },
     "metadata": {},
     "output_type": "display_data"
    },
    {
     "data": {
      "image/png": "[encoded data removed]",
      "text/plain": [
       "<Figure size 288x72 with 2 Axes>"
      ]
     },
     "metadata": {},
     "output_type": "display_data"
    }
   ],
   "source": [
    "for model in models_imbalanced:\n",
    "    model.fit(x_train_research, y_train_research)\n",
    "    roc_cm_plot(model, x_valid_research, y_valid_research, 'с дисбалансом')"
   ]
  },
  {
   "cell_type": "markdown",
   "id": "d2780096",
   "metadata": {},
   "source": [
    "Напишем функцию `model_result` для добавления метрик в общую таблицу результатов:"
   ]
  },
  {
   "cell_type": "code",
   "execution_count": 52,
   "id": "56ad74cc",
   "metadata": {},
   "outputs": [],
   "source": [
    "def model_result(model, comment, x, y):\n",
    "    \"\"\"\n",
    "    model - модель\n",
    "    comment - дополнительный комментарий в таблицу\n",
    "    x - входные признаки валидационная выборка\n",
    "    y - целевой признак  валидационная выборка\n",
    "    \n",
    "    \"\"\"\n",
    "    y_pred = model.predict(x)\n",
    "    y_prob = model.predict_proba(x)\n",
    "    y_prob_one = y_prob[:, 1]\n",
    "    auc_roc = roc_auc_score(y, y_prob_one)\n",
    "    f1 = f1_score(y, y_pred)\n",
    "    accuracy = accuracy_score(y, y_pred)\n",
    "    results.loc[len(results)] = [model.__class__.__name__, comment, f1, auc_roc, accuracy]\n",
    "    if len(results) > 0:\n",
    "        results.drop_duplicates(inplace=True)\n",
    "    return results"
   ]
  },
  {
   "cell_type": "markdown",
   "id": "9ff794d6",
   "metadata": {},
   "source": [
    "Cоздадим таблицу `results` для хранения результатов:"
   ]
  },
  {
   "cell_type": "code",
   "execution_count": 53,
   "id": "f44cf98b",
   "metadata": {},
   "outputs": [],
   "source": [
    "data = {'model': [], 'comment': [], 'f1': [], 'AUC-ROC': [], 'accuracy':[]}\n",
    "results = pd.DataFrame(data=data)"
   ]
  },
  {
   "cell_type": "markdown",
   "id": "a821a172",
   "metadata": {},
   "source": [
    "Добавим первые результаты в общую таблицу"
   ]
  },
  {
   "cell_type": "code",
   "execution_count": 54,
   "id": "3c4cc78f",
   "metadata": {},
   "outputs": [
    {
     "data": {
      "text/html": [
       "<div>\n",
       "<style scoped>\n",
       "    .dataframe tbody tr th:only-of-type {\n",
       "        vertical-align: middle;\n",
       "    }\n",
       "\n",
       "    .dataframe tbody tr th {\n",
       "        vertical-align: top;\n",
       "    }\n",
       "\n",
       "    .dataframe thead th {\n",
       "        text-align: right;\n",
       "    }\n",
       "</style>\n",
       "<table border=\"1\" class=\"dataframe\">\n",
       "  <thead>\n",
       "    <tr style=\"text-align: right;\">\n",
       "      <th></th>\n",
       "      <th>model</th>\n",
       "      <th>comment</th>\n",
       "      <th>f1</th>\n",
       "      <th>AUC-ROC</th>\n",
       "      <th>accuracy</th>\n",
       "    </tr>\n",
       "  </thead>\n",
       "  <tbody>\n",
       "    <tr>\n",
       "      <th>0</th>\n",
       "      <td>RandomForestClassifier</td>\n",
       "      <td>дисбаланс</td>\n",
       "      <td>0.5628</td>\n",
       "      <td>0.8657</td>\n",
       "      <td>0.8641</td>\n",
       "    </tr>\n",
       "    <tr>\n",
       "      <th>1</th>\n",
       "      <td>LogisticRegression</td>\n",
       "      <td>дисбаланс</td>\n",
       "      <td>0.2828</td>\n",
       "      <td>0.7578</td>\n",
       "      <td>0.8047</td>\n",
       "    </tr>\n",
       "    <tr>\n",
       "      <th>2</th>\n",
       "      <td>CatBoostClassifier</td>\n",
       "      <td>дисбаланс</td>\n",
       "      <td>0.5790</td>\n",
       "      <td>0.8713</td>\n",
       "      <td>0.8608</td>\n",
       "    </tr>\n",
       "  </tbody>\n",
       "</table>\n",
       "</div>"
      ],
      "text/plain": [
       "                    model    comment     f1  AUC-ROC  accuracy\n",
       "0  RandomForestClassifier  дисбаланс 0.5628   0.8657    0.8641\n",
       "1      LogisticRegression  дисбаланс 0.2828   0.7578    0.8047\n",
       "2      CatBoostClassifier  дисбаланс 0.5790   0.8713    0.8608"
      ]
     },
     "execution_count": 54,
     "metadata": {},
     "output_type": "execute_result"
    }
   ],
   "source": [
    "for model in models_imbalanced:\n",
    "    model.fit(x_train_research, y_train_research)\n",
    "    results = model_result(model, 'дисбаланс', x_valid_research, y_valid_research)\n",
    "results"
   ]
  },
  {
   "cell_type": "markdown",
   "id": "65dd037a",
   "metadata": {},
   "source": [
    "**Вывод**\n",
    "\n",
    "Победитель на несбалансированной выборке: CatBoostClassifier\n",
    "\n",
    "Несмотря на высокую долю правильных ответов (accuracy=0.8686), модель имеет низкое значение f1-меры, что обусловлено наличием большого количества ложноотрицательных ответов (FN). Ложноотрицательные ответы ведут к уменьшению полноты, которая негативно влияет на меру F1. Значение ROC-AUC попадает в интервал 0,8-0,9: качество модели хорошее"
   ]
  },
  {
   "cell_type": "markdown",
   "id": "eb88db6b",
   "metadata": {},
   "source": [
    "## Борьба с дисбалансом"
   ]
  },
  {
   "cell_type": "markdown",
   "id": "89871822",
   "metadata": {},
   "source": [
    "### NEARMISS"
   ]
  },
  {
   "cell_type": "markdown",
   "id": "7d479fc3",
   "metadata": {},
   "source": [
    "Метод `NearMiss` из библиотеки `imblearn` стремится сбалансировать распределение классов путём случайного исключения наблюдений из бо́льших классов. Если экземпляры из двух разных классов очень похожи между собой, метод удаляет наблюдение из мажоритарного класса."
   ]
  },
  {
   "cell_type": "code",
   "execution_count": 55,
   "id": "162e2f5f",
   "metadata": {},
   "outputs": [
    {
     "name": "stdout",
     "output_type": "stream",
     "text": [
      "Перед применением метода True: 1112\n",
      "Перед применением метода False: 4342\n"
     ]
    }
   ],
   "source": [
    "print('Перед применением метода True: {}'.format(sum(y_train_research == True)))\n",
    "print('Перед применением метода False: {}'.format(sum(y_train_research == False)))"
   ]
  },
  {
   "cell_type": "code",
   "execution_count": 56,
   "id": "7dc2b6d3",
   "metadata": {},
   "outputs": [],
   "source": [
    "nm = NearMiss()\n",
    "x_train_miss, y_train_miss = nm.fit_resample(x_train_research, y_train_research)"
   ]
  },
  {
   "cell_type": "code",
   "execution_count": 57,
   "id": "e0dec8bb",
   "metadata": {
    "scrolled": false
   },
   "outputs": [
    {
     "name": "stdout",
     "output_type": "stream",
     "text": [
      "После применения метода True: 1112\n",
      "После применения метода False: 1112\n"
     ]
    }
   ],
   "source": [
    "print('После применения метода True: {}'.format(sum(y_train_miss == True)))\n",
    "print('После применения метода False: {}'.format(sum(y_train_miss == False)))"
   ]
  },
  {
   "cell_type": "markdown",
   "id": "7bf77fe0",
   "metadata": {},
   "source": [
    "Выполним кросс-валидацию на обучающей выборке с 5 фолдами для подобранных гиперпараметров:"
   ]
  },
  {
   "cell_type": "code",
   "execution_count": 58,
   "id": "de567578",
   "metadata": {},
   "outputs": [],
   "source": [
    "cbc_nearmiss = CatBoostClassifier(\n",
    "    random_state=rnd_st, \n",
    "    silent=True, \n",
    "    depth=7, \n",
    "    learning_rate=0.3, \n",
    "    iterations=63\n",
    ")\n",
    "rfc_nearmiss = RandomForestClassifier(\n",
    "    random_state=rnd_st, \n",
    "    max_depth=10, \n",
    "    n_estimators=800\n",
    ")\n",
    "lr_nearmiss = LogisticRegression(\n",
    "    random_state=rnd_st\n",
    ")\n",
    "models_nearmiss = [cbc_nearmiss, rfc_nearmiss, lr_nearmiss]"
   ]
  },
  {
   "cell_type": "code",
   "execution_count": 59,
   "id": "ebe50f8d",
   "metadata": {},
   "outputs": [
    {
     "name": "stderr",
     "output_type": "stream",
     "text": [
      "100%|██████████| 3/3 [00:08<00:00,  2.72s/it]\n"
     ]
    },
    {
     "data": {
      "image/png": "[encoded data removed]",
      "text/plain": [
       "<Figure size 576x288 with 1 Axes>"
      ]
     },
     "metadata": {},
     "output_type": "display_data"
    }
   ],
   "source": [
    "cv_df_nearmiss = cv_func(models_nearmiss, x_train_miss, y_train_miss, 'c NEARMISS', 'nearmiss')"
   ]
  },
  {
   "cell_type": "code",
   "execution_count": 60,
   "id": "a8c6b897",
   "metadata": {
    "scrolled": true
   },
   "outputs": [
    {
     "data": {
      "text/html": [
       "<div>\n",
       "<style scoped>\n",
       "    .dataframe tbody tr th:only-of-type {\n",
       "        vertical-align: middle;\n",
       "    }\n",
       "\n",
       "    .dataframe tbody tr th {\n",
       "        vertical-align: top;\n",
       "    }\n",
       "\n",
       "    .dataframe thead th {\n",
       "        text-align: right;\n",
       "    }\n",
       "</style>\n",
       "<table border=\"1\" class=\"dataframe\">\n",
       "  <thead>\n",
       "    <tr style=\"text-align: right;\">\n",
       "      <th></th>\n",
       "      <th>f1_nearmiss</th>\n",
       "    </tr>\n",
       "    <tr>\n",
       "      <th>model_name</th>\n",
       "      <th></th>\n",
       "    </tr>\n",
       "  </thead>\n",
       "  <tbody>\n",
       "    <tr>\n",
       "      <th>CatBoostClassifier</th>\n",
       "      <td>0.7273</td>\n",
       "    </tr>\n",
       "    <tr>\n",
       "      <th>RandomForestClassifier</th>\n",
       "      <td>0.7136</td>\n",
       "    </tr>\n",
       "    <tr>\n",
       "      <th>LogisticRegression</th>\n",
       "      <td>0.6991</td>\n",
       "    </tr>\n",
       "  </tbody>\n",
       "</table>\n",
       "</div>"
      ],
      "text/plain": [
       "                        f1_nearmiss\n",
       "model_name                         \n",
       "CatBoostClassifier           0.7273\n",
       "RandomForestClassifier       0.7136\n",
       "LogisticRegression           0.6991"
      ]
     },
     "execution_count": 60,
     "metadata": {},
     "output_type": "execute_result"
    }
   ],
   "source": [
    "cv_df_nearmiss"
   ]
  },
  {
   "cell_type": "markdown",
   "id": "40ff2385",
   "metadata": {},
   "source": [
    "Посмотрим как ведут себя модели на валидационной выборке:"
   ]
  },
  {
   "cell_type": "code",
   "execution_count": 61,
   "id": "cbb29cda",
   "metadata": {
    "scrolled": false
   },
   "outputs": [
    {
     "name": "stdout",
     "output_type": "stream",
     "text": [
      "CatBoostClassifier c NearMiss:\n",
      "\t - f1 = 0.4573\n",
      "\t - AUC-ROC = 0.7455\n",
      "\t - accuracy = 0.6502\n"
     ]
    },
    {
     "data": {
      "image/png": "[encoded data removed]",
      "text/plain": [
       "<Figure size 360x144 with 1 Axes>"
      ]
     },
     "metadata": {},
     "output_type": "display_data"
    },
    {
     "data": {
      "image/png": "[encoded data removed]",
      "text/plain": [
       "<Figure size 288x72 with 2 Axes>"
      ]
     },
     "metadata": {},
     "output_type": "display_data"
    },
    {
     "name": "stdout",
     "output_type": "stream",
     "text": [
      "RandomForestClassifier c NearMiss:\n",
      "\t - f1 = 0.4406\n",
      "\t - AUC-ROC = 0.7267\n",
      "\t - accuracy = 0.6480\n"
     ]
    },
    {
     "data": {
      "image/png": "[encoded data removed]",
      "text/plain": [
       "<Figure size 360x144 with 1 Axes>"
      ]
     },
     "metadata": {},
     "output_type": "display_data"
    },
    {
     "data": {
      "image/png": "[encoded data removed]",
      "text/plain": [
       "<Figure size 288x72 with 2 Axes>"
      ]
     },
     "metadata": {},
     "output_type": "display_data"
    },
    {
     "name": "stdout",
     "output_type": "stream",
     "text": [
      "LogisticRegression c NearMiss:\n",
      "\t - f1 = 0.4330\n",
      "\t - AUC-ROC = 0.6925\n",
      "\t - accuracy = 0.6370\n"
     ]
    },
    {
     "data": {
      "image/png": "[encoded data removed]",
      "text/plain": [
       "<Figure size 360x144 with 1 Axes>"
      ]
     },
     "metadata": {},
     "output_type": "display_data"
    },
    {
     "data": {
      "image/png": "[encoded data removed]",
      "text/plain": [
       "<Figure size 288x72 with 2 Axes>"
      ]
     },
     "metadata": {},
     "output_type": "display_data"
    }
   ],
   "source": [
    "for model in models_nearmiss:\n",
    "    model.fit(x_train_miss, y_train_miss)\n",
    "    roc_cm_plot(model, x_valid_research, y_valid_research, 'c NearMiss')"
   ]
  },
  {
   "cell_type": "markdown",
   "id": "2c4b8c35",
   "metadata": {},
   "source": [
    "Добавим результаты в общую таблицу"
   ]
  },
  {
   "cell_type": "code",
   "execution_count": 62,
   "id": "6c480130",
   "metadata": {
    "scrolled": false
   },
   "outputs": [
    {
     "data": {
      "text/html": [
       "<div>\n",
       "<style scoped>\n",
       "    .dataframe tbody tr th:only-of-type {\n",
       "        vertical-align: middle;\n",
       "    }\n",
       "\n",
       "    .dataframe tbody tr th {\n",
       "        vertical-align: top;\n",
       "    }\n",
       "\n",
       "    .dataframe thead th {\n",
       "        text-align: right;\n",
       "    }\n",
       "</style>\n",
       "<table border=\"1\" class=\"dataframe\">\n",
       "  <thead>\n",
       "    <tr style=\"text-align: right;\">\n",
       "      <th></th>\n",
       "      <th>model</th>\n",
       "      <th>comment</th>\n",
       "      <th>f1</th>\n",
       "      <th>AUC-ROC</th>\n",
       "      <th>accuracy</th>\n",
       "    </tr>\n",
       "  </thead>\n",
       "  <tbody>\n",
       "    <tr>\n",
       "      <th>0</th>\n",
       "      <td>RandomForestClassifier</td>\n",
       "      <td>дисбаланс</td>\n",
       "      <td>0.5628</td>\n",
       "      <td>0.8657</td>\n",
       "      <td>0.8641</td>\n",
       "    </tr>\n",
       "    <tr>\n",
       "      <th>1</th>\n",
       "      <td>LogisticRegression</td>\n",
       "      <td>дисбаланс</td>\n",
       "      <td>0.2828</td>\n",
       "      <td>0.7578</td>\n",
       "      <td>0.8047</td>\n",
       "    </tr>\n",
       "    <tr>\n",
       "      <th>2</th>\n",
       "      <td>CatBoostClassifier</td>\n",
       "      <td>дисбаланс</td>\n",
       "      <td>0.5790</td>\n",
       "      <td>0.8713</td>\n",
       "      <td>0.8608</td>\n",
       "    </tr>\n",
       "    <tr>\n",
       "      <th>3</th>\n",
       "      <td>CatBoostClassifier</td>\n",
       "      <td>nearmiss</td>\n",
       "      <td>0.4573</td>\n",
       "      <td>0.7455</td>\n",
       "      <td>0.6502</td>\n",
       "    </tr>\n",
       "    <tr>\n",
       "      <th>4</th>\n",
       "      <td>RandomForestClassifier</td>\n",
       "      <td>nearmiss</td>\n",
       "      <td>0.4406</td>\n",
       "      <td>0.7267</td>\n",
       "      <td>0.6480</td>\n",
       "    </tr>\n",
       "    <tr>\n",
       "      <th>5</th>\n",
       "      <td>LogisticRegression</td>\n",
       "      <td>nearmiss</td>\n",
       "      <td>0.4330</td>\n",
       "      <td>0.6925</td>\n",
       "      <td>0.6370</td>\n",
       "    </tr>\n",
       "  </tbody>\n",
       "</table>\n",
       "</div>"
      ],
      "text/plain": [
       "                    model    comment     f1  AUC-ROC  accuracy\n",
       "0  RandomForestClassifier  дисбаланс 0.5628   0.8657    0.8641\n",
       "1      LogisticRegression  дисбаланс 0.2828   0.7578    0.8047\n",
       "2      CatBoostClassifier  дисбаланс 0.5790   0.8713    0.8608\n",
       "3      CatBoostClassifier   nearmiss 0.4573   0.7455    0.6502\n",
       "4  RandomForestClassifier   nearmiss 0.4406   0.7267    0.6480\n",
       "5      LogisticRegression   nearmiss 0.4330   0.6925    0.6370"
      ]
     },
     "execution_count": 62,
     "metadata": {},
     "output_type": "execute_result"
    }
   ],
   "source": [
    "for model in models_nearmiss:\n",
    "    model.fit(x_train_miss, y_train_miss)\n",
    "    results = model_result(model, 'nearmiss', x_valid_research, y_valid_research)\n",
    "results"
   ]
  },
  {
   "cell_type": "markdown",
   "id": "c60f3e63",
   "metadata": {},
   "source": [
    "**Вывод:**\n",
    "\n",
    "Видим падение метрики f1 ниже 0.5 из-за резкого увеличения ложноположительных предсказаний"
   ]
  },
  {
   "cell_type": "markdown",
   "id": "1ea11c9e",
   "metadata": {},
   "source": [
    "### SMOTE"
   ]
  },
  {
   "cell_type": "markdown",
   "id": "95aa4fef",
   "metadata": {},
   "source": [
    "`SMOTE` (англ. Synthetic Minority Oversampling Technique) - техника, основанная на идее генерации некоторого количества искусственных объектов, которые были бы похожи на имеющиеся в миноритарном классе, но при этом не дублировали их: синтезируются объекты для класса меньшинства в непосредственной близости от уже существующих объектов."
   ]
  },
  {
   "cell_type": "markdown",
   "id": "b827d3c5",
   "metadata": {},
   "source": [
    "Напишем функцию `smote_cv`, в которой на каждом фолде перекрестной проверки:\n",
    "- делим данные на обучающую выборку и тренировочную выборку\n",
    "- апсемплим меньший класс\n",
    "- обучаем классификатор на тренировочных данных\n",
    "- валидируем классификатор на оставшемся фолде"
   ]
  },
  {
   "cell_type": "code",
   "execution_count": 63,
   "id": "05acae61",
   "metadata": {},
   "outputs": [],
   "source": [
    "def smote_cv(model, x, y, n_splits=5):\n",
    "    \"\"\"\n",
    "    models - список моделей\n",
    "    x - входные признаки\n",
    "    y - целевой признак\n",
    "    n_splits - количество фолдов\n",
    "    \n",
    "    \"\"\"\n",
    "    model_name = model.__class__.__name__\n",
    "    accuracy_scories = []\n",
    "    auc_roc_scories = []\n",
    "    f1_scories = []\n",
    "    kf = KFold(n_splits=n_splits)\n",
    "    for train_index, test_index in kf.split(x):\n",
    "        x_train, x_test, y_train, y_test = (x.iloc[train_index], \n",
    "                                            x.iloc[test_index], \n",
    "                                            y.iloc[train_index], \n",
    "                                            y.iloc[test_index])\n",
    "        oversample = SMOTE(random_state=rnd_st)\n",
    "        x_train_smote, y_train_smote = oversample.fit_resample(x_train, y_train)\n",
    "        model.fit(x_train_smote, y_train_smote)\n",
    "        y_pred = model.predict(x_test)\n",
    "        y_prob = model.predict_proba(x_test)\n",
    "        y_prob_one = y_prob[:, 1]\n",
    "        accuracy = accuracy_score(y_test, y_pred)\n",
    "        accuracy_scories.append(accuracy)\n",
    "        auc_roc = roc_auc_score(y_test, y_prob_one)\n",
    "        auc_roc_scories.append(auc_roc)\n",
    "        f1 = f1_score(y_test, y_pred)\n",
    "        f1_scories.append(f1)\n",
    "    f1_median = np.median(np.array(f1_scories))\n",
    "    accuracy_median = np.median(np.array(accuracy_scories))\n",
    "    auc_roc_median = np.median(np.array(auc_roc_scories))\n",
    "    print('{} cv=5 median f1 = {:.4f}'.format(model_name, f1_median))\n",
    "    print('{} cv=5 median accuracy = {:.4f}'.format(model_name, accuracy_median))\n",
    "    print('{} cv=5 median auc_roc = {:.4f}'.format(model_name, auc_roc_median))\n",
    "    return f1_median, accuracy_median, auc_roc_median\n"
   ]
  },
  {
   "cell_type": "markdown",
   "id": "5ce73c8f",
   "metadata": {},
   "source": [
    "Выполним кросс-валидацию на обучающей выборке с 5 фолдами для подобранных гиперпараметров:"
   ]
  },
  {
   "cell_type": "code",
   "execution_count": 64,
   "id": "04efd888",
   "metadata": {},
   "outputs": [],
   "source": [
    "cbc_smote = CatBoostClassifier(\n",
    "    random_state=rnd_st, \n",
    "    silent=True, \n",
    "    depth=7, \n",
    "    learning_rate=0.3, \n",
    "    iterations=63\n",
    ")\n",
    "rfc_smote = RandomForestClassifier(\n",
    "    random_state=rnd_st, \n",
    "    max_depth=10, \n",
    "    n_estimators=800\n",
    ")\n",
    "lr_smote = LogisticRegression(\n",
    "    random_state=rnd_st\n",
    ")\n",
    "models_smote = [cbc_smote, rfc_smote, lr_smote]"
   ]
  },
  {
   "cell_type": "code",
   "execution_count": 65,
   "id": "30df1d83",
   "metadata": {},
   "outputs": [
    {
     "name": "stdout",
     "output_type": "stream",
     "text": [
      "CatBoostClassifier cv=5 median f1 = 0.6303\n",
      "CatBoostClassifier cv=5 median accuracy = 0.8508\n",
      "CatBoostClassifier cv=5 median auc_roc = 0.8627\n",
      "- - - - - - - - - - - - - - - - - - - - - - - - - \n",
      "RandomForestClassifier cv=5 median f1 = 0.5981\n",
      "RandomForestClassifier cv=5 median accuracy = 0.8246\n",
      "RandomForestClassifier cv=5 median auc_roc = 0.8540\n",
      "- - - - - - - - - - - - - - - - - - - - - - - - - \n",
      "LogisticRegression cv=5 median f1 = 0.4825\n",
      "LogisticRegression cv=5 median accuracy = 0.7146\n",
      "LogisticRegression cv=5 median auc_roc = 0.7553\n",
      "- - - - - - - - - - - - - - - - - - - - - - - - - \n"
     ]
    }
   ],
   "source": [
    "for model in models_smote:\n",
    "    f1_median, accuracy_median, auc_roc_median =  smote_cv(model, x_train, y_train)\n",
    "    results.loc[len(results)] = [model.__class__.__name__, 'smote', f1_median, auc_roc_median, accuracy_median]\n",
    "    print(25 * '- ')"
   ]
  },
  {
   "cell_type": "code",
   "execution_count": 66,
   "id": "01730f27",
   "metadata": {},
   "outputs": [
    {
     "data": {
      "text/html": [
       "<div>\n",
       "<style scoped>\n",
       "    .dataframe tbody tr th:only-of-type {\n",
       "        vertical-align: middle;\n",
       "    }\n",
       "\n",
       "    .dataframe tbody tr th {\n",
       "        vertical-align: top;\n",
       "    }\n",
       "\n",
       "    .dataframe thead th {\n",
       "        text-align: right;\n",
       "    }\n",
       "</style>\n",
       "<table border=\"1\" class=\"dataframe\">\n",
       "  <thead>\n",
       "    <tr style=\"text-align: right;\">\n",
       "      <th></th>\n",
       "      <th>model</th>\n",
       "      <th>comment</th>\n",
       "      <th>f1</th>\n",
       "      <th>AUC-ROC</th>\n",
       "      <th>accuracy</th>\n",
       "    </tr>\n",
       "  </thead>\n",
       "  <tbody>\n",
       "    <tr>\n",
       "      <th>0</th>\n",
       "      <td>RandomForestClassifier</td>\n",
       "      <td>дисбаланс</td>\n",
       "      <td>0.5628</td>\n",
       "      <td>0.8657</td>\n",
       "      <td>0.8641</td>\n",
       "    </tr>\n",
       "    <tr>\n",
       "      <th>1</th>\n",
       "      <td>LogisticRegression</td>\n",
       "      <td>дисбаланс</td>\n",
       "      <td>0.2828</td>\n",
       "      <td>0.7578</td>\n",
       "      <td>0.8047</td>\n",
       "    </tr>\n",
       "    <tr>\n",
       "      <th>2</th>\n",
       "      <td>CatBoostClassifier</td>\n",
       "      <td>дисбаланс</td>\n",
       "      <td>0.5790</td>\n",
       "      <td>0.8713</td>\n",
       "      <td>0.8608</td>\n",
       "    </tr>\n",
       "    <tr>\n",
       "      <th>3</th>\n",
       "      <td>CatBoostClassifier</td>\n",
       "      <td>nearmiss</td>\n",
       "      <td>0.4573</td>\n",
       "      <td>0.7455</td>\n",
       "      <td>0.6502</td>\n",
       "    </tr>\n",
       "    <tr>\n",
       "      <th>4</th>\n",
       "      <td>RandomForestClassifier</td>\n",
       "      <td>nearmiss</td>\n",
       "      <td>0.4406</td>\n",
       "      <td>0.7267</td>\n",
       "      <td>0.6480</td>\n",
       "    </tr>\n",
       "    <tr>\n",
       "      <th>5</th>\n",
       "      <td>LogisticRegression</td>\n",
       "      <td>nearmiss</td>\n",
       "      <td>0.4330</td>\n",
       "      <td>0.6925</td>\n",
       "      <td>0.6370</td>\n",
       "    </tr>\n",
       "    <tr>\n",
       "      <th>6</th>\n",
       "      <td>CatBoostClassifier</td>\n",
       "      <td>smote</td>\n",
       "      <td>0.6303</td>\n",
       "      <td>0.8627</td>\n",
       "      <td>0.8508</td>\n",
       "    </tr>\n",
       "    <tr>\n",
       "      <th>7</th>\n",
       "      <td>RandomForestClassifier</td>\n",
       "      <td>smote</td>\n",
       "      <td>0.5981</td>\n",
       "      <td>0.8540</td>\n",
       "      <td>0.8246</td>\n",
       "    </tr>\n",
       "    <tr>\n",
       "      <th>8</th>\n",
       "      <td>LogisticRegression</td>\n",
       "      <td>smote</td>\n",
       "      <td>0.4825</td>\n",
       "      <td>0.7553</td>\n",
       "      <td>0.7146</td>\n",
       "    </tr>\n",
       "  </tbody>\n",
       "</table>\n",
       "</div>"
      ],
      "text/plain": [
       "                    model    comment     f1  AUC-ROC  accuracy\n",
       "0  RandomForestClassifier  дисбаланс 0.5628   0.8657    0.8641\n",
       "1      LogisticRegression  дисбаланс 0.2828   0.7578    0.8047\n",
       "2      CatBoostClassifier  дисбаланс 0.5790   0.8713    0.8608\n",
       "3      CatBoostClassifier   nearmiss 0.4573   0.7455    0.6502\n",
       "4  RandomForestClassifier   nearmiss 0.4406   0.7267    0.6480\n",
       "5      LogisticRegression   nearmiss 0.4330   0.6925    0.6370\n",
       "6      CatBoostClassifier      smote 0.6303   0.8627    0.8508\n",
       "7  RandomForestClassifier      smote 0.5981   0.8540    0.8246\n",
       "8      LogisticRegression      smote 0.4825   0.7553    0.7146"
      ]
     },
     "execution_count": 66,
     "metadata": {},
     "output_type": "execute_result"
    }
   ],
   "source": [
    "results"
   ]
  },
  {
   "cell_type": "markdown",
   "id": "c116885c",
   "metadata": {},
   "source": [
    "**Вывод:**\n",
    "\n",
    "Применение метода OverSampling дало существенный прирост метрики f1 для моделей. И CatBoostClassifier преодолел заданную планку в 0.61"
   ]
  },
  {
   "cell_type": "markdown",
   "id": "5c66440d",
   "metadata": {},
   "source": [
    "### Взвешивание классов"
   ]
  },
  {
   "cell_type": "markdown",
   "id": "794ccfe0",
   "metadata": {},
   "source": [
    "Укажем для каждой модели аргумент `class_weight` равный `balanced`\n",
    "\n",
    "Выполним кросс-валидацию на обучающей выборке с 5 фолдами для подобранных гиперпараметров"
   ]
  },
  {
   "cell_type": "code",
   "execution_count": 67,
   "id": "a6e416bb",
   "metadata": {},
   "outputs": [],
   "source": [
    "cbc_balanced = CatBoostClassifier(\n",
    "    random_state=rnd_st, \n",
    "    silent=True, \n",
    "    depth=7, \n",
    "    learning_rate=0.3, \n",
    "    iterations=63,\n",
    "    auto_class_weights='Balanced'\n",
    ")\n",
    "rfc_balanced = RandomForestClassifier(\n",
    "    random_state=rnd_st, \n",
    "    max_depth=10, \n",
    "    n_estimators=750, \n",
    "    class_weight='balanced'\n",
    ")\n",
    "lr_balanced = LogisticRegression(\n",
    "    random_state=rnd_st,\n",
    "    class_weight='balanced'\n",
    ")\n",
    "models_balanced = [cbc_balanced, rfc_balanced, lr_balanced]"
   ]
  },
  {
   "cell_type": "code",
   "execution_count": 68,
   "id": "83287cab",
   "metadata": {
    "scrolled": false
   },
   "outputs": [
    {
     "name": "stderr",
     "output_type": "stream",
     "text": [
      "100%|██████████| 3/3 [00:18<00:00,  6.22s/it]\n"
     ]
    },
    {
     "data": {
      "image/png": "[encoded data removed]",
      "text/plain": [
       "<Figure size 576x288 with 1 Axes>"
      ]
     },
     "metadata": {},
     "output_type": "display_data"
    }
   ],
   "source": [
    "cv_df_balanced = cv_func(models_balanced, x_train, y_train, 'со взвешенными классами', 'balanced')"
   ]
  },
  {
   "cell_type": "code",
   "execution_count": 69,
   "id": "084a417b",
   "metadata": {
    "scrolled": false
   },
   "outputs": [
    {
     "data": {
      "text/html": [
       "<div>\n",
       "<style scoped>\n",
       "    .dataframe tbody tr th:only-of-type {\n",
       "        vertical-align: middle;\n",
       "    }\n",
       "\n",
       "    .dataframe tbody tr th {\n",
       "        vertical-align: top;\n",
       "    }\n",
       "\n",
       "    .dataframe thead th {\n",
       "        text-align: right;\n",
       "    }\n",
       "</style>\n",
       "<table border=\"1\" class=\"dataframe\">\n",
       "  <thead>\n",
       "    <tr style=\"text-align: right;\">\n",
       "      <th></th>\n",
       "      <th>f1_balanced</th>\n",
       "    </tr>\n",
       "    <tr>\n",
       "      <th>model_name</th>\n",
       "      <th></th>\n",
       "    </tr>\n",
       "  </thead>\n",
       "  <tbody>\n",
       "    <tr>\n",
       "      <th>RandomForestClassifier</th>\n",
       "      <td>0.6139</td>\n",
       "    </tr>\n",
       "    <tr>\n",
       "      <th>CatBoostClassifier</th>\n",
       "      <td>0.6076</td>\n",
       "    </tr>\n",
       "    <tr>\n",
       "      <th>LogisticRegression</th>\n",
       "      <td>0.4964</td>\n",
       "    </tr>\n",
       "  </tbody>\n",
       "</table>\n",
       "</div>"
      ],
      "text/plain": [
       "                        f1_balanced\n",
       "model_name                         \n",
       "RandomForestClassifier       0.6139\n",
       "CatBoostClassifier           0.6076\n",
       "LogisticRegression           0.4964"
      ]
     },
     "execution_count": 69,
     "metadata": {},
     "output_type": "execute_result"
    }
   ],
   "source": [
    "cv_df_balanced"
   ]
  },
  {
   "cell_type": "markdown",
   "id": "92852238",
   "metadata": {},
   "source": [
    "Посмотрим как поведут себя модели на валидационой выборке:"
   ]
  },
  {
   "cell_type": "code",
   "execution_count": 70,
   "id": "73a1abf9",
   "metadata": {
    "scrolled": false
   },
   "outputs": [
    {
     "name": "stdout",
     "output_type": "stream",
     "text": [
      "CatBoostClassifier со взвешенными классами:\n",
      "\t - f1 = 0.5893\n",
      "\t - AUC-ROC = 0.8728\n",
      "\t - accuracy = 0.7976\n"
     ]
    },
    {
     "data": {
      "image/png": "[encoded data removed]",
      "text/plain": [
       "<Figure size 360x144 with 1 Axes>"
      ]
     },
     "metadata": {},
     "output_type": "display_data"
    },
    {
     "data": {
      "image/png": "[encoded data removed]",
      "text/plain": [
       "<Figure size 288x72 with 2 Axes>"
      ]
     },
     "metadata": {},
     "output_type": "display_data"
    },
    {
     "name": "stdout",
     "output_type": "stream",
     "text": [
      "RandomForestClassifier со взвешенными классами:\n",
      "\t - f1 = 0.6046\n",
      "\t - AUC-ROC = 0.8655\n",
      "\t - accuracy = 0.8388\n"
     ]
    },
    {
     "data": {
      "image/png": "[encoded data removed]",
      "text/plain": [
       "<Figure size 360x144 with 1 Axes>"
      ]
     },
     "metadata": {},
     "output_type": "display_data"
    },
    {
     "data": {
      "image/png": "[encoded data removed]",
      "text/plain": [
       "<Figure size 288x72 with 2 Axes>"
      ]
     },
     "metadata": {},
     "output_type": "display_data"
    },
    {
     "name": "stdout",
     "output_type": "stream",
     "text": [
      "LogisticRegression со взвешенными классами:\n",
      "\t - f1 = 0.4971\n",
      "\t - AUC-ROC = 0.7613\n",
      "\t - accuracy = 0.7107\n"
     ]
    },
    {
     "data": {
      "image/png": "[encoded data removed]",
      "text/plain": [
       "<Figure size 360x144 with 1 Axes>"
      ]
     },
     "metadata": {},
     "output_type": "display_data"
    },
    {
     "data": {
      "image/png": "[encoded data removed]",
      "text/plain": [
       "<Figure size 288x72 with 2 Axes>"
      ]
     },
     "metadata": {},
     "output_type": "display_data"
    }
   ],
   "source": [
    "for model in models_balanced:\n",
    "    model.fit(x_train_research, y_train_research)\n",
    "    roc_cm_plot(model, x_valid_research, y_valid_research, 'со взвешенными классами')"
   ]
  },
  {
   "cell_type": "markdown",
   "id": "3af2b4f9",
   "metadata": {},
   "source": [
    "Добавим результаты в общую таблицу:"
   ]
  },
  {
   "cell_type": "code",
   "execution_count": 71,
   "id": "82b26752",
   "metadata": {},
   "outputs": [
    {
     "data": {
      "text/html": [
       "<div>\n",
       "<style scoped>\n",
       "    .dataframe tbody tr th:only-of-type {\n",
       "        vertical-align: middle;\n",
       "    }\n",
       "\n",
       "    .dataframe tbody tr th {\n",
       "        vertical-align: top;\n",
       "    }\n",
       "\n",
       "    .dataframe thead th {\n",
       "        text-align: right;\n",
       "    }\n",
       "</style>\n",
       "<table border=\"1\" class=\"dataframe\">\n",
       "  <thead>\n",
       "    <tr style=\"text-align: right;\">\n",
       "      <th></th>\n",
       "      <th>model</th>\n",
       "      <th>comment</th>\n",
       "      <th>f1</th>\n",
       "      <th>AUC-ROC</th>\n",
       "      <th>accuracy</th>\n",
       "    </tr>\n",
       "  </thead>\n",
       "  <tbody>\n",
       "    <tr>\n",
       "      <th>0</th>\n",
       "      <td>RandomForestClassifier</td>\n",
       "      <td>дисбаланс</td>\n",
       "      <td>0.5628</td>\n",
       "      <td>0.8657</td>\n",
       "      <td>0.8641</td>\n",
       "    </tr>\n",
       "    <tr>\n",
       "      <th>1</th>\n",
       "      <td>LogisticRegression</td>\n",
       "      <td>дисбаланс</td>\n",
       "      <td>0.2828</td>\n",
       "      <td>0.7578</td>\n",
       "      <td>0.8047</td>\n",
       "    </tr>\n",
       "    <tr>\n",
       "      <th>2</th>\n",
       "      <td>CatBoostClassifier</td>\n",
       "      <td>дисбаланс</td>\n",
       "      <td>0.5790</td>\n",
       "      <td>0.8713</td>\n",
       "      <td>0.8608</td>\n",
       "    </tr>\n",
       "    <tr>\n",
       "      <th>3</th>\n",
       "      <td>CatBoostClassifier</td>\n",
       "      <td>nearmiss</td>\n",
       "      <td>0.4573</td>\n",
       "      <td>0.7455</td>\n",
       "      <td>0.6502</td>\n",
       "    </tr>\n",
       "    <tr>\n",
       "      <th>4</th>\n",
       "      <td>RandomForestClassifier</td>\n",
       "      <td>nearmiss</td>\n",
       "      <td>0.4406</td>\n",
       "      <td>0.7267</td>\n",
       "      <td>0.6480</td>\n",
       "    </tr>\n",
       "    <tr>\n",
       "      <th>5</th>\n",
       "      <td>LogisticRegression</td>\n",
       "      <td>nearmiss</td>\n",
       "      <td>0.4330</td>\n",
       "      <td>0.6925</td>\n",
       "      <td>0.6370</td>\n",
       "    </tr>\n",
       "    <tr>\n",
       "      <th>6</th>\n",
       "      <td>CatBoostClassifier</td>\n",
       "      <td>smote</td>\n",
       "      <td>0.6303</td>\n",
       "      <td>0.8627</td>\n",
       "      <td>0.8508</td>\n",
       "    </tr>\n",
       "    <tr>\n",
       "      <th>7</th>\n",
       "      <td>RandomForestClassifier</td>\n",
       "      <td>smote</td>\n",
       "      <td>0.5981</td>\n",
       "      <td>0.8540</td>\n",
       "      <td>0.8246</td>\n",
       "    </tr>\n",
       "    <tr>\n",
       "      <th>8</th>\n",
       "      <td>LogisticRegression</td>\n",
       "      <td>smote</td>\n",
       "      <td>0.4825</td>\n",
       "      <td>0.7553</td>\n",
       "      <td>0.7146</td>\n",
       "    </tr>\n",
       "    <tr>\n",
       "      <th>9</th>\n",
       "      <td>CatBoostClassifier</td>\n",
       "      <td>weighted</td>\n",
       "      <td>0.5893</td>\n",
       "      <td>0.8728</td>\n",
       "      <td>0.7976</td>\n",
       "    </tr>\n",
       "    <tr>\n",
       "      <th>10</th>\n",
       "      <td>RandomForestClassifier</td>\n",
       "      <td>weighted</td>\n",
       "      <td>0.6046</td>\n",
       "      <td>0.8655</td>\n",
       "      <td>0.8388</td>\n",
       "    </tr>\n",
       "    <tr>\n",
       "      <th>11</th>\n",
       "      <td>LogisticRegression</td>\n",
       "      <td>weighted</td>\n",
       "      <td>0.4971</td>\n",
       "      <td>0.7613</td>\n",
       "      <td>0.7107</td>\n",
       "    </tr>\n",
       "  </tbody>\n",
       "</table>\n",
       "</div>"
      ],
      "text/plain": [
       "                     model    comment     f1  AUC-ROC  accuracy\n",
       "0   RandomForestClassifier  дисбаланс 0.5628   0.8657    0.8641\n",
       "1       LogisticRegression  дисбаланс 0.2828   0.7578    0.8047\n",
       "2       CatBoostClassifier  дисбаланс 0.5790   0.8713    0.8608\n",
       "3       CatBoostClassifier   nearmiss 0.4573   0.7455    0.6502\n",
       "4   RandomForestClassifier   nearmiss 0.4406   0.7267    0.6480\n",
       "5       LogisticRegression   nearmiss 0.4330   0.6925    0.6370\n",
       "6       CatBoostClassifier      smote 0.6303   0.8627    0.8508\n",
       "7   RandomForestClassifier      smote 0.5981   0.8540    0.8246\n",
       "8       LogisticRegression      smote 0.4825   0.7553    0.7146\n",
       "9       CatBoostClassifier   weighted 0.5893   0.8728    0.7976\n",
       "10  RandomForestClassifier   weighted 0.6046   0.8655    0.8388\n",
       "11      LogisticRegression   weighted 0.4971   0.7613    0.7107"
      ]
     },
     "execution_count": 71,
     "metadata": {},
     "output_type": "execute_result"
    }
   ],
   "source": [
    "for model in models_balanced:\n",
    "    model.fit(x_train_research, y_train_research)\n",
    "    results = model_result(model, 'weighted', x_valid_research, y_valid_research)\n",
    "results"
   ]
  },
  {
   "cell_type": "markdown",
   "id": "5cf1721f",
   "metadata": {},
   "source": [
    "**Вывод:**\n",
    "\n",
    "Видим увеличение метрики f1 для RandomForestClassifier: преодолели порог 0.60"
   ]
  },
  {
   "cell_type": "markdown",
   "id": "fc759601",
   "metadata": {},
   "source": [
    "### Порог классификации"
   ]
  },
  {
   "cell_type": "markdown",
   "id": "f5acef10",
   "metadata": {},
   "source": [
    "Попробуем изменить значение порога классификации и посмотрим, как изменится f1\n",
    "\n",
    "Напишем функцию `count_threshold` для автоматизации подсчета f1 при разном значении порога"
   ]
  },
  {
   "cell_type": "code",
   "execution_count": 72,
   "id": "c1fafc42",
   "metadata": {},
   "outputs": [],
   "source": [
    "def count_threshold (model, x, y):\n",
    "    f1_list = []\n",
    "    threshold_list = np.arange(0, 0.8, 0.01)\n",
    "    f1_best = 0\n",
    "    threshold_best = 0\n",
    "    y_prob = model.predict_proba(x)\n",
    "    y_prob_one = y_prob[:, 1]\n",
    "    for threshold in threshold_list:\n",
    "        y_pred = y_prob_one > threshold\n",
    "        f1 = f1_score(y, y_pred)\n",
    "        f1_list.append(f1)\n",
    "        if threshold == 0.5:\n",
    "            print('Порог = {:.2f} | f1 = {:.4f}'.format(threshold, f1))\n",
    "        if f1 > f1_best:\n",
    "            f1_best = f1\n",
    "            threshold_best = threshold\n",
    "    print('Порог = {:.2f} | f1_best = {:.4f}'.format(threshold_best, f1_best))\n",
    "    plt.figure(figsize=(8,4))\n",
    "    plt.plot(threshold_list, f1_list, linestyle='-')\n",
    "    plt.ylim([0.2, 0.7])\n",
    "    plt.xlim([0, 0.8])\n",
    "    plt.xlabel('Порог')\n",
    "    plt.ylabel('f1')\n",
    "    plt.title('Влияние порога на f1 для {}'.format(model.__class__.__name__))\n",
    "    plt.axvline(linewidth=4, color='r', linestyle = '--', x=threshold_best, ymin=0, ymax=1)\n",
    "    plt.text(0.5, 0.24, 'f1_best = {:.4f}'.format(f1_best), \n",
    "             bbox={'facecolor': 'green', 'alpha': 0.3, 'pad': 5})\n",
    "    plt.show()"
   ]
  },
  {
   "cell_type": "markdown",
   "id": "99767051",
   "metadata": {},
   "source": [
    "Посмотрим на влияние порога на f1-метрику"
   ]
  },
  {
   "cell_type": "code",
   "execution_count": 73,
   "id": "1c281062",
   "metadata": {
    "scrolled": false
   },
   "outputs": [],
   "source": [
    "rfc_threshold = RandomForestClassifier(\n",
    "    random_state=rnd_st, \n",
    "    max_depth=10, \n",
    "    n_estimators=800\n",
    ")\n",
    "cbc_threshold = CatBoostClassifier(\n",
    "    random_state=rnd_st, \n",
    "    silent=True, \n",
    "    depth=7, \n",
    "    learning_rate=0.3, \n",
    "    iterations=63\n",
    ")\n",
    "\n",
    "models_threshold = [rfc_threshold, cbc_threshold]"
   ]
  },
  {
   "cell_type": "code",
   "execution_count": 74,
   "id": "ac63e1ef",
   "metadata": {},
   "outputs": [
    {
     "name": "stdout",
     "output_type": "stream",
     "text": [
      "Порог = 0.50 | f1 = 0.5628\n",
      "Порог = 0.31 | f1_best = 0.6141\n"
     ]
    },
    {
     "data": {
      "image/png": "[encoded data removed]",
      "text/plain": [
       "<Figure size 576x288 with 1 Axes>"
      ]
     },
     "metadata": {},
     "output_type": "display_data"
    },
    {
     "name": "stdout",
     "output_type": "stream",
     "text": [
      "Порог = 0.50 | f1 = 0.5790\n",
      "Порог = 0.38 | f1_best = 0.6167\n"
     ]
    },
    {
     "data": {
      "image/png": "[encoded data removed]",
      "text/plain": [
       "<Figure size 576x288 with 1 Axes>"
      ]
     },
     "metadata": {},
     "output_type": "display_data"
    }
   ],
   "source": [
    "for model in models_threshold:\n",
    "    model.fit(x_train_research, y_train_research)\n",
    "    count_threshold(model, x_valid_research, y_valid_research)"
   ]
  },
  {
   "cell_type": "markdown",
   "id": "25f6ce7f",
   "metadata": {},
   "source": [
    "- При пороге = 0.31 имеем максимальный f1_best = 0.6141 на валидационной выборке для RandomForestClassifier\n",
    "- При пороге = 0.38 имеем максимальный f1_best = 0.6167 на валидационной выборке для CatBoostClassifier\n",
    "\n",
    "Посмотрим на результат с найденными порогами на валидационной выборке:"
   ]
  },
  {
   "cell_type": "code",
   "execution_count": 75,
   "id": "d37eb5c6",
   "metadata": {
    "scrolled": true
   },
   "outputs": [
    {
     "name": "stdout",
     "output_type": "stream",
     "text": [
      "RandomForestClassifier порог=0.31 f1=0.6141\n"
     ]
    }
   ],
   "source": [
    "rfc_threshold.fit(x_train_research, y_train_research)\n",
    "threshold = 0.31\n",
    "y_pred = np.where(rfc_threshold.predict_proba(x_valid_research)[:,1] > threshold, 1, 0)\n",
    "f1 = f1_score(y_valid_research, y_pred)\n",
    "accuracy = accuracy_score(y_valid_research, y_pred)\n",
    "print('{} порог={} f1={:.4f}'.format(rfc_threshold.__class__.__name__, threshold, f1))\n",
    "results.loc[len(results)] = [rfc_threshold.__class__.__name__, 'порог={}'.format(threshold), f1, '-', accuracy]"
   ]
  },
  {
   "cell_type": "code",
   "execution_count": 76,
   "id": "2ca91499",
   "metadata": {},
   "outputs": [
    {
     "name": "stdout",
     "output_type": "stream",
     "text": [
      "CatBoostClassifier порог=0.38 f1=0.6167\n"
     ]
    }
   ],
   "source": [
    "cbc_threshold.fit(x_train_research, y_train_research)\n",
    "threshold = 0.38\n",
    "y_pred = np.where(cbc_threshold.predict_proba(x_valid_research)[:,1] > threshold, 1, 0)\n",
    "f1 = f1_score(y_valid_research, y_pred)\n",
    "accuracy = accuracy_score(y_valid_research, y_pred)\n",
    "print('{} порог={} f1={:.4f}'.format(cbc_threshold.__class__.__name__, threshold, f1))\n",
    "results.loc[len(results)] = [cbc_threshold.__class__.__name__, 'порог={}'.format(threshold), f1, '-', accuracy]"
   ]
  },
  {
   "cell_type": "code",
   "execution_count": 77,
   "id": "798549a6",
   "metadata": {},
   "outputs": [
    {
     "data": {
      "text/html": [
       "<div>\n",
       "<style scoped>\n",
       "    .dataframe tbody tr th:only-of-type {\n",
       "        vertical-align: middle;\n",
       "    }\n",
       "\n",
       "    .dataframe tbody tr th {\n",
       "        vertical-align: top;\n",
       "    }\n",
       "\n",
       "    .dataframe thead th {\n",
       "        text-align: right;\n",
       "    }\n",
       "</style>\n",
       "<table border=\"1\" class=\"dataframe\">\n",
       "  <thead>\n",
       "    <tr style=\"text-align: right;\">\n",
       "      <th></th>\n",
       "      <th>model</th>\n",
       "      <th>comment</th>\n",
       "      <th>f1</th>\n",
       "      <th>AUC-ROC</th>\n",
       "      <th>accuracy</th>\n",
       "    </tr>\n",
       "  </thead>\n",
       "  <tbody>\n",
       "    <tr>\n",
       "      <th>0</th>\n",
       "      <td>RandomForestClassifier</td>\n",
       "      <td>дисбаланс</td>\n",
       "      <td>0.5628</td>\n",
       "      <td>0.8657</td>\n",
       "      <td>0.8641</td>\n",
       "    </tr>\n",
       "    <tr>\n",
       "      <th>1</th>\n",
       "      <td>LogisticRegression</td>\n",
       "      <td>дисбаланс</td>\n",
       "      <td>0.2828</td>\n",
       "      <td>0.7578</td>\n",
       "      <td>0.8047</td>\n",
       "    </tr>\n",
       "    <tr>\n",
       "      <th>2</th>\n",
       "      <td>CatBoostClassifier</td>\n",
       "      <td>дисбаланс</td>\n",
       "      <td>0.5790</td>\n",
       "      <td>0.8713</td>\n",
       "      <td>0.8608</td>\n",
       "    </tr>\n",
       "    <tr>\n",
       "      <th>3</th>\n",
       "      <td>CatBoostClassifier</td>\n",
       "      <td>nearmiss</td>\n",
       "      <td>0.4573</td>\n",
       "      <td>0.7455</td>\n",
       "      <td>0.6502</td>\n",
       "    </tr>\n",
       "    <tr>\n",
       "      <th>4</th>\n",
       "      <td>RandomForestClassifier</td>\n",
       "      <td>nearmiss</td>\n",
       "      <td>0.4406</td>\n",
       "      <td>0.7267</td>\n",
       "      <td>0.6480</td>\n",
       "    </tr>\n",
       "    <tr>\n",
       "      <th>5</th>\n",
       "      <td>LogisticRegression</td>\n",
       "      <td>nearmiss</td>\n",
       "      <td>0.4330</td>\n",
       "      <td>0.6925</td>\n",
       "      <td>0.6370</td>\n",
       "    </tr>\n",
       "    <tr>\n",
       "      <th>6</th>\n",
       "      <td>CatBoostClassifier</td>\n",
       "      <td>smote</td>\n",
       "      <td>0.6303</td>\n",
       "      <td>0.8627</td>\n",
       "      <td>0.8508</td>\n",
       "    </tr>\n",
       "    <tr>\n",
       "      <th>7</th>\n",
       "      <td>RandomForestClassifier</td>\n",
       "      <td>smote</td>\n",
       "      <td>0.5981</td>\n",
       "      <td>0.8540</td>\n",
       "      <td>0.8246</td>\n",
       "    </tr>\n",
       "    <tr>\n",
       "      <th>8</th>\n",
       "      <td>LogisticRegression</td>\n",
       "      <td>smote</td>\n",
       "      <td>0.4825</td>\n",
       "      <td>0.7553</td>\n",
       "      <td>0.7146</td>\n",
       "    </tr>\n",
       "    <tr>\n",
       "      <th>9</th>\n",
       "      <td>CatBoostClassifier</td>\n",
       "      <td>weighted</td>\n",
       "      <td>0.5893</td>\n",
       "      <td>0.8728</td>\n",
       "      <td>0.7976</td>\n",
       "    </tr>\n",
       "    <tr>\n",
       "      <th>10</th>\n",
       "      <td>RandomForestClassifier</td>\n",
       "      <td>weighted</td>\n",
       "      <td>0.6046</td>\n",
       "      <td>0.8655</td>\n",
       "      <td>0.8388</td>\n",
       "    </tr>\n",
       "    <tr>\n",
       "      <th>11</th>\n",
       "      <td>LogisticRegression</td>\n",
       "      <td>weighted</td>\n",
       "      <td>0.4971</td>\n",
       "      <td>0.7613</td>\n",
       "      <td>0.7107</td>\n",
       "    </tr>\n",
       "    <tr>\n",
       "      <th>12</th>\n",
       "      <td>RandomForestClassifier</td>\n",
       "      <td>порог=0.31</td>\n",
       "      <td>0.6141</td>\n",
       "      <td>-</td>\n",
       "      <td>0.8438</td>\n",
       "    </tr>\n",
       "    <tr>\n",
       "      <th>13</th>\n",
       "      <td>CatBoostClassifier</td>\n",
       "      <td>порог=0.38</td>\n",
       "      <td>0.6167</td>\n",
       "      <td>-</td>\n",
       "      <td>0.8564</td>\n",
       "    </tr>\n",
       "  </tbody>\n",
       "</table>\n",
       "</div>"
      ],
      "text/plain": [
       "                     model     comment     f1 AUC-ROC  accuracy\n",
       "0   RandomForestClassifier   дисбаланс 0.5628  0.8657    0.8641\n",
       "1       LogisticRegression   дисбаланс 0.2828  0.7578    0.8047\n",
       "2       CatBoostClassifier   дисбаланс 0.5790  0.8713    0.8608\n",
       "3       CatBoostClassifier    nearmiss 0.4573  0.7455    0.6502\n",
       "4   RandomForestClassifier    nearmiss 0.4406  0.7267    0.6480\n",
       "5       LogisticRegression    nearmiss 0.4330  0.6925    0.6370\n",
       "6       CatBoostClassifier       smote 0.6303  0.8627    0.8508\n",
       "7   RandomForestClassifier       smote 0.5981  0.8540    0.8246\n",
       "8       LogisticRegression       smote 0.4825  0.7553    0.7146\n",
       "9       CatBoostClassifier    weighted 0.5893  0.8728    0.7976\n",
       "10  RandomForestClassifier    weighted 0.6046  0.8655    0.8388\n",
       "11      LogisticRegression    weighted 0.4971  0.7613    0.7107\n",
       "12  RandomForestClassifier  порог=0.31 0.6141       -    0.8438\n",
       "13      CatBoostClassifier  порог=0.38 0.6167       -    0.8564"
      ]
     },
     "execution_count": 77,
     "metadata": {},
     "output_type": "execute_result"
    }
   ],
   "source": [
    "results"
   ]
  },
  {
   "cell_type": "markdown",
   "id": "14aa4145",
   "metadata": {},
   "source": [
    "#### Посмотрим на пороги классификации в кросс-валидации"
   ]
  },
  {
   "cell_type": "markdown",
   "id": "0e2205b6",
   "metadata": {},
   "source": [
    "На примере RandomForestClassifier"
   ]
  },
  {
   "cell_type": "code",
   "execution_count": 78,
   "id": "74cbe617",
   "metadata": {},
   "outputs": [],
   "source": [
    "def count_threshold_cv(model, X, Y):\n",
    "    model_name = model.__class__.__name__\n",
    "    fold_num=1\n",
    "    f1_best_list = []\n",
    "    threshold_best_list = []\n",
    "    kf = KFold(n_splits=5)\n",
    "    print('Влияние порога на accuracy для {}'.format(model_name))\n",
    "    for train_index, test_index in kf.split(X):\n",
    "        print('fold_num =', fold_num)\n",
    "        X_train, X_test, Y_train, Y_test = (X.iloc[train_index], \n",
    "                                            X.iloc[test_index], \n",
    "                                            Y.iloc[train_index], \n",
    "                                            Y.iloc[test_index])\n",
    "        model.fit(X_train, Y_train)\n",
    "        f1_list = []\n",
    "        threshold_list = np.arange(0, 0.8, 0.01)\n",
    "        f1_best = 0\n",
    "        threshold_best = 0\n",
    "        Y_prob = model.predict_proba(X_test)\n",
    "        Y_prob_one = Y_prob[:, 1]\n",
    "        for threshold in threshold_list:\n",
    "            Y_pred = Y_prob_one > threshold\n",
    "            f1 = f1_score(Y_test, Y_pred)\n",
    "            f1_list.append(f1)\n",
    "            if threshold == 0.5:\n",
    "                print('Порог = {:.2f} | f1 = {:.4f}'.format(threshold, f1))\n",
    "            if f1 > f1_best:\n",
    "                f1_best = f1\n",
    "                threshold_best = threshold\n",
    "        print('Порог = {:.2f} | f1_best = {:.4f}'.format(threshold_best, f1_best))\n",
    "        plt.figure(figsize=(4, 1.5))\n",
    "        plt.plot(threshold_list, f1_list, linestyle='-')\n",
    "        plt.ylim([0.2, 0.9])\n",
    "        plt.xlim([0, 0.8])\n",
    "        plt.xlabel('Порог')\n",
    "        plt.ylabel('accuracy')\n",
    "        plt.axvline(linewidth=4, color='r', linestyle = '--', x=threshold_best, ymin=0, ymax=1)\n",
    "        plt.show()\n",
    "        fold_num += 1\n",
    "        f1_best_list.append(round(f1_best, 4))\n",
    "        threshold_best_list.append(threshold_best)\n",
    "    print('Значения f1_best за все итерации:', f1_best_list)\n",
    "    print('Значения threshold_best за все итерации:', threshold_best_list)"
   ]
  },
  {
   "cell_type": "code",
   "execution_count": 79,
   "id": "f12ee726",
   "metadata": {},
   "outputs": [
    {
     "name": "stdout",
     "output_type": "stream",
     "text": [
      "Влияние порога на accuracy для RandomForestClassifier\n",
      "fold_num = 1\n",
      "Порог = 0.50 | f1 = 0.5439\n",
      "Порог = 0.30 | f1_best = 0.6236\n"
     ]
    },
    {
     "data": {
      "image/png": "[encoded data removed]",
      "text/plain": [
       "<Figure size 288x108 with 1 Axes>"
      ]
     },
     "metadata": {},
     "output_type": "display_data"
    },
    {
     "name": "stdout",
     "output_type": "stream",
     "text": [
      "fold_num = 2\n",
      "Порог = 0.50 | f1 = 0.5743\n",
      "Порог = 0.30 | f1_best = 0.6224\n"
     ]
    },
    {
     "data": {
      "image/png": "[encoded data removed]",
      "text/plain": [
       "<Figure size 288x108 with 1 Axes>"
      ]
     },
     "metadata": {},
     "output_type": "display_data"
    },
    {
     "name": "stdout",
     "output_type": "stream",
     "text": [
      "fold_num = 3\n",
      "Порог = 0.50 | f1 = 0.5912\n",
      "Порог = 0.40 | f1_best = 0.6329\n"
     ]
    },
    {
     "data": {
      "image/png": "[encoded data removed]",
      "text/plain": [
       "<Figure size 288x108 with 1 Axes>"
      ]
     },
     "metadata": {},
     "output_type": "display_data"
    },
    {
     "name": "stdout",
     "output_type": "stream",
     "text": [
      "fold_num = 4\n",
      "Порог = 0.50 | f1 = 0.6095\n",
      "Порог = 0.33 | f1_best = 0.6355\n"
     ]
    },
    {
     "data": {
      "image/png": "[encoded data removed]",
      "text/plain": [
       "<Figure size 288x108 with 1 Axes>"
      ]
     },
     "metadata": {},
     "output_type": "display_data"
    },
    {
     "name": "stdout",
     "output_type": "stream",
     "text": [
      "fold_num = 5\n",
      "Порог = 0.50 | f1 = 0.5415\n",
      "Порог = 0.28 | f1_best = 0.6190\n"
     ]
    },
    {
     "data": {
      "image/png": "[encoded data removed]",
      "text/plain": [
       "<Figure size 288x108 with 1 Axes>"
      ]
     },
     "metadata": {},
     "output_type": "display_data"
    },
    {
     "name": "stdout",
     "output_type": "stream",
     "text": [
      "Значения f1_best за все итерации: [0.6236, 0.6224, 0.6329, 0.6355, 0.619]\n",
      "Значения threshold_best за все итерации: [0.3, 0.3, 0.4, 0.33, 0.28]\n"
     ]
    }
   ],
   "source": [
    "rfc_threshold = RandomForestClassifier(\n",
    "    random_state=rnd_st, \n",
    "    max_depth=10, \n",
    "    n_estimators=800\n",
    ")\n",
    "count_threshold_cv(rfc_threshold, x_train, y_train)"
   ]
  },
  {
   "cell_type": "markdown",
   "id": "712668e9",
   "metadata": {},
   "source": [
    "Видим, что за кросс-валидацию значения лучшего порога и соответственно лучшей метрики варируются"
   ]
  },
  {
   "cell_type": "markdown",
   "id": "62684053",
   "metadata": {},
   "source": [
    "**Вывод:**\n",
    "\n",
    "Изменение порогов классификации дает хороший прирост метрике f1: результаты выше 0.61:\n",
    "- RandomForestClassifier порог=0.31 f1=0.6141\n",
    "- CatBoostClassifier порог=0.38 f1=0.6167\n"
   ]
  },
  {
   "cell_type": "markdown",
   "id": "1d8c2119",
   "metadata": {},
   "source": [
    "### Выбор лучшей модели"
   ]
  },
  {
   "cell_type": "markdown",
   "id": "e231b791",
   "metadata": {},
   "source": [
    "Выведем результаты по кросс-валидации c 5 фолдами на обучающей выборке"
   ]
  },
  {
   "cell_type": "code",
   "execution_count": 80,
   "id": "a828e89f",
   "metadata": {
    "scrolled": false
   },
   "outputs": [
    {
     "data": {
      "text/html": [
       "<div>\n",
       "<style scoped>\n",
       "    .dataframe tbody tr th:only-of-type {\n",
       "        vertical-align: middle;\n",
       "    }\n",
       "\n",
       "    .dataframe tbody tr th {\n",
       "        vertical-align: top;\n",
       "    }\n",
       "\n",
       "    .dataframe thead th {\n",
       "        text-align: right;\n",
       "    }\n",
       "</style>\n",
       "<table border=\"1\" class=\"dataframe\">\n",
       "  <thead>\n",
       "    <tr style=\"text-align: right;\">\n",
       "      <th></th>\n",
       "      <th>model</th>\n",
       "      <th>comment</th>\n",
       "      <th>f1</th>\n",
       "      <th>AUC-ROC</th>\n",
       "      <th>accuracy</th>\n",
       "    </tr>\n",
       "  </thead>\n",
       "  <tbody>\n",
       "    <tr>\n",
       "      <th>6</th>\n",
       "      <td>CatBoostClassifier</td>\n",
       "      <td>smote</td>\n",
       "      <td>0.6303</td>\n",
       "      <td>0.8627</td>\n",
       "      <td>0.8508</td>\n",
       "    </tr>\n",
       "    <tr>\n",
       "      <th>13</th>\n",
       "      <td>CatBoostClassifier</td>\n",
       "      <td>порог=0.38</td>\n",
       "      <td>0.6167</td>\n",
       "      <td>-</td>\n",
       "      <td>0.8564</td>\n",
       "    </tr>\n",
       "    <tr>\n",
       "      <th>12</th>\n",
       "      <td>RandomForestClassifier</td>\n",
       "      <td>порог=0.31</td>\n",
       "      <td>0.6141</td>\n",
       "      <td>-</td>\n",
       "      <td>0.8438</td>\n",
       "    </tr>\n",
       "    <tr>\n",
       "      <th>10</th>\n",
       "      <td>RandomForestClassifier</td>\n",
       "      <td>weighted</td>\n",
       "      <td>0.6046</td>\n",
       "      <td>0.8655</td>\n",
       "      <td>0.8388</td>\n",
       "    </tr>\n",
       "    <tr>\n",
       "      <th>7</th>\n",
       "      <td>RandomForestClassifier</td>\n",
       "      <td>smote</td>\n",
       "      <td>0.5981</td>\n",
       "      <td>0.8540</td>\n",
       "      <td>0.8246</td>\n",
       "    </tr>\n",
       "    <tr>\n",
       "      <th>9</th>\n",
       "      <td>CatBoostClassifier</td>\n",
       "      <td>weighted</td>\n",
       "      <td>0.5893</td>\n",
       "      <td>0.8728</td>\n",
       "      <td>0.7976</td>\n",
       "    </tr>\n",
       "    <tr>\n",
       "      <th>2</th>\n",
       "      <td>CatBoostClassifier</td>\n",
       "      <td>дисбаланс</td>\n",
       "      <td>0.5790</td>\n",
       "      <td>0.8713</td>\n",
       "      <td>0.8608</td>\n",
       "    </tr>\n",
       "    <tr>\n",
       "      <th>0</th>\n",
       "      <td>RandomForestClassifier</td>\n",
       "      <td>дисбаланс</td>\n",
       "      <td>0.5628</td>\n",
       "      <td>0.8657</td>\n",
       "      <td>0.8641</td>\n",
       "    </tr>\n",
       "    <tr>\n",
       "      <th>11</th>\n",
       "      <td>LogisticRegression</td>\n",
       "      <td>weighted</td>\n",
       "      <td>0.4971</td>\n",
       "      <td>0.7613</td>\n",
       "      <td>0.7107</td>\n",
       "    </tr>\n",
       "    <tr>\n",
       "      <th>8</th>\n",
       "      <td>LogisticRegression</td>\n",
       "      <td>smote</td>\n",
       "      <td>0.4825</td>\n",
       "      <td>0.7553</td>\n",
       "      <td>0.7146</td>\n",
       "    </tr>\n",
       "    <tr>\n",
       "      <th>3</th>\n",
       "      <td>CatBoostClassifier</td>\n",
       "      <td>nearmiss</td>\n",
       "      <td>0.4573</td>\n",
       "      <td>0.7455</td>\n",
       "      <td>0.6502</td>\n",
       "    </tr>\n",
       "    <tr>\n",
       "      <th>4</th>\n",
       "      <td>RandomForestClassifier</td>\n",
       "      <td>nearmiss</td>\n",
       "      <td>0.4406</td>\n",
       "      <td>0.7267</td>\n",
       "      <td>0.6480</td>\n",
       "    </tr>\n",
       "    <tr>\n",
       "      <th>5</th>\n",
       "      <td>LogisticRegression</td>\n",
       "      <td>nearmiss</td>\n",
       "      <td>0.4330</td>\n",
       "      <td>0.6925</td>\n",
       "      <td>0.6370</td>\n",
       "    </tr>\n",
       "    <tr>\n",
       "      <th>1</th>\n",
       "      <td>LogisticRegression</td>\n",
       "      <td>дисбаланс</td>\n",
       "      <td>0.2828</td>\n",
       "      <td>0.7578</td>\n",
       "      <td>0.8047</td>\n",
       "    </tr>\n",
       "  </tbody>\n",
       "</table>\n",
       "</div>"
      ],
      "text/plain": [
       "                     model     comment     f1 AUC-ROC  accuracy\n",
       "6       CatBoostClassifier       smote 0.6303  0.8627    0.8508\n",
       "13      CatBoostClassifier  порог=0.38 0.6167       -    0.8564\n",
       "12  RandomForestClassifier  порог=0.31 0.6141       -    0.8438\n",
       "10  RandomForestClassifier    weighted 0.6046  0.8655    0.8388\n",
       "7   RandomForestClassifier       smote 0.5981  0.8540    0.8246\n",
       "9       CatBoostClassifier    weighted 0.5893  0.8728    0.7976\n",
       "2       CatBoostClassifier   дисбаланс 0.5790  0.8713    0.8608\n",
       "0   RandomForestClassifier   дисбаланс 0.5628  0.8657    0.8641\n",
       "11      LogisticRegression    weighted 0.4971  0.7613    0.7107\n",
       "8       LogisticRegression       smote 0.4825  0.7553    0.7146\n",
       "3       CatBoostClassifier    nearmiss 0.4573  0.7455    0.6502\n",
       "4   RandomForestClassifier    nearmiss 0.4406  0.7267    0.6480\n",
       "5       LogisticRegression    nearmiss 0.4330  0.6925    0.6370\n",
       "1       LogisticRegression   дисбаланс 0.2828  0.7578    0.8047"
      ]
     },
     "execution_count": 80,
     "metadata": {},
     "output_type": "execute_result"
    }
   ],
   "source": [
    "results.sort_values(by='f1', ascending=False)"
   ]
  },
  {
   "cell_type": "markdown",
   "id": "704aae26",
   "metadata": {},
   "source": [
    "**Вывод:**\n",
    "    \n",
    "Наибольшее значение метрики f1 было получено при оверсемплинге для CatBoostClassifier f1 = 0.6303"
   ]
  },
  {
   "cell_type": "markdown",
   "id": "9370f744",
   "metadata": {},
   "source": [
    "## Тестирование лучшей модели на тестовых данных"
   ]
  },
  {
   "cell_type": "markdown",
   "id": "c992f44b",
   "metadata": {},
   "source": [
    "Посмотрим на первые 2 места в рейтинге"
   ]
  },
  {
   "cell_type": "markdown",
   "id": "f9899ccb",
   "metadata": {},
   "source": [
    "### 1 место: CatBoostClassifier с SMOTE"
   ]
  },
  {
   "cell_type": "code",
   "execution_count": 81,
   "id": "84d3ba81",
   "metadata": {},
   "outputs": [],
   "source": [
    "the_best_model_1 = CatBoostClassifier(\n",
    "    random_state=rnd_st, \n",
    "    depth=7, \n",
    "    learning_rate=0.3, \n",
    "    iterations=63,\n",
    "    silent=True\n",
    ")"
   ]
  },
  {
   "cell_type": "code",
   "execution_count": 82,
   "id": "6612d3c8",
   "metadata": {},
   "outputs": [
    {
     "name": "stdout",
     "output_type": "stream",
     "text": [
      "Модель 1 место CatBoostClassifier f1 = 0.6291 | auc_roc = 0.8650\n"
     ]
    }
   ],
   "source": [
    "oversample = SMOTE(random_state=rnd_st)\n",
    "x_train_smote, y_train_smote = oversample.fit_resample(x_train, y_train)\n",
    "the_best_model_1.fit(x_train_smote, y_train_smote)\n",
    "y_pred = the_best_model_1.predict(x_test)\n",
    "y_prob = the_best_model_1.predict_proba(x_test)\n",
    "y_prob_one = y_prob[:, 1]\n",
    "accuracy = accuracy_score(y_test, y_pred)\n",
    "auc_roc = roc_auc_score(y_test, y_prob_one)\n",
    "f1 = f1_score(y_test, y_pred)\n",
    "print('Модель 1 место {} f1 = {:.4f} | auc_roc = {:.4f}'.format(the_best_model_1.__class__.__name__, f1, auc_roc))"
   ]
  },
  {
   "cell_type": "code",
   "execution_count": 83,
   "id": "05c6585f",
   "metadata": {},
   "outputs": [
    {
     "name": "stdout",
     "output_type": "stream",
     "text": [
      "(11578, 11) (11578,)\n",
      "5789 5789\n"
     ]
    }
   ],
   "source": [
    "print(x_train_smote.shape, y_train_smote.shape)\n",
    "print(sum(y_train_smote == True), sum(y_train_smote == False))"
   ]
  },
  {
   "cell_type": "markdown",
   "id": "929b9435",
   "metadata": {},
   "source": [
    "### 2 место RandomForestClassifier с порогом 0.31"
   ]
  },
  {
   "cell_type": "code",
   "execution_count": 84,
   "id": "d55df6eb",
   "metadata": {},
   "outputs": [],
   "source": [
    "the_best_model_2 = RandomForestClassifier(\n",
    "    random_state=rnd_st, \n",
    "    max_depth=10, \n",
    "    n_estimators=800\n",
    ")"
   ]
  },
  {
   "cell_type": "code",
   "execution_count": 86,
   "id": "1c04af59",
   "metadata": {},
   "outputs": [
    {
     "name": "stdout",
     "output_type": "stream",
     "text": [
      "Модель 2 место RandomForestClassifier порог=0.31 f1=0.6327\n"
     ]
    }
   ],
   "source": [
    "the_best_model_2.fit(x_train, y_train)\n",
    "threshold = 0.31\n",
    "y_pred = np.where(the_best_model_2.predict_proba(x_test)[:,1] > threshold, 1, 0)\n",
    "f1 = f1_score(y_test, y_pred)\n",
    "print('Модель 2 место {} порог={} f1={:.4f}'.format(the_best_model_2.__class__.__name__, threshold, f1))"
   ]
  },
  {
   "cell_type": "markdown",
   "id": "0aefe050",
   "metadata": {},
   "source": [
    "**Вывод:**\n",
    "\n",
    "- Модель 1 место CatBoostClassifier f1 = 0.6291| auc_roc = 0.8650\n",
    "- Модель 2 место RandomForestClassifier порог=0.31 f1=0.6327"
   ]
  },
  {
   "cell_type": "markdown",
   "id": "82e985a2",
   "metadata": {},
   "source": [
    "## Вывод\n",
    "\n",
    "\n",
    "- Ознакомились с данными и подготовили их к исследованию (преобразовали категориальные признаки в численные с помощью техники прямого кодирования One-Hot Encoding и с помощью словаря).\n",
    "- Исследовали баланс классов - они оказались несбалансированы, изучили модели без учёта дисбаланса, выяснили, что результат работы модели CatBoostClassifier лучше.\n",
    "- Применили 4 способа борбы с дисбалансом - параметр class_weight, уменьшение выборки, увеличение выборки и изменение порога. Лучшие результаты показал метод борьбы с дисбалансом SMOTE.\n",
    "- Достигли значения f1 = 0.61."
   ]
  }
 ],
 "metadata": {
  "ExecuteTimeLog": [
   {
    "duration": 596,
    "start_time": "2022-05-07T13:39:51.576Z"
   },
   {
    "duration": 5227,
    "start_time": "2022-05-07T13:39:52.174Z"
   },
   {
    "duration": 1122,
    "start_time": "2022-05-07T13:39:57.404Z"
   },
   {
    "duration": 0,
    "start_time": "2022-05-07T13:39:58.530Z"
   },
   {
    "duration": 0,
    "start_time": "2022-05-07T13:39:58.532Z"
   },
   {
    "duration": 0,
    "start_time": "2022-05-07T13:39:58.533Z"
   },
   {
    "duration": 0,
    "start_time": "2022-05-07T13:39:58.534Z"
   },
   {
    "duration": 0,
    "start_time": "2022-05-07T13:39:58.535Z"
   },
   {
    "duration": 0,
    "start_time": "2022-05-07T13:39:58.536Z"
   },
   {
    "duration": 0,
    "start_time": "2022-05-07T13:39:58.537Z"
   },
   {
    "duration": 0,
    "start_time": "2022-05-07T13:39:58.538Z"
   },
   {
    "duration": 0,
    "start_time": "2022-05-07T13:39:58.540Z"
   },
   {
    "duration": 0,
    "start_time": "2022-05-07T13:39:58.554Z"
   },
   {
    "duration": 0,
    "start_time": "2022-05-07T13:39:58.555Z"
   },
   {
    "duration": 0,
    "start_time": "2022-05-07T13:39:58.556Z"
   },
   {
    "duration": 0,
    "start_time": "2022-05-07T13:39:58.557Z"
   },
   {
    "duration": 0,
    "start_time": "2022-05-07T13:39:58.559Z"
   },
   {
    "duration": 0,
    "start_time": "2022-05-07T13:39:58.560Z"
   },
   {
    "duration": 1,
    "start_time": "2022-05-07T13:39:58.561Z"
   },
   {
    "duration": 0,
    "start_time": "2022-05-07T13:39:58.563Z"
   },
   {
    "duration": 0,
    "start_time": "2022-05-07T13:39:58.564Z"
   },
   {
    "duration": 0,
    "start_time": "2022-05-07T13:39:58.566Z"
   },
   {
    "duration": 0,
    "start_time": "2022-05-07T13:39:58.567Z"
   },
   {
    "duration": 0,
    "start_time": "2022-05-07T13:39:58.569Z"
   },
   {
    "duration": 0,
    "start_time": "2022-05-07T13:39:58.570Z"
   },
   {
    "duration": 0,
    "start_time": "2022-05-07T13:39:58.571Z"
   },
   {
    "duration": 0,
    "start_time": "2022-05-07T13:39:58.572Z"
   },
   {
    "duration": 0,
    "start_time": "2022-05-07T13:39:58.573Z"
   },
   {
    "duration": 0,
    "start_time": "2022-05-07T13:39:58.574Z"
   },
   {
    "duration": 0,
    "start_time": "2022-05-07T13:39:58.576Z"
   },
   {
    "duration": 0,
    "start_time": "2022-05-07T13:39:58.577Z"
   },
   {
    "duration": 0,
    "start_time": "2022-05-07T13:39:58.578Z"
   },
   {
    "duration": 0,
    "start_time": "2022-05-07T13:39:58.579Z"
   },
   {
    "duration": 0,
    "start_time": "2022-05-07T13:39:58.581Z"
   },
   {
    "duration": 0,
    "start_time": "2022-05-07T13:39:58.582Z"
   },
   {
    "duration": 0,
    "start_time": "2022-05-07T13:39:58.583Z"
   },
   {
    "duration": 0,
    "start_time": "2022-05-07T13:39:58.585Z"
   },
   {
    "duration": 0,
    "start_time": "2022-05-07T13:39:58.586Z"
   },
   {
    "duration": 0,
    "start_time": "2022-05-07T13:39:58.587Z"
   },
   {
    "duration": 0,
    "start_time": "2022-05-07T13:39:58.588Z"
   },
   {
    "duration": 0,
    "start_time": "2022-05-07T13:39:58.590Z"
   },
   {
    "duration": 0,
    "start_time": "2022-05-07T13:39:58.590Z"
   },
   {
    "duration": 0,
    "start_time": "2022-05-07T13:39:58.592Z"
   },
   {
    "duration": 0,
    "start_time": "2022-05-07T13:39:58.655Z"
   },
   {
    "duration": 0,
    "start_time": "2022-05-07T13:39:58.656Z"
   },
   {
    "duration": 0,
    "start_time": "2022-05-07T13:39:58.658Z"
   },
   {
    "duration": 0,
    "start_time": "2022-05-07T13:39:58.659Z"
   },
   {
    "duration": 0,
    "start_time": "2022-05-07T13:39:58.660Z"
   },
   {
    "duration": 0,
    "start_time": "2022-05-07T13:39:58.661Z"
   },
   {
    "duration": 0,
    "start_time": "2022-05-07T13:39:58.663Z"
   },
   {
    "duration": 0,
    "start_time": "2022-05-07T13:39:58.664Z"
   },
   {
    "duration": 0,
    "start_time": "2022-05-07T13:39:58.664Z"
   },
   {
    "duration": 0,
    "start_time": "2022-05-07T13:39:58.666Z"
   },
   {
    "duration": 0,
    "start_time": "2022-05-07T13:39:58.666Z"
   },
   {
    "duration": 0,
    "start_time": "2022-05-07T13:39:58.668Z"
   },
   {
    "duration": 0,
    "start_time": "2022-05-07T13:39:58.669Z"
   },
   {
    "duration": 0,
    "start_time": "2022-05-07T13:39:58.671Z"
   },
   {
    "duration": 0,
    "start_time": "2022-05-07T13:39:58.672Z"
   },
   {
    "duration": 0,
    "start_time": "2022-05-07T13:39:58.673Z"
   },
   {
    "duration": 0,
    "start_time": "2022-05-07T13:39:58.674Z"
   },
   {
    "duration": 0,
    "start_time": "2022-05-07T13:39:58.675Z"
   },
   {
    "duration": 0,
    "start_time": "2022-05-07T13:39:58.677Z"
   },
   {
    "duration": 0,
    "start_time": "2022-05-07T13:39:58.678Z"
   },
   {
    "duration": 0,
    "start_time": "2022-05-07T13:39:58.679Z"
   },
   {
    "duration": 0,
    "start_time": "2022-05-07T13:39:58.680Z"
   },
   {
    "duration": 0,
    "start_time": "2022-05-07T13:39:58.681Z"
   },
   {
    "duration": 0,
    "start_time": "2022-05-07T13:39:58.682Z"
   },
   {
    "duration": 0,
    "start_time": "2022-05-07T13:39:58.683Z"
   },
   {
    "duration": 0,
    "start_time": "2022-05-07T13:39:58.685Z"
   },
   {
    "duration": 0,
    "start_time": "2022-05-07T13:39:58.686Z"
   },
   {
    "duration": 0,
    "start_time": "2022-05-07T13:39:58.687Z"
   },
   {
    "duration": 0,
    "start_time": "2022-05-07T13:39:58.688Z"
   },
   {
    "duration": 0,
    "start_time": "2022-05-07T13:39:58.689Z"
   },
   {
    "duration": 0,
    "start_time": "2022-05-07T13:39:58.690Z"
   },
   {
    "duration": 0,
    "start_time": "2022-05-07T13:39:58.691Z"
   },
   {
    "duration": 0,
    "start_time": "2022-05-07T13:39:58.692Z"
   },
   {
    "duration": 0,
    "start_time": "2022-05-07T13:39:58.755Z"
   },
   {
    "duration": 0,
    "start_time": "2022-05-07T13:39:58.756Z"
   },
   {
    "duration": 0,
    "start_time": "2022-05-07T13:39:58.757Z"
   },
   {
    "duration": 0,
    "start_time": "2022-05-07T13:39:58.759Z"
   },
   {
    "duration": 0,
    "start_time": "2022-05-07T13:39:58.760Z"
   },
   {
    "duration": 0,
    "start_time": "2022-05-07T13:39:58.761Z"
   },
   {
    "duration": 0,
    "start_time": "2022-05-07T13:39:58.762Z"
   },
   {
    "duration": 0,
    "start_time": "2022-05-07T13:39:58.763Z"
   },
   {
    "duration": 0,
    "start_time": "2022-05-07T13:39:58.765Z"
   },
   {
    "duration": 0,
    "start_time": "2022-05-07T13:39:58.766Z"
   },
   {
    "duration": 24617,
    "start_time": "2022-05-07T19:27:31.587Z"
   },
   {
    "duration": 4944,
    "start_time": "2022-05-07T19:27:56.206Z"
   }
  ],
  "kernelspec": {
   "display_name": "Python 3 (ipykernel)",
   "language": "python",
   "name": "python3"
  },
  "language_info": {
   "codemirror_mode": {
    "name": "ipython",
    "version": 3
   },
   "file_extension": ".py",
   "mimetype": "text/x-python",
   "name": "python",
   "nbconvert_exporter": "python",
   "pygments_lexer": "ipython3",
   "version": "3.9.13"
  },
  "toc": {
   "base_numbering": 1,
   "nav_menu": {},
   "number_sections": true,
   "sideBar": true,
   "skip_h1_title": true,
   "title_cell": "Содержание",
   "title_sidebar": "Содержание",
   "toc_cell": true,
   "toc_position": {
    "height": "calc(100% - 180px)",
    "left": "10px",
    "top": "150px",
    "width": "455.390625px"
   },
   "toc_section_display": true,
   "toc_window_display": true
  }
 },
 "nbformat": 4,
 "nbformat_minor": 5
}
