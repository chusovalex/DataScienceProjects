{
 "cells": [
  {
   "cell_type": "markdown",
   "metadata": {},
   "source": [
    "# Защита персональных данных клиентов страховой компании"
   ]
  },
  {
   "cell_type": "markdown",
   "metadata": {},
   "source": [
    "Необходимо защитить данные клиентов страховой компании «Хоть потоп»: разработать такой метод преобразования данных, чтобы по ним было сложно восстановить персональную информацию.\n",
    "\n",
    "Нужно защитить данные, чтобы при преобразовании качество моделей машинного обучения не ухудшилось"
   ]
  },
  {
   "cell_type": "markdown",
   "metadata": {
    "toc": true
   },
   "source": [
    "<h1>Содержание<span class=\"tocSkip\"></span></h1>\n",
    "<div class=\"toc\"><ul class=\"toc-item\"><li><span><a href=\"#Загрузка-данных\" data-toc-modified-id=\"Загрузка-данных-1\"><span class=\"toc-item-num\">1&nbsp;&nbsp;</span>Загрузка данных</a></span></li><li><span><a href=\"#Умножение-матриц\" data-toc-modified-id=\"Умножение-матриц-2\"><span class=\"toc-item-num\">2&nbsp;&nbsp;</span>Умножение матриц</a></span></li><li><span><a href=\"#Алгоритм-преобразования\" data-toc-modified-id=\"Алгоритм-преобразования-3\"><span class=\"toc-item-num\">3&nbsp;&nbsp;</span>Алгоритм преобразования</a></span></li><li><span><a href=\"#Проверка-алгоритма\" data-toc-modified-id=\"Проверка-алгоритма-4\"><span class=\"toc-item-num\">4&nbsp;&nbsp;</span>Проверка алгоритма</a></span></li><li><span><a href=\"#Вывод:\" data-toc-modified-id=\"Вывод:-5\"><span class=\"toc-item-num\">5&nbsp;&nbsp;</span>Вывод:</a></span></li></ul></div>"
   ]
  },
  {
   "cell_type": "markdown",
   "metadata": {},
   "source": [
    "## Загрузка данных"
   ]
  },
  {
   "cell_type": "code",
   "execution_count": 1,
   "metadata": {},
   "outputs": [],
   "source": [
    "import matplotlib.pyplot as plt\n",
    "import numpy as np\n",
    "import os\n",
    "import pandas as pd\n",
    "import seaborn as sns\n",
    "\n",
    "from sklearn.linear_model import LinearRegression\n",
    "from sklearn.metrics import r2_score\n",
    "from sklearn.model_selection import train_test_split"
   ]
  },
  {
   "cell_type": "markdown",
   "metadata": {},
   "source": [
    "Настроим вывод для вещественных чисел:"
   ]
  },
  {
   "cell_type": "code",
   "execution_count": 2,
   "metadata": {},
   "outputs": [],
   "source": [
    "pd.options.display.float_format = '{:,.4f}'.format"
   ]
  },
  {
   "cell_type": "code",
   "execution_count": 3,
   "metadata": {},
   "outputs": [
    {
     "name": "stdout",
     "output_type": "stream",
     "text": [
      "Прочитали файл путь: datasets/\n"
     ]
    }
   ],
   "source": [
    "try:\n",
    "    PATH = 'datasets/'\n",
    "    df = pd.read_csv(os.path.join(PATH, 'insurance.csv'))\n",
    "    print('Прочитали файл путь:', PATH)\n",
    "except:\n",
    "    print('У нас проблема')"
   ]
  },
  {
   "cell_type": "code",
   "execution_count": 4,
   "metadata": {
    "scrolled": true
   },
   "outputs": [
    {
     "data": {
      "text/html": [
       "<div>\n",
       "<style scoped>\n",
       "    .dataframe tbody tr th:only-of-type {\n",
       "        vertical-align: middle;\n",
       "    }\n",
       "\n",
       "    .dataframe tbody tr th {\n",
       "        vertical-align: top;\n",
       "    }\n",
       "\n",
       "    .dataframe thead th {\n",
       "        text-align: right;\n",
       "    }\n",
       "</style>\n",
       "<table border=\"1\" class=\"dataframe\">\n",
       "  <thead>\n",
       "    <tr style=\"text-align: right;\">\n",
       "      <th></th>\n",
       "      <th>Пол</th>\n",
       "      <th>Возраст</th>\n",
       "      <th>Зарплата</th>\n",
       "      <th>Члены семьи</th>\n",
       "      <th>Страховые выплаты</th>\n",
       "    </tr>\n",
       "  </thead>\n",
       "  <tbody>\n",
       "    <tr>\n",
       "      <th>0</th>\n",
       "      <td>1</td>\n",
       "      <td>41.0000</td>\n",
       "      <td>49,600.0000</td>\n",
       "      <td>1</td>\n",
       "      <td>0</td>\n",
       "    </tr>\n",
       "    <tr>\n",
       "      <th>1</th>\n",
       "      <td>0</td>\n",
       "      <td>46.0000</td>\n",
       "      <td>38,000.0000</td>\n",
       "      <td>1</td>\n",
       "      <td>1</td>\n",
       "    </tr>\n",
       "    <tr>\n",
       "      <th>2</th>\n",
       "      <td>0</td>\n",
       "      <td>29.0000</td>\n",
       "      <td>21,000.0000</td>\n",
       "      <td>0</td>\n",
       "      <td>0</td>\n",
       "    </tr>\n",
       "    <tr>\n",
       "      <th>3</th>\n",
       "      <td>0</td>\n",
       "      <td>21.0000</td>\n",
       "      <td>41,700.0000</td>\n",
       "      <td>2</td>\n",
       "      <td>0</td>\n",
       "    </tr>\n",
       "    <tr>\n",
       "      <th>4</th>\n",
       "      <td>1</td>\n",
       "      <td>28.0000</td>\n",
       "      <td>26,100.0000</td>\n",
       "      <td>0</td>\n",
       "      <td>0</td>\n",
       "    </tr>\n",
       "  </tbody>\n",
       "</table>\n",
       "</div>"
      ],
      "text/plain": [
       "   Пол  Возраст    Зарплата  Члены семьи  Страховые выплаты\n",
       "0    1  41.0000 49,600.0000            1                  0\n",
       "1    0  46.0000 38,000.0000            1                  1\n",
       "2    0  29.0000 21,000.0000            0                  0\n",
       "3    0  21.0000 41,700.0000            2                  0\n",
       "4    1  28.0000 26,100.0000            0                  0"
      ]
     },
     "execution_count": 4,
     "metadata": {},
     "output_type": "execute_result"
    }
   ],
   "source": [
    "df.head()"
   ]
  },
  {
   "cell_type": "markdown",
   "metadata": {},
   "source": [
    "Получим общую информацию о таблице:"
   ]
  },
  {
   "cell_type": "code",
   "execution_count": 5,
   "metadata": {
    "scrolled": true
   },
   "outputs": [
    {
     "name": "stdout",
     "output_type": "stream",
     "text": [
      "<class 'pandas.core.frame.DataFrame'>\n",
      "RangeIndex: 5000 entries, 0 to 4999\n",
      "Data columns (total 5 columns):\n",
      " #   Column             Non-Null Count  Dtype  \n",
      "---  ------             --------------  -----  \n",
      " 0   Пол                5000 non-null   int64  \n",
      " 1   Возраст            5000 non-null   float64\n",
      " 2   Зарплата           5000 non-null   float64\n",
      " 3   Члены семьи        5000 non-null   int64  \n",
      " 4   Страховые выплаты  5000 non-null   int64  \n",
      "dtypes: float64(2), int64(3)\n",
      "memory usage: 195.4 KB\n"
     ]
    }
   ],
   "source": [
    "df.info()"
   ]
  },
  {
   "cell_type": "markdown",
   "metadata": {},
   "source": [
    "Итак, в таблице 5 колонок, 5_000 строк. Тип данных в столбцах: object, float64. Пропущенных значений нет"
   ]
  },
  {
   "cell_type": "markdown",
   "metadata": {},
   "source": [
    "Оценим столбцы с числовым типом данных: посмотрим на статистические данные, которые дают представление о распределении значений:"
   ]
  },
  {
   "cell_type": "code",
   "execution_count": 6,
   "metadata": {
    "scrolled": false
   },
   "outputs": [
    {
     "data": {
      "text/html": [
       "<div>\n",
       "<style scoped>\n",
       "    .dataframe tbody tr th:only-of-type {\n",
       "        vertical-align: middle;\n",
       "    }\n",
       "\n",
       "    .dataframe tbody tr th {\n",
       "        vertical-align: top;\n",
       "    }\n",
       "\n",
       "    .dataframe thead th {\n",
       "        text-align: right;\n",
       "    }\n",
       "</style>\n",
       "<table border=\"1\" class=\"dataframe\">\n",
       "  <thead>\n",
       "    <tr style=\"text-align: right;\">\n",
       "      <th></th>\n",
       "      <th>Пол</th>\n",
       "      <th>Возраст</th>\n",
       "      <th>Зарплата</th>\n",
       "      <th>Члены семьи</th>\n",
       "      <th>Страховые выплаты</th>\n",
       "    </tr>\n",
       "  </thead>\n",
       "  <tbody>\n",
       "    <tr>\n",
       "      <th>count</th>\n",
       "      <td>5,000.0000</td>\n",
       "      <td>5,000.0000</td>\n",
       "      <td>5,000.0000</td>\n",
       "      <td>5,000.0000</td>\n",
       "      <td>5,000.0000</td>\n",
       "    </tr>\n",
       "    <tr>\n",
       "      <th>mean</th>\n",
       "      <td>0.4990</td>\n",
       "      <td>30.9528</td>\n",
       "      <td>39,916.3600</td>\n",
       "      <td>1.1942</td>\n",
       "      <td>0.1480</td>\n",
       "    </tr>\n",
       "    <tr>\n",
       "      <th>std</th>\n",
       "      <td>0.5000</td>\n",
       "      <td>8.4408</td>\n",
       "      <td>9,900.0836</td>\n",
       "      <td>1.0914</td>\n",
       "      <td>0.4632</td>\n",
       "    </tr>\n",
       "    <tr>\n",
       "      <th>min</th>\n",
       "      <td>0.0000</td>\n",
       "      <td>18.0000</td>\n",
       "      <td>5,300.0000</td>\n",
       "      <td>0.0000</td>\n",
       "      <td>0.0000</td>\n",
       "    </tr>\n",
       "    <tr>\n",
       "      <th>25%</th>\n",
       "      <td>0.0000</td>\n",
       "      <td>24.0000</td>\n",
       "      <td>33,300.0000</td>\n",
       "      <td>0.0000</td>\n",
       "      <td>0.0000</td>\n",
       "    </tr>\n",
       "    <tr>\n",
       "      <th>50%</th>\n",
       "      <td>0.0000</td>\n",
       "      <td>30.0000</td>\n",
       "      <td>40,200.0000</td>\n",
       "      <td>1.0000</td>\n",
       "      <td>0.0000</td>\n",
       "    </tr>\n",
       "    <tr>\n",
       "      <th>75%</th>\n",
       "      <td>1.0000</td>\n",
       "      <td>37.0000</td>\n",
       "      <td>46,600.0000</td>\n",
       "      <td>2.0000</td>\n",
       "      <td>0.0000</td>\n",
       "    </tr>\n",
       "    <tr>\n",
       "      <th>max</th>\n",
       "      <td>1.0000</td>\n",
       "      <td>65.0000</td>\n",
       "      <td>79,000.0000</td>\n",
       "      <td>6.0000</td>\n",
       "      <td>5.0000</td>\n",
       "    </tr>\n",
       "  </tbody>\n",
       "</table>\n",
       "</div>"
      ],
      "text/plain": [
       "             Пол    Возраст    Зарплата  Члены семьи  Страховые выплаты\n",
       "count 5,000.0000 5,000.0000  5,000.0000   5,000.0000         5,000.0000\n",
       "mean      0.4990    30.9528 39,916.3600       1.1942             0.1480\n",
       "std       0.5000     8.4408  9,900.0836       1.0914             0.4632\n",
       "min       0.0000    18.0000  5,300.0000       0.0000             0.0000\n",
       "25%       0.0000    24.0000 33,300.0000       0.0000             0.0000\n",
       "50%       0.0000    30.0000 40,200.0000       1.0000             0.0000\n",
       "75%       1.0000    37.0000 46,600.0000       2.0000             0.0000\n",
       "max       1.0000    65.0000 79,000.0000       6.0000             5.0000"
      ]
     },
     "execution_count": 6,
     "metadata": {},
     "output_type": "execute_result"
    }
   ],
   "source": [
    "df.describe()"
   ]
  },
  {
   "cell_type": "markdown",
   "metadata": {},
   "source": [
    "Построим тепловую матрицу корреляций:"
   ]
  },
  {
   "cell_type": "code",
   "execution_count": 7,
   "metadata": {
    "scrolled": true
   },
   "outputs": [
    {
     "data": {
      "text/html": [
       "<style  type=\"text/css\" >\n",
       "#T_5bdbd_row0_col0,#T_5bdbd_row1_col1,#T_5bdbd_row2_col2,#T_5bdbd_row3_col3,#T_5bdbd_row4_col4{\n",
       "            background-color:  #b40426;\n",
       "            color:  #f1f1f1;\n",
       "        }#T_5bdbd_row0_col1,#T_5bdbd_row2_col4{\n",
       "            background-color:  #4055c8;\n",
       "            color:  #f1f1f1;\n",
       "        }#T_5bdbd_row0_col2,#T_5bdbd_row0_col4{\n",
       "            background-color:  #485fd1;\n",
       "            color:  #f1f1f1;\n",
       "        }#T_5bdbd_row0_col3,#T_5bdbd_row2_col0{\n",
       "            background-color:  #4257c9;\n",
       "            color:  #f1f1f1;\n",
       "        }#T_5bdbd_row1_col0,#T_5bdbd_row1_col2{\n",
       "            background-color:  #3d50c3;\n",
       "            color:  #f1f1f1;\n",
       "        }#T_5bdbd_row1_col3{\n",
       "            background-color:  #4358cb;\n",
       "            color:  #f1f1f1;\n",
       "        }#T_5bdbd_row1_col4{\n",
       "            background-color:  #f7b99e;\n",
       "            color:  #000000;\n",
       "        }#T_5bdbd_row2_col1,#T_5bdbd_row3_col0,#T_5bdbd_row3_col2,#T_5bdbd_row3_col4,#T_5bdbd_row4_col3{\n",
       "            background-color:  #3b4cc0;\n",
       "            color:  #f1f1f1;\n",
       "        }#T_5bdbd_row2_col3{\n",
       "            background-color:  #3c4ec2;\n",
       "            color:  #f1f1f1;\n",
       "        }#T_5bdbd_row3_col1,#T_5bdbd_row4_col2{\n",
       "            background-color:  #3e51c5;\n",
       "            color:  #f1f1f1;\n",
       "        }#T_5bdbd_row4_col0{\n",
       "            background-color:  #3f53c6;\n",
       "            color:  #f1f1f1;\n",
       "        }#T_5bdbd_row4_col1{\n",
       "            background-color:  #f7ba9f;\n",
       "            color:  #000000;\n",
       "        }</style><table id=\"T_5bdbd_\" ><thead>    <tr>        <th class=\"blank level0\" ></th>        <th class=\"col_heading level0 col0\" >Пол</th>        <th class=\"col_heading level0 col1\" >Возраст</th>        <th class=\"col_heading level0 col2\" >Зарплата</th>        <th class=\"col_heading level0 col3\" >Члены семьи</th>        <th class=\"col_heading level0 col4\" >Страховые выплаты</th>    </tr></thead><tbody>\n",
       "                <tr>\n",
       "                        <th id=\"T_5bdbd_level0_row0\" class=\"row_heading level0 row0\" >Пол</th>\n",
       "                        <td id=\"T_5bdbd_row0_col0\" class=\"data row0 col0\" >1.000000</td>\n",
       "                        <td id=\"T_5bdbd_row0_col1\" class=\"data row0 col1\" >0.002074</td>\n",
       "                        <td id=\"T_5bdbd_row0_col2\" class=\"data row0 col2\" >0.014910</td>\n",
       "                        <td id=\"T_5bdbd_row0_col3\" class=\"data row0 col3\" >-0.008991</td>\n",
       "                        <td id=\"T_5bdbd_row0_col4\" class=\"data row0 col4\" >0.010140</td>\n",
       "            </tr>\n",
       "            <tr>\n",
       "                        <th id=\"T_5bdbd_level0_row1\" class=\"row_heading level0 row1\" >Возраст</th>\n",
       "                        <td id=\"T_5bdbd_row1_col0\" class=\"data row1 col0\" >0.002074</td>\n",
       "                        <td id=\"T_5bdbd_row1_col1\" class=\"data row1 col1\" >1.000000</td>\n",
       "                        <td id=\"T_5bdbd_row1_col2\" class=\"data row1 col2\" >-0.019093</td>\n",
       "                        <td id=\"T_5bdbd_row1_col3\" class=\"data row1 col3\" >-0.006692</td>\n",
       "                        <td id=\"T_5bdbd_row1_col4\" class=\"data row1 col4\" >0.651030</td>\n",
       "            </tr>\n",
       "            <tr>\n",
       "                        <th id=\"T_5bdbd_level0_row2\" class=\"row_heading level0 row2\" >Зарплата</th>\n",
       "                        <td id=\"T_5bdbd_row2_col0\" class=\"data row2 col0\" >0.014910</td>\n",
       "                        <td id=\"T_5bdbd_row2_col1\" class=\"data row2 col1\" >-0.019093</td>\n",
       "                        <td id=\"T_5bdbd_row2_col2\" class=\"data row2 col2\" >1.000000</td>\n",
       "                        <td id=\"T_5bdbd_row2_col3\" class=\"data row2 col3\" >-0.030296</td>\n",
       "                        <td id=\"T_5bdbd_row2_col4\" class=\"data row2 col4\" >-0.014963</td>\n",
       "            </tr>\n",
       "            <tr>\n",
       "                        <th id=\"T_5bdbd_level0_row3\" class=\"row_heading level0 row3\" >Члены семьи</th>\n",
       "                        <td id=\"T_5bdbd_row3_col0\" class=\"data row3 col0\" >-0.008991</td>\n",
       "                        <td id=\"T_5bdbd_row3_col1\" class=\"data row3 col1\" >-0.006692</td>\n",
       "                        <td id=\"T_5bdbd_row3_col2\" class=\"data row3 col2\" >-0.030296</td>\n",
       "                        <td id=\"T_5bdbd_row3_col3\" class=\"data row3 col3\" >1.000000</td>\n",
       "                        <td id=\"T_5bdbd_row3_col4\" class=\"data row3 col4\" >-0.036290</td>\n",
       "            </tr>\n",
       "            <tr>\n",
       "                        <th id=\"T_5bdbd_level0_row4\" class=\"row_heading level0 row4\" >Страховые выплаты</th>\n",
       "                        <td id=\"T_5bdbd_row4_col0\" class=\"data row4 col0\" >0.010140</td>\n",
       "                        <td id=\"T_5bdbd_row4_col1\" class=\"data row4 col1\" >0.651030</td>\n",
       "                        <td id=\"T_5bdbd_row4_col2\" class=\"data row4 col2\" >-0.014963</td>\n",
       "                        <td id=\"T_5bdbd_row4_col3\" class=\"data row4 col3\" >-0.036290</td>\n",
       "                        <td id=\"T_5bdbd_row4_col4\" class=\"data row4 col4\" >1.000000</td>\n",
       "            </tr>\n",
       "    </tbody></table>"
      ],
      "text/plain": [
       "<pandas.io.formats.style.Styler at 0x137a0a250>"
      ]
     },
     "execution_count": 7,
     "metadata": {},
     "output_type": "execute_result"
    }
   ],
   "source": [
    "corr = df.corr()\n",
    "corr.style.background_gradient(cmap='coolwarm')"
   ]
  },
  {
   "cell_type": "markdown",
   "metadata": {},
   "source": [
    "Матрица корреляций не выявила значительных зависимостей между обучающими признаками"
   ]
  },
  {
   "cell_type": "markdown",
   "metadata": {},
   "source": [
    "Найдем и удалим дубликаты:"
   ]
  },
  {
   "cell_type": "code",
   "execution_count": 8,
   "metadata": {},
   "outputs": [
    {
     "data": {
      "text/plain": [
       "153"
      ]
     },
     "execution_count": 8,
     "metadata": {},
     "output_type": "execute_result"
    }
   ],
   "source": [
    "df.duplicated().sum()"
   ]
  },
  {
   "cell_type": "code",
   "execution_count": 9,
   "metadata": {},
   "outputs": [],
   "source": [
    "df.drop_duplicates(inplace=True)"
   ]
  },
  {
   "cell_type": "markdown",
   "metadata": {},
   "source": [
    "Посмотрим на количество уникальных значений в признаках:"
   ]
  },
  {
   "cell_type": "code",
   "execution_count": 10,
   "metadata": {
    "scrolled": true
   },
   "outputs": [
    {
     "data": {
      "text/plain": [
       "Пол                    2\n",
       "Возраст               46\n",
       "Зарплата             524\n",
       "Члены семьи            7\n",
       "Страховые выплаты      6\n",
       "dtype: int64"
      ]
     },
     "execution_count": 10,
     "metadata": {},
     "output_type": "execute_result"
    }
   ],
   "source": [
    "df.nunique()"
   ]
  },
  {
   "cell_type": "code",
   "execution_count": 11,
   "metadata": {},
   "outputs": [],
   "source": [
    "def histplot_boxplot(df, column, bins=48):\n",
    "    \"\"\"\n",
    "    df - датафрейм\n",
    "    column - название колонки для построения распределения\n",
    "    bins - количество корзин (48 по умолчанию)\n",
    "    \n",
    "    \"\"\"\n",
    "    f, (ax_box, ax_hist) = plt.subplots(2, sharex=True, gridspec_kw={\"height_ratios\": (.13, .87)}, figsize=(10, 4))\n",
    "    sns.boxplot(data=df, \n",
    "                x=column,  \n",
    "                orient='h',\n",
    "                order=[1,0],\n",
    "                palette='pastel',\n",
    "                ax=ax_box)\n",
    "    sns.histplot(data=df, \n",
    "                 x=column, \n",
    "                 bins=bins, \n",
    "                 kde=True, \n",
    "                 palette='pastel', \n",
    "                 hue_order=[1,0],\n",
    "                 ax=ax_hist)\n",
    " \n",
    "    ax_box.set(xlabel='')\n",
    "    ax_box.set(title='Ящик с усами для \"{}\"'.format(column))\n",
    "    ax_hist.set(title='Распределение признака \"{}\"'.format(column))\n",
    "    plt.show()"
   ]
  },
  {
   "cell_type": "code",
   "execution_count": 12,
   "metadata": {},
   "outputs": [
    {
     "data": {
      "image/png": "[encoded data removed]",
      "text/plain": [
       "<Figure size 720x288 with 2 Axes>"
      ]
     },
     "metadata": {
      "needs_background": "light"
     },
     "output_type": "display_data"
    },
    {
     "data": {
      "image/png": "[encoded data removed]",
      "text/plain": [
       "<Figure size 720x288 with 2 Axes>"
      ]
     },
     "metadata": {
      "needs_background": "light"
     },
     "output_type": "display_data"
    }
   ],
   "source": [
    "columns = ['Возраст', 'Зарплата']\n",
    "for column in columns:\n",
    "        histplot_boxplot(df, column)"
   ]
  },
  {
   "cell_type": "markdown",
   "metadata": {},
   "source": [
    "**Вывод:**\n",
    "    \n",
    "- пропусков нет\n",
    "- типы данных изменений не требуют\n",
    "- дубликаты удалены"
   ]
  },
  {
   "cell_type": "markdown",
   "metadata": {},
   "source": [
    "## Умножение матриц"
   ]
  },
  {
   "cell_type": "markdown",
   "metadata": {},
   "source": [
    "Обозначения:\n",
    "\n",
    "- $X$ — матрица признаков (нулевой столбец состоит из единиц)\n",
    "\n",
    "- $y$ — вектор целевого признака\n",
    "\n",
    "- $P$ — матрица, на которую умножаются признаки\n",
    "\n",
    "- $w$ — вектор весов линейной регрессии (нулевой элемент равен сдвигу)"
   ]
  },
  {
   "cell_type": "markdown",
   "metadata": {},
   "source": [
    "Предсказания:\n",
    "\n",
    "$$\n",
    "a = Xw\n",
    "$$\n",
    "\n",
    "Задача обучения:\n",
    "\n",
    "$$\n",
    "w = \\arg\\min_w MSE(Xw, y)\n",
    "$$\n",
    "\n",
    "Формула обучения:\n",
    "\n",
    "$$\n",
    "w = (X^T X)^{-1} X^T y\n",
    "$$"
   ]
  },
  {
   "cell_type": "markdown",
   "metadata": {},
   "source": [
    "**Вопрос:** \n",
    "\n",
    "Признаки умножают на обратимую матрицу. Изменится ли качество линейной регрессии?"
   ]
  },
  {
   "cell_type": "markdown",
   "metadata": {},
   "source": [
    "**Ответ:**\n",
    "\n",
    "Не изменится"
   ]
  },
  {
   "cell_type": "markdown",
   "metadata": {},
   "source": [
    "\n",
    "**Обоснование:** \n",
    "\n",
    "Обозначим новую матрицу признаков $Z$ как произведение матрицы признаков $X$ и обратимой матрицы $P$:\n",
    "\n",
    "$$Z = X*P$$\n",
    "тогда веса признаков $w_{2}$ будут равны:\n",
    "\n",
    "$$w_2 = (Z^T Z)^{-1}Z^T y$$\n",
    "$$w_2 = ((XP)^T XP)^{-1}(XP)^T y$$\n",
    "$$w_2 = P^{T(-1)} P^{T} P^{-1} (X^T X)^{-1} X^T y$$\n",
    "\n",
    "В правой стороне уравнения получилось выразить $w$ из формулы обучения:\n",
    "$$w_2 = P^{T(-1)} P^{T} P^{-1} w$$\n",
    "\n",
    "Произведение транспонированной матрицы $P$ на обратную ей будет равно единичной матрице $E$:\n",
    "\n",
    "$$w_2 = E P^{-1} w = P^{-1} w$$\n",
    "\n",
    "Полученное выражение устанавливает связь между двумя векторами весов. Подставим уравнение в формулу предсказаний:\n",
    "\n",
    "$$a_2 = Zw_2 = XPw_2$$\n",
    "\n",
    "$$a_2 = X P P^{-1} w$$\n",
    "\n",
    "$$a_2 = X w = a$$\n",
    "\n",
    "Следовательно, мы установили, что умножение матрицы признаков на обратимую матрицу не изменяет предсказания линейной регрессии."
   ]
  },
  {
   "cell_type": "markdown",
   "metadata": {},
   "source": [
    "## Алгоритм преобразования"
   ]
  },
  {
   "cell_type": "markdown",
   "metadata": {},
   "source": [
    "**Алгоритм преобразования данных для решения задачи:**\n",
    "\n",
    "Умножение матрицы признаков на случайную обратимую матрицу"
   ]
  },
  {
   "cell_type": "markdown",
   "metadata": {},
   "source": [
    "**Обоснование:**\n",
    "\n",
    "Согласно доказательству в предыдущем пункте, умножение матрицы признаков на какую-либо обратимую матрицу не приводит к изменению предсказаний, поэтому значения метрики `r2` не должны измениться"
   ]
  },
  {
   "cell_type": "markdown",
   "metadata": {},
   "source": [
    "## Проверка алгоритма"
   ]
  },
  {
   "cell_type": "markdown",
   "metadata": {},
   "source": [
    "Подготовим матрицу входных признаков $X$ и вектор целевого признака $y$:"
   ]
  },
  {
   "cell_type": "code",
   "execution_count": 13,
   "metadata": {},
   "outputs": [
    {
     "name": "stdout",
     "output_type": "stream",
     "text": [
      "(4847, 4) (4847,)\n"
     ]
    }
   ],
   "source": [
    "X = df.drop(columns='Страховые выплаты').values\n",
    "y = df['Страховые выплаты'].values\n",
    "print(X.shape, y.shape)"
   ]
  },
  {
   "cell_type": "markdown",
   "metadata": {},
   "source": [
    "Создадим случайную квадратную матрицу $P$, и проверим ее на обратимость"
   ]
  },
  {
   "cell_type": "code",
   "execution_count": 14,
   "metadata": {},
   "outputs": [],
   "source": [
    "P = np.random.normal(size=(4,4))"
   ]
  },
  {
   "cell_type": "code",
   "execution_count": 15,
   "metadata": {},
   "outputs": [
    {
     "name": "stdout",
     "output_type": "stream",
     "text": [
      "Матрица обратима\n"
     ]
    }
   ],
   "source": [
    "try:\n",
    "    np.linalg.inv(P)\n",
    "    print('Матрица обратима')\n",
    "except np.linalg.LinAlgError:\n",
    "    print('Матрица не обратима')"
   ]
  },
  {
   "cell_type": "markdown",
   "metadata": {},
   "source": [
    "Умножим матрицу признаков $X$ на матрицу $P$. Результат запишем в $Z$"
   ]
  },
  {
   "cell_type": "code",
   "execution_count": 16,
   "metadata": {},
   "outputs": [
    {
     "data": {
      "text/html": [
       "<div>\n",
       "<style scoped>\n",
       "    .dataframe tbody tr th:only-of-type {\n",
       "        vertical-align: middle;\n",
       "    }\n",
       "\n",
       "    .dataframe tbody tr th {\n",
       "        vertical-align: top;\n",
       "    }\n",
       "\n",
       "    .dataframe thead th {\n",
       "        text-align: right;\n",
       "    }\n",
       "</style>\n",
       "<table border=\"1\" class=\"dataframe\">\n",
       "  <thead>\n",
       "    <tr style=\"text-align: right;\">\n",
       "      <th></th>\n",
       "      <th>Пол</th>\n",
       "      <th>Возраст</th>\n",
       "      <th>Зарплата</th>\n",
       "      <th>Члены семьи</th>\n",
       "    </tr>\n",
       "  </thead>\n",
       "  <tbody>\n",
       "    <tr>\n",
       "      <th>0</th>\n",
       "      <td>9,503.6390</td>\n",
       "      <td>-37,351.7046</td>\n",
       "      <td>-51,100.1478</td>\n",
       "      <td>-3,024.6011</td>\n",
       "    </tr>\n",
       "    <tr>\n",
       "      <th>1</th>\n",
       "      <td>7,289.4896</td>\n",
       "      <td>-28,633.1408</td>\n",
       "      <td>-39,143.4662</td>\n",
       "      <td>-2,306.8302</td>\n",
       "    </tr>\n",
       "    <tr>\n",
       "      <th>2</th>\n",
       "      <td>4,030.4061</td>\n",
       "      <td>-15,827.0919</td>\n",
       "      <td>-21,630.9586</td>\n",
       "      <td>-1,272.3774</td>\n",
       "    </tr>\n",
       "    <tr>\n",
       "      <th>3</th>\n",
       "      <td>7,982.3457</td>\n",
       "      <td>-31,389.9322</td>\n",
       "      <td>-42,966.0173</td>\n",
       "      <td>-2,551.4268</td>\n",
       "    </tr>\n",
       "    <tr>\n",
       "      <th>4</th>\n",
       "      <td>5,004.5363</td>\n",
       "      <td>-19,660.7581</td>\n",
       "      <td>-26,887.0447</td>\n",
       "      <td>-1,587.5416</td>\n",
       "    </tr>\n",
       "  </tbody>\n",
       "</table>\n",
       "</div>"
      ],
      "text/plain": [
       "         Пол      Возраст     Зарплата  Члены семьи\n",
       "0 9,503.6390 -37,351.7046 -51,100.1478  -3,024.6011\n",
       "1 7,289.4896 -28,633.1408 -39,143.4662  -2,306.8302\n",
       "2 4,030.4061 -15,827.0919 -21,630.9586  -1,272.3774\n",
       "3 7,982.3457 -31,389.9322 -42,966.0173  -2,551.4268\n",
       "4 5,004.5363 -19,660.7581 -26,887.0447  -1,587.5416"
      ]
     },
     "execution_count": 16,
     "metadata": {},
     "output_type": "execute_result"
    }
   ],
   "source": [
    "Z = X @ P\n",
    "pd.DataFrame(data=Z, columns=df.drop(columns='Страховые выплаты').columns).head()"
   ]
  },
  {
   "cell_type": "markdown",
   "metadata": {},
   "source": [
    "Разделим данные на обучающие и тестовые выборки, обучим модель, получим предсказания и значение метрики"
   ]
  },
  {
   "cell_type": "code",
   "execution_count": 17,
   "metadata": {},
   "outputs": [],
   "source": [
    "def func(model, X, y):\n",
    "    \"\"\"\n",
    "    model - модель машинного обучения\n",
    "    X - входные признаки\n",
    "    y - целевой признак\n",
    "    \n",
    "    \"\"\"\n",
    "    X_train, X_test, y_train, y_test = train_test_split(X, y, test_size=0.25, random_state=12345)\n",
    "    model.fit(X_train, y_train)\n",
    "    r2 = r2_score(y_test, model.predict(X_test))\n",
    "    print('r2 = {:.4f}'.format(r2))\n",
    "    feats = {}\n",
    "    for feature, importance in zip(df.columns[:-1], model.coef_):\n",
    "        feats[feature] = importance\n",
    "    importances = pd.DataFrame.from_dict(feats, orient='index').rename(columns={0: 'coef'})\n",
    "    importances = importances.sort_values(by='coef', ascending=False)\n",
    "    importances = importances.reset_index()\n",
    "    importances = importances.rename(columns={'index': 'features'})\n",
    "    sns.set(style='whitegrid', color_codes=True)\n",
    "    fig, ax = plt.subplots(figsize=(6,1.4))\n",
    "    sns.barplot(x=importances['coef'], y=importances['features'], data=importances, color='gold')\n",
    "    plt.xlabel('Важность', fontsize=13)\n",
    "    plt.ylabel('Признаки', fontsize=13)\n",
    "    plt.title('\"Важность\" признаков для модели', fontsize=14)\n",
    "    plt.show()\n",
    "    display(importances)"
   ]
  },
  {
   "cell_type": "code",
   "execution_count": 18,
   "metadata": {},
   "outputs": [
    {
     "name": "stdout",
     "output_type": "stream",
     "text": [
      "r2 = 0.4231\n"
     ]
    },
    {
     "data": {
      "image/png": "[encoded data removed]",
      "text/plain": [
       "<Figure size 432x100.8 with 1 Axes>"
      ]
     },
     "metadata": {},
     "output_type": "display_data"
    },
    {
     "data": {
      "text/html": [
       "<div>\n",
       "<style scoped>\n",
       "    .dataframe tbody tr th:only-of-type {\n",
       "        vertical-align: middle;\n",
       "    }\n",
       "\n",
       "    .dataframe tbody tr th {\n",
       "        vertical-align: top;\n",
       "    }\n",
       "\n",
       "    .dataframe thead th {\n",
       "        text-align: right;\n",
       "    }\n",
       "</style>\n",
       "<table border=\"1\" class=\"dataframe\">\n",
       "  <thead>\n",
       "    <tr style=\"text-align: right;\">\n",
       "      <th></th>\n",
       "      <th>features</th>\n",
       "      <th>coef</th>\n",
       "    </tr>\n",
       "  </thead>\n",
       "  <tbody>\n",
       "    <tr>\n",
       "      <th>0</th>\n",
       "      <td>Возраст</td>\n",
       "      <td>0.0365</td>\n",
       "    </tr>\n",
       "    <tr>\n",
       "      <th>1</th>\n",
       "      <td>Пол</td>\n",
       "      <td>0.0146</td>\n",
       "    </tr>\n",
       "    <tr>\n",
       "      <th>2</th>\n",
       "      <td>Зарплата</td>\n",
       "      <td>0.0000</td>\n",
       "    </tr>\n",
       "    <tr>\n",
       "      <th>3</th>\n",
       "      <td>Члены семьи</td>\n",
       "      <td>-0.0123</td>\n",
       "    </tr>\n",
       "  </tbody>\n",
       "</table>\n",
       "</div>"
      ],
      "text/plain": [
       "      features    coef\n",
       "0      Возраст  0.0365\n",
       "1          Пол  0.0146\n",
       "2     Зарплата  0.0000\n",
       "3  Члены семьи -0.0123"
      ]
     },
     "metadata": {},
     "output_type": "display_data"
    }
   ],
   "source": [
    "# исходные данные\n",
    "func(LinearRegression(), X, y)"
   ]
  },
  {
   "cell_type": "code",
   "execution_count": 19,
   "metadata": {
    "scrolled": false
   },
   "outputs": [
    {
     "name": "stdout",
     "output_type": "stream",
     "text": [
      "r2 = 0.4231\n"
     ]
    },
    {
     "data": {
      "image/png": "[encoded data removed]",
      "text/plain": [
       "<Figure size 432x100.8 with 1 Axes>"
      ]
     },
     "metadata": {},
     "output_type": "display_data"
    },
    {
     "data": {
      "text/html": [
       "<div>\n",
       "<style scoped>\n",
       "    .dataframe tbody tr th:only-of-type {\n",
       "        vertical-align: middle;\n",
       "    }\n",
       "\n",
       "    .dataframe tbody tr th {\n",
       "        vertical-align: top;\n",
       "    }\n",
       "\n",
       "    .dataframe thead th {\n",
       "        text-align: right;\n",
       "    }\n",
       "</style>\n",
       "<table border=\"1\" class=\"dataframe\">\n",
       "  <thead>\n",
       "    <tr style=\"text-align: right;\">\n",
       "      <th></th>\n",
       "      <th>features</th>\n",
       "      <th>coef</th>\n",
       "    </tr>\n",
       "  </thead>\n",
       "  <tbody>\n",
       "    <tr>\n",
       "      <th>0</th>\n",
       "      <td>Пол</td>\n",
       "      <td>0.0884</td>\n",
       "    </tr>\n",
       "    <tr>\n",
       "      <th>1</th>\n",
       "      <td>Возраст</td>\n",
       "      <td>0.0270</td>\n",
       "    </tr>\n",
       "    <tr>\n",
       "      <th>2</th>\n",
       "      <td>Члены семьи</td>\n",
       "      <td>0.0243</td>\n",
       "    </tr>\n",
       "    <tr>\n",
       "      <th>3</th>\n",
       "      <td>Зарплата</td>\n",
       "      <td>-0.0048</td>\n",
       "    </tr>\n",
       "  </tbody>\n",
       "</table>\n",
       "</div>"
      ],
      "text/plain": [
       "      features    coef\n",
       "0          Пол  0.0884\n",
       "1      Возраст  0.0270\n",
       "2  Члены семьи  0.0243\n",
       "3     Зарплата -0.0048"
      ]
     },
     "metadata": {},
     "output_type": "display_data"
    }
   ],
   "source": [
    "# преобразованные данные\n",
    "func(LinearRegression(), Z, y)"
   ]
  },
  {
   "cell_type": "markdown",
   "metadata": {},
   "source": [
    "Видим, что значение метрики `r2` не изменилось"
   ]
  },
  {
   "cell_type": "markdown",
   "metadata": {},
   "source": [
    "## Вывод:\n",
    "\n",
    "Для защиты данных клиентов страховой компании был предложен алгоритм шифрования данных, основанный на умножении матрицы признаков на случайную обратимую матрицу. Предложенный алгоритм был обоснован теоретически. Было обнаружено, что алгоритм не ухудшает предсказания модели, но позволяет эффективно шифровать данные клиентов.\n",
    "\n",
    "На примере модели линейной регрессии показали, что качество модели с шифрованием не отличается от качества модели без шифрования признаков. Данный метод шифрования можно использовать для защиты данных клиентов."
   ]
  }
 ],
 "metadata": {
  "kernelspec": {
   "display_name": "Python 3 (ipykernel)",
   "language": "python",
   "name": "python3"
  },
  "language_info": {
   "codemirror_mode": {
    "name": "ipython",
    "version": 3
   },
   "file_extension": ".py",
   "mimetype": "text/x-python",
   "name": "python",
   "nbconvert_exporter": "python",
   "pygments_lexer": "ipython3",
   "version": "3.9.13"
  },
  "toc": {
   "base_numbering": 1,
   "nav_menu": {},
   "number_sections": true,
   "sideBar": true,
   "skip_h1_title": true,
   "title_cell": "Содержание",
   "title_sidebar": "Содержание",
   "toc_cell": true,
   "toc_position": {},
   "toc_section_display": true,
   "toc_window_display": true
  }
 },
 "nbformat": 4,
 "nbformat_minor": 2
}
