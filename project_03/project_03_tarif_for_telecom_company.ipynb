{
 "cells": [
  {
   "cell_type": "markdown",
   "metadata": {},
   "source": [
    "# Определение выгодного тарифа для телеком компании"
   ]
  },
  {
   "cell_type": "markdown",
   "metadata": {},
   "source": [
    "Мы аналитики компании «Мегалайн» — федерального оператора сотовой связи. Клиентам компании предлагают два тарифных плана: «Смарт» и «Ультра». \n",
    "\n",
    "\n",
    "**Цель исследования**:\n",
    "\n",
    "Установить какой тариф приносит больше денег компании. Эта информация необходима коммерческому департаменту для корретировки рекламного бюджета\n",
    "\n",
    "**Ход исследования**:\n",
    "\n",
    "Нам предстоит сделать предварительный анализ тарифов на небольшой выборке клиентов. В нашем распоряжении данные 500 пользователей «Мегалайна»: кто они, откуда, каким тарифом пользуются, сколько звонков и сообщений каждый отправил за 2018 год. Мы проанализируем поведение клиентов и сделаем вывод — какой тариф лучше.\n",
    "\n",
    "Описание тарифов:\n",
    "\n",
    "1) Тариф «Смарт»\n",
    "- Ежемесячная плата: 550 рублей\n",
    "- Включено 500 минут разговора, 50 сообщений и 15 Гб интернет-трафика\n",
    "- Стоимость услуг сверх тарифного пакета:\n",
    "\n",
    "    минута разговора: 3 рубля\n",
    "    сообщение: 3 рубля\n",
    "    \n",
    "    1 Гб интернет-трафика: 200 рублей\n",
    "    \n",
    "2) Тариф «Ультра»\n",
    "- Ежемесячная плата: 1950 рублей\n",
    "- Включено 3000 минут разговора, 1000 сообщений и 30 Гб интернет-трафика\n",
    "- Стоимость услуг сверх тарифного пакета:\n",
    "    минута разговора: 1 рубль\n",
    "    сообщение: 1 рубль\n",
    "    1 Гб интернет-трафика: 150 рублей\n",
    "    \n",
    "Примечание:\n",
    "\n",
    "«Мегалайн» всегда округляет секунды до минут, а мегабайты — до гигабайт. Каждый звонок округляется отдельно: даже если он длился всего 1 секунду, будет засчитан как 1 минута.\n",
    "Для веб-трафика отдельные сессии не считаются. Вместо этого общая сумма за месяц округляется в бо́льшую сторону. Если абонент использует 1025 мегабайт в этом месяце, с него возьмут плату за 2 гигабайта.\n",
    "\n",
    "Данные мы получим из файлов `calls.csv`, `internet.csv`, `messages.csv`, `tariffs.csv`, `users.csv.` . О качестве данных ничего не известно. Поэтому понадобится обзор данных. \n",
    "\n",
    "Мы проверим данные на ошибки и оценим их влияние на исследование. Затем, на этапе предобработки мы поищем возможность исправить самые критичные ошибки данных."
   ]
  },
  {
   "cell_type": "markdown",
   "metadata": {
    "toc": true
   },
   "source": [
    "<h1>Содержание<span class=\"tocSkip\"></span></h1>\n",
    "<div class=\"toc\"><ul class=\"toc-item\"><li><span><a href=\"#Изучение-данных-из-файлов\" data-toc-modified-id=\"Изучение-данных-из-файлов-1\"><span class=\"toc-item-num\">1&nbsp;&nbsp;</span>Изучение данных из файлов</a></span><ul class=\"toc-item\"><li><span><a href=\"#Прочитаем-файл-users.csv\" data-toc-modified-id=\"Прочитаем-файл-users.csv-1.1\"><span class=\"toc-item-num\">1.1&nbsp;&nbsp;</span>Прочитаем файл users.csv</a></span></li><li><span><a href=\"#Прочитаем-файл-calls.csv\" data-toc-modified-id=\"Прочитаем-файл-calls.csv-1.2\"><span class=\"toc-item-num\">1.2&nbsp;&nbsp;</span>Прочитаем файл calls.csv</a></span></li><li><span><a href=\"#Прочитаем-файл-internet.csv\" data-toc-modified-id=\"Прочитаем-файл-internet.csv-1.3\"><span class=\"toc-item-num\">1.3&nbsp;&nbsp;</span>Прочитаем файл internet.csv</a></span></li><li><span><a href=\"#Прочитаем-файл-messages.csv\" data-toc-modified-id=\"Прочитаем-файл-messages.csv-1.4\"><span class=\"toc-item-num\">1.4&nbsp;&nbsp;</span>Прочитаем файл messages.csv</a></span></li><li><span><a href=\"#Прочитаем-файл-tariffs.csv\" data-toc-modified-id=\"Прочитаем-файл-tariffs.csv-1.5\"><span class=\"toc-item-num\">1.5&nbsp;&nbsp;</span>Прочитаем файл tariffs.csv</a></span></li><li><span><a href=\"#Вывод\" data-toc-modified-id=\"Вывод-1.6\"><span class=\"toc-item-num\">1.6&nbsp;&nbsp;</span>Вывод</a></span></li></ul></li><li><span><a href=\"#Предобработка-данных\" data-toc-modified-id=\"Предобработка-данных-2\"><span class=\"toc-item-num\">2&nbsp;&nbsp;</span>Предобработка данных</a></span></li><li><span><a href=\"#Расчёты-и-добавление-результатов-в-таблицу\" data-toc-modified-id=\"Расчёты-и-добавление-результатов-в-таблицу-3\"><span class=\"toc-item-num\">3&nbsp;&nbsp;</span>Расчёты и добавление результатов в таблицу</a></span></li><li><span><a href=\"#Исследовательский-нализ-данных\" data-toc-modified-id=\"Исследовательский-нализ-данных-4\"><span class=\"toc-item-num\">4&nbsp;&nbsp;</span>Исследовательский нализ данных</a></span><ul class=\"toc-item\"><li><span><a href=\"#Сколько-минут-разговора,-сколько-сообщений-и-какой-объём-интернет-трафика-требуется-пользователям-каждого-тарифа-в-месяц?\" data-toc-modified-id=\"Сколько-минут-разговора,-сколько-сообщений-и-какой-объём-интернет-трафика-требуется-пользователям-каждого-тарифа-в-месяц?-4.1\"><span class=\"toc-item-num\">4.1&nbsp;&nbsp;</span>Сколько минут разговора, сколько сообщений и какой объём интернет-трафика требуется пользователям каждого тарифа в месяц?</a></span></li><li><span><a href=\"#Количество-отправленных-сообщений\" data-toc-modified-id=\"Количество-отправленных-сообщений-4.2\"><span class=\"toc-item-num\">4.2&nbsp;&nbsp;</span>Количество отправленных сообщений</a></span></li><li><span><a href=\"#Длительность-звонков\" data-toc-modified-id=\"Длительность-звонков-4.3\"><span class=\"toc-item-num\">4.3&nbsp;&nbsp;</span>Длительность звонков</a></span></li><li><span><a href=\"#Интернет-траффик\" data-toc-modified-id=\"Интернет-траффик-4.4\"><span class=\"toc-item-num\">4.4&nbsp;&nbsp;</span>Интернет траффик</a></span></li><li><span><a href=\"#Выручка\" data-toc-modified-id=\"Выручка-4.5\"><span class=\"toc-item-num\">4.5&nbsp;&nbsp;</span>Выручка</a></span></li><li><span><a href=\"#Вывод\" data-toc-modified-id=\"Вывод-4.6\"><span class=\"toc-item-num\">4.6&nbsp;&nbsp;</span>Вывод</a></span></li></ul></li><li><span><a href=\"#Проверка-гипотез\" data-toc-modified-id=\"Проверка-гипотез-5\"><span class=\"toc-item-num\">5&nbsp;&nbsp;</span>Проверка гипотез</a></span><ul class=\"toc-item\"><li><span><a href=\"#Гипотеза-о-равенстве-средних-двух-генеральных-совокупностей-№1\" data-toc-modified-id=\"Гипотеза-о-равенстве-средних-двух-генеральных-совокупностей-№1-5.1\"><span class=\"toc-item-num\">5.1&nbsp;&nbsp;</span>Гипотеза о равенстве средних двух генеральных совокупностей №1</a></span></li><li><span><a href=\"#Гипотеза-о-равенстве-средних-двух-генеральных-совокупностей-№2\" data-toc-modified-id=\"Гипотеза-о-равенстве-средних-двух-генеральных-совокупностей-№2-5.2\"><span class=\"toc-item-num\">5.2&nbsp;&nbsp;</span>Гипотеза о равенстве средних двух генеральных совокупностей №2</a></span></li></ul></li><li><span><a href=\"#Общий-вывод\" data-toc-modified-id=\"Общий-вывод-6\"><span class=\"toc-item-num\">6&nbsp;&nbsp;</span>Общий вывод</a></span></li></ul></div>"
   ]
  },
  {
   "cell_type": "markdown",
   "metadata": {},
   "source": [
    "## Изучение данных из файлов"
   ]
  },
  {
   "cell_type": "markdown",
   "metadata": {
    "id": "57eAOGIz_Zcs"
   },
   "source": [
    "Импортируем библиотеки:"
   ]
  },
  {
   "cell_type": "code",
   "execution_count": 1,
   "metadata": {},
   "outputs": [],
   "source": [
    "import math\n",
    "import matplotlib.pyplot as plt\n",
    "import numpy as np\n",
    "import pandas as pd\n",
    "import seaborn as sns\n",
    "import warnings\n",
    "\n",
    "from scipy import stats as st"
   ]
  },
  {
   "cell_type": "code",
   "execution_count": 2,
   "metadata": {},
   "outputs": [],
   "source": [
    "warnings.filterwarnings('ignore')"
   ]
  },
  {
   "cell_type": "markdown",
   "metadata": {},
   "source": [
    "Настроим вывод для вещественных чисел:"
   ]
  },
  {
   "cell_type": "code",
   "execution_count": 3,
   "metadata": {},
   "outputs": [],
   "source": [
    "pd.options.display.float_format = '{:.2f}'.format"
   ]
  },
  {
   "cell_type": "markdown",
   "metadata": {
    "id": "SG23P8tt_Zcs"
   },
   "source": [
    "### Прочитаем файл users.csv\n",
    "из папки `datasets` и сохраним его в переменной `df_users`:"
   ]
  },
  {
   "cell_type": "code",
   "execution_count": 4,
   "metadata": {
    "scrolled": false
   },
   "outputs": [
    {
     "data": {
      "text/html": [
       "<div>\n",
       "<style scoped>\n",
       "    .dataframe tbody tr th:only-of-type {\n",
       "        vertical-align: middle;\n",
       "    }\n",
       "\n",
       "    .dataframe tbody tr th {\n",
       "        vertical-align: top;\n",
       "    }\n",
       "\n",
       "    .dataframe thead th {\n",
       "        text-align: right;\n",
       "    }\n",
       "</style>\n",
       "<table border=\"1\" class=\"dataframe\">\n",
       "  <thead>\n",
       "    <tr style=\"text-align: right;\">\n",
       "      <th></th>\n",
       "      <th>user_id</th>\n",
       "      <th>age</th>\n",
       "      <th>churn_date</th>\n",
       "      <th>city</th>\n",
       "      <th>first_name</th>\n",
       "      <th>last_name</th>\n",
       "      <th>reg_date</th>\n",
       "      <th>tariff</th>\n",
       "    </tr>\n",
       "  </thead>\n",
       "  <tbody>\n",
       "    <tr>\n",
       "      <th>0</th>\n",
       "      <td>1000</td>\n",
       "      <td>52</td>\n",
       "      <td>NaN</td>\n",
       "      <td>Краснодар</td>\n",
       "      <td>Рафаил</td>\n",
       "      <td>Верещагин</td>\n",
       "      <td>2018-05-25</td>\n",
       "      <td>ultra</td>\n",
       "    </tr>\n",
       "    <tr>\n",
       "      <th>1</th>\n",
       "      <td>1001</td>\n",
       "      <td>41</td>\n",
       "      <td>NaN</td>\n",
       "      <td>Москва</td>\n",
       "      <td>Иван</td>\n",
       "      <td>Ежов</td>\n",
       "      <td>2018-11-01</td>\n",
       "      <td>smart</td>\n",
       "    </tr>\n",
       "    <tr>\n",
       "      <th>2</th>\n",
       "      <td>1002</td>\n",
       "      <td>59</td>\n",
       "      <td>NaN</td>\n",
       "      <td>Стерлитамак</td>\n",
       "      <td>Евгений</td>\n",
       "      <td>Абрамович</td>\n",
       "      <td>2018-06-17</td>\n",
       "      <td>smart</td>\n",
       "    </tr>\n",
       "    <tr>\n",
       "      <th>3</th>\n",
       "      <td>1003</td>\n",
       "      <td>23</td>\n",
       "      <td>NaN</td>\n",
       "      <td>Москва</td>\n",
       "      <td>Белла</td>\n",
       "      <td>Белякова</td>\n",
       "      <td>2018-08-17</td>\n",
       "      <td>ultra</td>\n",
       "    </tr>\n",
       "    <tr>\n",
       "      <th>4</th>\n",
       "      <td>1004</td>\n",
       "      <td>68</td>\n",
       "      <td>NaN</td>\n",
       "      <td>Новокузнецк</td>\n",
       "      <td>Татьяна</td>\n",
       "      <td>Авдеенко</td>\n",
       "      <td>2018-05-14</td>\n",
       "      <td>ultra</td>\n",
       "    </tr>\n",
       "    <tr>\n",
       "      <th>...</th>\n",
       "      <td>...</td>\n",
       "      <td>...</td>\n",
       "      <td>...</td>\n",
       "      <td>...</td>\n",
       "      <td>...</td>\n",
       "      <td>...</td>\n",
       "      <td>...</td>\n",
       "      <td>...</td>\n",
       "    </tr>\n",
       "    <tr>\n",
       "      <th>495</th>\n",
       "      <td>1495</td>\n",
       "      <td>65</td>\n",
       "      <td>NaN</td>\n",
       "      <td>Иркутск</td>\n",
       "      <td>Авксентий</td>\n",
       "      <td>Фокин</td>\n",
       "      <td>2018-08-28</td>\n",
       "      <td>ultra</td>\n",
       "    </tr>\n",
       "    <tr>\n",
       "      <th>496</th>\n",
       "      <td>1496</td>\n",
       "      <td>36</td>\n",
       "      <td>NaN</td>\n",
       "      <td>Вологда</td>\n",
       "      <td>Трифон</td>\n",
       "      <td>Блохин</td>\n",
       "      <td>2018-01-27</td>\n",
       "      <td>smart</td>\n",
       "    </tr>\n",
       "    <tr>\n",
       "      <th>497</th>\n",
       "      <td>1497</td>\n",
       "      <td>32</td>\n",
       "      <td>NaN</td>\n",
       "      <td>Челябинск</td>\n",
       "      <td>Каролина</td>\n",
       "      <td>Агеева</td>\n",
       "      <td>2018-10-09</td>\n",
       "      <td>smart</td>\n",
       "    </tr>\n",
       "    <tr>\n",
       "      <th>498</th>\n",
       "      <td>1498</td>\n",
       "      <td>68</td>\n",
       "      <td>2018-10-25</td>\n",
       "      <td>Владикавказ</td>\n",
       "      <td>Всеволод</td>\n",
       "      <td>Акимчин</td>\n",
       "      <td>2018-07-19</td>\n",
       "      <td>smart</td>\n",
       "    </tr>\n",
       "    <tr>\n",
       "      <th>499</th>\n",
       "      <td>1499</td>\n",
       "      <td>35</td>\n",
       "      <td>NaN</td>\n",
       "      <td>Пермь</td>\n",
       "      <td>Гектор</td>\n",
       "      <td>Корнилов</td>\n",
       "      <td>2018-09-27</td>\n",
       "      <td>smart</td>\n",
       "    </tr>\n",
       "  </tbody>\n",
       "</table>\n",
       "<p>500 rows × 8 columns</p>\n",
       "</div>"
      ],
      "text/plain": [
       "     user_id  age  churn_date         city first_name  last_name    reg_date  \\\n",
       "0       1000   52         NaN    Краснодар     Рафаил  Верещагин  2018-05-25   \n",
       "1       1001   41         NaN       Москва       Иван       Ежов  2018-11-01   \n",
       "2       1002   59         NaN  Стерлитамак    Евгений  Абрамович  2018-06-17   \n",
       "3       1003   23         NaN       Москва      Белла   Белякова  2018-08-17   \n",
       "4       1004   68         NaN  Новокузнецк    Татьяна   Авдеенко  2018-05-14   \n",
       "..       ...  ...         ...          ...        ...        ...         ...   \n",
       "495     1495   65         NaN      Иркутск  Авксентий      Фокин  2018-08-28   \n",
       "496     1496   36         NaN      Вологда     Трифон     Блохин  2018-01-27   \n",
       "497     1497   32         NaN    Челябинск   Каролина     Агеева  2018-10-09   \n",
       "498     1498   68  2018-10-25  Владикавказ   Всеволод    Акимчин  2018-07-19   \n",
       "499     1499   35         NaN        Пермь     Гектор   Корнилов  2018-09-27   \n",
       "\n",
       "    tariff  \n",
       "0    ultra  \n",
       "1    smart  \n",
       "2    smart  \n",
       "3    ultra  \n",
       "4    ultra  \n",
       "..     ...  \n",
       "495  ultra  \n",
       "496  smart  \n",
       "497  smart  \n",
       "498  smart  \n",
       "499  smart  \n",
       "\n",
       "[500 rows x 8 columns]"
      ]
     },
     "metadata": {},
     "output_type": "display_data"
    },
    {
     "name": "stdout",
     "output_type": "stream",
     "text": [
      "<class 'pandas.core.frame.DataFrame'>\n",
      "RangeIndex: 500 entries, 0 to 499\n",
      "Data columns (total 8 columns):\n",
      " #   Column      Non-Null Count  Dtype \n",
      "---  ------      --------------  ----- \n",
      " 0   user_id     500 non-null    int64 \n",
      " 1   age         500 non-null    int64 \n",
      " 2   churn_date  38 non-null     object\n",
      " 3   city        500 non-null    object\n",
      " 4   first_name  500 non-null    object\n",
      " 5   last_name   500 non-null    object\n",
      " 6   reg_date    500 non-null    object\n",
      " 7   tariff      500 non-null    object\n",
      "dtypes: int64(2), object(6)\n",
      "memory usage: 31.4+ KB\n"
     ]
    }
   ],
   "source": [
    "df_users = pd.read_csv('datasets/users.csv')\n",
    "display(df_users)\n",
    "df_users.info()"
   ]
  },
  {
   "cell_type": "markdown",
   "metadata": {
    "id": "TaQ2Iwbr_Zct"
   },
   "source": [
    "Итак, в таблице 8 колонок, 500 строк. Тип данных в столбцах: `object`, `int64`.\n",
    "\n",
    "Описание данных. Таблица `users` (информация о пользователях):\n",
    "- `user_id` — уникальный идентификатор пользователя\n",
    "- `first_name` — имя пользователя\n",
    "- `last_name` — фамилия пользователя\n",
    "- `age` — возраст пользователя (годы)\n",
    "- `reg_date` — дата подключения тарифа (день, месяц, год)\n",
    "- `churn_date` — дата прекращения пользования тарифом (если значение пропущено, то тариф ещё действовал на момент - выгрузки данных)\n",
    "- `city` — город проживания пользователя\n",
    "- `tariff` — название тарифного плана"
   ]
  },
  {
   "cell_type": "markdown",
   "metadata": {},
   "source": [
    "Для подсчета количества и процента пропущенных значений создадим функцию `df_statistic`"
   ]
  },
  {
   "cell_type": "code",
   "execution_count": 5,
   "metadata": {},
   "outputs": [],
   "source": [
    "def df_statistic(df):\n",
    "    df_stat = pd.concat([df.isna().sum(), df.isna().mean().map('{:.2%}'.format)], axis=1)\n",
    "    df_stat.columns = ['количество пропущенных значений', 'процент пропущенных значений']\n",
    "    return df_stat"
   ]
  },
  {
   "cell_type": "markdown",
   "metadata": {},
   "source": [
    "Напишем функцию investigate_column для анализа данных в колонке таблицы"
   ]
  },
  {
   "cell_type": "code",
   "execution_count": 6,
   "metadata": {},
   "outputs": [],
   "source": [
    "def investigate_column(df, column, is_category=False):\n",
    "    '''\n",
    "    аргументы функции:\n",
    "    df - имя таблицы\n",
    "    column - имя колонки датафрейма\n",
    "    is_category - True для категориального признака. По умолчанию False\n",
    "    is_bool - True для булевого признака. По умолчанию False\n",
    "    '''\n",
    "    display(df_statistic(df).query('index == @column'))\n",
    "    if not is_category:\n",
    "        print('')\n",
    "        print('Метод describe:')\n",
    "        print(df[column].describe())\n",
    "    else:\n",
    "        print('')\n",
    "        print('Метод value_counts:')\n",
    "        print(df[column].value_counts())"
   ]
  },
  {
   "cell_type": "markdown",
   "metadata": {},
   "source": [
    "Для каждой колонки таблицы `df_users` вызовем функцию `investigate_column`"
   ]
  },
  {
   "cell_type": "code",
   "execution_count": 7,
   "metadata": {
    "scrolled": false
   },
   "outputs": [
    {
     "data": {
      "text/html": [
       "<div>\n",
       "<style scoped>\n",
       "    .dataframe tbody tr th:only-of-type {\n",
       "        vertical-align: middle;\n",
       "    }\n",
       "\n",
       "    .dataframe tbody tr th {\n",
       "        vertical-align: top;\n",
       "    }\n",
       "\n",
       "    .dataframe thead th {\n",
       "        text-align: right;\n",
       "    }\n",
       "</style>\n",
       "<table border=\"1\" class=\"dataframe\">\n",
       "  <thead>\n",
       "    <tr style=\"text-align: right;\">\n",
       "      <th></th>\n",
       "      <th>количество пропущенных значений</th>\n",
       "      <th>процент пропущенных значений</th>\n",
       "    </tr>\n",
       "  </thead>\n",
       "  <tbody>\n",
       "    <tr>\n",
       "      <th>user_id</th>\n",
       "      <td>0</td>\n",
       "      <td>0.00%</td>\n",
       "    </tr>\n",
       "  </tbody>\n",
       "</table>\n",
       "</div>"
      ],
      "text/plain": [
       "         количество пропущенных значений процент пропущенных значений\n",
       "user_id                                0                        0.00%"
      ]
     },
     "metadata": {},
     "output_type": "display_data"
    },
    {
     "name": "stdout",
     "output_type": "stream",
     "text": [
      "\n",
      "Метод describe:\n",
      "count    500.00\n",
      "mean    1249.50\n",
      "std      144.48\n",
      "min     1000.00\n",
      "25%     1124.75\n",
      "50%     1249.50\n",
      "75%     1374.25\n",
      "max     1499.00\n",
      "Name: user_id, dtype: float64\n"
     ]
    },
    {
     "data": {
      "text/html": [
       "<div>\n",
       "<style scoped>\n",
       "    .dataframe tbody tr th:only-of-type {\n",
       "        vertical-align: middle;\n",
       "    }\n",
       "\n",
       "    .dataframe tbody tr th {\n",
       "        vertical-align: top;\n",
       "    }\n",
       "\n",
       "    .dataframe thead th {\n",
       "        text-align: right;\n",
       "    }\n",
       "</style>\n",
       "<table border=\"1\" class=\"dataframe\">\n",
       "  <thead>\n",
       "    <tr style=\"text-align: right;\">\n",
       "      <th></th>\n",
       "      <th>количество пропущенных значений</th>\n",
       "      <th>процент пропущенных значений</th>\n",
       "    </tr>\n",
       "  </thead>\n",
       "  <tbody>\n",
       "    <tr>\n",
       "      <th>age</th>\n",
       "      <td>0</td>\n",
       "      <td>0.00%</td>\n",
       "    </tr>\n",
       "  </tbody>\n",
       "</table>\n",
       "</div>"
      ],
      "text/plain": [
       "     количество пропущенных значений процент пропущенных значений\n",
       "age                                0                        0.00%"
      ]
     },
     "metadata": {},
     "output_type": "display_data"
    },
    {
     "name": "stdout",
     "output_type": "stream",
     "text": [
      "\n",
      "Метод describe:\n",
      "count   500.00\n",
      "mean     46.59\n",
      "std      16.67\n",
      "min      18.00\n",
      "25%      32.00\n",
      "50%      46.00\n",
      "75%      62.00\n",
      "max      75.00\n",
      "Name: age, dtype: float64\n"
     ]
    },
    {
     "data": {
      "text/html": [
       "<div>\n",
       "<style scoped>\n",
       "    .dataframe tbody tr th:only-of-type {\n",
       "        vertical-align: middle;\n",
       "    }\n",
       "\n",
       "    .dataframe tbody tr th {\n",
       "        vertical-align: top;\n",
       "    }\n",
       "\n",
       "    .dataframe thead th {\n",
       "        text-align: right;\n",
       "    }\n",
       "</style>\n",
       "<table border=\"1\" class=\"dataframe\">\n",
       "  <thead>\n",
       "    <tr style=\"text-align: right;\">\n",
       "      <th></th>\n",
       "      <th>количество пропущенных значений</th>\n",
       "      <th>процент пропущенных значений</th>\n",
       "    </tr>\n",
       "  </thead>\n",
       "  <tbody>\n",
       "    <tr>\n",
       "      <th>churn_date</th>\n",
       "      <td>462</td>\n",
       "      <td>92.40%</td>\n",
       "    </tr>\n",
       "  </tbody>\n",
       "</table>\n",
       "</div>"
      ],
      "text/plain": [
       "            количество пропущенных значений процент пропущенных значений\n",
       "churn_date                              462                       92.40%"
      ]
     },
     "metadata": {},
     "output_type": "display_data"
    },
    {
     "name": "stdout",
     "output_type": "stream",
     "text": [
      "\n",
      "Метод describe:\n",
      "count             38\n",
      "unique            33\n",
      "top       2018-12-03\n",
      "freq               2\n",
      "Name: churn_date, dtype: object\n"
     ]
    },
    {
     "data": {
      "text/html": [
       "<div>\n",
       "<style scoped>\n",
       "    .dataframe tbody tr th:only-of-type {\n",
       "        vertical-align: middle;\n",
       "    }\n",
       "\n",
       "    .dataframe tbody tr th {\n",
       "        vertical-align: top;\n",
       "    }\n",
       "\n",
       "    .dataframe thead th {\n",
       "        text-align: right;\n",
       "    }\n",
       "</style>\n",
       "<table border=\"1\" class=\"dataframe\">\n",
       "  <thead>\n",
       "    <tr style=\"text-align: right;\">\n",
       "      <th></th>\n",
       "      <th>количество пропущенных значений</th>\n",
       "      <th>процент пропущенных значений</th>\n",
       "    </tr>\n",
       "  </thead>\n",
       "  <tbody>\n",
       "    <tr>\n",
       "      <th>city</th>\n",
       "      <td>0</td>\n",
       "      <td>0.00%</td>\n",
       "    </tr>\n",
       "  </tbody>\n",
       "</table>\n",
       "</div>"
      ],
      "text/plain": [
       "      количество пропущенных значений процент пропущенных значений\n",
       "city                                0                        0.00%"
      ]
     },
     "metadata": {},
     "output_type": "display_data"
    },
    {
     "name": "stdout",
     "output_type": "stream",
     "text": [
      "\n",
      "Метод describe:\n",
      "count        500\n",
      "unique        76\n",
      "top       Москва\n",
      "freq          99\n",
      "Name: city, dtype: object\n"
     ]
    },
    {
     "data": {
      "text/html": [
       "<div>\n",
       "<style scoped>\n",
       "    .dataframe tbody tr th:only-of-type {\n",
       "        vertical-align: middle;\n",
       "    }\n",
       "\n",
       "    .dataframe tbody tr th {\n",
       "        vertical-align: top;\n",
       "    }\n",
       "\n",
       "    .dataframe thead th {\n",
       "        text-align: right;\n",
       "    }\n",
       "</style>\n",
       "<table border=\"1\" class=\"dataframe\">\n",
       "  <thead>\n",
       "    <tr style=\"text-align: right;\">\n",
       "      <th></th>\n",
       "      <th>количество пропущенных значений</th>\n",
       "      <th>процент пропущенных значений</th>\n",
       "    </tr>\n",
       "  </thead>\n",
       "  <tbody>\n",
       "    <tr>\n",
       "      <th>first_name</th>\n",
       "      <td>0</td>\n",
       "      <td>0.00%</td>\n",
       "    </tr>\n",
       "  </tbody>\n",
       "</table>\n",
       "</div>"
      ],
      "text/plain": [
       "            количество пропущенных значений процент пропущенных значений\n",
       "first_name                                0                        0.00%"
      ]
     },
     "metadata": {},
     "output_type": "display_data"
    },
    {
     "name": "stdout",
     "output_type": "stream",
     "text": [
      "\n",
      "Метод describe:\n",
      "count       500\n",
      "unique      246\n",
      "top       Радим\n",
      "freq          6\n",
      "Name: first_name, dtype: object\n"
     ]
    },
    {
     "data": {
      "text/html": [
       "<div>\n",
       "<style scoped>\n",
       "    .dataframe tbody tr th:only-of-type {\n",
       "        vertical-align: middle;\n",
       "    }\n",
       "\n",
       "    .dataframe tbody tr th {\n",
       "        vertical-align: top;\n",
       "    }\n",
       "\n",
       "    .dataframe thead th {\n",
       "        text-align: right;\n",
       "    }\n",
       "</style>\n",
       "<table border=\"1\" class=\"dataframe\">\n",
       "  <thead>\n",
       "    <tr style=\"text-align: right;\">\n",
       "      <th></th>\n",
       "      <th>количество пропущенных значений</th>\n",
       "      <th>процент пропущенных значений</th>\n",
       "    </tr>\n",
       "  </thead>\n",
       "  <tbody>\n",
       "    <tr>\n",
       "      <th>last_name</th>\n",
       "      <td>0</td>\n",
       "      <td>0.00%</td>\n",
       "    </tr>\n",
       "  </tbody>\n",
       "</table>\n",
       "</div>"
      ],
      "text/plain": [
       "           количество пропущенных значений процент пропущенных значений\n",
       "last_name                                0                        0.00%"
      ]
     },
     "metadata": {},
     "output_type": "display_data"
    },
    {
     "name": "stdout",
     "output_type": "stream",
     "text": [
      "\n",
      "Метод describe:\n",
      "count           500\n",
      "unique          419\n",
      "top       Андреенко\n",
      "freq              5\n",
      "Name: last_name, dtype: object\n"
     ]
    },
    {
     "data": {
      "text/html": [
       "<div>\n",
       "<style scoped>\n",
       "    .dataframe tbody tr th:only-of-type {\n",
       "        vertical-align: middle;\n",
       "    }\n",
       "\n",
       "    .dataframe tbody tr th {\n",
       "        vertical-align: top;\n",
       "    }\n",
       "\n",
       "    .dataframe thead th {\n",
       "        text-align: right;\n",
       "    }\n",
       "</style>\n",
       "<table border=\"1\" class=\"dataframe\">\n",
       "  <thead>\n",
       "    <tr style=\"text-align: right;\">\n",
       "      <th></th>\n",
       "      <th>количество пропущенных значений</th>\n",
       "      <th>процент пропущенных значений</th>\n",
       "    </tr>\n",
       "  </thead>\n",
       "  <tbody>\n",
       "    <tr>\n",
       "      <th>reg_date</th>\n",
       "      <td>0</td>\n",
       "      <td>0.00%</td>\n",
       "    </tr>\n",
       "  </tbody>\n",
       "</table>\n",
       "</div>"
      ],
      "text/plain": [
       "          количество пропущенных значений процент пропущенных значений\n",
       "reg_date                                0                        0.00%"
      ]
     },
     "metadata": {},
     "output_type": "display_data"
    },
    {
     "name": "stdout",
     "output_type": "stream",
     "text": [
      "\n",
      "Метод describe:\n",
      "count            500\n",
      "unique           270\n",
      "top       2018-05-28\n",
      "freq               8\n",
      "Name: reg_date, dtype: object\n"
     ]
    },
    {
     "data": {
      "text/html": [
       "<div>\n",
       "<style scoped>\n",
       "    .dataframe tbody tr th:only-of-type {\n",
       "        vertical-align: middle;\n",
       "    }\n",
       "\n",
       "    .dataframe tbody tr th {\n",
       "        vertical-align: top;\n",
       "    }\n",
       "\n",
       "    .dataframe thead th {\n",
       "        text-align: right;\n",
       "    }\n",
       "</style>\n",
       "<table border=\"1\" class=\"dataframe\">\n",
       "  <thead>\n",
       "    <tr style=\"text-align: right;\">\n",
       "      <th></th>\n",
       "      <th>количество пропущенных значений</th>\n",
       "      <th>процент пропущенных значений</th>\n",
       "    </tr>\n",
       "  </thead>\n",
       "  <tbody>\n",
       "    <tr>\n",
       "      <th>tariff</th>\n",
       "      <td>0</td>\n",
       "      <td>0.00%</td>\n",
       "    </tr>\n",
       "  </tbody>\n",
       "</table>\n",
       "</div>"
      ],
      "text/plain": [
       "        количество пропущенных значений процент пропущенных значений\n",
       "tariff                                0                        0.00%"
      ]
     },
     "metadata": {},
     "output_type": "display_data"
    },
    {
     "name": "stdout",
     "output_type": "stream",
     "text": [
      "\n",
      "Метод describe:\n",
      "count       500\n",
      "unique        2\n",
      "top       smart\n",
      "freq        351\n",
      "Name: tariff, dtype: object\n"
     ]
    }
   ],
   "source": [
    "for column in df_users.columns:\n",
    "    investigate_column(df_users, column)"
   ]
  },
  {
   "cell_type": "code",
   "execution_count": 8,
   "metadata": {},
   "outputs": [
    {
     "data": {
      "text/plain": [
       "array(['Краснодар', 'Москва', 'Стерлитамак', 'Новокузнецк',\n",
       "       'Набережные Челны', 'Ульяновск', 'Челябинск', 'Пермь', 'Тюмень',\n",
       "       'Самара', 'Санкт-Петербург', 'Иваново', 'Чебоксары', 'Омск', 'Уфа',\n",
       "       'Томск', 'Чита', 'Мурманск', 'Петрозаводск', 'Тверь',\n",
       "       'Екатеринбург', 'Махачкала', 'Вологда', 'Череповец', 'Ярославль',\n",
       "       'Сочи', 'Хабаровск', 'Ставрополь', 'Рязань', 'Улан-Удэ', 'Тула',\n",
       "       'Саратов', 'Ростов-на-Дону', 'Казань', 'Иркутск', 'Курск',\n",
       "       'Калуга', 'Якутск', 'Астрахань', 'Химки', 'Владикавказ',\n",
       "       'Волгоград', 'Саранск', 'Ижевск', 'Новосибирск', 'Брянск',\n",
       "       'Тольятти', 'Нижний Тагил', 'Орёл', 'Белгород', 'Воронеж',\n",
       "       'Волжский', 'Курган', 'Барнаул', 'Красноярск', 'Архангельск',\n",
       "       'Липецк', 'Кемерово', 'Киров', 'Сургут', 'Пенза', 'Магнитогорск',\n",
       "       'Нижний Новгород', 'Кострома', 'Владивосток', 'Тамбов', 'Балашиха',\n",
       "       'Севастополь', 'Калининград', 'Оренбург', 'Смоленск',\n",
       "       'Нижневартовск', 'Владимир', 'Новороссийск', 'Грозный', 'Подольск'],\n",
       "      dtype=object)"
      ]
     },
     "execution_count": 8,
     "metadata": {},
     "output_type": "execute_result"
    }
   ],
   "source": [
    "df_users['city'].unique()"
   ]
  },
  {
   "cell_type": "markdown",
   "metadata": {},
   "source": [
    "**Вывод по колонке `user_id` таблицы `df_users`:**\n",
    "\n",
    "Видим, что в колонке нет пропущенных значений. Проблем с данными нет: значения меняются от 1000 до 1499\n",
    "\n",
    "**Выводы по колонке `age` таблицы `df_users`:**\n",
    "\n",
    "Видим, что в колонке нет пропущенных значений. Проблем с данными нет: значения меняются от 18 лет до 75 лет\n",
    "\n",
    "**Выводы по колонка `churn_date` таблицы `df_users`:**\n",
    "\n",
    "Видим, что в колонке есть пропущенные значения. Но данные из этой колонки нам не пригодятся для ответа на поставленные вопросы, поэтому на этапе предобработки не будем заполнять эти пропуски, оставим без изменения\n",
    "\n",
    "**Выводы по колонке `reg_date` таблицы `df_users`:**\n",
    "\n",
    "Видим, что в колонке нет пропущенных значений.\n",
    "\n",
    "**Вывод по колонкам `city`, `first_name`,`last_name`, `tariff` таблицы `df_users`:**\n",
    "\n",
    "Видим, что в колонках нет пропущенных значений. Проблем с данными в колонках нет. В таблицe присутстуют данные о 500 пользователях"
   ]
  },
  {
   "cell_type": "markdown",
   "metadata": {
    "id": "SG23P8tt_Zcs"
   },
   "source": [
    "### Прочитаем файл calls.csv\n",
    "из папки `datasets` и сохраним его в переменной `df_calls`:"
   ]
  },
  {
   "cell_type": "code",
   "execution_count": 9,
   "metadata": {},
   "outputs": [],
   "source": [
    "df_calls = pd.read_csv('datasets/calls.csv')"
   ]
  },
  {
   "cell_type": "markdown",
   "metadata": {
    "id": "rDoOMd3uTqnZ"
   },
   "source": [
    "Выведем на экран первые и последние 5 строк таблицы `df_calls`:"
   ]
  },
  {
   "cell_type": "code",
   "execution_count": 10,
   "metadata": {},
   "outputs": [
    {
     "data": {
      "text/html": [
       "<div>\n",
       "<style scoped>\n",
       "    .dataframe tbody tr th:only-of-type {\n",
       "        vertical-align: middle;\n",
       "    }\n",
       "\n",
       "    .dataframe tbody tr th {\n",
       "        vertical-align: top;\n",
       "    }\n",
       "\n",
       "    .dataframe thead th {\n",
       "        text-align: right;\n",
       "    }\n",
       "</style>\n",
       "<table border=\"1\" class=\"dataframe\">\n",
       "  <thead>\n",
       "    <tr style=\"text-align: right;\">\n",
       "      <th></th>\n",
       "      <th>id</th>\n",
       "      <th>call_date</th>\n",
       "      <th>duration</th>\n",
       "      <th>user_id</th>\n",
       "    </tr>\n",
       "  </thead>\n",
       "  <tbody>\n",
       "    <tr>\n",
       "      <th>0</th>\n",
       "      <td>1000_0</td>\n",
       "      <td>2018-07-25</td>\n",
       "      <td>0.00</td>\n",
       "      <td>1000</td>\n",
       "    </tr>\n",
       "    <tr>\n",
       "      <th>1</th>\n",
       "      <td>1000_1</td>\n",
       "      <td>2018-08-17</td>\n",
       "      <td>0.00</td>\n",
       "      <td>1000</td>\n",
       "    </tr>\n",
       "    <tr>\n",
       "      <th>2</th>\n",
       "      <td>1000_2</td>\n",
       "      <td>2018-06-11</td>\n",
       "      <td>2.85</td>\n",
       "      <td>1000</td>\n",
       "    </tr>\n",
       "    <tr>\n",
       "      <th>3</th>\n",
       "      <td>1000_3</td>\n",
       "      <td>2018-09-21</td>\n",
       "      <td>13.80</td>\n",
       "      <td>1000</td>\n",
       "    </tr>\n",
       "    <tr>\n",
       "      <th>4</th>\n",
       "      <td>1000_4</td>\n",
       "      <td>2018-12-15</td>\n",
       "      <td>5.18</td>\n",
       "      <td>1000</td>\n",
       "    </tr>\n",
       "    <tr>\n",
       "      <th>...</th>\n",
       "      <td>...</td>\n",
       "      <td>...</td>\n",
       "      <td>...</td>\n",
       "      <td>...</td>\n",
       "    </tr>\n",
       "    <tr>\n",
       "      <th>202602</th>\n",
       "      <td>1499_215</td>\n",
       "      <td>2018-12-26</td>\n",
       "      <td>0.76</td>\n",
       "      <td>1499</td>\n",
       "    </tr>\n",
       "    <tr>\n",
       "      <th>202603</th>\n",
       "      <td>1499_216</td>\n",
       "      <td>2018-10-18</td>\n",
       "      <td>18.83</td>\n",
       "      <td>1499</td>\n",
       "    </tr>\n",
       "    <tr>\n",
       "      <th>202604</th>\n",
       "      <td>1499_217</td>\n",
       "      <td>2018-11-10</td>\n",
       "      <td>10.81</td>\n",
       "      <td>1499</td>\n",
       "    </tr>\n",
       "    <tr>\n",
       "      <th>202605</th>\n",
       "      <td>1499_218</td>\n",
       "      <td>2018-10-06</td>\n",
       "      <td>4.27</td>\n",
       "      <td>1499</td>\n",
       "    </tr>\n",
       "    <tr>\n",
       "      <th>202606</th>\n",
       "      <td>1499_219</td>\n",
       "      <td>2018-12-14</td>\n",
       "      <td>19.62</td>\n",
       "      <td>1499</td>\n",
       "    </tr>\n",
       "  </tbody>\n",
       "</table>\n",
       "<p>202607 rows × 4 columns</p>\n",
       "</div>"
      ],
      "text/plain": [
       "              id   call_date  duration  user_id\n",
       "0         1000_0  2018-07-25      0.00     1000\n",
       "1         1000_1  2018-08-17      0.00     1000\n",
       "2         1000_2  2018-06-11      2.85     1000\n",
       "3         1000_3  2018-09-21     13.80     1000\n",
       "4         1000_4  2018-12-15      5.18     1000\n",
       "...          ...         ...       ...      ...\n",
       "202602  1499_215  2018-12-26      0.76     1499\n",
       "202603  1499_216  2018-10-18     18.83     1499\n",
       "202604  1499_217  2018-11-10     10.81     1499\n",
       "202605  1499_218  2018-10-06      4.27     1499\n",
       "202606  1499_219  2018-12-14     19.62     1499\n",
       "\n",
       "[202607 rows x 4 columns]"
      ]
     },
     "execution_count": 10,
     "metadata": {},
     "output_type": "execute_result"
    }
   ],
   "source": [
    "df_calls"
   ]
  },
  {
   "cell_type": "markdown",
   "metadata": {
    "id": "EO73Kwic_Zct"
   },
   "source": [
    "Получим общую информацию о таблице:"
   ]
  },
  {
   "cell_type": "code",
   "execution_count": 11,
   "metadata": {
    "scrolled": false
   },
   "outputs": [
    {
     "name": "stdout",
     "output_type": "stream",
     "text": [
      "<class 'pandas.core.frame.DataFrame'>\n",
      "RangeIndex: 202607 entries, 0 to 202606\n",
      "Data columns (total 4 columns):\n",
      " #   Column     Non-Null Count   Dtype  \n",
      "---  ------     --------------   -----  \n",
      " 0   id         202607 non-null  object \n",
      " 1   call_date  202607 non-null  object \n",
      " 2   duration   202607 non-null  float64\n",
      " 3   user_id    202607 non-null  int64  \n",
      "dtypes: float64(1), int64(1), object(2)\n",
      "memory usage: 6.2+ MB\n"
     ]
    }
   ],
   "source": [
    "df_calls.info()"
   ]
  },
  {
   "cell_type": "markdown",
   "metadata": {
    "id": "TaQ2Iwbr_Zct"
   },
   "source": [
    "Итак, в таблице 4 колонки, 202607 строк. Тип данных в столбцах: `object`, `float64`, `int64`.\n",
    "\n",
    "Описание данных. Таблица `calls` (информация о звонках):\n",
    "- `id` — уникальный номер звонка\n",
    "- `call_date` — дата звонка\n",
    "- `duration` — длительность звонка в минутах\n",
    "- `user_id` — идентификатор пользователя, сделавшего звонок"
   ]
  },
  {
   "cell_type": "markdown",
   "metadata": {},
   "source": [
    "Для каждой колонки таблицы `df_calls` вызовем функцию `investigate_column`"
   ]
  },
  {
   "cell_type": "code",
   "execution_count": 12,
   "metadata": {
    "scrolled": false
   },
   "outputs": [
    {
     "data": {
      "text/html": [
       "<div>\n",
       "<style scoped>\n",
       "    .dataframe tbody tr th:only-of-type {\n",
       "        vertical-align: middle;\n",
       "    }\n",
       "\n",
       "    .dataframe tbody tr th {\n",
       "        vertical-align: top;\n",
       "    }\n",
       "\n",
       "    .dataframe thead th {\n",
       "        text-align: right;\n",
       "    }\n",
       "</style>\n",
       "<table border=\"1\" class=\"dataframe\">\n",
       "  <thead>\n",
       "    <tr style=\"text-align: right;\">\n",
       "      <th></th>\n",
       "      <th>количество пропущенных значений</th>\n",
       "      <th>процент пропущенных значений</th>\n",
       "    </tr>\n",
       "  </thead>\n",
       "  <tbody>\n",
       "    <tr>\n",
       "      <th>id</th>\n",
       "      <td>0</td>\n",
       "      <td>0.00%</td>\n",
       "    </tr>\n",
       "  </tbody>\n",
       "</table>\n",
       "</div>"
      ],
      "text/plain": [
       "    количество пропущенных значений процент пропущенных значений\n",
       "id                                0                        0.00%"
      ]
     },
     "metadata": {},
     "output_type": "display_data"
    },
    {
     "name": "stdout",
     "output_type": "stream",
     "text": [
      "\n",
      "Метод describe:\n",
      "count       202607\n",
      "unique      202607\n",
      "top       1195_124\n",
      "freq             1\n",
      "Name: id, dtype: object\n"
     ]
    },
    {
     "data": {
      "text/html": [
       "<div>\n",
       "<style scoped>\n",
       "    .dataframe tbody tr th:only-of-type {\n",
       "        vertical-align: middle;\n",
       "    }\n",
       "\n",
       "    .dataframe tbody tr th {\n",
       "        vertical-align: top;\n",
       "    }\n",
       "\n",
       "    .dataframe thead th {\n",
       "        text-align: right;\n",
       "    }\n",
       "</style>\n",
       "<table border=\"1\" class=\"dataframe\">\n",
       "  <thead>\n",
       "    <tr style=\"text-align: right;\">\n",
       "      <th></th>\n",
       "      <th>количество пропущенных значений</th>\n",
       "      <th>процент пропущенных значений</th>\n",
       "    </tr>\n",
       "  </thead>\n",
       "  <tbody>\n",
       "    <tr>\n",
       "      <th>call_date</th>\n",
       "      <td>0</td>\n",
       "      <td>0.00%</td>\n",
       "    </tr>\n",
       "  </tbody>\n",
       "</table>\n",
       "</div>"
      ],
      "text/plain": [
       "           количество пропущенных значений процент пропущенных значений\n",
       "call_date                                0                        0.00%"
      ]
     },
     "metadata": {},
     "output_type": "display_data"
    },
    {
     "name": "stdout",
     "output_type": "stream",
     "text": [
      "\n",
      "Метод describe:\n",
      "count         202607\n",
      "unique           365\n",
      "top       2018-12-31\n",
      "freq            1435\n",
      "Name: call_date, dtype: object\n"
     ]
    },
    {
     "data": {
      "text/html": [
       "<div>\n",
       "<style scoped>\n",
       "    .dataframe tbody tr th:only-of-type {\n",
       "        vertical-align: middle;\n",
       "    }\n",
       "\n",
       "    .dataframe tbody tr th {\n",
       "        vertical-align: top;\n",
       "    }\n",
       "\n",
       "    .dataframe thead th {\n",
       "        text-align: right;\n",
       "    }\n",
       "</style>\n",
       "<table border=\"1\" class=\"dataframe\">\n",
       "  <thead>\n",
       "    <tr style=\"text-align: right;\">\n",
       "      <th></th>\n",
       "      <th>количество пропущенных значений</th>\n",
       "      <th>процент пропущенных значений</th>\n",
       "    </tr>\n",
       "  </thead>\n",
       "  <tbody>\n",
       "    <tr>\n",
       "      <th>duration</th>\n",
       "      <td>0</td>\n",
       "      <td>0.00%</td>\n",
       "    </tr>\n",
       "  </tbody>\n",
       "</table>\n",
       "</div>"
      ],
      "text/plain": [
       "          количество пропущенных значений процент пропущенных значений\n",
       "duration                                0                        0.00%"
      ]
     },
     "metadata": {},
     "output_type": "display_data"
    },
    {
     "name": "stdout",
     "output_type": "stream",
     "text": [
      "\n",
      "Метод describe:\n",
      "count   202607.00\n",
      "mean         6.76\n",
      "std          5.84\n",
      "min          0.00\n",
      "25%          1.30\n",
      "50%          6.00\n",
      "75%         10.70\n",
      "max         38.00\n",
      "Name: duration, dtype: float64\n"
     ]
    },
    {
     "data": {
      "text/html": [
       "<div>\n",
       "<style scoped>\n",
       "    .dataframe tbody tr th:only-of-type {\n",
       "        vertical-align: middle;\n",
       "    }\n",
       "\n",
       "    .dataframe tbody tr th {\n",
       "        vertical-align: top;\n",
       "    }\n",
       "\n",
       "    .dataframe thead th {\n",
       "        text-align: right;\n",
       "    }\n",
       "</style>\n",
       "<table border=\"1\" class=\"dataframe\">\n",
       "  <thead>\n",
       "    <tr style=\"text-align: right;\">\n",
       "      <th></th>\n",
       "      <th>количество пропущенных значений</th>\n",
       "      <th>процент пропущенных значений</th>\n",
       "    </tr>\n",
       "  </thead>\n",
       "  <tbody>\n",
       "    <tr>\n",
       "      <th>user_id</th>\n",
       "      <td>0</td>\n",
       "      <td>0.00%</td>\n",
       "    </tr>\n",
       "  </tbody>\n",
       "</table>\n",
       "</div>"
      ],
      "text/plain": [
       "         количество пропущенных значений процент пропущенных значений\n",
       "user_id                                0                        0.00%"
      ]
     },
     "metadata": {},
     "output_type": "display_data"
    },
    {
     "name": "stdout",
     "output_type": "stream",
     "text": [
      "\n",
      "Метод describe:\n",
      "count   202607.00\n",
      "mean      1253.94\n",
      "std        144.72\n",
      "min       1000.00\n",
      "25%       1126.00\n",
      "50%       1260.00\n",
      "75%       1379.00\n",
      "max       1499.00\n",
      "Name: user_id, dtype: float64\n"
     ]
    }
   ],
   "source": [
    "for column in df_calls.columns:\n",
    "    investigate_column(df_calls, column)"
   ]
  },
  {
   "cell_type": "markdown",
   "metadata": {},
   "source": [
    "Определим `user_id` пользователей, данных о которых в таблице `df_calls`"
   ]
  },
  {
   "cell_type": "code",
   "execution_count": 13,
   "metadata": {},
   "outputs": [],
   "source": [
    "users = df_calls['user_id'].unique().tolist()"
   ]
  },
  {
   "cell_type": "code",
   "execution_count": 14,
   "metadata": {},
   "outputs": [
    {
     "data": {
      "text/plain": [
       "[1091, 1106, 1128, 1231, 1328, 1371, 1473, 1489]"
      ]
     },
     "execution_count": 14,
     "metadata": {},
     "output_type": "execute_result"
    }
   ],
   "source": [
    "df_users.query('user_id not in @users')['user_id'].tolist()"
   ]
  },
  {
   "cell_type": "markdown",
   "metadata": {},
   "source": [
    "**Выводы по колонке `id` таблицы `df_calls`:**\n",
    "\n",
    "Видим, что в колонке нет пропущенных значений.\n",
    "Все значения в колонке - уникальные, значит в таблице явные дубликаты отсутствуют.\n",
    "На этапе предобработки необходимо преобразовать тип колонки в int\n",
    "\n",
    "**Выводы по колонке `call_date` таблицы `df_calls`:**\n",
    "\n",
    "Видим, что в колонке нет пропущенных значений.\n",
    "На этапе предобработки необходимо преобразовать тип колонки в datetime\n",
    "\n",
    "**Выводы по колонке `duration` таблицы `df_calls`:**\n",
    "\n",
    "Видим, что в колонке нет пропущенных значений. Проблем с данными нет: значения меняются от 0 минут до 38 минут. Длительность звонка в 0 минут - это не ошибка, нулями обозначены пропущенные звонки, поэтому их не нужно удалять.\n",
    "\n",
    "**Вывод по колонке `user_id` таблицы `df_calls`:**\n",
    "\n",
    "Видим, что в колонке нет пропущенных значений. Проблем с данными нет: значения меняются от 1000 до 1499. Данные в таблице присутствуют для 492 пользователей"
   ]
  },
  {
   "cell_type": "markdown",
   "metadata": {
    "id": "SG23P8tt_Zcs"
   },
   "source": [
    "### Прочитаем файл internet.csv\n",
    "из папки `datasets` и сохраним его в переменной `df_internet`:"
   ]
  },
  {
   "cell_type": "code",
   "execution_count": 15,
   "metadata": {
    "scrolled": false
   },
   "outputs": [
    {
     "data": {
      "text/html": [
       "<div>\n",
       "<style scoped>\n",
       "    .dataframe tbody tr th:only-of-type {\n",
       "        vertical-align: middle;\n",
       "    }\n",
       "\n",
       "    .dataframe tbody tr th {\n",
       "        vertical-align: top;\n",
       "    }\n",
       "\n",
       "    .dataframe thead th {\n",
       "        text-align: right;\n",
       "    }\n",
       "</style>\n",
       "<table border=\"1\" class=\"dataframe\">\n",
       "  <thead>\n",
       "    <tr style=\"text-align: right;\">\n",
       "      <th></th>\n",
       "      <th>id</th>\n",
       "      <th>mb_used</th>\n",
       "      <th>session_date</th>\n",
       "      <th>user_id</th>\n",
       "    </tr>\n",
       "  </thead>\n",
       "  <tbody>\n",
       "    <tr>\n",
       "      <th>0</th>\n",
       "      <td>1000_0</td>\n",
       "      <td>112.95</td>\n",
       "      <td>2018-11-25</td>\n",
       "      <td>1000</td>\n",
       "    </tr>\n",
       "    <tr>\n",
       "      <th>1</th>\n",
       "      <td>1000_1</td>\n",
       "      <td>1052.81</td>\n",
       "      <td>2018-09-07</td>\n",
       "      <td>1000</td>\n",
       "    </tr>\n",
       "    <tr>\n",
       "      <th>2</th>\n",
       "      <td>1000_2</td>\n",
       "      <td>1197.26</td>\n",
       "      <td>2018-06-25</td>\n",
       "      <td>1000</td>\n",
       "    </tr>\n",
       "    <tr>\n",
       "      <th>3</th>\n",
       "      <td>1000_3</td>\n",
       "      <td>550.27</td>\n",
       "      <td>2018-08-22</td>\n",
       "      <td>1000</td>\n",
       "    </tr>\n",
       "    <tr>\n",
       "      <th>4</th>\n",
       "      <td>1000_4</td>\n",
       "      <td>302.56</td>\n",
       "      <td>2018-09-24</td>\n",
       "      <td>1000</td>\n",
       "    </tr>\n",
       "    <tr>\n",
       "      <th>...</th>\n",
       "      <td>...</td>\n",
       "      <td>...</td>\n",
       "      <td>...</td>\n",
       "      <td>...</td>\n",
       "    </tr>\n",
       "    <tr>\n",
       "      <th>149391</th>\n",
       "      <td>1499_152</td>\n",
       "      <td>318.90</td>\n",
       "      <td>2018-10-03</td>\n",
       "      <td>1499</td>\n",
       "    </tr>\n",
       "    <tr>\n",
       "      <th>149392</th>\n",
       "      <td>1499_153</td>\n",
       "      <td>490.13</td>\n",
       "      <td>2018-12-14</td>\n",
       "      <td>1499</td>\n",
       "    </tr>\n",
       "    <tr>\n",
       "      <th>149393</th>\n",
       "      <td>1499_154</td>\n",
       "      <td>0.00</td>\n",
       "      <td>2018-10-27</td>\n",
       "      <td>1499</td>\n",
       "    </tr>\n",
       "    <tr>\n",
       "      <th>149394</th>\n",
       "      <td>1499_155</td>\n",
       "      <td>1246.32</td>\n",
       "      <td>2018-11-26</td>\n",
       "      <td>1499</td>\n",
       "    </tr>\n",
       "    <tr>\n",
       "      <th>149395</th>\n",
       "      <td>1499_156</td>\n",
       "      <td>544.37</td>\n",
       "      <td>2018-10-26</td>\n",
       "      <td>1499</td>\n",
       "    </tr>\n",
       "  </tbody>\n",
       "</table>\n",
       "<p>149396 rows × 4 columns</p>\n",
       "</div>"
      ],
      "text/plain": [
       "              id  mb_used session_date  user_id\n",
       "0         1000_0   112.95   2018-11-25     1000\n",
       "1         1000_1  1052.81   2018-09-07     1000\n",
       "2         1000_2  1197.26   2018-06-25     1000\n",
       "3         1000_3   550.27   2018-08-22     1000\n",
       "4         1000_4   302.56   2018-09-24     1000\n",
       "...          ...      ...          ...      ...\n",
       "149391  1499_152   318.90   2018-10-03     1499\n",
       "149392  1499_153   490.13   2018-12-14     1499\n",
       "149393  1499_154     0.00   2018-10-27     1499\n",
       "149394  1499_155  1246.32   2018-11-26     1499\n",
       "149395  1499_156   544.37   2018-10-26     1499\n",
       "\n",
       "[149396 rows x 4 columns]"
      ]
     },
     "metadata": {},
     "output_type": "display_data"
    },
    {
     "name": "stdout",
     "output_type": "stream",
     "text": [
      "<class 'pandas.core.frame.DataFrame'>\n",
      "Int64Index: 149396 entries, 0 to 149395\n",
      "Data columns (total 4 columns):\n",
      " #   Column        Non-Null Count   Dtype  \n",
      "---  ------        --------------   -----  \n",
      " 0   id            149396 non-null  object \n",
      " 1   mb_used       149396 non-null  float64\n",
      " 2   session_date  149396 non-null  object \n",
      " 3   user_id       149396 non-null  int64  \n",
      "dtypes: float64(1), int64(1), object(2)\n",
      "memory usage: 5.7+ MB\n"
     ]
    }
   ],
   "source": [
    "df_internet = pd.read_csv('datasets/internet.csv', index_col=0)\n",
    "display(df_internet)\n",
    "df_internet.info()"
   ]
  },
  {
   "cell_type": "markdown",
   "metadata": {
    "id": "TaQ2Iwbr_Zct"
   },
   "source": [
    "Итак, в таблице 4 колонки, 149395 строк. Тип данных в столбцах: `object`, `float64`, `int64`.\n",
    "\n",
    "Описание данных. Таблица `internet` (информация об интернет-сессиях):\n",
    "- `id` — уникальный номер сессии\n",
    "- `mb_used` — объём потраченного за сессию интернет-трафика (в мегабайтах)\n",
    "- `session_date` — дата интернет-сессии\n",
    "- `user_id` — идентификатор пользователя"
   ]
  },
  {
   "cell_type": "markdown",
   "metadata": {},
   "source": [
    "Для каждой колонки таблицы `df_internet` вызовем функцию `investigate_column`"
   ]
  },
  {
   "cell_type": "code",
   "execution_count": 16,
   "metadata": {
    "scrolled": false
   },
   "outputs": [
    {
     "data": {
      "text/html": [
       "<div>\n",
       "<style scoped>\n",
       "    .dataframe tbody tr th:only-of-type {\n",
       "        vertical-align: middle;\n",
       "    }\n",
       "\n",
       "    .dataframe tbody tr th {\n",
       "        vertical-align: top;\n",
       "    }\n",
       "\n",
       "    .dataframe thead th {\n",
       "        text-align: right;\n",
       "    }\n",
       "</style>\n",
       "<table border=\"1\" class=\"dataframe\">\n",
       "  <thead>\n",
       "    <tr style=\"text-align: right;\">\n",
       "      <th></th>\n",
       "      <th>количество пропущенных значений</th>\n",
       "      <th>процент пропущенных значений</th>\n",
       "    </tr>\n",
       "  </thead>\n",
       "  <tbody>\n",
       "    <tr>\n",
       "      <th>id</th>\n",
       "      <td>0</td>\n",
       "      <td>0.00%</td>\n",
       "    </tr>\n",
       "  </tbody>\n",
       "</table>\n",
       "</div>"
      ],
      "text/plain": [
       "    количество пропущенных значений процент пропущенных значений\n",
       "id                                0                        0.00%"
      ]
     },
     "metadata": {},
     "output_type": "display_data"
    },
    {
     "name": "stdout",
     "output_type": "stream",
     "text": [
      "\n",
      "Метод describe:\n",
      "count      149396\n",
      "unique     149396\n",
      "top       1039_45\n",
      "freq            1\n",
      "Name: id, dtype: object\n"
     ]
    },
    {
     "data": {
      "text/html": [
       "<div>\n",
       "<style scoped>\n",
       "    .dataframe tbody tr th:only-of-type {\n",
       "        vertical-align: middle;\n",
       "    }\n",
       "\n",
       "    .dataframe tbody tr th {\n",
       "        vertical-align: top;\n",
       "    }\n",
       "\n",
       "    .dataframe thead th {\n",
       "        text-align: right;\n",
       "    }\n",
       "</style>\n",
       "<table border=\"1\" class=\"dataframe\">\n",
       "  <thead>\n",
       "    <tr style=\"text-align: right;\">\n",
       "      <th></th>\n",
       "      <th>количество пропущенных значений</th>\n",
       "      <th>процент пропущенных значений</th>\n",
       "    </tr>\n",
       "  </thead>\n",
       "  <tbody>\n",
       "    <tr>\n",
       "      <th>mb_used</th>\n",
       "      <td>0</td>\n",
       "      <td>0.00%</td>\n",
       "    </tr>\n",
       "  </tbody>\n",
       "</table>\n",
       "</div>"
      ],
      "text/plain": [
       "         количество пропущенных значений процент пропущенных значений\n",
       "mb_used                                0                        0.00%"
      ]
     },
     "metadata": {},
     "output_type": "display_data"
    },
    {
     "name": "stdout",
     "output_type": "stream",
     "text": [
      "\n",
      "Метод describe:\n",
      "count   149396.00\n",
      "mean       370.19\n",
      "std        278.30\n",
      "min          0.00\n",
      "25%        138.19\n",
      "50%        348.01\n",
      "75%        559.55\n",
      "max       1724.83\n",
      "Name: mb_used, dtype: float64\n"
     ]
    },
    {
     "data": {
      "text/html": [
       "<div>\n",
       "<style scoped>\n",
       "    .dataframe tbody tr th:only-of-type {\n",
       "        vertical-align: middle;\n",
       "    }\n",
       "\n",
       "    .dataframe tbody tr th {\n",
       "        vertical-align: top;\n",
       "    }\n",
       "\n",
       "    .dataframe thead th {\n",
       "        text-align: right;\n",
       "    }\n",
       "</style>\n",
       "<table border=\"1\" class=\"dataframe\">\n",
       "  <thead>\n",
       "    <tr style=\"text-align: right;\">\n",
       "      <th></th>\n",
       "      <th>количество пропущенных значений</th>\n",
       "      <th>процент пропущенных значений</th>\n",
       "    </tr>\n",
       "  </thead>\n",
       "  <tbody>\n",
       "    <tr>\n",
       "      <th>session_date</th>\n",
       "      <td>0</td>\n",
       "      <td>0.00%</td>\n",
       "    </tr>\n",
       "  </tbody>\n",
       "</table>\n",
       "</div>"
      ],
      "text/plain": [
       "              количество пропущенных значений процент пропущенных значений\n",
       "session_date                                0                        0.00%"
      ]
     },
     "metadata": {},
     "output_type": "display_data"
    },
    {
     "name": "stdout",
     "output_type": "stream",
     "text": [
      "\n",
      "Метод describe:\n",
      "count         149396\n",
      "unique           365\n",
      "top       2018-12-31\n",
      "freq            1057\n",
      "Name: session_date, dtype: object\n"
     ]
    },
    {
     "data": {
      "text/html": [
       "<div>\n",
       "<style scoped>\n",
       "    .dataframe tbody tr th:only-of-type {\n",
       "        vertical-align: middle;\n",
       "    }\n",
       "\n",
       "    .dataframe tbody tr th {\n",
       "        vertical-align: top;\n",
       "    }\n",
       "\n",
       "    .dataframe thead th {\n",
       "        text-align: right;\n",
       "    }\n",
       "</style>\n",
       "<table border=\"1\" class=\"dataframe\">\n",
       "  <thead>\n",
       "    <tr style=\"text-align: right;\">\n",
       "      <th></th>\n",
       "      <th>количество пропущенных значений</th>\n",
       "      <th>процент пропущенных значений</th>\n",
       "    </tr>\n",
       "  </thead>\n",
       "  <tbody>\n",
       "    <tr>\n",
       "      <th>user_id</th>\n",
       "      <td>0</td>\n",
       "      <td>0.00%</td>\n",
       "    </tr>\n",
       "  </tbody>\n",
       "</table>\n",
       "</div>"
      ],
      "text/plain": [
       "         количество пропущенных значений процент пропущенных значений\n",
       "user_id                                0                        0.00%"
      ]
     },
     "metadata": {},
     "output_type": "display_data"
    },
    {
     "name": "stdout",
     "output_type": "stream",
     "text": [
      "\n",
      "Метод describe:\n",
      "count   149396.00\n",
      "mean      1252.10\n",
      "std        144.05\n",
      "min       1000.00\n",
      "25%       1130.00\n",
      "50%       1251.00\n",
      "75%       1380.00\n",
      "max       1499.00\n",
      "Name: user_id, dtype: float64\n"
     ]
    }
   ],
   "source": [
    "for column in df_internet.columns:\n",
    "    investigate_column(df_internet, column)"
   ]
  },
  {
   "cell_type": "markdown",
   "metadata": {},
   "source": [
    "Определим `user_id` пользователей, данных о которых в таблице `df_internet`"
   ]
  },
  {
   "cell_type": "code",
   "execution_count": 17,
   "metadata": {},
   "outputs": [],
   "source": [
    "users = df_internet['user_id'].unique().tolist()"
   ]
  },
  {
   "cell_type": "code",
   "execution_count": 18,
   "metadata": {},
   "outputs": [
    {
     "data": {
      "text/plain": [
       "[1128, 1273, 1371]"
      ]
     },
     "execution_count": 18,
     "metadata": {},
     "output_type": "execute_result"
    }
   ],
   "source": [
    "df_users.query('user_id not in @users')['user_id'].tolist()"
   ]
  },
  {
   "cell_type": "markdown",
   "metadata": {},
   "source": [
    "**Выводы по колонке `id` таблицы `df_internet`:**\n",
    "\n",
    "Видим, что в колонке нет пропущенных значений.\n",
    "Все значения в колонке - уникальные, значит в таблице явные дубликаты отсутствуют.\n",
    "На этапе предобработки необходимо преобразовать тип колонки в int\n",
    "\n",
    "**Выводы по колонке `session_date` таблицы `df_internet`:**\n",
    "\n",
    "Видим, что в колонке нет пропущенных значений.\n",
    "На этапе предобработки необходимо преобразовать тип колонки в datetime\n",
    "\n",
    "**Выводы по колонке `mb_used` таблицы `df_internet`:**\n",
    "\n",
    "Видим, что в колонке нет пропущенных значений. Проблем с данными нет: значения меняются от 0 мб до 1724 Мб. Объем потраченного интернета в 0 Мб - это не ошибка, нулями обозначены сессии, когда пользователь не тратил интернет или была ошибка с подключением, поэтому их не нужно удалять.\n",
    "\n",
    "**Вывод по колонке `user_id` таблицы `df_internet`:**\n",
    "\n",
    "Видим, что в колонке нет пропущенных значений. Проблем с данными нет: значения меняются от 1000 до 1499. Данные в таблице присутствуют для 497 пользователей"
   ]
  },
  {
   "cell_type": "markdown",
   "metadata": {
    "id": "SG23P8tt_Zcs"
   },
   "source": [
    "### Прочитаем файл messages.csv\n",
    "из папки `datasets` и сохраним его в переменной `df_messages`:"
   ]
  },
  {
   "cell_type": "code",
   "execution_count": 19,
   "metadata": {
    "scrolled": false
   },
   "outputs": [
    {
     "data": {
      "text/html": [
       "<div>\n",
       "<style scoped>\n",
       "    .dataframe tbody tr th:only-of-type {\n",
       "        vertical-align: middle;\n",
       "    }\n",
       "\n",
       "    .dataframe tbody tr th {\n",
       "        vertical-align: top;\n",
       "    }\n",
       "\n",
       "    .dataframe thead th {\n",
       "        text-align: right;\n",
       "    }\n",
       "</style>\n",
       "<table border=\"1\" class=\"dataframe\">\n",
       "  <thead>\n",
       "    <tr style=\"text-align: right;\">\n",
       "      <th></th>\n",
       "      <th>id</th>\n",
       "      <th>message_date</th>\n",
       "      <th>user_id</th>\n",
       "    </tr>\n",
       "  </thead>\n",
       "  <tbody>\n",
       "    <tr>\n",
       "      <th>0</th>\n",
       "      <td>1000_0</td>\n",
       "      <td>2018-06-27</td>\n",
       "      <td>1000</td>\n",
       "    </tr>\n",
       "    <tr>\n",
       "      <th>1</th>\n",
       "      <td>1000_1</td>\n",
       "      <td>2018-10-08</td>\n",
       "      <td>1000</td>\n",
       "    </tr>\n",
       "    <tr>\n",
       "      <th>2</th>\n",
       "      <td>1000_2</td>\n",
       "      <td>2018-08-04</td>\n",
       "      <td>1000</td>\n",
       "    </tr>\n",
       "    <tr>\n",
       "      <th>3</th>\n",
       "      <td>1000_3</td>\n",
       "      <td>2018-06-16</td>\n",
       "      <td>1000</td>\n",
       "    </tr>\n",
       "    <tr>\n",
       "      <th>4</th>\n",
       "      <td>1000_4</td>\n",
       "      <td>2018-12-05</td>\n",
       "      <td>1000</td>\n",
       "    </tr>\n",
       "    <tr>\n",
       "      <th>...</th>\n",
       "      <td>...</td>\n",
       "      <td>...</td>\n",
       "      <td>...</td>\n",
       "    </tr>\n",
       "    <tr>\n",
       "      <th>123031</th>\n",
       "      <td>1499_179</td>\n",
       "      <td>2018-12-12</td>\n",
       "      <td>1499</td>\n",
       "    </tr>\n",
       "    <tr>\n",
       "      <th>123032</th>\n",
       "      <td>1499_180</td>\n",
       "      <td>2018-09-28</td>\n",
       "      <td>1499</td>\n",
       "    </tr>\n",
       "    <tr>\n",
       "      <th>123033</th>\n",
       "      <td>1499_181</td>\n",
       "      <td>2018-09-27</td>\n",
       "      <td>1499</td>\n",
       "    </tr>\n",
       "    <tr>\n",
       "      <th>123034</th>\n",
       "      <td>1499_182</td>\n",
       "      <td>2018-11-15</td>\n",
       "      <td>1499</td>\n",
       "    </tr>\n",
       "    <tr>\n",
       "      <th>123035</th>\n",
       "      <td>1499_183</td>\n",
       "      <td>2018-11-16</td>\n",
       "      <td>1499</td>\n",
       "    </tr>\n",
       "  </tbody>\n",
       "</table>\n",
       "<p>123036 rows × 3 columns</p>\n",
       "</div>"
      ],
      "text/plain": [
       "              id message_date  user_id\n",
       "0         1000_0   2018-06-27     1000\n",
       "1         1000_1   2018-10-08     1000\n",
       "2         1000_2   2018-08-04     1000\n",
       "3         1000_3   2018-06-16     1000\n",
       "4         1000_4   2018-12-05     1000\n",
       "...          ...          ...      ...\n",
       "123031  1499_179   2018-12-12     1499\n",
       "123032  1499_180   2018-09-28     1499\n",
       "123033  1499_181   2018-09-27     1499\n",
       "123034  1499_182   2018-11-15     1499\n",
       "123035  1499_183   2018-11-16     1499\n",
       "\n",
       "[123036 rows x 3 columns]"
      ]
     },
     "metadata": {},
     "output_type": "display_data"
    },
    {
     "name": "stdout",
     "output_type": "stream",
     "text": [
      "<class 'pandas.core.frame.DataFrame'>\n",
      "RangeIndex: 123036 entries, 0 to 123035\n",
      "Data columns (total 3 columns):\n",
      " #   Column        Non-Null Count   Dtype \n",
      "---  ------        --------------   ----- \n",
      " 0   id            123036 non-null  object\n",
      " 1   message_date  123036 non-null  object\n",
      " 2   user_id       123036 non-null  int64 \n",
      "dtypes: int64(1), object(2)\n",
      "memory usage: 2.8+ MB\n"
     ]
    }
   ],
   "source": [
    "df_messages = pd.read_csv('datasets/messages.csv')\n",
    "display(df_messages)\n",
    "df_messages.info()"
   ]
  },
  {
   "cell_type": "markdown",
   "metadata": {
    "id": "TaQ2Iwbr_Zct"
   },
   "source": [
    "Итак, в таблице 3 колонки, 123036 строк. Тип данных в столбцах: `object`, `int64`.\n",
    "\n",
    "Описание данных. Таблица `messages` (информация о сообщениях):\n",
    "- `id` — уникальный номер сообщения\n",
    "- `message_date` — дата сообщения\n",
    "- `user_id` — идентификатор пользователя, отправившего сообщение"
   ]
  },
  {
   "cell_type": "markdown",
   "metadata": {},
   "source": [
    "Для каждой колонки таблицы `df_messages` вызовем функцию `investigate_column`"
   ]
  },
  {
   "cell_type": "code",
   "execution_count": 20,
   "metadata": {
    "scrolled": false
   },
   "outputs": [
    {
     "data": {
      "text/html": [
       "<div>\n",
       "<style scoped>\n",
       "    .dataframe tbody tr th:only-of-type {\n",
       "        vertical-align: middle;\n",
       "    }\n",
       "\n",
       "    .dataframe tbody tr th {\n",
       "        vertical-align: top;\n",
       "    }\n",
       "\n",
       "    .dataframe thead th {\n",
       "        text-align: right;\n",
       "    }\n",
       "</style>\n",
       "<table border=\"1\" class=\"dataframe\">\n",
       "  <thead>\n",
       "    <tr style=\"text-align: right;\">\n",
       "      <th></th>\n",
       "      <th>количество пропущенных значений</th>\n",
       "      <th>процент пропущенных значений</th>\n",
       "    </tr>\n",
       "  </thead>\n",
       "  <tbody>\n",
       "    <tr>\n",
       "      <th>id</th>\n",
       "      <td>0</td>\n",
       "      <td>0.00%</td>\n",
       "    </tr>\n",
       "  </tbody>\n",
       "</table>\n",
       "</div>"
      ],
      "text/plain": [
       "    количество пропущенных значений процент пропущенных значений\n",
       "id                                0                        0.00%"
      ]
     },
     "metadata": {},
     "output_type": "display_data"
    },
    {
     "name": "stdout",
     "output_type": "stream",
     "text": [
      "\n",
      "Метод describe:\n",
      "count     123036\n",
      "unique    123036\n",
      "top       1056_1\n",
      "freq           1\n",
      "Name: id, dtype: object\n"
     ]
    },
    {
     "data": {
      "text/html": [
       "<div>\n",
       "<style scoped>\n",
       "    .dataframe tbody tr th:only-of-type {\n",
       "        vertical-align: middle;\n",
       "    }\n",
       "\n",
       "    .dataframe tbody tr th {\n",
       "        vertical-align: top;\n",
       "    }\n",
       "\n",
       "    .dataframe thead th {\n",
       "        text-align: right;\n",
       "    }\n",
       "</style>\n",
       "<table border=\"1\" class=\"dataframe\">\n",
       "  <thead>\n",
       "    <tr style=\"text-align: right;\">\n",
       "      <th></th>\n",
       "      <th>количество пропущенных значений</th>\n",
       "      <th>процент пропущенных значений</th>\n",
       "    </tr>\n",
       "  </thead>\n",
       "  <tbody>\n",
       "    <tr>\n",
       "      <th>message_date</th>\n",
       "      <td>0</td>\n",
       "      <td>0.00%</td>\n",
       "    </tr>\n",
       "  </tbody>\n",
       "</table>\n",
       "</div>"
      ],
      "text/plain": [
       "              количество пропущенных значений процент пропущенных значений\n",
       "message_date                                0                        0.00%"
      ]
     },
     "metadata": {},
     "output_type": "display_data"
    },
    {
     "name": "stdout",
     "output_type": "stream",
     "text": [
      "\n",
      "Метод describe:\n",
      "count         123036\n",
      "unique           364\n",
      "top       2018-12-31\n",
      "freq             859\n",
      "Name: message_date, dtype: object\n"
     ]
    },
    {
     "data": {
      "text/html": [
       "<div>\n",
       "<style scoped>\n",
       "    .dataframe tbody tr th:only-of-type {\n",
       "        vertical-align: middle;\n",
       "    }\n",
       "\n",
       "    .dataframe tbody tr th {\n",
       "        vertical-align: top;\n",
       "    }\n",
       "\n",
       "    .dataframe thead th {\n",
       "        text-align: right;\n",
       "    }\n",
       "</style>\n",
       "<table border=\"1\" class=\"dataframe\">\n",
       "  <thead>\n",
       "    <tr style=\"text-align: right;\">\n",
       "      <th></th>\n",
       "      <th>количество пропущенных значений</th>\n",
       "      <th>процент пропущенных значений</th>\n",
       "    </tr>\n",
       "  </thead>\n",
       "  <tbody>\n",
       "    <tr>\n",
       "      <th>user_id</th>\n",
       "      <td>0</td>\n",
       "      <td>0.00%</td>\n",
       "    </tr>\n",
       "  </tbody>\n",
       "</table>\n",
       "</div>"
      ],
      "text/plain": [
       "         количество пропущенных значений процент пропущенных значений\n",
       "user_id                                0                        0.00%"
      ]
     },
     "metadata": {},
     "output_type": "display_data"
    },
    {
     "name": "stdout",
     "output_type": "stream",
     "text": [
      "\n",
      "Метод describe:\n",
      "count   123036.00\n",
      "mean      1256.99\n",
      "std        143.52\n",
      "min       1000.00\n",
      "25%       1134.00\n",
      "50%       1271.00\n",
      "75%       1381.00\n",
      "max       1499.00\n",
      "Name: user_id, dtype: float64\n"
     ]
    }
   ],
   "source": [
    "for column in df_messages.columns:\n",
    "    investigate_column(df_messages, column)"
   ]
  },
  {
   "cell_type": "markdown",
   "metadata": {},
   "source": [
    "Определим `user_id` пользователей, данных о которых в таблице `df_messages`"
   ]
  },
  {
   "cell_type": "code",
   "execution_count": 21,
   "metadata": {},
   "outputs": [],
   "source": [
    "users = df_messages['user_id'].unique().tolist()"
   ]
  },
  {
   "cell_type": "code",
   "execution_count": 22,
   "metadata": {},
   "outputs": [
    {
     "data": {
      "text/plain": [
       "74"
      ]
     },
     "execution_count": 22,
     "metadata": {},
     "output_type": "execute_result"
    }
   ],
   "source": [
    "len(df_users.query('user_id not in @users')['user_id'])"
   ]
  },
  {
   "cell_type": "markdown",
   "metadata": {},
   "source": [
    "**Выводы по колонке `id` таблицы `df_messages`:**\n",
    "\n",
    "Видим, что в колонке нет пропущенных значений.\n",
    "Все значения в колонке - уникальные, значит в таблице явные дубликаты отсутствуют.\n",
    "На этапе предобработки необходимо преобразовать тип колонки в int\n",
    "\n",
    "**Выводы по колонке `message_date` таблицы `df_messages`:**\n",
    "\n",
    "Видим, что в колонке нет пропущенных значений.\n",
    "На этапе предобработки необходимо преобразовать тип колонки в datetime\n",
    "\n",
    "\n",
    "**Вывод по колонке `user_id` таблицы `df_messages`:**\n",
    "\n",
    "Видим, что в колонке нет пропущенных значений. Проблем с данными нет: значения меняются от 1000 до 1499. Данные в таблице присутствуют для 426 пользователей"
   ]
  },
  {
   "cell_type": "markdown",
   "metadata": {
    "id": "SG23P8tt_Zcs"
   },
   "source": [
    "### Прочитаем файл tariffs.csv\n",
    "из папки `datasets` и сохраним его в переменной `df_tariffs`:"
   ]
  },
  {
   "cell_type": "code",
   "execution_count": 23,
   "metadata": {
    "scrolled": false
   },
   "outputs": [
    {
     "data": {
      "text/html": [
       "<div>\n",
       "<style scoped>\n",
       "    .dataframe tbody tr th:only-of-type {\n",
       "        vertical-align: middle;\n",
       "    }\n",
       "\n",
       "    .dataframe tbody tr th {\n",
       "        vertical-align: top;\n",
       "    }\n",
       "\n",
       "    .dataframe thead th {\n",
       "        text-align: right;\n",
       "    }\n",
       "</style>\n",
       "<table border=\"1\" class=\"dataframe\">\n",
       "  <thead>\n",
       "    <tr style=\"text-align: right;\">\n",
       "      <th></th>\n",
       "      <th>messages_included</th>\n",
       "      <th>mb_per_month_included</th>\n",
       "      <th>minutes_included</th>\n",
       "      <th>rub_monthly_fee</th>\n",
       "      <th>rub_per_gb</th>\n",
       "      <th>rub_per_message</th>\n",
       "      <th>rub_per_minute</th>\n",
       "      <th>tariff_name</th>\n",
       "    </tr>\n",
       "  </thead>\n",
       "  <tbody>\n",
       "    <tr>\n",
       "      <th>0</th>\n",
       "      <td>50</td>\n",
       "      <td>15360</td>\n",
       "      <td>500</td>\n",
       "      <td>550</td>\n",
       "      <td>200</td>\n",
       "      <td>3</td>\n",
       "      <td>3</td>\n",
       "      <td>smart</td>\n",
       "    </tr>\n",
       "    <tr>\n",
       "      <th>1</th>\n",
       "      <td>1000</td>\n",
       "      <td>30720</td>\n",
       "      <td>3000</td>\n",
       "      <td>1950</td>\n",
       "      <td>150</td>\n",
       "      <td>1</td>\n",
       "      <td>1</td>\n",
       "      <td>ultra</td>\n",
       "    </tr>\n",
       "  </tbody>\n",
       "</table>\n",
       "</div>"
      ],
      "text/plain": [
       "   messages_included  mb_per_month_included  minutes_included  \\\n",
       "0                 50                  15360               500   \n",
       "1               1000                  30720              3000   \n",
       "\n",
       "   rub_monthly_fee  rub_per_gb  rub_per_message  rub_per_minute tariff_name  \n",
       "0              550         200                3               3       smart  \n",
       "1             1950         150                1               1       ultra  "
      ]
     },
     "metadata": {},
     "output_type": "display_data"
    },
    {
     "name": "stdout",
     "output_type": "stream",
     "text": [
      "<class 'pandas.core.frame.DataFrame'>\n",
      "RangeIndex: 2 entries, 0 to 1\n",
      "Data columns (total 8 columns):\n",
      " #   Column                 Non-Null Count  Dtype \n",
      "---  ------                 --------------  ----- \n",
      " 0   messages_included      2 non-null      int64 \n",
      " 1   mb_per_month_included  2 non-null      int64 \n",
      " 2   minutes_included       2 non-null      int64 \n",
      " 3   rub_monthly_fee        2 non-null      int64 \n",
      " 4   rub_per_gb             2 non-null      int64 \n",
      " 5   rub_per_message        2 non-null      int64 \n",
      " 6   rub_per_minute         2 non-null      int64 \n",
      " 7   tariff_name            2 non-null      object\n",
      "dtypes: int64(7), object(1)\n",
      "memory usage: 256.0+ bytes\n"
     ]
    }
   ],
   "source": [
    "df_tariffs = pd.read_csv('datasets/tariffs.csv')\n",
    "display(df_tariffs)\n",
    "df_tariffs.info()"
   ]
  },
  {
   "cell_type": "markdown",
   "metadata": {
    "id": "TaQ2Iwbr_Zct"
   },
   "source": [
    "Итак, в таблице 8 колонок, 2 строки: 2 тарифа. Тип данных в столбцах: `object`, `int64`.\n",
    "\n",
    "Описание данных. Таблица `tariffs` (информация о тарифах):\n",
    "- `tariff_name` — название тарифа\n",
    "- `rub_monthly_fee` — ежемесячная абонентская плата в рублях\n",
    "- `minutes_included` — количество минут разговора в месяц, включённых в абонентскую плату\n",
    "- `messages_included` — количество сообщений в месяц, включённых в абонентскую плату\n",
    "- `mb_per_month_included` — объём интернет-трафика, включённого в абонентскую плату (в мегабайтах)\n",
    "- `rub_per_minute` — стоимость минуты разговора сверх тарифного пакета (например, если в тарифе 100 минут разговора в месяц, то со 101 минуты будет взиматься плата)\n",
    "- `rub_per_message` — стоимость отправки сообщения сверх тарифного пакета\n",
    "- `rub_per_gb` — стоимость дополнительного гигабайта интернет-трафика сверх тарифного пакета (1 гигабайт = 1024 мегабайта)"
   ]
  },
  {
   "cell_type": "markdown",
   "metadata": {},
   "source": [
    "**Выводы по таблицe `df_tariffs`:**\n",
    "\n",
    "Проблем с данными в таблице нет"
   ]
  },
  {
   "cell_type": "markdown",
   "metadata": {},
   "source": [
    "### Вывод"
   ]
  },
  {
   "cell_type": "markdown",
   "metadata": {},
   "source": [
    "Изучили столбцы в датасетах, необходимые для формирования ответов на поставленные вопросы. Были определены необходимые действия для этапа предобработки данных.\n",
    "\n",
    "В таблице `internet` был найден некорректный столбец `Unnamed: 0` - избавились от него"
   ]
  },
  {
   "cell_type": "markdown",
   "metadata": {},
   "source": [
    "## Предобработка данных"
   ]
  },
  {
   "cell_type": "markdown",
   "metadata": {},
   "source": [
    "Преобразуем типы колонок в `int`"
   ]
  },
  {
   "cell_type": "code",
   "execution_count": 24,
   "metadata": {},
   "outputs": [],
   "source": [
    "dfs = [df_calls, df_internet, df_messages]\n",
    "for df in dfs:\n",
    "    df['id'] = df['id'].astype('int')"
   ]
  },
  {
   "cell_type": "markdown",
   "metadata": {},
   "source": [
    "Преобразуем тип колонок `call_date`, `session_date`, `message_date` в `datetime`"
   ]
  },
  {
   "cell_type": "code",
   "execution_count": 25,
   "metadata": {},
   "outputs": [],
   "source": [
    "dfs = [df_calls, df_internet, df_messages, df_users]\n",
    "columns = ['call_date', 'session_date', 'message_date']"
   ]
  },
  {
   "cell_type": "code",
   "execution_count": 26,
   "metadata": {
    "scrolled": false
   },
   "outputs": [
    {
     "name": "stdout",
     "output_type": "stream",
     "text": [
      "count                           202607\n",
      "mean     2018-09-02 20:01:37.583992832\n",
      "min                2018-01-01 00:00:00\n",
      "25%                2018-07-05 00:00:00\n",
      "50%                2018-09-17 00:00:00\n",
      "75%                2018-11-14 00:00:00\n",
      "max                2018-12-31 00:00:00\n",
      "Name: call_date, dtype: object\n",
      "_ _ _ _ _ _ _ _ _ _ _ _ _ _ _ _ _ _ _ _ \n",
      "count                           149396\n",
      "mean     2018-09-02 12:55:35.221826560\n",
      "min                2018-01-01 00:00:00\n",
      "25%                2018-07-05 00:00:00\n",
      "50%                2018-09-17 00:00:00\n",
      "75%                2018-11-14 00:00:00\n",
      "max                2018-12-31 00:00:00\n",
      "Name: session_date, dtype: object\n",
      "_ _ _ _ _ _ _ _ _ _ _ _ _ _ _ _ _ _ _ _ \n",
      "count                           123036\n",
      "mean     2018-09-04 15:28:42.227640576\n",
      "min                2018-01-02 00:00:00\n",
      "25%                2018-07-09 00:00:00\n",
      "50%                2018-09-20 00:00:00\n",
      "75%                2018-11-14 00:00:00\n",
      "max                2018-12-31 00:00:00\n",
      "Name: message_date, dtype: object\n",
      "_ _ _ _ _ _ _ _ _ _ _ _ _ _ _ _ _ _ _ _ \n"
     ]
    }
   ],
   "source": [
    "for df, column in zip(dfs, columns):\n",
    "    df[column] = pd.to_datetime(df[column], format = '%Y-%m-%d')\n",
    "    print(df[column].describe(datetime_is_numeric=True))\n",
    "    print('_ '*20)"
   ]
  },
  {
   "cell_type": "markdown",
   "metadata": {},
   "source": [
    "Округлим значение в колонках до большего целого, согласно условиям тарифов"
   ]
  },
  {
   "cell_type": "code",
   "execution_count": 27,
   "metadata": {},
   "outputs": [],
   "source": [
    "df_calls['duration'] = df_calls['duration'].apply(np.ceil)"
   ]
  },
  {
   "cell_type": "code",
   "execution_count": 28,
   "metadata": {},
   "outputs": [
    {
     "data": {
      "text/html": [
       "<div>\n",
       "<style scoped>\n",
       "    .dataframe tbody tr th:only-of-type {\n",
       "        vertical-align: middle;\n",
       "    }\n",
       "\n",
       "    .dataframe tbody tr th {\n",
       "        vertical-align: top;\n",
       "    }\n",
       "\n",
       "    .dataframe thead th {\n",
       "        text-align: right;\n",
       "    }\n",
       "</style>\n",
       "<table border=\"1\" class=\"dataframe\">\n",
       "  <thead>\n",
       "    <tr style=\"text-align: right;\">\n",
       "      <th></th>\n",
       "      <th>id</th>\n",
       "      <th>call_date</th>\n",
       "      <th>duration</th>\n",
       "      <th>user_id</th>\n",
       "    </tr>\n",
       "  </thead>\n",
       "  <tbody>\n",
       "    <tr>\n",
       "      <th>0</th>\n",
       "      <td>10000</td>\n",
       "      <td>2018-07-25</td>\n",
       "      <td>0.00</td>\n",
       "      <td>1000</td>\n",
       "    </tr>\n",
       "    <tr>\n",
       "      <th>1</th>\n",
       "      <td>10001</td>\n",
       "      <td>2018-08-17</td>\n",
       "      <td>0.00</td>\n",
       "      <td>1000</td>\n",
       "    </tr>\n",
       "    <tr>\n",
       "      <th>2</th>\n",
       "      <td>10002</td>\n",
       "      <td>2018-06-11</td>\n",
       "      <td>3.00</td>\n",
       "      <td>1000</td>\n",
       "    </tr>\n",
       "    <tr>\n",
       "      <th>3</th>\n",
       "      <td>10003</td>\n",
       "      <td>2018-09-21</td>\n",
       "      <td>14.00</td>\n",
       "      <td>1000</td>\n",
       "    </tr>\n",
       "    <tr>\n",
       "      <th>4</th>\n",
       "      <td>10004</td>\n",
       "      <td>2018-12-15</td>\n",
       "      <td>6.00</td>\n",
       "      <td>1000</td>\n",
       "    </tr>\n",
       "  </tbody>\n",
       "</table>\n",
       "</div>"
      ],
      "text/plain": [
       "      id  call_date  duration  user_id\n",
       "0  10000 2018-07-25      0.00     1000\n",
       "1  10001 2018-08-17      0.00     1000\n",
       "2  10002 2018-06-11      3.00     1000\n",
       "3  10003 2018-09-21     14.00     1000\n",
       "4  10004 2018-12-15      6.00     1000"
      ]
     },
     "execution_count": 28,
     "metadata": {},
     "output_type": "execute_result"
    }
   ],
   "source": [
    "df_calls.head()"
   ]
  },
  {
   "cell_type": "markdown",
   "metadata": {},
   "source": [
    "## Расчёты и добавление результатов в таблицу"
   ]
  },
  {
   "cell_type": "markdown",
   "metadata": {},
   "source": [
    "**Посчитаем для каждого пользователя:**\n",
    "- количество сделанных звонков и израсходованных минут разговора по месяцам:"
   ]
  },
  {
   "cell_type": "code",
   "execution_count": 29,
   "metadata": {},
   "outputs": [
    {
     "data": {
      "text/html": [
       "<div>\n",
       "<style scoped>\n",
       "    .dataframe tbody tr th:only-of-type {\n",
       "        vertical-align: middle;\n",
       "    }\n",
       "\n",
       "    .dataframe tbody tr th {\n",
       "        vertical-align: top;\n",
       "    }\n",
       "\n",
       "    .dataframe thead th {\n",
       "        text-align: right;\n",
       "    }\n",
       "</style>\n",
       "<table border=\"1\" class=\"dataframe\">\n",
       "  <thead>\n",
       "    <tr style=\"text-align: right;\">\n",
       "      <th></th>\n",
       "      <th></th>\n",
       "      <th>Кол_во_звонков</th>\n",
       "      <th>Кол_во_минут</th>\n",
       "    </tr>\n",
       "    <tr>\n",
       "      <th>user_id</th>\n",
       "      <th>month</th>\n",
       "      <th></th>\n",
       "      <th></th>\n",
       "    </tr>\n",
       "  </thead>\n",
       "  <tbody>\n",
       "    <tr>\n",
       "      <th rowspan=\"5\" valign=\"top\">1000</th>\n",
       "      <th>2018-05-01</th>\n",
       "      <td>22</td>\n",
       "      <td>159.00</td>\n",
       "    </tr>\n",
       "    <tr>\n",
       "      <th>2018-06-01</th>\n",
       "      <td>43</td>\n",
       "      <td>172.00</td>\n",
       "    </tr>\n",
       "    <tr>\n",
       "      <th>2018-07-01</th>\n",
       "      <td>47</td>\n",
       "      <td>340.00</td>\n",
       "    </tr>\n",
       "    <tr>\n",
       "      <th>2018-08-01</th>\n",
       "      <td>52</td>\n",
       "      <td>408.00</td>\n",
       "    </tr>\n",
       "    <tr>\n",
       "      <th>2018-09-01</th>\n",
       "      <td>58</td>\n",
       "      <td>466.00</td>\n",
       "    </tr>\n",
       "    <tr>\n",
       "      <th>...</th>\n",
       "      <th>...</th>\n",
       "      <td>...</td>\n",
       "      <td>...</td>\n",
       "    </tr>\n",
       "    <tr>\n",
       "      <th>1498</th>\n",
       "      <th>2018-10-01</th>\n",
       "      <td>41</td>\n",
       "      <td>247.00</td>\n",
       "    </tr>\n",
       "    <tr>\n",
       "      <th rowspan=\"4\" valign=\"top\">1499</th>\n",
       "      <th>2018-09-01</th>\n",
       "      <td>9</td>\n",
       "      <td>70.00</td>\n",
       "    </tr>\n",
       "    <tr>\n",
       "      <th>2018-10-01</th>\n",
       "      <td>68</td>\n",
       "      <td>449.00</td>\n",
       "    </tr>\n",
       "    <tr>\n",
       "      <th>2018-11-01</th>\n",
       "      <td>74</td>\n",
       "      <td>612.00</td>\n",
       "    </tr>\n",
       "    <tr>\n",
       "      <th>2018-12-01</th>\n",
       "      <td>69</td>\n",
       "      <td>492.00</td>\n",
       "    </tr>\n",
       "  </tbody>\n",
       "</table>\n",
       "<p>3174 rows × 2 columns</p>\n",
       "</div>"
      ],
      "text/plain": [
       "                    Кол_во_звонков  Кол_во_минут\n",
       "user_id month                                   \n",
       "1000    2018-05-01              22        159.00\n",
       "        2018-06-01              43        172.00\n",
       "        2018-07-01              47        340.00\n",
       "        2018-08-01              52        408.00\n",
       "        2018-09-01              58        466.00\n",
       "...                            ...           ...\n",
       "1498    2018-10-01              41        247.00\n",
       "1499    2018-09-01               9         70.00\n",
       "        2018-10-01              68        449.00\n",
       "        2018-11-01              74        612.00\n",
       "        2018-12-01              69        492.00\n",
       "\n",
       "[3174 rows x 2 columns]"
      ]
     },
     "metadata": {},
     "output_type": "display_data"
    }
   ],
   "source": [
    "calls_groupby = (\n",
    "    df_calls\n",
    "    .groupby(['user_id', pd.Grouper(key='call_date', freq='MS')])\n",
    "    .agg(Кол_во_звонков = ('id', 'count'), Кол_во_минут = ('duration', 'sum'))\n",
    ")\n",
    "calls_groupby.index.names = (['user_id', 'month'])\n",
    "display(calls_groupby)"
   ]
  },
  {
   "cell_type": "markdown",
   "metadata": {},
   "source": [
    "**Посчитаем для каждого пользователя:**\n",
    "- количество отправленных сообщений по месяцам:"
   ]
  },
  {
   "cell_type": "code",
   "execution_count": 30,
   "metadata": {},
   "outputs": [
    {
     "data": {
      "text/html": [
       "<div>\n",
       "<style scoped>\n",
       "    .dataframe tbody tr th:only-of-type {\n",
       "        vertical-align: middle;\n",
       "    }\n",
       "\n",
       "    .dataframe tbody tr th {\n",
       "        vertical-align: top;\n",
       "    }\n",
       "\n",
       "    .dataframe thead th {\n",
       "        text-align: right;\n",
       "    }\n",
       "</style>\n",
       "<table border=\"1\" class=\"dataframe\">\n",
       "  <thead>\n",
       "    <tr style=\"text-align: right;\">\n",
       "      <th></th>\n",
       "      <th></th>\n",
       "      <th>Кол_во_сообщений</th>\n",
       "    </tr>\n",
       "    <tr>\n",
       "      <th>user_id</th>\n",
       "      <th>month</th>\n",
       "      <th></th>\n",
       "    </tr>\n",
       "  </thead>\n",
       "  <tbody>\n",
       "    <tr>\n",
       "      <th rowspan=\"5\" valign=\"top\">1000</th>\n",
       "      <th>2018-05-01</th>\n",
       "      <td>22</td>\n",
       "    </tr>\n",
       "    <tr>\n",
       "      <th>2018-06-01</th>\n",
       "      <td>60</td>\n",
       "    </tr>\n",
       "    <tr>\n",
       "      <th>2018-07-01</th>\n",
       "      <td>75</td>\n",
       "    </tr>\n",
       "    <tr>\n",
       "      <th>2018-08-01</th>\n",
       "      <td>81</td>\n",
       "    </tr>\n",
       "    <tr>\n",
       "      <th>2018-09-01</th>\n",
       "      <td>57</td>\n",
       "    </tr>\n",
       "    <tr>\n",
       "      <th>...</th>\n",
       "      <th>...</th>\n",
       "      <td>...</td>\n",
       "    </tr>\n",
       "    <tr>\n",
       "      <th>1498</th>\n",
       "      <th>2018-10-01</th>\n",
       "      <td>42</td>\n",
       "    </tr>\n",
       "    <tr>\n",
       "      <th rowspan=\"4\" valign=\"top\">1499</th>\n",
       "      <th>2018-09-01</th>\n",
       "      <td>11</td>\n",
       "    </tr>\n",
       "    <tr>\n",
       "      <th>2018-10-01</th>\n",
       "      <td>48</td>\n",
       "    </tr>\n",
       "    <tr>\n",
       "      <th>2018-11-01</th>\n",
       "      <td>59</td>\n",
       "    </tr>\n",
       "    <tr>\n",
       "      <th>2018-12-01</th>\n",
       "      <td>66</td>\n",
       "    </tr>\n",
       "  </tbody>\n",
       "</table>\n",
       "<p>2717 rows × 1 columns</p>\n",
       "</div>"
      ],
      "text/plain": [
       "                    Кол_во_сообщений\n",
       "user_id month                       \n",
       "1000    2018-05-01                22\n",
       "        2018-06-01                60\n",
       "        2018-07-01                75\n",
       "        2018-08-01                81\n",
       "        2018-09-01                57\n",
       "...                              ...\n",
       "1498    2018-10-01                42\n",
       "1499    2018-09-01                11\n",
       "        2018-10-01                48\n",
       "        2018-11-01                59\n",
       "        2018-12-01                66\n",
       "\n",
       "[2717 rows x 1 columns]"
      ]
     },
     "metadata": {},
     "output_type": "display_data"
    }
   ],
   "source": [
    "messages_groupby = (\n",
    "    df_messages\n",
    "    .groupby(['user_id', pd.Grouper(key='message_date', freq='MS')])\n",
    "    .agg(Кол_во_сообщений = ('id', 'count'))\n",
    ")\n",
    "messages_groupby.index.names = (['user_id', 'month'])\n",
    "display(messages_groupby)"
   ]
  },
  {
   "cell_type": "markdown",
   "metadata": {},
   "source": [
    "**Посчитаем для каждого пользователя:**\n",
    "- объем израсходованного интернет-трафика по месяцам:"
   ]
  },
  {
   "cell_type": "code",
   "execution_count": 31,
   "metadata": {
    "scrolled": false
   },
   "outputs": [],
   "source": [
    "internet_groupby = (\n",
    "    df_internet\n",
    "    .groupby(['user_id', pd.Grouper(key='session_date', freq='MS')])\n",
    "    .agg(Интернет_Мб = ('mb_used', 'sum'))\n",
    ")\n",
    "internet_groupby.index.names = (['user_id', 'month'])"
   ]
  },
  {
   "cell_type": "markdown",
   "metadata": {},
   "source": [
    "Добавим колонку с интернет трафиком в Гб"
   ]
  },
  {
   "cell_type": "code",
   "execution_count": 32,
   "metadata": {},
   "outputs": [],
   "source": [
    "internet_groupby['Интернет_Гб'] = internet_groupby['Интернет_Мб']/1024"
   ]
  },
  {
   "cell_type": "code",
   "execution_count": 33,
   "metadata": {},
   "outputs": [
    {
     "data": {
      "text/html": [
       "<div>\n",
       "<style scoped>\n",
       "    .dataframe tbody tr th:only-of-type {\n",
       "        vertical-align: middle;\n",
       "    }\n",
       "\n",
       "    .dataframe tbody tr th {\n",
       "        vertical-align: top;\n",
       "    }\n",
       "\n",
       "    .dataframe thead th {\n",
       "        text-align: right;\n",
       "    }\n",
       "</style>\n",
       "<table border=\"1\" class=\"dataframe\">\n",
       "  <thead>\n",
       "    <tr style=\"text-align: right;\">\n",
       "      <th></th>\n",
       "      <th></th>\n",
       "      <th>Интернет_Мб</th>\n",
       "      <th>Интернет_Гб</th>\n",
       "    </tr>\n",
       "    <tr>\n",
       "      <th>user_id</th>\n",
       "      <th>month</th>\n",
       "      <th></th>\n",
       "      <th></th>\n",
       "    </tr>\n",
       "  </thead>\n",
       "  <tbody>\n",
       "    <tr>\n",
       "      <th rowspan=\"5\" valign=\"top\">1000</th>\n",
       "      <th>2018-05-01</th>\n",
       "      <td>2253.49</td>\n",
       "      <td>2.20</td>\n",
       "    </tr>\n",
       "    <tr>\n",
       "      <th>2018-06-01</th>\n",
       "      <td>23233.77</td>\n",
       "      <td>22.69</td>\n",
       "    </tr>\n",
       "    <tr>\n",
       "      <th>2018-07-01</th>\n",
       "      <td>14003.64</td>\n",
       "      <td>13.68</td>\n",
       "    </tr>\n",
       "    <tr>\n",
       "      <th>2018-08-01</th>\n",
       "      <td>14055.93</td>\n",
       "      <td>13.73</td>\n",
       "    </tr>\n",
       "    <tr>\n",
       "      <th>2018-09-01</th>\n",
       "      <td>14568.91</td>\n",
       "      <td>14.23</td>\n",
       "    </tr>\n",
       "  </tbody>\n",
       "</table>\n",
       "</div>"
      ],
      "text/plain": [
       "                    Интернет_Мб  Интернет_Гб\n",
       "user_id month                               \n",
       "1000    2018-05-01      2253.49         2.20\n",
       "        2018-06-01     23233.77        22.69\n",
       "        2018-07-01     14003.64        13.68\n",
       "        2018-08-01     14055.93        13.73\n",
       "        2018-09-01     14568.91        14.23"
      ]
     },
     "execution_count": 33,
     "metadata": {},
     "output_type": "execute_result"
    }
   ],
   "source": [
    "internet_groupby.head(5)"
   ]
  },
  {
   "cell_type": "markdown",
   "metadata": {},
   "source": [
    "**Посчитаем для каждого пользователя:**\n",
    "- помесячную выручку с каждого пользователя по звонкам\n",
    "\n",
    "Но для начала добавим в таблицу `calls_groupby` название тарифа для каждого пользователя, объединив таблицы `calls_groupby` и `df_users` по колонке `user_id`"
   ]
  },
  {
   "cell_type": "code",
   "execution_count": 34,
   "metadata": {
    "scrolled": false
   },
   "outputs": [
    {
     "data": {
      "text/html": [
       "<div>\n",
       "<style scoped>\n",
       "    .dataframe tbody tr th:only-of-type {\n",
       "        vertical-align: middle;\n",
       "    }\n",
       "\n",
       "    .dataframe tbody tr th {\n",
       "        vertical-align: top;\n",
       "    }\n",
       "\n",
       "    .dataframe thead th {\n",
       "        text-align: right;\n",
       "    }\n",
       "</style>\n",
       "<table border=\"1\" class=\"dataframe\">\n",
       "  <thead>\n",
       "    <tr style=\"text-align: right;\">\n",
       "      <th></th>\n",
       "      <th>user_id</th>\n",
       "      <th>month</th>\n",
       "      <th>Кол_во_звонков</th>\n",
       "      <th>Кол_во_минут</th>\n",
       "      <th>tariff</th>\n",
       "    </tr>\n",
       "  </thead>\n",
       "  <tbody>\n",
       "    <tr>\n",
       "      <th>0</th>\n",
       "      <td>1000</td>\n",
       "      <td>2018-05-01</td>\n",
       "      <td>22</td>\n",
       "      <td>159.00</td>\n",
       "      <td>ultra</td>\n",
       "    </tr>\n",
       "    <tr>\n",
       "      <th>1</th>\n",
       "      <td>1000</td>\n",
       "      <td>2018-06-01</td>\n",
       "      <td>43</td>\n",
       "      <td>172.00</td>\n",
       "      <td>ultra</td>\n",
       "    </tr>\n",
       "    <tr>\n",
       "      <th>2</th>\n",
       "      <td>1000</td>\n",
       "      <td>2018-07-01</td>\n",
       "      <td>47</td>\n",
       "      <td>340.00</td>\n",
       "      <td>ultra</td>\n",
       "    </tr>\n",
       "    <tr>\n",
       "      <th>3</th>\n",
       "      <td>1000</td>\n",
       "      <td>2018-08-01</td>\n",
       "      <td>52</td>\n",
       "      <td>408.00</td>\n",
       "      <td>ultra</td>\n",
       "    </tr>\n",
       "    <tr>\n",
       "      <th>4</th>\n",
       "      <td>1000</td>\n",
       "      <td>2018-09-01</td>\n",
       "      <td>58</td>\n",
       "      <td>466.00</td>\n",
       "      <td>ultra</td>\n",
       "    </tr>\n",
       "  </tbody>\n",
       "</table>\n",
       "</div>"
      ],
      "text/plain": [
       "   user_id      month  Кол_во_звонков  Кол_во_минут tariff\n",
       "0     1000 2018-05-01              22        159.00  ultra\n",
       "1     1000 2018-06-01              43        172.00  ultra\n",
       "2     1000 2018-07-01              47        340.00  ultra\n",
       "3     1000 2018-08-01              52        408.00  ultra\n",
       "4     1000 2018-09-01              58        466.00  ultra"
      ]
     },
     "execution_count": 34,
     "metadata": {},
     "output_type": "execute_result"
    }
   ],
   "source": [
    "calls_groupby = calls_groupby.reset_index().merge(df_users[['user_id', 'tariff']], how='left', on='user_id')\n",
    "calls_groupby.head(5)"
   ]
  },
  {
   "cell_type": "markdown",
   "metadata": {},
   "source": [
    "Далее добавим в таблицу `calls_groupby` количество минут согласно выбранного тарифа, стоимость минуты сверх тарифа, объединив таблицы `calls_groupby` и `df_tariffs` по колонке с названием тарифа"
   ]
  },
  {
   "cell_type": "code",
   "execution_count": 35,
   "metadata": {},
   "outputs": [],
   "source": [
    "calls_groupby = (\n",
    "    pd\n",
    "    .merge(calls_groupby, df_tariffs[['tariff_name', 'minutes_included', 'rub_per_minute']], \\\n",
    "           how='left', left_on='tariff', right_on='tariff_name')\n",
    ")"
   ]
  },
  {
   "cell_type": "markdown",
   "metadata": {},
   "source": [
    "И наконец, посчитаем выручку с каждого пользователя по звонкам: вычтем бесплатный лимит из суммарного количества звонков, а остаток умножем на значение из тарифного плана."
   ]
  },
  {
   "cell_type": "code",
   "execution_count": 36,
   "metadata": {},
   "outputs": [],
   "source": [
    "def calls_revenue_def(row):\n",
    "    if row['Кол_во_минут'] > row['minutes_included']:\n",
    "        return ((row['Кол_во_минут'] - row['minutes_included'])*row['rub_per_minute'])\n",
    "    else:\n",
    "        return 0"
   ]
  },
  {
   "cell_type": "code",
   "execution_count": 37,
   "metadata": {},
   "outputs": [],
   "source": [
    "calls_groupby['calls_revenue'] = calls_groupby.apply(calls_revenue_def, axis=1)"
   ]
  },
  {
   "cell_type": "code",
   "execution_count": 38,
   "metadata": {},
   "outputs": [
    {
     "data": {
      "text/html": [
       "<div>\n",
       "<style scoped>\n",
       "    .dataframe tbody tr th:only-of-type {\n",
       "        vertical-align: middle;\n",
       "    }\n",
       "\n",
       "    .dataframe tbody tr th {\n",
       "        vertical-align: top;\n",
       "    }\n",
       "\n",
       "    .dataframe thead th {\n",
       "        text-align: right;\n",
       "    }\n",
       "</style>\n",
       "<table border=\"1\" class=\"dataframe\">\n",
       "  <thead>\n",
       "    <tr style=\"text-align: right;\">\n",
       "      <th></th>\n",
       "      <th>user_id</th>\n",
       "      <th>month</th>\n",
       "      <th>Кол_во_звонков</th>\n",
       "      <th>Кол_во_минут</th>\n",
       "      <th>tariff</th>\n",
       "      <th>tariff_name</th>\n",
       "      <th>minutes_included</th>\n",
       "      <th>rub_per_minute</th>\n",
       "      <th>calls_revenue</th>\n",
       "    </tr>\n",
       "  </thead>\n",
       "  <tbody>\n",
       "    <tr>\n",
       "      <th>32</th>\n",
       "      <td>1005</td>\n",
       "      <td>2018-03-01</td>\n",
       "      <td>77</td>\n",
       "      <td>606.00</td>\n",
       "      <td>smart</td>\n",
       "      <td>smart</td>\n",
       "      <td>500</td>\n",
       "      <td>3</td>\n",
       "      <td>318.00</td>\n",
       "    </tr>\n",
       "    <tr>\n",
       "      <th>33</th>\n",
       "      <td>1005</td>\n",
       "      <td>2018-04-01</td>\n",
       "      <td>101</td>\n",
       "      <td>712.00</td>\n",
       "      <td>smart</td>\n",
       "      <td>smart</td>\n",
       "      <td>500</td>\n",
       "      <td>3</td>\n",
       "      <td>636.00</td>\n",
       "    </tr>\n",
       "    <tr>\n",
       "      <th>34</th>\n",
       "      <td>1005</td>\n",
       "      <td>2018-05-01</td>\n",
       "      <td>73</td>\n",
       "      <td>595.00</td>\n",
       "      <td>smart</td>\n",
       "      <td>smart</td>\n",
       "      <td>500</td>\n",
       "      <td>3</td>\n",
       "      <td>285.00</td>\n",
       "    </tr>\n",
       "    <tr>\n",
       "      <th>35</th>\n",
       "      <td>1005</td>\n",
       "      <td>2018-06-01</td>\n",
       "      <td>80</td>\n",
       "      <td>612.00</td>\n",
       "      <td>smart</td>\n",
       "      <td>smart</td>\n",
       "      <td>500</td>\n",
       "      <td>3</td>\n",
       "      <td>336.00</td>\n",
       "    </tr>\n",
       "    <tr>\n",
       "      <th>36</th>\n",
       "      <td>1005</td>\n",
       "      <td>2018-07-01</td>\n",
       "      <td>77</td>\n",
       "      <td>569.00</td>\n",
       "      <td>smart</td>\n",
       "      <td>smart</td>\n",
       "      <td>500</td>\n",
       "      <td>3</td>\n",
       "      <td>207.00</td>\n",
       "    </tr>\n",
       "  </tbody>\n",
       "</table>\n",
       "</div>"
      ],
      "text/plain": [
       "    user_id      month  Кол_во_звонков  Кол_во_минут tariff tariff_name  \\\n",
       "32     1005 2018-03-01              77        606.00  smart       smart   \n",
       "33     1005 2018-04-01             101        712.00  smart       smart   \n",
       "34     1005 2018-05-01              73        595.00  smart       smart   \n",
       "35     1005 2018-06-01              80        612.00  smart       smart   \n",
       "36     1005 2018-07-01              77        569.00  smart       smart   \n",
       "\n",
       "    minutes_included  rub_per_minute  calls_revenue  \n",
       "32               500               3         318.00  \n",
       "33               500               3         636.00  \n",
       "34               500               3         285.00  \n",
       "35               500               3         336.00  \n",
       "36               500               3         207.00  "
      ]
     },
     "execution_count": 38,
     "metadata": {},
     "output_type": "execute_result"
    }
   ],
   "source": [
    "calls_groupby.query('calls_revenue > 0').head()"
   ]
  },
  {
   "cell_type": "code",
   "execution_count": 39,
   "metadata": {},
   "outputs": [
    {
     "data": {
      "text/plain": [
       "0"
      ]
     },
     "execution_count": 39,
     "metadata": {},
     "output_type": "execute_result"
    }
   ],
   "source": [
    "len(calls_groupby.query('calls_revenue > 0 and tariff == \"ultra\"'))"
   ]
  },
  {
   "cell_type": "markdown",
   "metadata": {},
   "source": [
    "Видим, что превышение лимита по минутам в тарифе `ultra` нет ни у одного пользователя"
   ]
  },
  {
   "cell_type": "markdown",
   "metadata": {},
   "source": [
    "**Посчитаем для каждого пользователя:**\n",
    "- помесячную выручку с каждого пользователя по сообщениям\n",
    "\n",
    "Добавим в таблицу `messages_groupby` название тарифа для каждого пользователя, объединив таблицы `messages_groupby` и `df_users` по колонке `user_id`"
   ]
  },
  {
   "cell_type": "code",
   "execution_count": 40,
   "metadata": {},
   "outputs": [
    {
     "data": {
      "text/html": [
       "<div>\n",
       "<style scoped>\n",
       "    .dataframe tbody tr th:only-of-type {\n",
       "        vertical-align: middle;\n",
       "    }\n",
       "\n",
       "    .dataframe tbody tr th {\n",
       "        vertical-align: top;\n",
       "    }\n",
       "\n",
       "    .dataframe thead th {\n",
       "        text-align: right;\n",
       "    }\n",
       "</style>\n",
       "<table border=\"1\" class=\"dataframe\">\n",
       "  <thead>\n",
       "    <tr style=\"text-align: right;\">\n",
       "      <th></th>\n",
       "      <th>user_id</th>\n",
       "      <th>month</th>\n",
       "      <th>Кол_во_сообщений</th>\n",
       "      <th>tariff</th>\n",
       "    </tr>\n",
       "  </thead>\n",
       "  <tbody>\n",
       "    <tr>\n",
       "      <th>0</th>\n",
       "      <td>1000</td>\n",
       "      <td>2018-05-01</td>\n",
       "      <td>22</td>\n",
       "      <td>ultra</td>\n",
       "    </tr>\n",
       "    <tr>\n",
       "      <th>1</th>\n",
       "      <td>1000</td>\n",
       "      <td>2018-06-01</td>\n",
       "      <td>60</td>\n",
       "      <td>ultra</td>\n",
       "    </tr>\n",
       "    <tr>\n",
       "      <th>2</th>\n",
       "      <td>1000</td>\n",
       "      <td>2018-07-01</td>\n",
       "      <td>75</td>\n",
       "      <td>ultra</td>\n",
       "    </tr>\n",
       "    <tr>\n",
       "      <th>3</th>\n",
       "      <td>1000</td>\n",
       "      <td>2018-08-01</td>\n",
       "      <td>81</td>\n",
       "      <td>ultra</td>\n",
       "    </tr>\n",
       "    <tr>\n",
       "      <th>4</th>\n",
       "      <td>1000</td>\n",
       "      <td>2018-09-01</td>\n",
       "      <td>57</td>\n",
       "      <td>ultra</td>\n",
       "    </tr>\n",
       "  </tbody>\n",
       "</table>\n",
       "</div>"
      ],
      "text/plain": [
       "   user_id      month  Кол_во_сообщений tariff\n",
       "0     1000 2018-05-01                22  ultra\n",
       "1     1000 2018-06-01                60  ultra\n",
       "2     1000 2018-07-01                75  ultra\n",
       "3     1000 2018-08-01                81  ultra\n",
       "4     1000 2018-09-01                57  ultra"
      ]
     },
     "execution_count": 40,
     "metadata": {},
     "output_type": "execute_result"
    }
   ],
   "source": [
    "messages_groupby = messages_groupby.reset_index().merge(df_users[['user_id', 'tariff']], how='left', on='user_id')\n",
    "messages_groupby.head(5)"
   ]
  },
  {
   "cell_type": "markdown",
   "metadata": {},
   "source": [
    "Далее добавим в таблицу `messages_groupby` количество смс согласно выбранного тарифа, стоимость смс сверх тарифа, объединив таблицы `messages_groupby` и `df_tariffs` по колонке с названием тарифа"
   ]
  },
  {
   "cell_type": "code",
   "execution_count": 41,
   "metadata": {},
   "outputs": [],
   "source": [
    "messages_groupby = (\n",
    "    pd\n",
    "    .merge(messages_groupby, df_tariffs[['tariff_name', 'messages_included', 'rub_per_message']], \\\n",
    "           how='left', left_on='tariff', right_on='tariff_name')\n",
    ")"
   ]
  },
  {
   "cell_type": "markdown",
   "metadata": {},
   "source": [
    "И наконец, посчитаем выручку с каждого пользователя по смс: вычтем бесплатный лимит из суммарного количества смс, а остаток умножем на значение из тарифного плана."
   ]
  },
  {
   "cell_type": "code",
   "execution_count": 42,
   "metadata": {},
   "outputs": [],
   "source": [
    "def messages_revenue_def(row):\n",
    "    if row['Кол_во_сообщений'] > row['messages_included']:\n",
    "        return ((row['Кол_во_сообщений'] - row['messages_included'])*row['rub_per_message'])\n",
    "    else:\n",
    "        return 0"
   ]
  },
  {
   "cell_type": "code",
   "execution_count": 43,
   "metadata": {},
   "outputs": [],
   "source": [
    "messages_groupby['messages_revenue'] = messages_groupby.apply(messages_revenue_def, axis=1)"
   ]
  },
  {
   "cell_type": "code",
   "execution_count": 44,
   "metadata": {},
   "outputs": [
    {
     "data": {
      "text/html": [
       "<div>\n",
       "<style scoped>\n",
       "    .dataframe tbody tr th:only-of-type {\n",
       "        vertical-align: middle;\n",
       "    }\n",
       "\n",
       "    .dataframe tbody tr th {\n",
       "        vertical-align: top;\n",
       "    }\n",
       "\n",
       "    .dataframe thead th {\n",
       "        text-align: right;\n",
       "    }\n",
       "</style>\n",
       "<table border=\"1\" class=\"dataframe\">\n",
       "  <thead>\n",
       "    <tr style=\"text-align: right;\">\n",
       "      <th></th>\n",
       "      <th>user_id</th>\n",
       "      <th>month</th>\n",
       "      <th>Кол_во_сообщений</th>\n",
       "      <th>tariff</th>\n",
       "      <th>tariff_name</th>\n",
       "      <th>messages_included</th>\n",
       "      <th>rub_per_message</th>\n",
       "      <th>messages_revenue</th>\n",
       "    </tr>\n",
       "  </thead>\n",
       "  <tbody>\n",
       "    <tr>\n",
       "      <th>30</th>\n",
       "      <td>1005</td>\n",
       "      <td>2018-03-01</td>\n",
       "      <td>56</td>\n",
       "      <td>smart</td>\n",
       "      <td>smart</td>\n",
       "      <td>50</td>\n",
       "      <td>3</td>\n",
       "      <td>18</td>\n",
       "    </tr>\n",
       "    <tr>\n",
       "      <th>34</th>\n",
       "      <td>1005</td>\n",
       "      <td>2018-07-01</td>\n",
       "      <td>56</td>\n",
       "      <td>smart</td>\n",
       "      <td>smart</td>\n",
       "      <td>50</td>\n",
       "      <td>3</td>\n",
       "      <td>18</td>\n",
       "    </tr>\n",
       "    <tr>\n",
       "      <th>35</th>\n",
       "      <td>1005</td>\n",
       "      <td>2018-08-01</td>\n",
       "      <td>64</td>\n",
       "      <td>smart</td>\n",
       "      <td>smart</td>\n",
       "      <td>50</td>\n",
       "      <td>3</td>\n",
       "      <td>42</td>\n",
       "    </tr>\n",
       "    <tr>\n",
       "      <th>36</th>\n",
       "      <td>1005</td>\n",
       "      <td>2018-09-01</td>\n",
       "      <td>52</td>\n",
       "      <td>smart</td>\n",
       "      <td>smart</td>\n",
       "      <td>50</td>\n",
       "      <td>3</td>\n",
       "      <td>6</td>\n",
       "    </tr>\n",
       "    <tr>\n",
       "      <th>38</th>\n",
       "      <td>1005</td>\n",
       "      <td>2018-11-01</td>\n",
       "      <td>51</td>\n",
       "      <td>smart</td>\n",
       "      <td>smart</td>\n",
       "      <td>50</td>\n",
       "      <td>3</td>\n",
       "      <td>3</td>\n",
       "    </tr>\n",
       "  </tbody>\n",
       "</table>\n",
       "</div>"
      ],
      "text/plain": [
       "    user_id      month  Кол_во_сообщений tariff tariff_name  \\\n",
       "30     1005 2018-03-01                56  smart       smart   \n",
       "34     1005 2018-07-01                56  smart       smart   \n",
       "35     1005 2018-08-01                64  smart       smart   \n",
       "36     1005 2018-09-01                52  smart       smart   \n",
       "38     1005 2018-11-01                51  smart       smart   \n",
       "\n",
       "    messages_included  rub_per_message  messages_revenue  \n",
       "30                 50                3                18  \n",
       "34                 50                3                18  \n",
       "35                 50                3                42  \n",
       "36                 50                3                 6  \n",
       "38                 50                3                 3  "
      ]
     },
     "execution_count": 44,
     "metadata": {},
     "output_type": "execute_result"
    }
   ],
   "source": [
    "messages_groupby.query('messages_revenue > 0').head()"
   ]
  },
  {
   "cell_type": "code",
   "execution_count": 45,
   "metadata": {},
   "outputs": [
    {
     "data": {
      "text/plain": [
       "0"
      ]
     },
     "execution_count": 45,
     "metadata": {},
     "output_type": "execute_result"
    }
   ],
   "source": [
    "len(messages_groupby.query('messages_revenue > 0 and tariff == \"ultra\"'))"
   ]
  },
  {
   "cell_type": "markdown",
   "metadata": {},
   "source": [
    "Видим, что превышение лимита по минутам в тарифе `ultra` нет ни у одного пользователя"
   ]
  },
  {
   "cell_type": "markdown",
   "metadata": {},
   "source": [
    "**Посчитаем для каждого пользователя:**\n",
    "- помесячную выручку с каждого пользователя по интернету\n",
    "\n",
    "Добавим в таблицу `internet_groupby` название тарифа для каждого пользователя, объединив таблицы `internet_groupby` и `df_users` по колонке `user_id`"
   ]
  },
  {
   "cell_type": "code",
   "execution_count": 46,
   "metadata": {},
   "outputs": [
    {
     "data": {
      "text/html": [
       "<div>\n",
       "<style scoped>\n",
       "    .dataframe tbody tr th:only-of-type {\n",
       "        vertical-align: middle;\n",
       "    }\n",
       "\n",
       "    .dataframe tbody tr th {\n",
       "        vertical-align: top;\n",
       "    }\n",
       "\n",
       "    .dataframe thead th {\n",
       "        text-align: right;\n",
       "    }\n",
       "</style>\n",
       "<table border=\"1\" class=\"dataframe\">\n",
       "  <thead>\n",
       "    <tr style=\"text-align: right;\">\n",
       "      <th></th>\n",
       "      <th>user_id</th>\n",
       "      <th>month</th>\n",
       "      <th>Интернет_Мб</th>\n",
       "      <th>Интернет_Гб</th>\n",
       "      <th>tariff</th>\n",
       "    </tr>\n",
       "  </thead>\n",
       "  <tbody>\n",
       "    <tr>\n",
       "      <th>0</th>\n",
       "      <td>1000</td>\n",
       "      <td>2018-05-01</td>\n",
       "      <td>2253.49</td>\n",
       "      <td>2.20</td>\n",
       "      <td>ultra</td>\n",
       "    </tr>\n",
       "    <tr>\n",
       "      <th>1</th>\n",
       "      <td>1000</td>\n",
       "      <td>2018-06-01</td>\n",
       "      <td>23233.77</td>\n",
       "      <td>22.69</td>\n",
       "      <td>ultra</td>\n",
       "    </tr>\n",
       "    <tr>\n",
       "      <th>2</th>\n",
       "      <td>1000</td>\n",
       "      <td>2018-07-01</td>\n",
       "      <td>14003.64</td>\n",
       "      <td>13.68</td>\n",
       "      <td>ultra</td>\n",
       "    </tr>\n",
       "    <tr>\n",
       "      <th>3</th>\n",
       "      <td>1000</td>\n",
       "      <td>2018-08-01</td>\n",
       "      <td>14055.93</td>\n",
       "      <td>13.73</td>\n",
       "      <td>ultra</td>\n",
       "    </tr>\n",
       "    <tr>\n",
       "      <th>4</th>\n",
       "      <td>1000</td>\n",
       "      <td>2018-09-01</td>\n",
       "      <td>14568.91</td>\n",
       "      <td>14.23</td>\n",
       "      <td>ultra</td>\n",
       "    </tr>\n",
       "  </tbody>\n",
       "</table>\n",
       "</div>"
      ],
      "text/plain": [
       "   user_id      month  Интернет_Мб  Интернет_Гб tariff\n",
       "0     1000 2018-05-01      2253.49         2.20  ultra\n",
       "1     1000 2018-06-01     23233.77        22.69  ultra\n",
       "2     1000 2018-07-01     14003.64        13.68  ultra\n",
       "3     1000 2018-08-01     14055.93        13.73  ultra\n",
       "4     1000 2018-09-01     14568.91        14.23  ultra"
      ]
     },
     "execution_count": 46,
     "metadata": {},
     "output_type": "execute_result"
    }
   ],
   "source": [
    "internet_groupby = internet_groupby.reset_index().merge(df_users[['user_id', 'tariff']], how='left', on='user_id')\n",
    "internet_groupby.head(5)"
   ]
  },
  {
   "cell_type": "markdown",
   "metadata": {},
   "source": [
    "Далее добавим в таблицу `internet_groupby` количество Гб интернета согласно выбранного тарифа, стоимость Гб интернета сверх тарифа, объединив таблицы `internet_groupby` и `df_tariffs` по колонке с названием тарифа"
   ]
  },
  {
   "cell_type": "code",
   "execution_count": 47,
   "metadata": {},
   "outputs": [],
   "source": [
    "internet_groupby = (\n",
    "    pd\n",
    "    .merge(internet_groupby, df_tariffs[['tariff_name', 'mb_per_month_included', 'rub_per_gb']], \\\n",
    "           how='left', left_on='tariff', right_on='tariff_name')\n",
    ")"
   ]
  },
  {
   "cell_type": "markdown",
   "metadata": {},
   "source": [
    "И наконец, посчитаем выручку с каждого пользователя по интернету: вычтем бесплатный лимит из суммарного количества потраченного интернета, а остаток умножем на значение из тарифного плана."
   ]
  },
  {
   "cell_type": "code",
   "execution_count": 48,
   "metadata": {},
   "outputs": [],
   "source": [
    "def internet_revenue_def(row):\n",
    "    if row['Интернет_Мб'] > row['mb_per_month_included']:\n",
    "        return row['rub_per_gb']*np.ceil((row['Интернет_Мб'] - row['mb_per_month_included'])/1024)\n",
    "    else:\n",
    "        return 0"
   ]
  },
  {
   "cell_type": "code",
   "execution_count": 49,
   "metadata": {},
   "outputs": [],
   "source": [
    "internet_groupby['internet_revenue'] = internet_groupby.apply(internet_revenue_def, axis=1)"
   ]
  },
  {
   "cell_type": "code",
   "execution_count": 50,
   "metadata": {},
   "outputs": [
    {
     "data": {
      "text/html": [
       "<div>\n",
       "<style scoped>\n",
       "    .dataframe tbody tr th:only-of-type {\n",
       "        vertical-align: middle;\n",
       "    }\n",
       "\n",
       "    .dataframe tbody tr th {\n",
       "        vertical-align: top;\n",
       "    }\n",
       "\n",
       "    .dataframe thead th {\n",
       "        text-align: right;\n",
       "    }\n",
       "</style>\n",
       "<table border=\"1\" class=\"dataframe\">\n",
       "  <thead>\n",
       "    <tr style=\"text-align: right;\">\n",
       "      <th></th>\n",
       "      <th>user_id</th>\n",
       "      <th>month</th>\n",
       "      <th>Интернет_Мб</th>\n",
       "      <th>Интернет_Гб</th>\n",
       "      <th>tariff</th>\n",
       "      <th>tariff_name</th>\n",
       "      <th>mb_per_month_included</th>\n",
       "      <th>rub_per_gb</th>\n",
       "      <th>internet_revenue</th>\n",
       "    </tr>\n",
       "  </thead>\n",
       "  <tbody>\n",
       "    <tr>\n",
       "      <th>8</th>\n",
       "      <td>1001</td>\n",
       "      <td>2018-11-01</td>\n",
       "      <td>18429.34</td>\n",
       "      <td>18.00</td>\n",
       "      <td>smart</td>\n",
       "      <td>smart</td>\n",
       "      <td>15360</td>\n",
       "      <td>200</td>\n",
       "      <td>600.00</td>\n",
       "    </tr>\n",
       "    <tr>\n",
       "      <th>11</th>\n",
       "      <td>1002</td>\n",
       "      <td>2018-07-01</td>\n",
       "      <td>17580.10</td>\n",
       "      <td>17.17</td>\n",
       "      <td>smart</td>\n",
       "      <td>smart</td>\n",
       "      <td>15360</td>\n",
       "      <td>200</td>\n",
       "      <td>600.00</td>\n",
       "    </tr>\n",
       "    <tr>\n",
       "      <th>12</th>\n",
       "      <td>1002</td>\n",
       "      <td>2018-08-01</td>\n",
       "      <td>20319.26</td>\n",
       "      <td>19.84</td>\n",
       "      <td>smart</td>\n",
       "      <td>smart</td>\n",
       "      <td>15360</td>\n",
       "      <td>200</td>\n",
       "      <td>1000.00</td>\n",
       "    </tr>\n",
       "    <tr>\n",
       "      <th>13</th>\n",
       "      <td>1002</td>\n",
       "      <td>2018-09-01</td>\n",
       "      <td>16691.08</td>\n",
       "      <td>16.30</td>\n",
       "      <td>smart</td>\n",
       "      <td>smart</td>\n",
       "      <td>15360</td>\n",
       "      <td>200</td>\n",
       "      <td>400.00</td>\n",
       "    </tr>\n",
       "    <tr>\n",
       "      <th>15</th>\n",
       "      <td>1002</td>\n",
       "      <td>2018-11-01</td>\n",
       "      <td>18587.28</td>\n",
       "      <td>18.15</td>\n",
       "      <td>smart</td>\n",
       "      <td>smart</td>\n",
       "      <td>15360</td>\n",
       "      <td>200</td>\n",
       "      <td>800.00</td>\n",
       "    </tr>\n",
       "  </tbody>\n",
       "</table>\n",
       "</div>"
      ],
      "text/plain": [
       "    user_id      month  Интернет_Мб  Интернет_Гб tariff tariff_name  \\\n",
       "8      1001 2018-11-01     18429.34        18.00  smart       smart   \n",
       "11     1002 2018-07-01     17580.10        17.17  smart       smart   \n",
       "12     1002 2018-08-01     20319.26        19.84  smart       smart   \n",
       "13     1002 2018-09-01     16691.08        16.30  smart       smart   \n",
       "15     1002 2018-11-01     18587.28        18.15  smart       smart   \n",
       "\n",
       "    mb_per_month_included  rub_per_gb  internet_revenue  \n",
       "8                   15360         200            600.00  \n",
       "11                  15360         200            600.00  \n",
       "12                  15360         200           1000.00  \n",
       "13                  15360         200            400.00  \n",
       "15                  15360         200            800.00  "
      ]
     },
     "execution_count": 50,
     "metadata": {},
     "output_type": "execute_result"
    }
   ],
   "source": [
    "internet_groupby.query('internet_revenue > 0').head()"
   ]
  },
  {
   "cell_type": "code",
   "execution_count": 51,
   "metadata": {},
   "outputs": [
    {
     "data": {
      "text/plain": [
       "134"
      ]
     },
     "execution_count": 51,
     "metadata": {},
     "output_type": "execute_result"
    }
   ],
   "source": [
    "len(internet_groupby.query('internet_revenue > 0 and tariff == \"ultra\"'))"
   ]
  },
  {
   "cell_type": "markdown",
   "metadata": {},
   "source": [
    "Видим, что превышение лимита по трафику интернета в тарифах `smart` и `ultra` есть"
   ]
  },
  {
   "cell_type": "markdown",
   "metadata": {},
   "source": [
    "Объединим таблицы в датафрейм `revenue_stat`:"
   ]
  },
  {
   "cell_type": "code",
   "execution_count": 52,
   "metadata": {},
   "outputs": [],
   "source": [
    "revenue_stat = (\n",
    "    calls_groupby[['user_id', 'month', 'Кол_во_минут', 'calls_revenue']]\n",
    "    .merge(internet_groupby[['user_id', 'month', 'Интернет_Гб', 'internet_revenue']],\\\n",
    "           how='outer', on=['user_id', 'month'])\n",
    "    .merge(messages_groupby[['user_id', 'month', 'Кол_во_сообщений', 'messages_revenue']],\\\n",
    "           how='outer', on=['user_id', 'month'])\n",
    "    .merge(df_users[['user_id', 'tariff', 'city']], on='user_id')\n",
    "    .merge(df_tariffs[['tariff_name', 'rub_monthly_fee']], left_on='tariff', right_on='tariff_name')\n",
    "    .sort_values(by=['user_id', 'month'])\n",
    ")"
   ]
  },
  {
   "cell_type": "code",
   "execution_count": 53,
   "metadata": {
    "scrolled": false
   },
   "outputs": [
    {
     "data": {
      "text/html": [
       "<div>\n",
       "<style scoped>\n",
       "    .dataframe tbody tr th:only-of-type {\n",
       "        vertical-align: middle;\n",
       "    }\n",
       "\n",
       "    .dataframe tbody tr th {\n",
       "        vertical-align: top;\n",
       "    }\n",
       "\n",
       "    .dataframe thead th {\n",
       "        text-align: right;\n",
       "    }\n",
       "</style>\n",
       "<table border=\"1\" class=\"dataframe\">\n",
       "  <thead>\n",
       "    <tr style=\"text-align: right;\">\n",
       "      <th></th>\n",
       "      <th>0</th>\n",
       "      <th>1</th>\n",
       "      <th>2</th>\n",
       "      <th>3</th>\n",
       "      <th>4</th>\n",
       "      <th>5</th>\n",
       "      <th>6</th>\n",
       "      <th>7</th>\n",
       "      <th>985</th>\n",
       "      <th>986</th>\n",
       "    </tr>\n",
       "  </thead>\n",
       "  <tbody>\n",
       "    <tr>\n",
       "      <th>user_id</th>\n",
       "      <td>1000</td>\n",
       "      <td>1000</td>\n",
       "      <td>1000</td>\n",
       "      <td>1000</td>\n",
       "      <td>1000</td>\n",
       "      <td>1000</td>\n",
       "      <td>1000</td>\n",
       "      <td>1000</td>\n",
       "      <td>1001</td>\n",
       "      <td>1001</td>\n",
       "    </tr>\n",
       "    <tr>\n",
       "      <th>month</th>\n",
       "      <td>2018-05-01 00:00:00</td>\n",
       "      <td>2018-06-01 00:00:00</td>\n",
       "      <td>2018-07-01 00:00:00</td>\n",
       "      <td>2018-08-01 00:00:00</td>\n",
       "      <td>2018-09-01 00:00:00</td>\n",
       "      <td>2018-10-01 00:00:00</td>\n",
       "      <td>2018-11-01 00:00:00</td>\n",
       "      <td>2018-12-01 00:00:00</td>\n",
       "      <td>2018-11-01 00:00:00</td>\n",
       "      <td>2018-12-01 00:00:00</td>\n",
       "    </tr>\n",
       "    <tr>\n",
       "      <th>Кол_во_минут</th>\n",
       "      <td>159.00</td>\n",
       "      <td>172.00</td>\n",
       "      <td>340.00</td>\n",
       "      <td>408.00</td>\n",
       "      <td>466.00</td>\n",
       "      <td>350.00</td>\n",
       "      <td>338.00</td>\n",
       "      <td>333.00</td>\n",
       "      <td>430.00</td>\n",
       "      <td>414.00</td>\n",
       "    </tr>\n",
       "    <tr>\n",
       "      <th>calls_revenue</th>\n",
       "      <td>0.00</td>\n",
       "      <td>0.00</td>\n",
       "      <td>0.00</td>\n",
       "      <td>0.00</td>\n",
       "      <td>0.00</td>\n",
       "      <td>0.00</td>\n",
       "      <td>0.00</td>\n",
       "      <td>0.00</td>\n",
       "      <td>0.00</td>\n",
       "      <td>0.00</td>\n",
       "    </tr>\n",
       "    <tr>\n",
       "      <th>Интернет_Гб</th>\n",
       "      <td>2.20</td>\n",
       "      <td>22.69</td>\n",
       "      <td>13.68</td>\n",
       "      <td>13.73</td>\n",
       "      <td>14.23</td>\n",
       "      <td>14.36</td>\n",
       "      <td>14.41</td>\n",
       "      <td>9.59</td>\n",
       "      <td>18.00</td>\n",
       "      <td>13.71</td>\n",
       "    </tr>\n",
       "    <tr>\n",
       "      <th>internet_revenue</th>\n",
       "      <td>0.00</td>\n",
       "      <td>0.00</td>\n",
       "      <td>0.00</td>\n",
       "      <td>0.00</td>\n",
       "      <td>0.00</td>\n",
       "      <td>0.00</td>\n",
       "      <td>0.00</td>\n",
       "      <td>0.00</td>\n",
       "      <td>600.00</td>\n",
       "      <td>0.00</td>\n",
       "    </tr>\n",
       "    <tr>\n",
       "      <th>Кол_во_сообщений</th>\n",
       "      <td>22.00</td>\n",
       "      <td>60.00</td>\n",
       "      <td>75.00</td>\n",
       "      <td>81.00</td>\n",
       "      <td>57.00</td>\n",
       "      <td>73.00</td>\n",
       "      <td>58.00</td>\n",
       "      <td>70.00</td>\n",
       "      <td>NaN</td>\n",
       "      <td>NaN</td>\n",
       "    </tr>\n",
       "    <tr>\n",
       "      <th>messages_revenue</th>\n",
       "      <td>0.00</td>\n",
       "      <td>0.00</td>\n",
       "      <td>0.00</td>\n",
       "      <td>0.00</td>\n",
       "      <td>0.00</td>\n",
       "      <td>0.00</td>\n",
       "      <td>0.00</td>\n",
       "      <td>0.00</td>\n",
       "      <td>NaN</td>\n",
       "      <td>NaN</td>\n",
       "    </tr>\n",
       "    <tr>\n",
       "      <th>tariff</th>\n",
       "      <td>ultra</td>\n",
       "      <td>ultra</td>\n",
       "      <td>ultra</td>\n",
       "      <td>ultra</td>\n",
       "      <td>ultra</td>\n",
       "      <td>ultra</td>\n",
       "      <td>ultra</td>\n",
       "      <td>ultra</td>\n",
       "      <td>smart</td>\n",
       "      <td>smart</td>\n",
       "    </tr>\n",
       "    <tr>\n",
       "      <th>city</th>\n",
       "      <td>Краснодар</td>\n",
       "      <td>Краснодар</td>\n",
       "      <td>Краснодар</td>\n",
       "      <td>Краснодар</td>\n",
       "      <td>Краснодар</td>\n",
       "      <td>Краснодар</td>\n",
       "      <td>Краснодар</td>\n",
       "      <td>Краснодар</td>\n",
       "      <td>Москва</td>\n",
       "      <td>Москва</td>\n",
       "    </tr>\n",
       "    <tr>\n",
       "      <th>tariff_name</th>\n",
       "      <td>ultra</td>\n",
       "      <td>ultra</td>\n",
       "      <td>ultra</td>\n",
       "      <td>ultra</td>\n",
       "      <td>ultra</td>\n",
       "      <td>ultra</td>\n",
       "      <td>ultra</td>\n",
       "      <td>ultra</td>\n",
       "      <td>smart</td>\n",
       "      <td>smart</td>\n",
       "    </tr>\n",
       "    <tr>\n",
       "      <th>rub_monthly_fee</th>\n",
       "      <td>1950</td>\n",
       "      <td>1950</td>\n",
       "      <td>1950</td>\n",
       "      <td>1950</td>\n",
       "      <td>1950</td>\n",
       "      <td>1950</td>\n",
       "      <td>1950</td>\n",
       "      <td>1950</td>\n",
       "      <td>550</td>\n",
       "      <td>550</td>\n",
       "    </tr>\n",
       "  </tbody>\n",
       "</table>\n",
       "</div>"
      ],
      "text/plain": [
       "                                  0                    1    \\\n",
       "user_id                          1000                 1000   \n",
       "month             2018-05-01 00:00:00  2018-06-01 00:00:00   \n",
       "Кол_во_минут                   159.00               172.00   \n",
       "calls_revenue                    0.00                 0.00   \n",
       "Интернет_Гб                      2.20                22.69   \n",
       "internet_revenue                 0.00                 0.00   \n",
       "Кол_во_сообщений                22.00                60.00   \n",
       "messages_revenue                 0.00                 0.00   \n",
       "tariff                          ultra                ultra   \n",
       "city                        Краснодар            Краснодар   \n",
       "tariff_name                     ultra                ultra   \n",
       "rub_monthly_fee                  1950                 1950   \n",
       "\n",
       "                                  2                    3    \\\n",
       "user_id                          1000                 1000   \n",
       "month             2018-07-01 00:00:00  2018-08-01 00:00:00   \n",
       "Кол_во_минут                   340.00               408.00   \n",
       "calls_revenue                    0.00                 0.00   \n",
       "Интернет_Гб                     13.68                13.73   \n",
       "internet_revenue                 0.00                 0.00   \n",
       "Кол_во_сообщений                75.00                81.00   \n",
       "messages_revenue                 0.00                 0.00   \n",
       "tariff                          ultra                ultra   \n",
       "city                        Краснодар            Краснодар   \n",
       "tariff_name                     ultra                ultra   \n",
       "rub_monthly_fee                  1950                 1950   \n",
       "\n",
       "                                  4                    5    \\\n",
       "user_id                          1000                 1000   \n",
       "month             2018-09-01 00:00:00  2018-10-01 00:00:00   \n",
       "Кол_во_минут                   466.00               350.00   \n",
       "calls_revenue                    0.00                 0.00   \n",
       "Интернет_Гб                     14.23                14.36   \n",
       "internet_revenue                 0.00                 0.00   \n",
       "Кол_во_сообщений                57.00                73.00   \n",
       "messages_revenue                 0.00                 0.00   \n",
       "tariff                          ultra                ultra   \n",
       "city                        Краснодар            Краснодар   \n",
       "tariff_name                     ultra                ultra   \n",
       "rub_monthly_fee                  1950                 1950   \n",
       "\n",
       "                                  6                    7    \\\n",
       "user_id                          1000                 1000   \n",
       "month             2018-11-01 00:00:00  2018-12-01 00:00:00   \n",
       "Кол_во_минут                   338.00               333.00   \n",
       "calls_revenue                    0.00                 0.00   \n",
       "Интернет_Гб                     14.41                 9.59   \n",
       "internet_revenue                 0.00                 0.00   \n",
       "Кол_во_сообщений                58.00                70.00   \n",
       "messages_revenue                 0.00                 0.00   \n",
       "tariff                          ultra                ultra   \n",
       "city                        Краснодар            Краснодар   \n",
       "tariff_name                     ultra                ultra   \n",
       "rub_monthly_fee                  1950                 1950   \n",
       "\n",
       "                                  985                  986  \n",
       "user_id                          1001                 1001  \n",
       "month             2018-11-01 00:00:00  2018-12-01 00:00:00  \n",
       "Кол_во_минут                   430.00               414.00  \n",
       "calls_revenue                    0.00                 0.00  \n",
       "Интернет_Гб                     18.00                13.71  \n",
       "internet_revenue               600.00                 0.00  \n",
       "Кол_во_сообщений                  NaN                  NaN  \n",
       "messages_revenue                  NaN                  NaN  \n",
       "tariff                          smart                smart  \n",
       "city                           Москва               Москва  \n",
       "tariff_name                     smart                smart  \n",
       "rub_monthly_fee                   550                  550  "
      ]
     },
     "execution_count": 53,
     "metadata": {},
     "output_type": "execute_result"
    }
   ],
   "source": [
    "revenue_stat.head(10).T"
   ]
  },
  {
   "cell_type": "code",
   "execution_count": 54,
   "metadata": {},
   "outputs": [
    {
     "data": {
      "text/html": [
       "<div>\n",
       "<style scoped>\n",
       "    .dataframe tbody tr th:only-of-type {\n",
       "        vertical-align: middle;\n",
       "    }\n",
       "\n",
       "    .dataframe tbody tr th {\n",
       "        vertical-align: top;\n",
       "    }\n",
       "\n",
       "    .dataframe thead th {\n",
       "        text-align: right;\n",
       "    }\n",
       "</style>\n",
       "<table border=\"1\" class=\"dataframe\">\n",
       "  <thead>\n",
       "    <tr style=\"text-align: right;\">\n",
       "      <th></th>\n",
       "      <th>user_id</th>\n",
       "      <th>month</th>\n",
       "      <th>Кол_во_минут</th>\n",
       "      <th>calls_revenue</th>\n",
       "      <th>Интернет_Гб</th>\n",
       "      <th>internet_revenue</th>\n",
       "      <th>Кол_во_сообщений</th>\n",
       "      <th>messages_revenue</th>\n",
       "      <th>tariff</th>\n",
       "      <th>city</th>\n",
       "      <th>tariff_name</th>\n",
       "      <th>rub_monthly_fee</th>\n",
       "    </tr>\n",
       "  </thead>\n",
       "  <tbody>\n",
       "    <tr>\n",
       "      <th>0</th>\n",
       "      <td>1000</td>\n",
       "      <td>2018-05-01</td>\n",
       "      <td>159.00</td>\n",
       "      <td>0.00</td>\n",
       "      <td>2.20</td>\n",
       "      <td>0.00</td>\n",
       "      <td>22.00</td>\n",
       "      <td>0.00</td>\n",
       "      <td>ultra</td>\n",
       "      <td>Краснодар</td>\n",
       "      <td>ultra</td>\n",
       "      <td>1950</td>\n",
       "    </tr>\n",
       "    <tr>\n",
       "      <th>1</th>\n",
       "      <td>1000</td>\n",
       "      <td>2018-06-01</td>\n",
       "      <td>172.00</td>\n",
       "      <td>0.00</td>\n",
       "      <td>22.69</td>\n",
       "      <td>0.00</td>\n",
       "      <td>60.00</td>\n",
       "      <td>0.00</td>\n",
       "      <td>ultra</td>\n",
       "      <td>Краснодар</td>\n",
       "      <td>ultra</td>\n",
       "      <td>1950</td>\n",
       "    </tr>\n",
       "    <tr>\n",
       "      <th>2</th>\n",
       "      <td>1000</td>\n",
       "      <td>2018-07-01</td>\n",
       "      <td>340.00</td>\n",
       "      <td>0.00</td>\n",
       "      <td>13.68</td>\n",
       "      <td>0.00</td>\n",
       "      <td>75.00</td>\n",
       "      <td>0.00</td>\n",
       "      <td>ultra</td>\n",
       "      <td>Краснодар</td>\n",
       "      <td>ultra</td>\n",
       "      <td>1950</td>\n",
       "    </tr>\n",
       "    <tr>\n",
       "      <th>3</th>\n",
       "      <td>1000</td>\n",
       "      <td>2018-08-01</td>\n",
       "      <td>408.00</td>\n",
       "      <td>0.00</td>\n",
       "      <td>13.73</td>\n",
       "      <td>0.00</td>\n",
       "      <td>81.00</td>\n",
       "      <td>0.00</td>\n",
       "      <td>ultra</td>\n",
       "      <td>Краснодар</td>\n",
       "      <td>ultra</td>\n",
       "      <td>1950</td>\n",
       "    </tr>\n",
       "    <tr>\n",
       "      <th>4</th>\n",
       "      <td>1000</td>\n",
       "      <td>2018-09-01</td>\n",
       "      <td>466.00</td>\n",
       "      <td>0.00</td>\n",
       "      <td>14.23</td>\n",
       "      <td>0.00</td>\n",
       "      <td>57.00</td>\n",
       "      <td>0.00</td>\n",
       "      <td>ultra</td>\n",
       "      <td>Краснодар</td>\n",
       "      <td>ultra</td>\n",
       "      <td>1950</td>\n",
       "    </tr>\n",
       "    <tr>\n",
       "      <th>5</th>\n",
       "      <td>1000</td>\n",
       "      <td>2018-10-01</td>\n",
       "      <td>350.00</td>\n",
       "      <td>0.00</td>\n",
       "      <td>14.36</td>\n",
       "      <td>0.00</td>\n",
       "      <td>73.00</td>\n",
       "      <td>0.00</td>\n",
       "      <td>ultra</td>\n",
       "      <td>Краснодар</td>\n",
       "      <td>ultra</td>\n",
       "      <td>1950</td>\n",
       "    </tr>\n",
       "    <tr>\n",
       "      <th>6</th>\n",
       "      <td>1000</td>\n",
       "      <td>2018-11-01</td>\n",
       "      <td>338.00</td>\n",
       "      <td>0.00</td>\n",
       "      <td>14.41</td>\n",
       "      <td>0.00</td>\n",
       "      <td>58.00</td>\n",
       "      <td>0.00</td>\n",
       "      <td>ultra</td>\n",
       "      <td>Краснодар</td>\n",
       "      <td>ultra</td>\n",
       "      <td>1950</td>\n",
       "    </tr>\n",
       "    <tr>\n",
       "      <th>7</th>\n",
       "      <td>1000</td>\n",
       "      <td>2018-12-01</td>\n",
       "      <td>333.00</td>\n",
       "      <td>0.00</td>\n",
       "      <td>9.59</td>\n",
       "      <td>0.00</td>\n",
       "      <td>70.00</td>\n",
       "      <td>0.00</td>\n",
       "      <td>ultra</td>\n",
       "      <td>Краснодар</td>\n",
       "      <td>ultra</td>\n",
       "      <td>1950</td>\n",
       "    </tr>\n",
       "    <tr>\n",
       "      <th>985</th>\n",
       "      <td>1001</td>\n",
       "      <td>2018-11-01</td>\n",
       "      <td>430.00</td>\n",
       "      <td>0.00</td>\n",
       "      <td>18.00</td>\n",
       "      <td>600.00</td>\n",
       "      <td>NaN</td>\n",
       "      <td>NaN</td>\n",
       "      <td>smart</td>\n",
       "      <td>Москва</td>\n",
       "      <td>smart</td>\n",
       "      <td>550</td>\n",
       "    </tr>\n",
       "    <tr>\n",
       "      <th>986</th>\n",
       "      <td>1001</td>\n",
       "      <td>2018-12-01</td>\n",
       "      <td>414.00</td>\n",
       "      <td>0.00</td>\n",
       "      <td>13.71</td>\n",
       "      <td>0.00</td>\n",
       "      <td>NaN</td>\n",
       "      <td>NaN</td>\n",
       "      <td>smart</td>\n",
       "      <td>Москва</td>\n",
       "      <td>smart</td>\n",
       "      <td>550</td>\n",
       "    </tr>\n",
       "  </tbody>\n",
       "</table>\n",
       "</div>"
      ],
      "text/plain": [
       "     user_id      month  Кол_во_минут  calls_revenue  Интернет_Гб  \\\n",
       "0       1000 2018-05-01        159.00           0.00         2.20   \n",
       "1       1000 2018-06-01        172.00           0.00        22.69   \n",
       "2       1000 2018-07-01        340.00           0.00        13.68   \n",
       "3       1000 2018-08-01        408.00           0.00        13.73   \n",
       "4       1000 2018-09-01        466.00           0.00        14.23   \n",
       "5       1000 2018-10-01        350.00           0.00        14.36   \n",
       "6       1000 2018-11-01        338.00           0.00        14.41   \n",
       "7       1000 2018-12-01        333.00           0.00         9.59   \n",
       "985     1001 2018-11-01        430.00           0.00        18.00   \n",
       "986     1001 2018-12-01        414.00           0.00        13.71   \n",
       "\n",
       "     internet_revenue  Кол_во_сообщений  messages_revenue tariff       city  \\\n",
       "0                0.00             22.00              0.00  ultra  Краснодар   \n",
       "1                0.00             60.00              0.00  ultra  Краснодар   \n",
       "2                0.00             75.00              0.00  ultra  Краснодар   \n",
       "3                0.00             81.00              0.00  ultra  Краснодар   \n",
       "4                0.00             57.00              0.00  ultra  Краснодар   \n",
       "5                0.00             73.00              0.00  ultra  Краснодар   \n",
       "6                0.00             58.00              0.00  ultra  Краснодар   \n",
       "7                0.00             70.00              0.00  ultra  Краснодар   \n",
       "985            600.00               NaN               NaN  smart     Москва   \n",
       "986              0.00               NaN               NaN  smart     Москва   \n",
       "\n",
       "    tariff_name  rub_monthly_fee  \n",
       "0         ultra             1950  \n",
       "1         ultra             1950  \n",
       "2         ultra             1950  \n",
       "3         ultra             1950  \n",
       "4         ultra             1950  \n",
       "5         ultra             1950  \n",
       "6         ultra             1950  \n",
       "7         ultra             1950  \n",
       "985       smart              550  \n",
       "986       smart              550  "
      ]
     },
     "execution_count": 54,
     "metadata": {},
     "output_type": "execute_result"
    }
   ],
   "source": [
    "revenue_stat.head(10)"
   ]
  },
  {
   "cell_type": "markdown",
   "metadata": {},
   "source": [
    "Определим `user_id` пользователей, данных о которых в таблице `revenue_stat`"
   ]
  },
  {
   "cell_type": "code",
   "execution_count": 55,
   "metadata": {},
   "outputs": [],
   "source": [
    "users = revenue_stat['user_id'].unique().tolist()"
   ]
  },
  {
   "cell_type": "code",
   "execution_count": 56,
   "metadata": {},
   "outputs": [
    {
     "data": {
      "text/plain": [
       "[1128, 1371]"
      ]
     },
     "execution_count": 56,
     "metadata": {},
     "output_type": "execute_result"
    }
   ],
   "source": [
    "df_users.query('user_id not in @users')['user_id'].tolist()"
   ]
  },
  {
   "cell_type": "markdown",
   "metadata": {},
   "source": [
    "Для пользователей 1128 и 1371 нет данных ни по звонкам, ни по смс сообщениям, ни по интернету"
   ]
  },
  {
   "cell_type": "code",
   "execution_count": 57,
   "metadata": {},
   "outputs": [
    {
     "name": "stdout",
     "output_type": "stream",
     "text": [
      "                  количество пропущенных значений процент пропущенных значений\n",
      "user_id                                         0                        0.00%\n",
      "month                                           0                        0.00%\n",
      "Кол_во_минут                                   40                        1.24%\n",
      "calls_revenue                                  40                        1.24%\n",
      "Интернет_Гб                                    11                        0.34%\n",
      "internet_revenue                               11                        0.34%\n",
      "Кол_во_сообщений                              497                       15.46%\n",
      "messages_revenue                              497                       15.46%\n",
      "tariff                                          0                        0.00%\n",
      "city                                            0                        0.00%\n",
      "tariff_name                                     0                        0.00%\n",
      "rub_monthly_fee                                 0                        0.00%\n"
     ]
    }
   ],
   "source": [
    "print(df_statistic(revenue_stat))"
   ]
  },
  {
   "cell_type": "markdown",
   "metadata": {},
   "source": [
    "Видим, что в таблице появились пропущенные значения. Это связано с тем, что в таблице есть записи для конкретного пользователя и месяца, в котором нет данных либо по смс, либо по интернету, либо по звонкам. Заполним пропущенные значения нулями"
   ]
  },
  {
   "cell_type": "code",
   "execution_count": 58,
   "metadata": {},
   "outputs": [],
   "source": [
    "revenue_stat = revenue_stat.fillna(0)"
   ]
  },
  {
   "cell_type": "markdown",
   "metadata": {},
   "source": [
    "Посчитаем помесячную выручку с каждого пользователя, значение запишем в колонку `total_revenue_rub`"
   ]
  },
  {
   "cell_type": "code",
   "execution_count": 59,
   "metadata": {},
   "outputs": [],
   "source": [
    "revenue_stat['total_revenue_rub'] = revenue_stat['rub_monthly_fee'] + revenue_stat['calls_revenue']\\\n",
    "    + revenue_stat['internet_revenue'] + revenue_stat['messages_revenue']\n",
    "revenue_stat['month'] = revenue_stat['month'].dt.month"
   ]
  },
  {
   "cell_type": "markdown",
   "metadata": {},
   "source": [
    "**Выведем на экран таблицу с помесячной вырочкой для каждого пользователя:**"
   ]
  },
  {
   "cell_type": "code",
   "execution_count": 60,
   "metadata": {
    "scrolled": false
   },
   "outputs": [
    {
     "data": {
      "text/html": [
       "<div>\n",
       "<style scoped>\n",
       "    .dataframe tbody tr th:only-of-type {\n",
       "        vertical-align: middle;\n",
       "    }\n",
       "\n",
       "    .dataframe tbody tr th {\n",
       "        vertical-align: top;\n",
       "    }\n",
       "\n",
       "    .dataframe thead th {\n",
       "        text-align: right;\n",
       "    }\n",
       "</style>\n",
       "<table border=\"1\" class=\"dataframe\">\n",
       "  <thead>\n",
       "    <tr style=\"text-align: right;\">\n",
       "      <th></th>\n",
       "      <th>0</th>\n",
       "      <th>1</th>\n",
       "      <th>2</th>\n",
       "      <th>3</th>\n",
       "      <th>4</th>\n",
       "      <th>5</th>\n",
       "      <th>6</th>\n",
       "      <th>7</th>\n",
       "      <th>985</th>\n",
       "      <th>986</th>\n",
       "    </tr>\n",
       "  </thead>\n",
       "  <tbody>\n",
       "    <tr>\n",
       "      <th>user_id</th>\n",
       "      <td>1000</td>\n",
       "      <td>1000</td>\n",
       "      <td>1000</td>\n",
       "      <td>1000</td>\n",
       "      <td>1000</td>\n",
       "      <td>1000</td>\n",
       "      <td>1000</td>\n",
       "      <td>1000</td>\n",
       "      <td>1001</td>\n",
       "      <td>1001</td>\n",
       "    </tr>\n",
       "    <tr>\n",
       "      <th>month</th>\n",
       "      <td>5</td>\n",
       "      <td>6</td>\n",
       "      <td>7</td>\n",
       "      <td>8</td>\n",
       "      <td>9</td>\n",
       "      <td>10</td>\n",
       "      <td>11</td>\n",
       "      <td>12</td>\n",
       "      <td>11</td>\n",
       "      <td>12</td>\n",
       "    </tr>\n",
       "    <tr>\n",
       "      <th>Кол_во_минут</th>\n",
       "      <td>159.00</td>\n",
       "      <td>172.00</td>\n",
       "      <td>340.00</td>\n",
       "      <td>408.00</td>\n",
       "      <td>466.00</td>\n",
       "      <td>350.00</td>\n",
       "      <td>338.00</td>\n",
       "      <td>333.00</td>\n",
       "      <td>430.00</td>\n",
       "      <td>414.00</td>\n",
       "    </tr>\n",
       "    <tr>\n",
       "      <th>calls_revenue</th>\n",
       "      <td>0.00</td>\n",
       "      <td>0.00</td>\n",
       "      <td>0.00</td>\n",
       "      <td>0.00</td>\n",
       "      <td>0.00</td>\n",
       "      <td>0.00</td>\n",
       "      <td>0.00</td>\n",
       "      <td>0.00</td>\n",
       "      <td>0.00</td>\n",
       "      <td>0.00</td>\n",
       "    </tr>\n",
       "    <tr>\n",
       "      <th>Интернет_Гб</th>\n",
       "      <td>2.20</td>\n",
       "      <td>22.69</td>\n",
       "      <td>13.68</td>\n",
       "      <td>13.73</td>\n",
       "      <td>14.23</td>\n",
       "      <td>14.36</td>\n",
       "      <td>14.41</td>\n",
       "      <td>9.59</td>\n",
       "      <td>18.00</td>\n",
       "      <td>13.71</td>\n",
       "    </tr>\n",
       "    <tr>\n",
       "      <th>internet_revenue</th>\n",
       "      <td>0.00</td>\n",
       "      <td>0.00</td>\n",
       "      <td>0.00</td>\n",
       "      <td>0.00</td>\n",
       "      <td>0.00</td>\n",
       "      <td>0.00</td>\n",
       "      <td>0.00</td>\n",
       "      <td>0.00</td>\n",
       "      <td>600.00</td>\n",
       "      <td>0.00</td>\n",
       "    </tr>\n",
       "    <tr>\n",
       "      <th>Кол_во_сообщений</th>\n",
       "      <td>22.00</td>\n",
       "      <td>60.00</td>\n",
       "      <td>75.00</td>\n",
       "      <td>81.00</td>\n",
       "      <td>57.00</td>\n",
       "      <td>73.00</td>\n",
       "      <td>58.00</td>\n",
       "      <td>70.00</td>\n",
       "      <td>0.00</td>\n",
       "      <td>0.00</td>\n",
       "    </tr>\n",
       "    <tr>\n",
       "      <th>messages_revenue</th>\n",
       "      <td>0.00</td>\n",
       "      <td>0.00</td>\n",
       "      <td>0.00</td>\n",
       "      <td>0.00</td>\n",
       "      <td>0.00</td>\n",
       "      <td>0.00</td>\n",
       "      <td>0.00</td>\n",
       "      <td>0.00</td>\n",
       "      <td>0.00</td>\n",
       "      <td>0.00</td>\n",
       "    </tr>\n",
       "    <tr>\n",
       "      <th>tariff</th>\n",
       "      <td>ultra</td>\n",
       "      <td>ultra</td>\n",
       "      <td>ultra</td>\n",
       "      <td>ultra</td>\n",
       "      <td>ultra</td>\n",
       "      <td>ultra</td>\n",
       "      <td>ultra</td>\n",
       "      <td>ultra</td>\n",
       "      <td>smart</td>\n",
       "      <td>smart</td>\n",
       "    </tr>\n",
       "    <tr>\n",
       "      <th>city</th>\n",
       "      <td>Краснодар</td>\n",
       "      <td>Краснодар</td>\n",
       "      <td>Краснодар</td>\n",
       "      <td>Краснодар</td>\n",
       "      <td>Краснодар</td>\n",
       "      <td>Краснодар</td>\n",
       "      <td>Краснодар</td>\n",
       "      <td>Краснодар</td>\n",
       "      <td>Москва</td>\n",
       "      <td>Москва</td>\n",
       "    </tr>\n",
       "    <tr>\n",
       "      <th>tariff_name</th>\n",
       "      <td>ultra</td>\n",
       "      <td>ultra</td>\n",
       "      <td>ultra</td>\n",
       "      <td>ultra</td>\n",
       "      <td>ultra</td>\n",
       "      <td>ultra</td>\n",
       "      <td>ultra</td>\n",
       "      <td>ultra</td>\n",
       "      <td>smart</td>\n",
       "      <td>smart</td>\n",
       "    </tr>\n",
       "    <tr>\n",
       "      <th>rub_monthly_fee</th>\n",
       "      <td>1950</td>\n",
       "      <td>1950</td>\n",
       "      <td>1950</td>\n",
       "      <td>1950</td>\n",
       "      <td>1950</td>\n",
       "      <td>1950</td>\n",
       "      <td>1950</td>\n",
       "      <td>1950</td>\n",
       "      <td>550</td>\n",
       "      <td>550</td>\n",
       "    </tr>\n",
       "    <tr>\n",
       "      <th>total_revenue_rub</th>\n",
       "      <td>1950.00</td>\n",
       "      <td>1950.00</td>\n",
       "      <td>1950.00</td>\n",
       "      <td>1950.00</td>\n",
       "      <td>1950.00</td>\n",
       "      <td>1950.00</td>\n",
       "      <td>1950.00</td>\n",
       "      <td>1950.00</td>\n",
       "      <td>1150.00</td>\n",
       "      <td>550.00</td>\n",
       "    </tr>\n",
       "  </tbody>\n",
       "</table>\n",
       "</div>"
      ],
      "text/plain": [
       "                         0          1          2          3          4    \\\n",
       "user_id                 1000       1000       1000       1000       1000   \n",
       "month                      5          6          7          8          9   \n",
       "Кол_во_минут          159.00     172.00     340.00     408.00     466.00   \n",
       "calls_revenue           0.00       0.00       0.00       0.00       0.00   \n",
       "Интернет_Гб             2.20      22.69      13.68      13.73      14.23   \n",
       "internet_revenue        0.00       0.00       0.00       0.00       0.00   \n",
       "Кол_во_сообщений       22.00      60.00      75.00      81.00      57.00   \n",
       "messages_revenue        0.00       0.00       0.00       0.00       0.00   \n",
       "tariff                 ultra      ultra      ultra      ultra      ultra   \n",
       "city               Краснодар  Краснодар  Краснодар  Краснодар  Краснодар   \n",
       "tariff_name            ultra      ultra      ultra      ultra      ultra   \n",
       "rub_monthly_fee         1950       1950       1950       1950       1950   \n",
       "total_revenue_rub    1950.00    1950.00    1950.00    1950.00    1950.00   \n",
       "\n",
       "                         5          6          7       985     986  \n",
       "user_id                 1000       1000       1000    1001    1001  \n",
       "month                     10         11         12      11      12  \n",
       "Кол_во_минут          350.00     338.00     333.00  430.00  414.00  \n",
       "calls_revenue           0.00       0.00       0.00    0.00    0.00  \n",
       "Интернет_Гб            14.36      14.41       9.59   18.00   13.71  \n",
       "internet_revenue        0.00       0.00       0.00  600.00    0.00  \n",
       "Кол_во_сообщений       73.00      58.00      70.00    0.00    0.00  \n",
       "messages_revenue        0.00       0.00       0.00    0.00    0.00  \n",
       "tariff                 ultra      ultra      ultra   smart   smart  \n",
       "city               Краснодар  Краснодар  Краснодар  Москва  Москва  \n",
       "tariff_name            ultra      ultra      ultra   smart   smart  \n",
       "rub_monthly_fee         1950       1950       1950     550     550  \n",
       "total_revenue_rub    1950.00    1950.00    1950.00 1150.00  550.00  "
      ]
     },
     "execution_count": 60,
     "metadata": {},
     "output_type": "execute_result"
    }
   ],
   "source": [
    "revenue_stat.head(10).T"
   ]
  },
  {
   "cell_type": "markdown",
   "metadata": {},
   "source": [
    "## Исследовательский нализ данных"
   ]
  },
  {
   "cell_type": "markdown",
   "metadata": {},
   "source": [
    "### Сколько минут разговора, сколько сообщений и какой объём интернет-трафика требуется пользователям каждого тарифа в месяц? "
   ]
  },
  {
   "cell_type": "markdown",
   "metadata": {},
   "source": [
    "Посчитаем среднее количество, дисперсию и стандартное отклонение. "
   ]
  },
  {
   "cell_type": "code",
   "execution_count": 61,
   "metadata": {
    "scrolled": false
   },
   "outputs": [
    {
     "data": {
      "text/html": [
       "<div>\n",
       "<style scoped>\n",
       "    .dataframe tbody tr th:only-of-type {\n",
       "        vertical-align: middle;\n",
       "    }\n",
       "\n",
       "    .dataframe tbody tr th {\n",
       "        vertical-align: top;\n",
       "    }\n",
       "\n",
       "    .dataframe thead th {\n",
       "        text-align: right;\n",
       "    }\n",
       "</style>\n",
       "<table border=\"1\" class=\"dataframe\">\n",
       "  <thead>\n",
       "    <tr style=\"text-align: right;\">\n",
       "      <th></th>\n",
       "      <th>tariff</th>\n",
       "      <th>smart</th>\n",
       "      <th>ultra</th>\n",
       "    </tr>\n",
       "  </thead>\n",
       "  <tbody>\n",
       "    <tr>\n",
       "      <th rowspan=\"4\" valign=\"top\">Кол_во_минут</th>\n",
       "      <th>mean</th>\n",
       "      <td>417.93</td>\n",
       "      <td>526.62</td>\n",
       "    </tr>\n",
       "    <tr>\n",
       "      <th>median</th>\n",
       "      <td>422.00</td>\n",
       "      <td>518.00</td>\n",
       "    </tr>\n",
       "    <tr>\n",
       "      <th>var</th>\n",
       "      <td>36219.32</td>\n",
       "      <td>100873.63</td>\n",
       "    </tr>\n",
       "    <tr>\n",
       "      <th>std</th>\n",
       "      <td>190.31</td>\n",
       "      <td>317.61</td>\n",
       "    </tr>\n",
       "    <tr>\n",
       "      <th rowspan=\"4\" valign=\"top\">Кол_во_сообщений</th>\n",
       "      <th>mean</th>\n",
       "      <td>33.38</td>\n",
       "      <td>49.36</td>\n",
       "    </tr>\n",
       "    <tr>\n",
       "      <th>median</th>\n",
       "      <td>28.00</td>\n",
       "      <td>38.00</td>\n",
       "    </tr>\n",
       "    <tr>\n",
       "      <th>var</th>\n",
       "      <td>796.81</td>\n",
       "      <td>2285.27</td>\n",
       "    </tr>\n",
       "    <tr>\n",
       "      <th>std</th>\n",
       "      <td>28.23</td>\n",
       "      <td>47.80</td>\n",
       "    </tr>\n",
       "    <tr>\n",
       "      <th rowspan=\"4\" valign=\"top\">Интернет_Гб</th>\n",
       "      <th>mean</th>\n",
       "      <td>15.83</td>\n",
       "      <td>19.01</td>\n",
       "    </tr>\n",
       "    <tr>\n",
       "      <th>median</th>\n",
       "      <td>16.12</td>\n",
       "      <td>18.86</td>\n",
       "    </tr>\n",
       "    <tr>\n",
       "      <th>var</th>\n",
       "      <td>32.87</td>\n",
       "      <td>97.04</td>\n",
       "    </tr>\n",
       "    <tr>\n",
       "      <th>std</th>\n",
       "      <td>5.73</td>\n",
       "      <td>9.85</td>\n",
       "    </tr>\n",
       "    <tr>\n",
       "      <th rowspan=\"4\" valign=\"top\">total_revenue_rub</th>\n",
       "      <th>mean</th>\n",
       "      <td>1289.97</td>\n",
       "      <td>2070.15</td>\n",
       "    </tr>\n",
       "    <tr>\n",
       "      <th>median</th>\n",
       "      <td>1023.00</td>\n",
       "      <td>1950.00</td>\n",
       "    </tr>\n",
       "    <tr>\n",
       "      <th>var</th>\n",
       "      <td>669785.71</td>\n",
       "      <td>141516.75</td>\n",
       "    </tr>\n",
       "    <tr>\n",
       "      <th>std</th>\n",
       "      <td>818.40</td>\n",
       "      <td>376.19</td>\n",
       "    </tr>\n",
       "  </tbody>\n",
       "</table>\n",
       "</div>"
      ],
      "text/plain": [
       "tariff                       smart     ultra\n",
       "Кол_во_минут      mean      417.93    526.62\n",
       "                  median    422.00    518.00\n",
       "                  var     36219.32 100873.63\n",
       "                  std       190.31    317.61\n",
       "Кол_во_сообщений  mean       33.38     49.36\n",
       "                  median     28.00     38.00\n",
       "                  var       796.81   2285.27\n",
       "                  std        28.23     47.80\n",
       "Интернет_Гб       mean       15.83     19.01\n",
       "                  median     16.12     18.86\n",
       "                  var        32.87     97.04\n",
       "                  std         5.73      9.85\n",
       "total_revenue_rub mean     1289.97   2070.15\n",
       "                  median   1023.00   1950.00\n",
       "                  var    669785.71 141516.75\n",
       "                  std       818.40    376.19"
      ]
     },
     "execution_count": 61,
     "metadata": {},
     "output_type": "execute_result"
    }
   ],
   "source": [
    "(\n",
    "    revenue_stat\n",
    "    .groupby('tariff')['Кол_во_минут', 'Кол_во_сообщений', 'Интернет_Гб', 'total_revenue_rub']\n",
    "    .agg(['mean', 'median', 'var', 'std'])\n",
    "    .T\n",
    ")"
   ]
  },
  {
   "cell_type": "markdown",
   "metadata": {},
   "source": [
    "Определим функцию для вывода гистограммы на экран"
   ]
  },
  {
   "cell_type": "code",
   "execution_count": 62,
   "metadata": {},
   "outputs": [],
   "source": [
    "def hist_def(column, title, bin_q, xlabel):\n",
    "    '''\n",
    "    Аргументы функции:\n",
    "    column - колонка таблицы для вывода гистограммы\n",
    "    title - заголовок графика\n",
    "    bin_q - количество корзин\n",
    "    xlabel - заголовок оси x\n",
    "    '''\n",
    "    sns.set(style=\"whitegrid\", palette=\"deep\")\n",
    "    plt.figure(figsize=(14,6))\n",
    "    ax = (sns.distplot(revenue_stat[revenue_stat['tariff'] == 'smart'][column],\n",
    "               bins=bin_q, kde=False, label='Тариф Смарт'))\n",
    "    (sns.distplot(revenue_stat[revenue_stat['tariff'] == 'ultra'][column],\n",
    "               bins=bin_q, label='Тариф Ультра', kde=False, ax=ax))\n",
    "    ax.set_ylabel('Частота', fontsize=15)\n",
    "    ax.set_xlabel(xlabel, fontsize=15)\n",
    "    ax.set_title(title, fontsize=16)\n",
    "    plt.legend()"
   ]
  },
  {
   "cell_type": "markdown",
   "metadata": {},
   "source": [
    "### Количество отправленных сообщений"
   ]
  },
  {
   "cell_type": "code",
   "execution_count": 63,
   "metadata": {
    "scrolled": false
   },
   "outputs": [
    {
     "data": {
      "image/png": "[encoded data removed]",
      "text/plain": [
       "<Figure size 1008x432 with 1 Axes>"
      ]
     },
     "metadata": {},
     "output_type": "display_data"
    }
   ],
   "source": [
    "hist_def('Кол_во_сообщений', 'Диаграмма распределения количества сообщений в месяц', 50, 'Количество сообщений в месяц')"
   ]
  },
  {
   "cell_type": "markdown",
   "metadata": {},
   "source": [
    "Наборы данных имеют схожее распределенние: наборы данных скошены вправо"
   ]
  },
  {
   "cell_type": "code",
   "execution_count": 64,
   "metadata": {},
   "outputs": [
    {
     "data": {
      "image/png": "[encoded data removed]",
      "text/plain": [
       "<Figure size 1008x576 with 1 Axes>"
      ]
     },
     "metadata": {},
     "output_type": "display_data"
    }
   ],
   "source": [
    "plt.figure(figsize=(14,8))\n",
    "sns.boxplot(data=revenue_stat, x='month', y='Кол_во_сообщений', hue='tariff', palette=\"Set3\")\n",
    "plt.title('Диаграммы размаха количества сообщений с группировкой по месяцу/по тарифу', fontsize=15)\n",
    "plt.xlabel('месяц', fontsize=15)\n",
    "plt.ylabel('Количество сообщений', fontsize=15)\n",
    "plt.axhline(y=50, color='yellow', linestyle=(0, (5, 5)), linewidth = 5, label='лимит тариф smart')\n",
    "plt.legend(loc='upper left', shadow=True, fontsize='large')\n",
    "plt.show()"
   ]
  },
  {
   "cell_type": "markdown",
   "metadata": {},
   "source": [
    "На Смарте пользователи в среднем тратят сообщений меньше того, что включено в тарифный план: 28 сообщений против 50. Редкие пользователи превышают бесплатный лимит в 50 сообщений своего тарифного плана Смарт. На Ультре пользователи в среднем тратят сообщений больше чем на Смарте, но это значение в разы меньше бесплатного лимита тарифного плана: 38 сообщений против 1000.\n",
    "\n",
    "Заметна тенденция в распределении по месяцам: в обоих тарифах с февраля по декабрь количество сообщений растет. В январе на тарифе Ультра количество сообщений больше чем в нескольких следующих месяцах. Наверно, это связано с новогодними праздниками: в абонентсвую плату входят 1000 сообщений в месяц и пользователи не стесняются тратить их на поздравления."
   ]
  },
  {
   "cell_type": "markdown",
   "metadata": {},
   "source": [
    "### Длительность звонков"
   ]
  },
  {
   "cell_type": "code",
   "execution_count": 65,
   "metadata": {},
   "outputs": [
    {
     "data": {
      "image/png": "[encoded data removed]",
      "text/plain": [
       "<Figure size 1008x432 with 1 Axes>"
      ]
     },
     "metadata": {},
     "output_type": "display_data"
    }
   ],
   "source": [
    "hist_def('Кол_во_минут', 'Диаграмма распределения количества минут в месяц', 50, 'Количество минут в месяц')"
   ]
  },
  {
   "cell_type": "code",
   "execution_count": 66,
   "metadata": {
    "scrolled": false
   },
   "outputs": [
    {
     "data": {
      "image/png": "[encoded data removed]",
      "text/plain": [
       "<Figure size 1008x576 with 1 Axes>"
      ]
     },
     "metadata": {},
     "output_type": "display_data"
    }
   ],
   "source": [
    "plt.figure(figsize=(14,8))\n",
    "sns.boxplot(data=revenue_stat, x='month', y='Кол_во_минут', hue='tariff', palette=\"Set3\")\n",
    "plt.title('Диаграммы размаха количества минут с группировкой по месяцу/по тарифу', fontsize=15)\n",
    "plt.xlabel('месяц', fontsize=15)\n",
    "plt.ylabel('Количество минут', fontsize=15)\n",
    "plt.axhline(y=500, color='yellow', linestyle=\":\", linewidth = 5, label='лимит тариф smart')\n",
    "plt.legend(loc='upper left', shadow=True, fontsize='large')\n",
    "plt.show()"
   ]
  },
  {
   "cell_type": "markdown",
   "metadata": {},
   "source": [
    "На Смарте пользователи в месяц говорят в среднем чуть больше 400 минут, на Ультре чуть больше 500 минут в месяц. На Смарте пользователи подходят к краю своего тарифа (500 сообщений), а на Ультре у них остается запас в 2500 минут.\n",
    "\n",
    "Распределение по месяцам аналогично распределению количества сообщений"
   ]
  },
  {
   "cell_type": "markdown",
   "metadata": {},
   "source": [
    "### Интернет траффик"
   ]
  },
  {
   "cell_type": "code",
   "execution_count": 67,
   "metadata": {
    "scrolled": false
   },
   "outputs": [
    {
     "data": {
      "image/png": "[encoded data removed]",
      "text/plain": [
       "<Figure size 1008x432 with 1 Axes>"
      ]
     },
     "metadata": {},
     "output_type": "display_data"
    }
   ],
   "source": [
    "hist_def('Интернет_Гб', 'Диаграмма распределения интернет трафика в месяц', 50, 'Количество Гб в месяц')"
   ]
  },
  {
   "cell_type": "markdown",
   "metadata": {},
   "source": [
    "Распределение интернет трафика в месяц на обоих тарифах похоже на нормальное"
   ]
  },
  {
   "cell_type": "code",
   "execution_count": 68,
   "metadata": {
    "scrolled": false
   },
   "outputs": [
    {
     "data": {
      "image/png": "[encoded data removed]",
      "text/plain": [
       "<Figure size 1008x576 with 1 Axes>"
      ]
     },
     "metadata": {},
     "output_type": "display_data"
    }
   ],
   "source": [
    "plt.figure(figsize=(14,8))\n",
    "sns.boxplot(data=revenue_stat, x='month', y='Интернет_Гб', hue='tariff', palette=\"Set3\")\n",
    "plt.title('Диаграммы размаха интернет трафика с группировкой по месяцу/по тарифу', fontsize=15)\n",
    "plt.xlabel('месяц', fontsize=15)\n",
    "plt.ylabel('Интернет трафик, Гб', fontsize=15)\n",
    "plt.axhline(y=15, color='yellow', linestyle=\"--\", linewidth = 5, label='лимит тариф smart')\n",
    "plt.axhline(y=30, color='green', linestyle=\"--\", linewidth = 5, label='лимит тариф ultra')\n",
    "plt.legend(loc='upper left', shadow=True, fontsize='large')\n",
    "plt.show()"
   ]
  },
  {
   "cell_type": "markdown",
   "metadata": {},
   "source": [
    "На Смарте пользователи выходят за пределы тарифа: в среднем на 1 Гб, у Ультры снова запас — в 10 Гб.\n",
    "\n",
    "Распределение по месяцам аналогично распределению количества сообщений"
   ]
  },
  {
   "cell_type": "markdown",
   "metadata": {},
   "source": [
    "### Выручка"
   ]
  },
  {
   "cell_type": "code",
   "execution_count": 69,
   "metadata": {
    "scrolled": false
   },
   "outputs": [
    {
     "data": {
      "image/png": "[encoded data removed]",
      "text/plain": [
       "<Figure size 792x432 with 1 Axes>"
      ]
     },
     "metadata": {},
     "output_type": "display_data"
    }
   ],
   "source": [
    "sns.set(style=\"whitegrid\", palette=\"pastel\")\n",
    "plt.figure(figsize=(11,6))\n",
    "sns.boxplot(data=revenue_stat, x='tariff', y='total_revenue_rub')\n",
    "plt.title('Диаграмма размаха выручки с группировкой по тарифу', fontsize=15)\n",
    "plt.xlabel('тарифы', fontsize=15)\n",
    "plt.ylabel('выручка, руб', fontsize=15)\n",
    "plt.show()"
   ]
  },
  {
   "cell_type": "code",
   "execution_count": 70,
   "metadata": {
    "scrolled": false
   },
   "outputs": [
    {
     "data": {
      "image/png": "[encoded data removed]",
      "text/plain": [
       "<Figure size 1008x432 with 1 Axes>"
      ]
     },
     "metadata": {},
     "output_type": "display_data"
    }
   ],
   "source": [
    "hist_def('total_revenue_rub', 'Диаграмма распределения месячной выручки', 50, 'Выручка, руб')"
   ]
  },
  {
   "cell_type": "code",
   "execution_count": 71,
   "metadata": {
    "scrolled": true
   },
   "outputs": [
    {
     "name": "stdout",
     "output_type": "stream",
     "text": [
      "Число клиентов тарифа smart:  350\n",
      "Число клиентов тарифа smart, которые хотя бы раз платили больше абонентской платы: 333\n",
      "Процент клиентов тарифа smart, которые ни раз не платили больше абонентской платы в месяц: 4.86%\n"
     ]
    }
   ],
   "source": [
    "print('Число клиентов тарифа smart: ', revenue_stat.query('tariff==\"smart\"')['user_id'].nunique())\n",
    "print('Число клиентов тарифа smart, которые хотя бы раз платили больше абонентской платы:',\\\n",
    "      revenue_stat.query('tariff==\"smart\" and total_revenue_rub!=550')['user_id'].nunique())\n",
    "print('Процент клиентов тарифа smart, которые ни раз не платили больше абонентской платы в месяц: {:.2%}'.format\\\n",
    "      (1 - (revenue_stat.query('tariff==\"smart\" and total_revenue_rub!=550')['user_id'].nunique() / \n",
    "      revenue_stat.query('tariff==\"smart\"')['user_id'].nunique())))"
   ]
  },
  {
   "cell_type": "code",
   "execution_count": 72,
   "metadata": {
    "scrolled": true
   },
   "outputs": [
    {
     "name": "stdout",
     "output_type": "stream",
     "text": [
      "Число клиентов тарифа ultra:  148\n",
      "Число клиентов тарифа ultra, которые хотя бы раз платили больше абонентской платы: 43\n",
      "Процент клиентов тарифа ultra, которые ни разу не платили больше абонентской платы в месяц: 70.95%\n"
     ]
    }
   ],
   "source": [
    "print('Число клиентов тарифа ultra: ', revenue_stat.query('tariff==\"ultra\"')['user_id'].nunique())\n",
    "print('Число клиентов тарифа ultra, которые хотя бы раз платили больше абонентской платы:',\\\n",
    "    revenue_stat.query('tariff==\"ultra\" and total_revenue_rub!=1950')['user_id'].nunique())\n",
    "print('Процент клиентов тарифа ultra, которые ни разу не платили больше абонентской платы в месяц: {:.2%}'.format\\\n",
    "      (1 - (revenue_stat.query('tariff==\"ultra\" and total_revenue_rub!=1950')['user_id'].nunique() / \n",
    "      revenue_stat.query('tariff==\"ultra\"')['user_id'].nunique())))"
   ]
  },
  {
   "cell_type": "markdown",
   "metadata": {},
   "source": [
    "Интересно, что в тарифе Ультра \"коробка\" сильно сжалась: медианное значение выручки 1950 руб, что соответствует абонентской плате, редко кто из пользователей платит больше своей абонентской платы. Медианное значение выручки на тарифе Смарт 1023 руб, что почти в 2 раза больше абонентской платы (550 руб)"
   ]
  },
  {
   "cell_type": "markdown",
   "metadata": {},
   "source": [
    "### Вывод\n",
    "\n",
    "Пользователей тарифа Смарт в два раза больше пользователей тарифа Ультра: 350 против 148. \n",
    "\n",
    "Пользователи тарифа Ультра в среднем больше тратят минут, смс и мегабайт услуг в месяц.\n",
    "\n",
    "Только 43 пользователя тарифа Ультра из 148 хотя бы раз платили больше абонентской платы: то есть почти 71% пользователей ни разу за год не платили больше абонентской платы в месяц\n",
    "\n",
    "Только 17 пользователей тарифа Смарт из 350 ни разу за год не платили больше абонентской платы в месяц: это всего лишь 4.86%"
   ]
  },
  {
   "cell_type": "markdown",
   "metadata": {},
   "source": [
    "## Проверка гипотез"
   ]
  },
  {
   "cell_type": "markdown",
   "metadata": {},
   "source": [
    "Будем использовать t-критерий Стьюдента, так как сравниваемые выборки независимы между собой"
   ]
  },
  {
   "cell_type": "markdown",
   "metadata": {},
   "source": [
    "### Гипотеза о равенстве средних двух генеральных совокупностей №1\n",
    "\n",
    "Сформулируем гипотезы (нулевая гипотеза Н0 формулируется со знаком равенства. Исходя из нулевой гипотезы, формируется альтернативная гипотеза Н1, которая противоречит нулевой):\n",
    "- H0: выручка пользователей тарифов «Ультра» и «Смарт» не различается\n",
    "- H1: выручка пользователей тарифов «Ультра» и «Смарт» различается"
   ]
  },
  {
   "cell_type": "code",
   "execution_count": 73,
   "metadata": {},
   "outputs": [
    {
     "name": "stdout",
     "output_type": "stream",
     "text": [
      "Дисперсия выборки выручки пользователей тарифа Ультра: 141373.07325620347\n",
      "Дисперсия выборки выручки пользователей тарифа Смарт: 669485.2209234245\n"
     ]
    }
   ],
   "source": [
    "ultra = revenue_stat.query('tariff == \"ultra\"')['total_revenue_rub']\n",
    "smart = revenue_stat.query('tariff == \"smart\"')['total_revenue_rub']\n",
    "\n",
    "print('Дисперсия выборки выручки пользователей тарифа Ультра:', np.var(ultra))\n",
    "print('Дисперсия выборки выручки пользователей тарифа Смарт:', np.var(smart))"
   ]
  },
  {
   "cell_type": "markdown",
   "metadata": {},
   "source": [
    "Дисперсии выборок не равны, поэтому будем использовать параметр `equal_var` = `False`"
   ]
  },
  {
   "cell_type": "code",
   "execution_count": 74,
   "metadata": {},
   "outputs": [
    {
     "name": "stdout",
     "output_type": "stream",
     "text": [
      "p-значение: 4.2606313931076085e-250\n",
      "Отвергаем нулевую гипотезу\n"
     ]
    }
   ],
   "source": [
    "#примем критический уровень статистической значимости alpha равный 0.05\n",
    "alpha = .05\n",
    "\n",
    "results = st.ttest_ind(ultra, smart, equal_var=False)\n",
    "\n",
    "print('p-значение:', results.pvalue)\n",
    "\n",
    "if (results.pvalue < alpha):\n",
    "    print(\"Отвергаем нулевую гипотезу\")\n",
    "else:\n",
    "    print(\"Не получилось отвергнуть нулевую гипотезу\")"
   ]
  },
  {
   "cell_type": "markdown",
   "metadata": {},
   "source": [
    "4.26 на 10 в -250 степени, какой бы уровень значимости мы бы не выдвигали, p-value в любом случае туда поместится, так что отвергнем нулевую гипотезу. Выручка от тарифов различается."
   ]
  },
  {
   "cell_type": "code",
   "execution_count": 75,
   "metadata": {
    "scrolled": true
   },
   "outputs": [
    {
     "data": {
      "text/html": [
       "<div>\n",
       "<style scoped>\n",
       "    .dataframe tbody tr th:only-of-type {\n",
       "        vertical-align: middle;\n",
       "    }\n",
       "\n",
       "    .dataframe tbody tr th {\n",
       "        vertical-align: top;\n",
       "    }\n",
       "\n",
       "    .dataframe thead th {\n",
       "        text-align: right;\n",
       "    }\n",
       "</style>\n",
       "<table border=\"1\" class=\"dataframe\">\n",
       "  <thead>\n",
       "    <tr style=\"text-align: right;\">\n",
       "      <th></th>\n",
       "      <th>total_revenue_rub</th>\n",
       "    </tr>\n",
       "    <tr>\n",
       "      <th>tariff</th>\n",
       "      <th></th>\n",
       "    </tr>\n",
       "  </thead>\n",
       "  <tbody>\n",
       "    <tr>\n",
       "      <th>smart</th>\n",
       "      <td>1289.97</td>\n",
       "    </tr>\n",
       "    <tr>\n",
       "      <th>ultra</th>\n",
       "      <td>2070.15</td>\n",
       "    </tr>\n",
       "  </tbody>\n",
       "</table>\n",
       "</div>"
      ],
      "text/plain": [
       "        total_revenue_rub\n",
       "tariff                   \n",
       "smart             1289.97\n",
       "ultra             2070.15"
      ]
     },
     "execution_count": 75,
     "metadata": {},
     "output_type": "execute_result"
    }
   ],
   "source": [
    "revenue_stat.pivot_table(index='tariff', values='total_revenue_rub', aggfunc='mean')"
   ]
  },
  {
   "cell_type": "markdown",
   "metadata": {},
   "source": [
    "Средние значения выручки по тарифам различаются почти в 2 раза. Если у пользователя подключен тариф \"Смарт\" с абонентской платой в 550 рублей, то он скорее всего по итогам месяца заплатит гораздо больше из-за нехватки услуг в рамках тарифного пакета.\n",
    "\n",
    "**Вывод:**\n",
    "\n",
    "Отвергаем первую гипотезу. \n",
    "Можно заключить с полной уверенностью, что доходы \"Мегалайна\" с пользователя по тарифу \"Ультра\" действительно отличаются по сравнению с доходами от тарифа \"Смарт\"."
   ]
  },
  {
   "cell_type": "markdown",
   "metadata": {},
   "source": [
    "### Гипотеза о равенстве средних двух генеральных совокупностей №2"
   ]
  },
  {
   "cell_type": "markdown",
   "metadata": {},
   "source": [
    "Сформулируем гипотезы:\n",
    "- H0: средняя выручка пользователей из Москвы не отличается от выручки пользователей из других регионов\n",
    "- H1: средняя выручка пользователей из Москвы отличается от выручки пользователей из других регионов"
   ]
  },
  {
   "cell_type": "code",
   "execution_count": 76,
   "metadata": {
    "scrolled": true
   },
   "outputs": [
    {
     "name": "stdout",
     "output_type": "stream",
     "text": [
      "Дисперсия выборки выручки пользователей города Москва: 564710.7117467273\n",
      "Дисперсия выборки выручки пользователей других городов: 653886.3270894174\n"
     ]
    }
   ],
   "source": [
    "moscow = revenue_stat.query('city == \"Москва\"')['total_revenue_rub']\n",
    "regions = revenue_stat.query('city != \"Москва\"')['total_revenue_rub']\n",
    "\n",
    "print('Дисперсия выборки выручки пользователей города Москва:', np.var(moscow))\n",
    "print('Дисперсия выборки выручки пользователей других городов:', np.var(regions))"
   ]
  },
  {
   "cell_type": "markdown",
   "metadata": {},
   "source": [
    "Дисперсии выборок стремятся к равенству, поэтому будем использовать параметр `equal_var` = `True`"
   ]
  },
  {
   "cell_type": "code",
   "execution_count": 77,
   "metadata": {
    "scrolled": false
   },
   "outputs": [
    {
     "name": "stdout",
     "output_type": "stream",
     "text": [
      "p-значение: 0.5440152911670224\n",
      "Не получилось отвергнуть нулевую гипотезу\n"
     ]
    }
   ],
   "source": [
    "#примем критический уровень статистической значимости alpha равный 0.05\n",
    "alpha = .05\n",
    "\n",
    "results = st.ttest_ind(moscow, regions, equal_var=True)\n",
    "\n",
    "print('p-значение:', results.pvalue)\n",
    "\n",
    "if (results.pvalue < alpha):\n",
    "    print(\"Отвергаем нулевую гипотезу\")\n",
    "else:\n",
    "    print(\"Не получилось отвергнуть нулевую гипотезу\")"
   ]
  },
  {
   "cell_type": "markdown",
   "metadata": {},
   "source": [
    "Значение p-value превышает уровень значимости, примем нулевую гипотезу: \"Cредняя выручка пользователей из Москвы не отличается от выручки пользователей из других регионов\""
   ]
  },
  {
   "cell_type": "code",
   "execution_count": 78,
   "metadata": {},
   "outputs": [],
   "source": [
    "#напишем функцию для категоризации населенных пунктов на категории столица - Москва и регионы \n",
    "def region(city):\n",
    "    if city == 'Москва': \n",
    "        return 'Столица'\n",
    "    else: \n",
    "        return 'Регион'"
   ]
  },
  {
   "cell_type": "code",
   "execution_count": 79,
   "metadata": {},
   "outputs": [
    {
     "data": {
      "text/html": [
       "<div>\n",
       "<style scoped>\n",
       "    .dataframe tbody tr th:only-of-type {\n",
       "        vertical-align: middle;\n",
       "    }\n",
       "\n",
       "    .dataframe tbody tr th {\n",
       "        vertical-align: top;\n",
       "    }\n",
       "\n",
       "    .dataframe thead th {\n",
       "        text-align: right;\n",
       "    }\n",
       "</style>\n",
       "<table border=\"1\" class=\"dataframe\">\n",
       "  <thead>\n",
       "    <tr style=\"text-align: right;\">\n",
       "      <th></th>\n",
       "      <th>total_revenue_rub</th>\n",
       "    </tr>\n",
       "    <tr>\n",
       "      <th>region</th>\n",
       "      <th></th>\n",
       "    </tr>\n",
       "  </thead>\n",
       "  <tbody>\n",
       "    <tr>\n",
       "      <th>Регион</th>\n",
       "      <td>1524.94</td>\n",
       "    </tr>\n",
       "    <tr>\n",
       "      <th>Столица</th>\n",
       "      <td>1546.71</td>\n",
       "    </tr>\n",
       "  </tbody>\n",
       "</table>\n",
       "</div>"
      ],
      "text/plain": [
       "         total_revenue_rub\n",
       "region                    \n",
       "Регион             1524.94\n",
       "Столица            1546.71"
      ]
     },
     "execution_count": 79,
     "metadata": {},
     "output_type": "execute_result"
    }
   ],
   "source": [
    "revenue_stat['region'] = revenue_stat['city'].apply(region)\n",
    "revenue_stat.pivot_table(index='region', values='total_revenue_rub', aggfunc='mean')"
   ]
  },
  {
   "cell_type": "markdown",
   "metadata": {},
   "source": [
    "**Вывод:**\n",
    "\n",
    "Данный статистический тест не дал возможности опровергнуть вторую гипотезу о том, что доходы от пользователей из Москвы и из других регионов равны. Действительно, доходы в Московском регионе практически не отличаются от других населенных пунктов."
   ]
  },
  {
   "cell_type": "markdown",
   "metadata": {},
   "source": [
    "## Общий вывод"
   ]
  },
  {
   "cell_type": "markdown",
   "metadata": {},
   "source": [
    "По результатам данного анализа можно сделать вывод, что тариф Ультра приносит больше денег компании из расчета на одного пользователя.\n",
    "\n",
    "Средние доходы от пользователей в Москве не отличаются от доходов в других населенных пунктах: разница статистически незначима.\n",
    "\n",
    "Особенности использования тарифов заключаются в следующем:\n",
    "\n",
    "- Пользователям тарифа «Смарт» не хватает услуг в рамках тарифного пакета: кроме абонентской платы пользователи в среднем доплачивают дополнительно за услуги сверх тарифа. Это в целом является выгодным для оператора, но может разочаровать пользователей и привести к оттоку. Пользователи тарифа «Ультра», напротив, не используют тарифный пакет в полном объеме.\n",
    "\n",
    "Можно предположить, что пользователи в погоне за выгодой подключаются на более бюджетный тариф, но в последствии из-за нехватки предоставленных услуг, входящих в пакет, часть пользователей будет переходить на более дорогой пакет или же есть риск, что пользователи уйдут к другому оператору.\n",
    "- СМС никому не нужны на обоих тарифах. Но если в Смарте пользователи близки к своим лимитам, то на Ультре остаются большие неизрасходованные \"запасы\". Если бы компании нужно было бы формировать новый тариф, стоило бы уменьшить в нем пакет смс"
   ]
  }
 ],
 "metadata": {
  "ExecuteTimeLog": [
   {
    "duration": 1439,
    "start_time": "2022-03-25T23:37:09.036Z"
   },
   {
    "duration": 3,
    "start_time": "2022-03-25T23:37:10.477Z"
   },
   {
    "duration": 77,
    "start_time": "2022-03-25T23:37:10.481Z"
   },
   {
    "duration": 4,
    "start_time": "2022-03-25T23:37:10.561Z"
   },
   {
    "duration": 8,
    "start_time": "2022-03-25T23:37:10.566Z"
   },
   {
    "duration": 119,
    "start_time": "2022-03-25T23:37:10.576Z"
   },
   {
    "duration": 35,
    "start_time": "2022-03-25T23:37:10.697Z"
   },
   {
    "duration": 165,
    "start_time": "2022-03-25T23:37:10.735Z"
   },
   {
    "duration": 12,
    "start_time": "2022-03-25T23:37:10.902Z"
   },
   {
    "duration": 39,
    "start_time": "2022-03-25T23:37:10.917Z"
   },
   {
    "duration": 443,
    "start_time": "2022-03-25T23:37:10.958Z"
   },
   {
    "duration": 4,
    "start_time": "2022-03-25T23:37:11.403Z"
   },
   {
    "duration": 28,
    "start_time": "2022-03-25T23:37:11.408Z"
   },
   {
    "duration": 172,
    "start_time": "2022-03-25T23:37:11.438Z"
   },
   {
    "duration": 296,
    "start_time": "2022-03-25T23:37:11.612Z"
   },
   {
    "duration": 21,
    "start_time": "2022-03-25T23:37:11.910Z"
   },
   {
    "duration": 6,
    "start_time": "2022-03-25T23:37:11.934Z"
   },
   {
    "duration": 118,
    "start_time": "2022-03-25T23:37:11.942Z"
   },
   {
    "duration": 216,
    "start_time": "2022-03-25T23:37:12.062Z"
   },
   {
    "duration": 3,
    "start_time": "2022-03-25T23:37:12.279Z"
   },
   {
    "duration": 15,
    "start_time": "2022-03-25T23:37:12.284Z"
   },
   {
    "duration": 40,
    "start_time": "2022-03-25T23:37:12.301Z"
   },
   {
    "duration": 59,
    "start_time": "2022-03-25T23:37:12.343Z"
   },
   {
    "duration": 3,
    "start_time": "2022-03-25T23:37:12.404Z"
   },
   {
    "duration": 103,
    "start_time": "2022-03-25T23:37:12.409Z"
   },
   {
    "duration": 19,
    "start_time": "2022-03-25T23:37:12.514Z"
   },
   {
    "duration": 9,
    "start_time": "2022-03-25T23:37:12.535Z"
   },
   {
    "duration": 129,
    "start_time": "2022-03-25T23:37:12.548Z"
   },
   {
    "duration": 69,
    "start_time": "2022-03-25T23:37:12.679Z"
   },
   {
    "duration": 84,
    "start_time": "2022-03-25T23:37:12.750Z"
   },
   {
    "duration": 8,
    "start_time": "2022-03-25T23:37:12.836Z"
   },
   {
    "duration": 17,
    "start_time": "2022-03-25T23:37:12.846Z"
   },
   {
    "duration": 7,
    "start_time": "2022-03-25T23:37:12.865Z"
   },
   {
    "duration": 4,
    "start_time": "2022-03-25T23:37:12.874Z"
   },
   {
    "duration": 74,
    "start_time": "2022-03-25T23:37:12.880Z"
   },
   {
    "duration": 14,
    "start_time": "2022-03-25T23:37:12.956Z"
   },
   {
    "duration": 9,
    "start_time": "2022-03-25T23:37:12.972Z"
   },
   {
    "duration": 16,
    "start_time": "2022-03-25T23:37:12.983Z"
   },
   {
    "duration": 32,
    "start_time": "2022-03-25T23:37:13.001Z"
   },
   {
    "duration": 4,
    "start_time": "2022-03-25T23:37:13.035Z"
   },
   {
    "duration": 49,
    "start_time": "2022-03-25T23:37:13.041Z"
   },
   {
    "duration": 18,
    "start_time": "2022-03-25T23:37:13.092Z"
   },
   {
    "duration": 24,
    "start_time": "2022-03-25T23:37:13.111Z"
   },
   {
    "duration": 17,
    "start_time": "2022-03-25T23:37:13.137Z"
   },
   {
    "duration": 8,
    "start_time": "2022-03-25T23:37:13.156Z"
   },
   {
    "duration": 4,
    "start_time": "2022-03-25T23:37:13.166Z"
   },
   {
    "duration": 93,
    "start_time": "2022-03-25T23:37:13.172Z"
   },
   {
    "duration": 13,
    "start_time": "2022-03-25T23:37:13.267Z"
   },
   {
    "duration": 21,
    "start_time": "2022-03-25T23:37:13.281Z"
   },
   {
    "duration": 33,
    "start_time": "2022-03-25T23:37:13.303Z"
   },
   {
    "duration": 15,
    "start_time": "2022-03-25T23:37:13.338Z"
   },
   {
    "duration": 5,
    "start_time": "2022-03-25T23:37:13.355Z"
   },
   {
    "duration": 9,
    "start_time": "2022-03-25T23:37:13.362Z"
   },
   {
    "duration": 11,
    "start_time": "2022-03-25T23:37:13.373Z"
   },
   {
    "duration": 4,
    "start_time": "2022-03-25T23:37:13.386Z"
   },
   {
    "duration": 6,
    "start_time": "2022-03-25T23:37:13.392Z"
   },
   {
    "duration": 45,
    "start_time": "2022-03-25T23:37:13.400Z"
   },
   {
    "duration": 26,
    "start_time": "2022-03-25T23:37:13.447Z"
   },
   {
    "duration": 5,
    "start_time": "2022-03-25T23:37:13.475Z"
   },
   {
    "duration": 405,
    "start_time": "2022-03-25T23:37:13.482Z"
   },
   {
    "duration": 622,
    "start_time": "2022-03-25T23:37:13.889Z"
   },
   {
    "duration": 410,
    "start_time": "2022-03-25T23:37:14.513Z"
   },
   {
    "duration": 686,
    "start_time": "2022-03-25T23:37:14.926Z"
   },
   {
    "duration": 383,
    "start_time": "2022-03-25T23:37:15.614Z"
   },
   {
    "duration": 601,
    "start_time": "2022-03-25T23:37:15.999Z"
   },
   {
    "duration": 165,
    "start_time": "2022-03-25T23:37:16.602Z"
   },
   {
    "duration": 402,
    "start_time": "2022-03-25T23:37:16.769Z"
   },
   {
    "duration": 19,
    "start_time": "2022-03-25T23:37:17.173Z"
   },
   {
    "duration": 39,
    "start_time": "2022-03-25T23:37:17.194Z"
   },
   {
    "duration": 10,
    "start_time": "2022-03-25T23:37:17.235Z"
   },
   {
    "duration": 9,
    "start_time": "2022-03-25T23:37:17.247Z"
   },
   {
    "duration": 20,
    "start_time": "2022-03-25T23:37:17.258Z"
   },
   {
    "duration": 12,
    "start_time": "2022-03-25T23:37:17.280Z"
   },
   {
    "duration": 7,
    "start_time": "2022-03-25T23:37:17.295Z"
   },
   {
    "duration": 4,
    "start_time": "2022-03-25T23:37:17.331Z"
   },
   {
    "duration": 22,
    "start_time": "2022-03-25T23:37:17.337Z"
   },
   {
    "duration": 198,
    "start_time": "2022-03-26T00:15:45.771Z"
   },
   {
    "duration": 20,
    "start_time": "2022-03-26T00:15:55.521Z"
   },
   {
    "duration": 17,
    "start_time": "2022-03-26T00:16:01.362Z"
   },
   {
    "duration": 14,
    "start_time": "2022-03-26T00:19:27.033Z"
   },
   {
    "duration": 27,
    "start_time": "2022-03-26T00:24:31.050Z"
   },
   {
    "duration": 100,
    "start_time": "2022-03-26T00:27:29.011Z"
   }
  ],
  "kernelspec": {
   "display_name": "Python 3 (ipykernel)",
   "language": "python",
   "name": "python3"
  },
  "language_info": {
   "codemirror_mode": {
    "name": "ipython",
    "version": 3
   },
   "file_extension": ".py",
   "mimetype": "text/x-python",
   "name": "python",
   "nbconvert_exporter": "python",
   "pygments_lexer": "ipython3",
   "version": "3.9.13"
  },
  "toc": {
   "base_numbering": "1",
   "nav_menu": {},
   "number_sections": true,
   "sideBar": false,
   "skip_h1_title": true,
   "title_cell": "Содержание",
   "title_sidebar": "Содержание",
   "toc_cell": true,
   "toc_position": {
    "height": "928.2352905273438px",
    "left": "22px",
    "top": "110.4779052734375px",
    "width": "279.26470947265625px"
   },
   "toc_section_display": true,
   "toc_window_display": true
  }
 },
 "nbformat": 4,
 "nbformat_minor": 4
}
