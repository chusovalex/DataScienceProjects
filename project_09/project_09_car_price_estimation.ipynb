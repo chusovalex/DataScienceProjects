{
 "cells": [
  {
   "cell_type": "markdown",
   "metadata": {},
   "source": [
    "# Предсказание цены автомобиля"
   ]
  },
  {
   "cell_type": "markdown",
   "metadata": {},
   "source": [
    "**Постановка задачи:**\n",
    "\n",
    "Сервис по продаже автомобилей с пробегом «Не бит, не крашен» разрабатывает приложение для привлечения новых клиентов. В нём можно быстро узнать рыночную стоимость своего автомобиля. В нашем распоряжении исторические данные: технические характеристики, комплектации и цены автомобилей. Необходимо построить модель для определения стоимости.\n",
    "\n",
    "**Заказчику важны:**\n",
    "- качество предсказания;\n",
    "- скорость предсказания;\n",
    "- время обучения."
   ]
  },
  {
   "cell_type": "markdown",
   "metadata": {
    "toc": true
   },
   "source": [
    "<h1>Содержание<span class=\"tocSkip\"></span></h1>\n",
    "<div class=\"toc\"><ul class=\"toc-item\"><li><span><a href=\"#Загрузка-и-подготовка-данных\" data-toc-modified-id=\"Загрузка-и-подготовка-данных-1\"><span class=\"toc-item-num\">1&nbsp;&nbsp;</span>Загрузка и подготовка данных</a></span><ul class=\"toc-item\"><li><span><a href=\"#Проверка-на-мультиколлинеарность\" data-toc-modified-id=\"Проверка-на-мультиколлинеарность-1.1\"><span class=\"toc-item-num\">1.1&nbsp;&nbsp;</span>Проверка на мультиколлинеарность</a></span></li><li><span><a href=\"#Стиль-заголовков\" data-toc-modified-id=\"Стиль-заголовков-1.2\"><span class=\"toc-item-num\">1.2&nbsp;&nbsp;</span>Стиль заголовков</a></span></li><li><span><a href=\"#Обработка-дубликатов\" data-toc-modified-id=\"Обработка-дубликатов-1.3\"><span class=\"toc-item-num\">1.3&nbsp;&nbsp;</span>Обработка дубликатов</a></span></li><li><span><a href=\"#Обработка-пропущенных-значений\" data-toc-modified-id=\"Обработка-пропущенных-значений-1.4\"><span class=\"toc-item-num\">1.4&nbsp;&nbsp;</span>Обработка пропущенных значений</a></span><ul class=\"toc-item\"><li><span><a href=\"#Признак-not_repaired\" data-toc-modified-id=\"Признак-not_repaired-1.4.1\"><span class=\"toc-item-num\">1.4.1&nbsp;&nbsp;</span>Признак not_repaired</a></span></li><li><span><a href=\"#Признак-model\" data-toc-modified-id=\"Признак-model-1.4.2\"><span class=\"toc-item-num\">1.4.2&nbsp;&nbsp;</span>Признак model</a></span></li><li><span><a href=\"#Признаки-vehicle_type,-fuel_type,-gearbox\" data-toc-modified-id=\"Признаки-vehicle_type,-fuel_type,-gearbox-1.4.3\"><span class=\"toc-item-num\">1.4.3&nbsp;&nbsp;</span>Признаки vehicle_type, fuel_type, gearbox</a></span></li></ul></li><li><span><a href=\"#Признак-date_created\" data-toc-modified-id=\"Признак-date_created-1.5\"><span class=\"toc-item-num\">1.5&nbsp;&nbsp;</span>Признак date_created</a></span></li><li><span><a href=\"#Признак-registration_year\" data-toc-modified-id=\"Признак-registration_year-1.6\"><span class=\"toc-item-num\">1.6&nbsp;&nbsp;</span>Признак registration_year</a></span></li><li><span><a href=\"#Генерация-новых-признаков\" data-toc-modified-id=\"Генерация-новых-признаков-1.7\"><span class=\"toc-item-num\">1.7&nbsp;&nbsp;</span>Генерация новых признаков</a></span></li><li><span><a href=\"#Признак-power\" data-toc-modified-id=\"Признак-power-1.8\"><span class=\"toc-item-num\">1.8&nbsp;&nbsp;</span>Признак power</a></span></li><li><span><a href=\"#Признак-kilometer\" data-toc-modified-id=\"Признак-kilometer-1.9\"><span class=\"toc-item-num\">1.9&nbsp;&nbsp;</span>Признак kilometer</a></span></li><li><span><a href=\"#Признак-price\" data-toc-modified-id=\"Признак-price-1.10\"><span class=\"toc-item-num\">1.10&nbsp;&nbsp;</span>Признак price</a></span></li><li><span><a href=\"#Удаление-лишних-признаков\" data-toc-modified-id=\"Удаление-лишних-признаков-1.11\"><span class=\"toc-item-num\">1.11&nbsp;&nbsp;</span>Удаление лишних признаков</a></span></li></ul></li><li><span><a href=\"#Обучение-моделей\" data-toc-modified-id=\"Обучение-моделей-2\"><span class=\"toc-item-num\">2&nbsp;&nbsp;</span>Обучение моделей</a></span><ul class=\"toc-item\"><li><span><a href=\"#Кодирование-признаков\" data-toc-modified-id=\"Кодирование-признаков-2.1\"><span class=\"toc-item-num\">2.1&nbsp;&nbsp;</span>Кодирование признаков</a></span></li><li><span><a href=\"#Разделение-данных\" data-toc-modified-id=\"Разделение-данных-2.2\"><span class=\"toc-item-num\">2.2&nbsp;&nbsp;</span>Разделение данных</a></span></li><li><span><a href=\"#Ridge\" data-toc-modified-id=\"Ridge-2.3\"><span class=\"toc-item-num\">2.3&nbsp;&nbsp;</span>Ridge</a></span></li><li><span><a href=\"#RandomForest\" data-toc-modified-id=\"RandomForest-2.4\"><span class=\"toc-item-num\">2.4&nbsp;&nbsp;</span>RandomForest</a></span><ul class=\"toc-item\"><li><span><a href=\"#Важность-признаков\" data-toc-modified-id=\"Важность-признаков-2.4.1\"><span class=\"toc-item-num\">2.4.1&nbsp;&nbsp;</span>Важность признаков</a></span></li></ul></li><li><span><a href=\"#LightGBM\" data-toc-modified-id=\"LightGBM-2.5\"><span class=\"toc-item-num\">2.5&nbsp;&nbsp;</span>LightGBM</a></span><ul class=\"toc-item\"><li><span><a href=\"#Важность-признаков\" data-toc-modified-id=\"Важность-признаков-2.5.1\"><span class=\"toc-item-num\">2.5.1&nbsp;&nbsp;</span>Важность признаков</a></span></li></ul></li><li><span><a href=\"#CatBoostRegressor\" data-toc-modified-id=\"CatBoostRegressor-2.6\"><span class=\"toc-item-num\">2.6&nbsp;&nbsp;</span>CatBoostRegressor</a></span><ul class=\"toc-item\"><li><span><a href=\"#Важность-признаков\" data-toc-modified-id=\"Важность-признаков-2.6.1\"><span class=\"toc-item-num\">2.6.1&nbsp;&nbsp;</span>Важность признаков</a></span></li></ul></li></ul></li><li><span><a href=\"#Анализ-моделей\" data-toc-modified-id=\"Анализ-моделей-3\"><span class=\"toc-item-num\">3&nbsp;&nbsp;</span>Анализ моделей</a></span></li><li><span><a href=\"#Вывод\" data-toc-modified-id=\"Вывод-4\"><span class=\"toc-item-num\">4&nbsp;&nbsp;</span>Вывод</a></span></li></ul></div>"
   ]
  },
  {
   "cell_type": "markdown",
   "metadata": {},
   "source": [
    "## Загрузка и подготовка данных"
   ]
  },
  {
   "cell_type": "code",
   "execution_count": 1,
   "metadata": {},
   "outputs": [],
   "source": [
    "import matplotlib.pyplot as plt\n",
    "import numpy as np\n",
    "import os\n",
    "import pandas as pd\n",
    "import re\n",
    "import seaborn as sns\n",
    "import time\n",
    "\n",
    "from catboost import CatBoostRegressor\n",
    "from lightgbm import LGBMRegressor\n",
    "from sklearn.dummy import DummyRegressor\n",
    "from sklearn.ensemble import RandomForestRegressor\n",
    "from sklearn.linear_model import Ridge\n",
    "from sklearn.metrics import make_scorer\n",
    "from sklearn.metrics import r2_score\n",
    "from sklearn.model_selection import cross_val_score\n",
    "from sklearn.model_selection import GridSearchCV\n",
    "from sklearn.model_selection import train_test_split\n",
    "from sklearn.pipeline import Pipeline\n",
    "from sklearn.preprocessing import OrdinalEncoder\n",
    "from sklearn.preprocessing import StandardScaler"
   ]
  },
  {
   "cell_type": "markdown",
   "metadata": {},
   "source": [
    "Настроим вывод для вещественных чисел:"
   ]
  },
  {
   "cell_type": "code",
   "execution_count": 2,
   "metadata": {},
   "outputs": [],
   "source": [
    "pd.options.display.float_format = '{:,.4f}'.format"
   ]
  },
  {
   "cell_type": "markdown",
   "metadata": {},
   "source": [
    "Прочитаем файл `autos.csv` из папки `datasets` и сохраним его в переменной `df`:"
   ]
  },
  {
   "cell_type": "code",
   "execution_count": 3,
   "metadata": {},
   "outputs": [
    {
     "name": "stdout",
     "output_type": "stream",
     "text": [
      "Прочитали файл путь: datasets/\n"
     ]
    }
   ],
   "source": [
    "try:\n",
    "    PATH = 'datasets/'\n",
    "    df = pd.read_csv(os.path.join(PATH, 'autos.csv'))\n",
    "    print('Прочитали файл путь:', PATH)\n",
    "except:\n",
    "    print('У нас проблема')"
   ]
  },
  {
   "cell_type": "markdown",
   "metadata": {},
   "source": [
    "Выведем на экран первые 5 строк таблицы `df`:"
   ]
  },
  {
   "cell_type": "code",
   "execution_count": 4,
   "metadata": {},
   "outputs": [
    {
     "data": {
      "text/html": [
       "<div>\n",
       "<style scoped>\n",
       "    .dataframe tbody tr th:only-of-type {\n",
       "        vertical-align: middle;\n",
       "    }\n",
       "\n",
       "    .dataframe tbody tr th {\n",
       "        vertical-align: top;\n",
       "    }\n",
       "\n",
       "    .dataframe thead th {\n",
       "        text-align: right;\n",
       "    }\n",
       "</style>\n",
       "<table border=\"1\" class=\"dataframe\">\n",
       "  <thead>\n",
       "    <tr style=\"text-align: right;\">\n",
       "      <th></th>\n",
       "      <th>0</th>\n",
       "      <th>1</th>\n",
       "      <th>2</th>\n",
       "      <th>3</th>\n",
       "      <th>4</th>\n",
       "    </tr>\n",
       "  </thead>\n",
       "  <tbody>\n",
       "    <tr>\n",
       "      <th>DateCrawled</th>\n",
       "      <td>2016-03-24 11:52:17</td>\n",
       "      <td>2016-03-24 10:58:45</td>\n",
       "      <td>2016-03-14 12:52:21</td>\n",
       "      <td>2016-03-17 16:54:04</td>\n",
       "      <td>2016-03-31 17:25:20</td>\n",
       "    </tr>\n",
       "    <tr>\n",
       "      <th>Price</th>\n",
       "      <td>480</td>\n",
       "      <td>18300</td>\n",
       "      <td>9800</td>\n",
       "      <td>1500</td>\n",
       "      <td>3600</td>\n",
       "    </tr>\n",
       "    <tr>\n",
       "      <th>VehicleType</th>\n",
       "      <td>NaN</td>\n",
       "      <td>coupe</td>\n",
       "      <td>suv</td>\n",
       "      <td>small</td>\n",
       "      <td>small</td>\n",
       "    </tr>\n",
       "    <tr>\n",
       "      <th>RegistrationYear</th>\n",
       "      <td>1993</td>\n",
       "      <td>2011</td>\n",
       "      <td>2004</td>\n",
       "      <td>2001</td>\n",
       "      <td>2008</td>\n",
       "    </tr>\n",
       "    <tr>\n",
       "      <th>Gearbox</th>\n",
       "      <td>manual</td>\n",
       "      <td>manual</td>\n",
       "      <td>auto</td>\n",
       "      <td>manual</td>\n",
       "      <td>manual</td>\n",
       "    </tr>\n",
       "    <tr>\n",
       "      <th>Power</th>\n",
       "      <td>0</td>\n",
       "      <td>190</td>\n",
       "      <td>163</td>\n",
       "      <td>75</td>\n",
       "      <td>69</td>\n",
       "    </tr>\n",
       "    <tr>\n",
       "      <th>Model</th>\n",
       "      <td>golf</td>\n",
       "      <td>NaN</td>\n",
       "      <td>grand</td>\n",
       "      <td>golf</td>\n",
       "      <td>fabia</td>\n",
       "    </tr>\n",
       "    <tr>\n",
       "      <th>Kilometer</th>\n",
       "      <td>150000</td>\n",
       "      <td>125000</td>\n",
       "      <td>125000</td>\n",
       "      <td>150000</td>\n",
       "      <td>90000</td>\n",
       "    </tr>\n",
       "    <tr>\n",
       "      <th>RegistrationMonth</th>\n",
       "      <td>0</td>\n",
       "      <td>5</td>\n",
       "      <td>8</td>\n",
       "      <td>6</td>\n",
       "      <td>7</td>\n",
       "    </tr>\n",
       "    <tr>\n",
       "      <th>FuelType</th>\n",
       "      <td>petrol</td>\n",
       "      <td>gasoline</td>\n",
       "      <td>gasoline</td>\n",
       "      <td>petrol</td>\n",
       "      <td>gasoline</td>\n",
       "    </tr>\n",
       "    <tr>\n",
       "      <th>Brand</th>\n",
       "      <td>volkswagen</td>\n",
       "      <td>audi</td>\n",
       "      <td>jeep</td>\n",
       "      <td>volkswagen</td>\n",
       "      <td>skoda</td>\n",
       "    </tr>\n",
       "    <tr>\n",
       "      <th>NotRepaired</th>\n",
       "      <td>NaN</td>\n",
       "      <td>yes</td>\n",
       "      <td>NaN</td>\n",
       "      <td>no</td>\n",
       "      <td>no</td>\n",
       "    </tr>\n",
       "    <tr>\n",
       "      <th>DateCreated</th>\n",
       "      <td>2016-03-24 00:00:00</td>\n",
       "      <td>2016-03-24 00:00:00</td>\n",
       "      <td>2016-03-14 00:00:00</td>\n",
       "      <td>2016-03-17 00:00:00</td>\n",
       "      <td>2016-03-31 00:00:00</td>\n",
       "    </tr>\n",
       "    <tr>\n",
       "      <th>NumberOfPictures</th>\n",
       "      <td>0</td>\n",
       "      <td>0</td>\n",
       "      <td>0</td>\n",
       "      <td>0</td>\n",
       "      <td>0</td>\n",
       "    </tr>\n",
       "    <tr>\n",
       "      <th>PostalCode</th>\n",
       "      <td>70435</td>\n",
       "      <td>66954</td>\n",
       "      <td>90480</td>\n",
       "      <td>91074</td>\n",
       "      <td>60437</td>\n",
       "    </tr>\n",
       "    <tr>\n",
       "      <th>LastSeen</th>\n",
       "      <td>2016-04-07 03:16:57</td>\n",
       "      <td>2016-04-07 01:46:50</td>\n",
       "      <td>2016-04-05 12:47:46</td>\n",
       "      <td>2016-03-17 17:40:17</td>\n",
       "      <td>2016-04-06 10:17:21</td>\n",
       "    </tr>\n",
       "  </tbody>\n",
       "</table>\n",
       "</div>"
      ],
      "text/plain": [
       "                                     0                    1  \\\n",
       "DateCrawled        2016-03-24 11:52:17  2016-03-24 10:58:45   \n",
       "Price                              480                18300   \n",
       "VehicleType                        NaN                coupe   \n",
       "RegistrationYear                  1993                 2011   \n",
       "Gearbox                         manual               manual   \n",
       "Power                                0                  190   \n",
       "Model                             golf                  NaN   \n",
       "Kilometer                       150000               125000   \n",
       "RegistrationMonth                    0                    5   \n",
       "FuelType                        petrol             gasoline   \n",
       "Brand                       volkswagen                 audi   \n",
       "NotRepaired                        NaN                  yes   \n",
       "DateCreated        2016-03-24 00:00:00  2016-03-24 00:00:00   \n",
       "NumberOfPictures                     0                    0   \n",
       "PostalCode                       70435                66954   \n",
       "LastSeen           2016-04-07 03:16:57  2016-04-07 01:46:50   \n",
       "\n",
       "                                     2                    3  \\\n",
       "DateCrawled        2016-03-14 12:52:21  2016-03-17 16:54:04   \n",
       "Price                             9800                 1500   \n",
       "VehicleType                        suv                small   \n",
       "RegistrationYear                  2004                 2001   \n",
       "Gearbox                           auto               manual   \n",
       "Power                              163                   75   \n",
       "Model                            grand                 golf   \n",
       "Kilometer                       125000               150000   \n",
       "RegistrationMonth                    8                    6   \n",
       "FuelType                      gasoline               petrol   \n",
       "Brand                             jeep           volkswagen   \n",
       "NotRepaired                        NaN                   no   \n",
       "DateCreated        2016-03-14 00:00:00  2016-03-17 00:00:00   \n",
       "NumberOfPictures                     0                    0   \n",
       "PostalCode                       90480                91074   \n",
       "LastSeen           2016-04-05 12:47:46  2016-03-17 17:40:17   \n",
       "\n",
       "                                     4  \n",
       "DateCrawled        2016-03-31 17:25:20  \n",
       "Price                             3600  \n",
       "VehicleType                      small  \n",
       "RegistrationYear                  2008  \n",
       "Gearbox                         manual  \n",
       "Power                               69  \n",
       "Model                            fabia  \n",
       "Kilometer                        90000  \n",
       "RegistrationMonth                    7  \n",
       "FuelType                      gasoline  \n",
       "Brand                            skoda  \n",
       "NotRepaired                         no  \n",
       "DateCreated        2016-03-31 00:00:00  \n",
       "NumberOfPictures                     0  \n",
       "PostalCode                       60437  \n",
       "LastSeen           2016-04-06 10:17:21  "
      ]
     },
     "execution_count": 4,
     "metadata": {},
     "output_type": "execute_result"
    }
   ],
   "source": [
    "df.head().T"
   ]
  },
  {
   "cell_type": "markdown",
   "metadata": {},
   "source": [
    "Признаки:\n",
    "- `DateCrawled` — дата скачивания анкеты из базы\n",
    "- `VehicleType` — тип автомобильного кузова\n",
    "- `RegistrationYear` — год регистрации автомобиля\n",
    "- `Gearbox` — тип коробки передач\n",
    "- `Power` — мощность (л. с.)\n",
    "- `Model` — модель автомобиля\n",
    "- `Kilometer` — пробег (км)\n",
    "- `RegistrationMonth` — месяц регистрации автомобиля\n",
    "- `FuelType` — тип топлива\n",
    "- `Brand` — марка автомобиля\n",
    "- `NotRepaired` — была машина в ремонте или нет\n",
    "- `DateCreated` — дата создания анкеты\n",
    "- `NumberOfPictures` — количество фотографий автомобиля\n",
    "- `PostalCode` — почтовый индекс владельца анкеты (пользователя)\n",
    "- `LastSeen` — дата последней активности пользователя\n",
    "\n",
    "Целевой признак:\n",
    "- `Price` — цена (евро)"
   ]
  },
  {
   "cell_type": "markdown",
   "metadata": {},
   "source": [
    "Получим общую информацию о таблице:"
   ]
  },
  {
   "cell_type": "code",
   "execution_count": 5,
   "metadata": {
    "scrolled": false
   },
   "outputs": [
    {
     "name": "stdout",
     "output_type": "stream",
     "text": [
      "<class 'pandas.core.frame.DataFrame'>\n",
      "RangeIndex: 354369 entries, 0 to 354368\n",
      "Data columns (total 16 columns):\n",
      " #   Column             Non-Null Count   Dtype \n",
      "---  ------             --------------   ----- \n",
      " 0   DateCrawled        354369 non-null  object\n",
      " 1   Price              354369 non-null  int64 \n",
      " 2   VehicleType        316879 non-null  object\n",
      " 3   RegistrationYear   354369 non-null  int64 \n",
      " 4   Gearbox            334536 non-null  object\n",
      " 5   Power              354369 non-null  int64 \n",
      " 6   Model              334664 non-null  object\n",
      " 7   Kilometer          354369 non-null  int64 \n",
      " 8   RegistrationMonth  354369 non-null  int64 \n",
      " 9   FuelType           321474 non-null  object\n",
      " 10  Brand              354369 non-null  object\n",
      " 11  NotRepaired        283215 non-null  object\n",
      " 12  DateCreated        354369 non-null  object\n",
      " 13  NumberOfPictures   354369 non-null  int64 \n",
      " 14  PostalCode         354369 non-null  int64 \n",
      " 15  LastSeen           354369 non-null  object\n",
      "dtypes: int64(7), object(9)\n",
      "memory usage: 43.3+ MB\n"
     ]
    }
   ],
   "source": [
    "df.info()"
   ]
  },
  {
   "cell_type": "code",
   "execution_count": 6,
   "metadata": {},
   "outputs": [
    {
     "name": "stdout",
     "output_type": "stream",
     "text": [
      "Количество строк в исходном датафрейме: 354369\n"
     ]
    }
   ],
   "source": [
    "df_len_begin = len(df)\n",
    "print('Количество строк в исходном датафрейме:', df_len_begin)"
   ]
  },
  {
   "cell_type": "markdown",
   "metadata": {},
   "source": [
    "Итак, в таблице 16 колонок, 354_369 строк. Тип данных в столбцах: object, int64. Есть пропущенные значения"
   ]
  },
  {
   "cell_type": "markdown",
   "metadata": {},
   "source": [
    "Оценим признаки с числовым типом данных: посмотрим на статистические данные, которые дают представление о распределении значений:"
   ]
  },
  {
   "cell_type": "code",
   "execution_count": 7,
   "metadata": {
    "scrolled": true
   },
   "outputs": [
    {
     "data": {
      "text/html": [
       "<div>\n",
       "<style scoped>\n",
       "    .dataframe tbody tr th:only-of-type {\n",
       "        vertical-align: middle;\n",
       "    }\n",
       "\n",
       "    .dataframe tbody tr th {\n",
       "        vertical-align: top;\n",
       "    }\n",
       "\n",
       "    .dataframe thead th {\n",
       "        text-align: right;\n",
       "    }\n",
       "</style>\n",
       "<table border=\"1\" class=\"dataframe\">\n",
       "  <thead>\n",
       "    <tr style=\"text-align: right;\">\n",
       "      <th></th>\n",
       "      <th>Price</th>\n",
       "      <th>RegistrationYear</th>\n",
       "      <th>Power</th>\n",
       "      <th>Kilometer</th>\n",
       "      <th>RegistrationMonth</th>\n",
       "      <th>NumberOfPictures</th>\n",
       "      <th>PostalCode</th>\n",
       "    </tr>\n",
       "  </thead>\n",
       "  <tbody>\n",
       "    <tr>\n",
       "      <th>count</th>\n",
       "      <td>354,369.0000</td>\n",
       "      <td>354,369.0000</td>\n",
       "      <td>354,369.0000</td>\n",
       "      <td>354,369.0000</td>\n",
       "      <td>354,369.0000</td>\n",
       "      <td>354,369.0000</td>\n",
       "      <td>354,369.0000</td>\n",
       "    </tr>\n",
       "    <tr>\n",
       "      <th>mean</th>\n",
       "      <td>4,416.6568</td>\n",
       "      <td>2,004.2344</td>\n",
       "      <td>110.0943</td>\n",
       "      <td>128,211.1725</td>\n",
       "      <td>5.7146</td>\n",
       "      <td>0.0000</td>\n",
       "      <td>50,508.6891</td>\n",
       "    </tr>\n",
       "    <tr>\n",
       "      <th>std</th>\n",
       "      <td>4,514.1585</td>\n",
       "      <td>90.2280</td>\n",
       "      <td>189.8504</td>\n",
       "      <td>37,905.3415</td>\n",
       "      <td>3.7264</td>\n",
       "      <td>0.0000</td>\n",
       "      <td>25,783.0962</td>\n",
       "    </tr>\n",
       "    <tr>\n",
       "      <th>min</th>\n",
       "      <td>0.0000</td>\n",
       "      <td>1,000.0000</td>\n",
       "      <td>0.0000</td>\n",
       "      <td>5,000.0000</td>\n",
       "      <td>0.0000</td>\n",
       "      <td>0.0000</td>\n",
       "      <td>1,067.0000</td>\n",
       "    </tr>\n",
       "    <tr>\n",
       "      <th>25%</th>\n",
       "      <td>1,050.0000</td>\n",
       "      <td>1,999.0000</td>\n",
       "      <td>69.0000</td>\n",
       "      <td>125,000.0000</td>\n",
       "      <td>3.0000</td>\n",
       "      <td>0.0000</td>\n",
       "      <td>30,165.0000</td>\n",
       "    </tr>\n",
       "    <tr>\n",
       "      <th>50%</th>\n",
       "      <td>2,700.0000</td>\n",
       "      <td>2,003.0000</td>\n",
       "      <td>105.0000</td>\n",
       "      <td>150,000.0000</td>\n",
       "      <td>6.0000</td>\n",
       "      <td>0.0000</td>\n",
       "      <td>49,413.0000</td>\n",
       "    </tr>\n",
       "    <tr>\n",
       "      <th>75%</th>\n",
       "      <td>6,400.0000</td>\n",
       "      <td>2,008.0000</td>\n",
       "      <td>143.0000</td>\n",
       "      <td>150,000.0000</td>\n",
       "      <td>9.0000</td>\n",
       "      <td>0.0000</td>\n",
       "      <td>71,083.0000</td>\n",
       "    </tr>\n",
       "    <tr>\n",
       "      <th>max</th>\n",
       "      <td>20,000.0000</td>\n",
       "      <td>9,999.0000</td>\n",
       "      <td>20,000.0000</td>\n",
       "      <td>150,000.0000</td>\n",
       "      <td>12.0000</td>\n",
       "      <td>0.0000</td>\n",
       "      <td>99,998.0000</td>\n",
       "    </tr>\n",
       "  </tbody>\n",
       "</table>\n",
       "</div>"
      ],
      "text/plain": [
       "             Price  RegistrationYear        Power    Kilometer  \\\n",
       "count 354,369.0000      354,369.0000 354,369.0000 354,369.0000   \n",
       "mean    4,416.6568        2,004.2344     110.0943 128,211.1725   \n",
       "std     4,514.1585           90.2280     189.8504  37,905.3415   \n",
       "min         0.0000        1,000.0000       0.0000   5,000.0000   \n",
       "25%     1,050.0000        1,999.0000      69.0000 125,000.0000   \n",
       "50%     2,700.0000        2,003.0000     105.0000 150,000.0000   \n",
       "75%     6,400.0000        2,008.0000     143.0000 150,000.0000   \n",
       "max    20,000.0000        9,999.0000  20,000.0000 150,000.0000   \n",
       "\n",
       "       RegistrationMonth  NumberOfPictures   PostalCode  \n",
       "count       354,369.0000      354,369.0000 354,369.0000  \n",
       "mean              5.7146            0.0000  50,508.6891  \n",
       "std               3.7264            0.0000  25,783.0962  \n",
       "min               0.0000            0.0000   1,067.0000  \n",
       "25%               3.0000            0.0000  30,165.0000  \n",
       "50%               6.0000            0.0000  49,413.0000  \n",
       "75%               9.0000            0.0000  71,083.0000  \n",
       "max              12.0000            0.0000  99,998.0000  "
      ]
     },
     "execution_count": 7,
     "metadata": {},
     "output_type": "execute_result"
    }
   ],
   "source": [
    "df.describe()"
   ]
  },
  {
   "cell_type": "markdown",
   "metadata": {},
   "source": [
    "Видим, что:\n",
    "- в колонке `NumberOfPictures` всего лишь одно уникальное значение\n",
    "- мощность автомобиля `Power` принимает как нулевые значения, так и очень большие 20_000\n",
    "- цена автомобиля `Price` принимает в том числе нулевые значения\n",
    "- год регистрации автомобиля `RegistrationYear` изменяется в диапазоне от 1000 до 9999"
   ]
  },
  {
   "cell_type": "markdown",
   "metadata": {},
   "source": [
    "Оценим колонки с типами данных `object` и `bool`"
   ]
  },
  {
   "cell_type": "code",
   "execution_count": 8,
   "metadata": {
    "scrolled": true
   },
   "outputs": [
    {
     "data": {
      "text/html": [
       "<div>\n",
       "<style scoped>\n",
       "    .dataframe tbody tr th:only-of-type {\n",
       "        vertical-align: middle;\n",
       "    }\n",
       "\n",
       "    .dataframe tbody tr th {\n",
       "        vertical-align: top;\n",
       "    }\n",
       "\n",
       "    .dataframe thead th {\n",
       "        text-align: right;\n",
       "    }\n",
       "</style>\n",
       "<table border=\"1\" class=\"dataframe\">\n",
       "  <thead>\n",
       "    <tr style=\"text-align: right;\">\n",
       "      <th></th>\n",
       "      <th>DateCrawled</th>\n",
       "      <th>VehicleType</th>\n",
       "      <th>Gearbox</th>\n",
       "      <th>Model</th>\n",
       "      <th>FuelType</th>\n",
       "      <th>Brand</th>\n",
       "      <th>NotRepaired</th>\n",
       "      <th>DateCreated</th>\n",
       "      <th>LastSeen</th>\n",
       "    </tr>\n",
       "  </thead>\n",
       "  <tbody>\n",
       "    <tr>\n",
       "      <th>count</th>\n",
       "      <td>354369</td>\n",
       "      <td>316879</td>\n",
       "      <td>334536</td>\n",
       "      <td>334664</td>\n",
       "      <td>321474</td>\n",
       "      <td>354369</td>\n",
       "      <td>283215</td>\n",
       "      <td>354369</td>\n",
       "      <td>354369</td>\n",
       "    </tr>\n",
       "    <tr>\n",
       "      <th>unique</th>\n",
       "      <td>271174</td>\n",
       "      <td>8</td>\n",
       "      <td>2</td>\n",
       "      <td>250</td>\n",
       "      <td>7</td>\n",
       "      <td>40</td>\n",
       "      <td>2</td>\n",
       "      <td>109</td>\n",
       "      <td>179150</td>\n",
       "    </tr>\n",
       "    <tr>\n",
       "      <th>top</th>\n",
       "      <td>2016-03-24 14:49:47</td>\n",
       "      <td>sedan</td>\n",
       "      <td>manual</td>\n",
       "      <td>golf</td>\n",
       "      <td>petrol</td>\n",
       "      <td>volkswagen</td>\n",
       "      <td>no</td>\n",
       "      <td>2016-04-03 00:00:00</td>\n",
       "      <td>2016-04-06 13:45:54</td>\n",
       "    </tr>\n",
       "    <tr>\n",
       "      <th>freq</th>\n",
       "      <td>7</td>\n",
       "      <td>91457</td>\n",
       "      <td>268251</td>\n",
       "      <td>29232</td>\n",
       "      <td>216352</td>\n",
       "      <td>77013</td>\n",
       "      <td>247161</td>\n",
       "      <td>13719</td>\n",
       "      <td>17</td>\n",
       "    </tr>\n",
       "  </tbody>\n",
       "</table>\n",
       "</div>"
      ],
      "text/plain": [
       "                DateCrawled VehicleType Gearbox   Model FuelType       Brand  \\\n",
       "count                354369      316879  334536  334664   321474      354369   \n",
       "unique               271174           8       2     250        7          40   \n",
       "top     2016-03-24 14:49:47       sedan  manual    golf   petrol  volkswagen   \n",
       "freq                      7       91457  268251   29232   216352       77013   \n",
       "\n",
       "       NotRepaired          DateCreated             LastSeen  \n",
       "count       283215               354369               354369  \n",
       "unique           2                  109               179150  \n",
       "top             no  2016-04-03 00:00:00  2016-04-06 13:45:54  \n",
       "freq        247161                13719                   17  "
      ]
     },
     "execution_count": 8,
     "metadata": {},
     "output_type": "execute_result"
    }
   ],
   "source": [
    "df.describe(include=['object', 'bool'])"
   ]
  },
  {
   "cell_type": "markdown",
   "metadata": {},
   "source": [
    "### Проверка на мультиколлинеарность"
   ]
  },
  {
   "cell_type": "markdown",
   "metadata": {},
   "source": [
    "Построим тепловую матрицу корреляций:"
   ]
  },
  {
   "cell_type": "code",
   "execution_count": 9,
   "metadata": {
    "scrolled": true
   },
   "outputs": [
    {
     "data": {
      "text/html": [
       "<style  type=\"text/css\" >\n",
       "#T_f494b_row0_col0,#T_f494b_row1_col1,#T_f494b_row2_col2,#T_f494b_row3_col3,#T_f494b_row4_col4{\n",
       "            background-color:  #b40426;\n",
       "            color:  #f1f1f1;\n",
       "        }#T_f494b_row0_col1,#T_f494b_row0_col2,#T_f494b_row0_col3,#T_f494b_row2_col0,#T_f494b_row2_col4{\n",
       "            background-color:  #3b4cc0;\n",
       "            color:  #f1f1f1;\n",
       "        }#T_f494b_row0_col4{\n",
       "            background-color:  #3c4ec2;\n",
       "            color:  #f1f1f1;\n",
       "        }#T_f494b_row1_col0,#T_f494b_row4_col0{\n",
       "            background-color:  #4961d2;\n",
       "            color:  #f1f1f1;\n",
       "        }#T_f494b_row1_col2{\n",
       "            background-color:  #506bda;\n",
       "            color:  #000000;\n",
       "        }#T_f494b_row1_col3{\n",
       "            background-color:  #4a63d3;\n",
       "            color:  #f1f1f1;\n",
       "        }#T_f494b_row1_col4{\n",
       "            background-color:  #4358cb;\n",
       "            color:  #f1f1f1;\n",
       "        }#T_f494b_row2_col1,#T_f494b_row4_col3{\n",
       "            background-color:  #4257c9;\n",
       "            color:  #f1f1f1;\n",
       "        }#T_f494b_row2_col3,#T_f494b_row3_col4,#T_f494b_row4_col1{\n",
       "            background-color:  #4055c8;\n",
       "            color:  #f1f1f1;\n",
       "        }#T_f494b_row3_col0{\n",
       "            background-color:  #465ecf;\n",
       "            color:  #f1f1f1;\n",
       "        }#T_f494b_row3_col1,#T_f494b_row4_col2{\n",
       "            background-color:  #485fd1;\n",
       "            color:  #f1f1f1;\n",
       "        }#T_f494b_row3_col2{\n",
       "            background-color:  #4c66d6;\n",
       "            color:  #000000;\n",
       "        }</style><table id=\"T_f494b_\" ><thead>    <tr>        <th class=\"blank level0\" ></th>        <th class=\"col_heading level0 col0\" >RegistrationYear</th>        <th class=\"col_heading level0 col1\" >Power</th>        <th class=\"col_heading level0 col2\" >Kilometer</th>        <th class=\"col_heading level0 col3\" >RegistrationMonth</th>        <th class=\"col_heading level0 col4\" >PostalCode</th>    </tr></thead><tbody>\n",
       "                <tr>\n",
       "                        <th id=\"T_f494b_level0_row0\" class=\"row_heading level0 row0\" >RegistrationYear</th>\n",
       "                        <td id=\"T_f494b_row0_col0\" class=\"data row0 col0\" >1.000000</td>\n",
       "                        <td id=\"T_f494b_row0_col1\" class=\"data row0 col1\" >-0.000828</td>\n",
       "                        <td id=\"T_f494b_row0_col2\" class=\"data row0 col2\" >-0.053447</td>\n",
       "                        <td id=\"T_f494b_row0_col3\" class=\"data row0 col3\" >-0.011619</td>\n",
       "                        <td id=\"T_f494b_row0_col4\" class=\"data row0 col4\" >-0.003459</td>\n",
       "            </tr>\n",
       "            <tr>\n",
       "                        <th id=\"T_f494b_level0_row1\" class=\"row_heading level0 row1\" >Power</th>\n",
       "                        <td id=\"T_f494b_row1_col0\" class=\"data row1 col0\" >-0.000828</td>\n",
       "                        <td id=\"T_f494b_row1_col1\" class=\"data row1 col1\" >1.000000</td>\n",
       "                        <td id=\"T_f494b_row1_col2\" class=\"data row1 col2\" >0.024002</td>\n",
       "                        <td id=\"T_f494b_row1_col3\" class=\"data row1 col3\" >0.043380</td>\n",
       "                        <td id=\"T_f494b_row1_col4\" class=\"data row1 col4\" >0.021665</td>\n",
       "            </tr>\n",
       "            <tr>\n",
       "                        <th id=\"T_f494b_level0_row2\" class=\"row_heading level0 row2\" >Kilometer</th>\n",
       "                        <td id=\"T_f494b_row2_col0\" class=\"data row2 col0\" >-0.053447</td>\n",
       "                        <td id=\"T_f494b_row2_col1\" class=\"data row2 col1\" >0.024002</td>\n",
       "                        <td id=\"T_f494b_row2_col2\" class=\"data row2 col2\" >1.000000</td>\n",
       "                        <td id=\"T_f494b_row2_col3\" class=\"data row2 col3\" >0.009571</td>\n",
       "                        <td id=\"T_f494b_row2_col4\" class=\"data row2 col4\" >-0.007698</td>\n",
       "            </tr>\n",
       "            <tr>\n",
       "                        <th id=\"T_f494b_level0_row3\" class=\"row_heading level0 row3\" >RegistrationMonth</th>\n",
       "                        <td id=\"T_f494b_row3_col0\" class=\"data row3 col0\" >-0.011619</td>\n",
       "                        <td id=\"T_f494b_row3_col1\" class=\"data row3 col1\" >0.043380</td>\n",
       "                        <td id=\"T_f494b_row3_col2\" class=\"data row3 col2\" >0.009571</td>\n",
       "                        <td id=\"T_f494b_row3_col3\" class=\"data row3 col3\" >1.000000</td>\n",
       "                        <td id=\"T_f494b_row3_col4\" class=\"data row3 col4\" >0.013995</td>\n",
       "            </tr>\n",
       "            <tr>\n",
       "                        <th id=\"T_f494b_level0_row4\" class=\"row_heading level0 row4\" >PostalCode</th>\n",
       "                        <td id=\"T_f494b_row4_col0\" class=\"data row4 col0\" >-0.003459</td>\n",
       "                        <td id=\"T_f494b_row4_col1\" class=\"data row4 col1\" >0.021665</td>\n",
       "                        <td id=\"T_f494b_row4_col2\" class=\"data row4 col2\" >-0.007698</td>\n",
       "                        <td id=\"T_f494b_row4_col3\" class=\"data row4 col3\" >0.013995</td>\n",
       "                        <td id=\"T_f494b_row4_col4\" class=\"data row4 col4\" >1.000000</td>\n",
       "            </tr>\n",
       "    </tbody></table>"
      ],
      "text/plain": [
       "<pandas.io.formats.style.Styler at 0x1400ebfa0>"
      ]
     },
     "execution_count": 9,
     "metadata": {},
     "output_type": "execute_result"
    }
   ],
   "source": [
    "corr = df.drop(columns=['NumberOfPictures', 'Price']).corr()\n",
    "corr.style.background_gradient(cmap='coolwarm')"
   ]
  },
  {
   "cell_type": "markdown",
   "metadata": {},
   "source": [
    "Матрица корреляций не выявила значительных зависимостей между обучающими признаками"
   ]
  },
  {
   "cell_type": "markdown",
   "metadata": {},
   "source": [
    "### Стиль заголовков"
   ]
  },
  {
   "cell_type": "markdown",
   "metadata": {},
   "source": [
    "Преобразуем имена признаков в snake_case:"
   ]
  },
  {
   "cell_type": "code",
   "execution_count": 10,
   "metadata": {},
   "outputs": [
    {
     "data": {
      "text/plain": [
       "['date_crawled',\n",
       " 'price',\n",
       " 'vehicle_type',\n",
       " 'registration_year',\n",
       " 'gearbox',\n",
       " 'power',\n",
       " 'model',\n",
       " 'kilometer',\n",
       " 'registration_month',\n",
       " 'fuel_type',\n",
       " 'brand',\n",
       " 'not_repaired',\n",
       " 'date_created',\n",
       " 'number_of_pictures',\n",
       " 'postal_code',\n",
       " 'last_seen']"
      ]
     },
     "execution_count": 10,
     "metadata": {},
     "output_type": "execute_result"
    }
   ],
   "source": [
    "df.columns = [re.sub(r'(?<!^)(?=[A-Z])', '_', i).lower() for i in df.columns]\n",
    "df.columns.to_list()"
   ]
  },
  {
   "cell_type": "markdown",
   "metadata": {},
   "source": [
    "### Обработка дубликатов"
   ]
  },
  {
   "cell_type": "markdown",
   "metadata": {},
   "source": [
    "Найдем и удалим дубликаты:"
   ]
  },
  {
   "cell_type": "code",
   "execution_count": 11,
   "metadata": {},
   "outputs": [
    {
     "data": {
      "text/plain": [
       "4"
      ]
     },
     "execution_count": 11,
     "metadata": {},
     "output_type": "execute_result"
    }
   ],
   "source": [
    "df.duplicated().sum()"
   ]
  },
  {
   "cell_type": "code",
   "execution_count": 12,
   "metadata": {},
   "outputs": [],
   "source": [
    "df.drop_duplicates(inplace=True)"
   ]
  },
  {
   "cell_type": "markdown",
   "metadata": {},
   "source": [
    "### Обработка пропущенных значений"
   ]
  },
  {
   "cell_type": "markdown",
   "metadata": {},
   "source": [
    "Для подсчета количества и процента пропущенных значений напишем функцию `na_stat`"
   ]
  },
  {
   "cell_type": "code",
   "execution_count": 13,
   "metadata": {},
   "outputs": [],
   "source": [
    "def na_stat(df):\n",
    "    df_na_stat = (\n",
    "        pd\n",
    "        .concat([df.isna().sum(), df.isna().mean().map('{:.2%}'.format)], \\\n",
    "                axis=1, keys=['количество пропущенных значений', 'процент пропущенных значений'])\n",
    "        .sort_values('количество пропущенных значений', ascending=False))\n",
    "    df_na_stat = df_na_stat[df_na_stat['количество пропущенных значений'] != 0]\n",
    "    return df_na_stat"
   ]
  },
  {
   "cell_type": "code",
   "execution_count": 14,
   "metadata": {
    "scrolled": false
   },
   "outputs": [
    {
     "data": {
      "text/html": [
       "<div>\n",
       "<style scoped>\n",
       "    .dataframe tbody tr th:only-of-type {\n",
       "        vertical-align: middle;\n",
       "    }\n",
       "\n",
       "    .dataframe tbody tr th {\n",
       "        vertical-align: top;\n",
       "    }\n",
       "\n",
       "    .dataframe thead th {\n",
       "        text-align: right;\n",
       "    }\n",
       "</style>\n",
       "<table border=\"1\" class=\"dataframe\">\n",
       "  <thead>\n",
       "    <tr style=\"text-align: right;\">\n",
       "      <th></th>\n",
       "      <th>количество пропущенных значений</th>\n",
       "      <th>процент пропущенных значений</th>\n",
       "    </tr>\n",
       "  </thead>\n",
       "  <tbody>\n",
       "    <tr>\n",
       "      <th>not_repaired</th>\n",
       "      <td>71154</td>\n",
       "      <td>20.08%</td>\n",
       "    </tr>\n",
       "    <tr>\n",
       "      <th>vehicle_type</th>\n",
       "      <td>37490</td>\n",
       "      <td>10.58%</td>\n",
       "    </tr>\n",
       "    <tr>\n",
       "      <th>fuel_type</th>\n",
       "      <td>32895</td>\n",
       "      <td>9.28%</td>\n",
       "    </tr>\n",
       "    <tr>\n",
       "      <th>gearbox</th>\n",
       "      <td>19833</td>\n",
       "      <td>5.60%</td>\n",
       "    </tr>\n",
       "    <tr>\n",
       "      <th>model</th>\n",
       "      <td>19705</td>\n",
       "      <td>5.56%</td>\n",
       "    </tr>\n",
       "  </tbody>\n",
       "</table>\n",
       "</div>"
      ],
      "text/plain": [
       "              количество пропущенных значений процент пропущенных значений\n",
       "not_repaired                            71154                       20.08%\n",
       "vehicle_type                            37490                       10.58%\n",
       "fuel_type                               32895                        9.28%\n",
       "gearbox                                 19833                        5.60%\n",
       "model                                   19705                        5.56%"
      ]
     },
     "execution_count": 14,
     "metadata": {},
     "output_type": "execute_result"
    }
   ],
   "source": [
    "na_stat(df)"
   ]
  },
  {
   "cell_type": "markdown",
   "metadata": {},
   "source": [
    "#### Признак not_repaired"
   ]
  },
  {
   "cell_type": "markdown",
   "metadata": {},
   "source": [
    "Владельцы не указали был ли автомобиль в ремонте, потому что он не ремонтировался, либо просто скрыли информацию, чтобы автомобиль не казался менее привлекательным к покупке"
   ]
  },
  {
   "cell_type": "code",
   "execution_count": 15,
   "metadata": {
    "scrolled": true
   },
   "outputs": [
    {
     "data": {
      "text/plain": [
       "no     247158\n",
       "NaN     71154\n",
       "yes     36053\n",
       "Name: not_repaired, dtype: int64"
      ]
     },
     "execution_count": 15,
     "metadata": {},
     "output_type": "execute_result"
    }
   ],
   "source": [
    "df['not_repaired'].value_counts(dropna=False)"
   ]
  },
  {
   "cell_type": "markdown",
   "metadata": {},
   "source": [
    "Заполним пропущенные значения самым популярным вариантом, так как другого обоснованного способа восстановаления данных признака нет"
   ]
  },
  {
   "cell_type": "code",
   "execution_count": 16,
   "metadata": {},
   "outputs": [],
   "source": [
    "df['not_repaired'] = df['not_repaired'].fillna('no')"
   ]
  },
  {
   "cell_type": "markdown",
   "metadata": {},
   "source": [
    "#### Признак model"
   ]
  },
  {
   "cell_type": "markdown",
   "metadata": {},
   "source": [
    "В колонке с названием модели автомобиля чуть более 5% пропусков. Адекватный способ восстановления модели автомобиля по бренду автомобиля или по другим признакам отсутствует. Но в нашей таблице уже есть 24_420 записей с моделью `other`. Так как отсутствует обоснованный способ восстановаления данных признака, то удалим и пропущеные значения и объекты со значением признака `other`"
   ]
  },
  {
   "cell_type": "code",
   "execution_count": 17,
   "metadata": {},
   "outputs": [
    {
     "data": {
      "text/plain": [
       "250"
      ]
     },
     "execution_count": 17,
     "metadata": {},
     "output_type": "execute_result"
    }
   ],
   "source": [
    "df['model'].nunique()"
   ]
  },
  {
   "cell_type": "code",
   "execution_count": 18,
   "metadata": {},
   "outputs": [
    {
     "data": {
      "text/plain": [
       "24420"
      ]
     },
     "execution_count": 18,
     "metadata": {},
     "output_type": "execute_result"
    }
   ],
   "source": [
    "df.query('model == \"other\"').shape[0]"
   ]
  },
  {
   "cell_type": "code",
   "execution_count": 19,
   "metadata": {},
   "outputs": [],
   "source": [
    "df.dropna(subset=['model'], inplace=True)\n",
    "df = df.query('model != \"other\"')"
   ]
  },
  {
   "cell_type": "markdown",
   "metadata": {},
   "source": [
    "#### Признаки vehicle_type, fuel_type, gearbox"
   ]
  },
  {
   "cell_type": "markdown",
   "metadata": {},
   "source": [
    "Признаки имеют пропуски возможно по причине проблем с выгрузкой данных."
   ]
  },
  {
   "cell_type": "code",
   "execution_count": 20,
   "metadata": {
    "scrolled": false
   },
   "outputs": [
    {
     "name": "stdout",
     "output_type": "stream",
     "text": [
      "sedan          82699\n",
      "small          72989\n",
      "wagon          60713\n",
      "NaN            28803\n",
      "bus            23619\n",
      "convertible    17887\n",
      "coupe          12482\n",
      "suv             8965\n",
      "other           2083\n",
      "Name: vehicle_type, dtype: int64\n",
      "_ _ _ _ _ _ _ _ _ _ _ _ _ _ _ \n",
      "petrol      191370\n",
      "gasoline     90020\n",
      "NaN          23773\n",
      "lpg           4304\n",
      "cng            509\n",
      "hybrid         132\n",
      "other          104\n",
      "electric        28\n",
      "Name: fuel_type, dtype: int64\n",
      "_ _ _ _ _ _ _ _ _ _ _ _ _ _ _ \n",
      "manual    238005\n",
      "auto       57929\n",
      "NaN        14306\n",
      "Name: gearbox, dtype: int64\n",
      "_ _ _ _ _ _ _ _ _ _ _ _ _ _ _ \n"
     ]
    }
   ],
   "source": [
    "for col in ['vehicle_type', 'fuel_type', 'gearbox']:\n",
    "    print(df[col].value_counts(dropna=False))\n",
    "    print('_ '*15)"
   ]
  },
  {
   "cell_type": "markdown",
   "metadata": {},
   "source": [
    "Заполним пропуски модами с помощью группировки по другим признакам объектов: бренду и марки автомобиля с помощью функции `fillna_with_mode` "
   ]
  },
  {
   "cell_type": "code",
   "execution_count": 21,
   "metadata": {},
   "outputs": [],
   "source": [
    "def fillna_with_mode(df, column):\n",
    "    df[column] = df[column].fillna(df.groupby(['brand', 'model'])[column].transform(lambda x: x.mode()[0]))"
   ]
  },
  {
   "cell_type": "code",
   "execution_count": 22,
   "metadata": {},
   "outputs": [],
   "source": [
    "fillna_with_mode(df, 'fuel_type')\n",
    "fillna_with_mode(df, 'vehicle_type')\n",
    "fillna_with_mode(df, 'gearbox')"
   ]
  },
  {
   "cell_type": "markdown",
   "metadata": {},
   "source": [
    "Проверим наличие пропусков:"
   ]
  },
  {
   "cell_type": "code",
   "execution_count": 23,
   "metadata": {},
   "outputs": [
    {
     "data": {
      "text/html": [
       "<div>\n",
       "<style scoped>\n",
       "    .dataframe tbody tr th:only-of-type {\n",
       "        vertical-align: middle;\n",
       "    }\n",
       "\n",
       "    .dataframe tbody tr th {\n",
       "        vertical-align: top;\n",
       "    }\n",
       "\n",
       "    .dataframe thead th {\n",
       "        text-align: right;\n",
       "    }\n",
       "</style>\n",
       "<table border=\"1\" class=\"dataframe\">\n",
       "  <thead>\n",
       "    <tr style=\"text-align: right;\">\n",
       "      <th></th>\n",
       "      <th>количество пропущенных значений</th>\n",
       "      <th>процент пропущенных значений</th>\n",
       "    </tr>\n",
       "  </thead>\n",
       "  <tbody>\n",
       "  </tbody>\n",
       "</table>\n",
       "</div>"
      ],
      "text/plain": [
       "Empty DataFrame\n",
       "Columns: [количество пропущенных значений, процент пропущенных значений]\n",
       "Index: []"
      ]
     },
     "execution_count": 23,
     "metadata": {},
     "output_type": "execute_result"
    }
   ],
   "source": [
    "na_stat(df)"
   ]
  },
  {
   "cell_type": "markdown",
   "metadata": {},
   "source": [
    "### Признак date_created"
   ]
  },
  {
   "cell_type": "markdown",
   "metadata": {},
   "source": [
    "Из даты создания анкеты `date_created` получим год и преобразуем в целочисленный тип:"
   ]
  },
  {
   "cell_type": "code",
   "execution_count": 24,
   "metadata": {},
   "outputs": [
    {
     "data": {
      "text/plain": [
       "2016    310216\n",
       "2015        23\n",
       "2014         1\n",
       "Name: date_created, dtype: int64"
      ]
     },
     "execution_count": 24,
     "metadata": {},
     "output_type": "execute_result"
    }
   ],
   "source": [
    "df['date_created'] = df['date_created'].apply(lambda x: x[:4]).astype('int')\n",
    "df['date_created'].value_counts()"
   ]
  },
  {
   "cell_type": "markdown",
   "metadata": {},
   "source": [
    "Все анкеты созданы в 2014-2016 годах"
   ]
  },
  {
   "cell_type": "markdown",
   "metadata": {},
   "source": [
    "### Признак registration_year"
   ]
  },
  {
   "cell_type": "code",
   "execution_count": 25,
   "metadata": {},
   "outputs": [],
   "source": [
    "def histplot_boxplot(df, column, bins=50):\n",
    "    \"\"\"\n",
    "    df - датафрейм\n",
    "    column - название признака для построения графиков\n",
    "    bins - количество корзин (50 по умолчанию)\n",
    "    \n",
    "    \"\"\"\n",
    "    f, (ax_box, ax_hist) = plt.subplots(2, sharex=True, gridspec_kw={\"height_ratios\": (.13, .87)}, figsize=(10, 8))\n",
    "    sns.boxplot(data=df, \n",
    "                x=column,  \n",
    "                orient='h',\n",
    "                order=[1,0],\n",
    "                palette='pastel',\n",
    "                ax=ax_box)\n",
    "    sns.histplot(data=df, \n",
    "                 x=column, \n",
    "                 bins=bins, \n",
    "                 kde=True, \n",
    "                 palette='pastel', \n",
    "                 hue_order=[1,0],\n",
    "                 ax=ax_hist)\n",
    " \n",
    "    ax_box.set(xlabel='')\n",
    "    ax_box.set(title='Ящик с усами для \"{}\"'.format(column))\n",
    "    ax_hist.set(title='Распределение признака \"{}\"'.format(column))\n",
    "    plt.show()"
   ]
  },
  {
   "cell_type": "markdown",
   "metadata": {},
   "source": [
    "Посмотрим на признак:"
   ]
  },
  {
   "cell_type": "code",
   "execution_count": 26,
   "metadata": {
    "scrolled": false
   },
   "outputs": [
    {
     "data": {
      "image/png": "[encoded data removed]",
      "text/plain": [
       "<Figure size 720x576 with 2 Axes>"
      ]
     },
     "metadata": {
      "needs_background": "light"
     },
     "output_type": "display_data"
    }
   ],
   "source": [
    "histplot_boxplot(df, 'registration_year')"
   ]
  },
  {
   "cell_type": "markdown",
   "metadata": {},
   "source": [
    "Наш ящик с усами сжался в значении 2000 "
   ]
  },
  {
   "cell_type": "code",
   "execution_count": 27,
   "metadata": {},
   "outputs": [
    {
     "name": "stdout",
     "output_type": "stream",
     "text": [
      "1990.0\n"
     ]
    }
   ],
   "source": [
    "registration_year_lower_limit = df['registration_year'].quantile(0.02)\n",
    "print(registration_year_lower_limit)"
   ]
  },
  {
   "cell_type": "markdown",
   "metadata": {},
   "source": [
    "Избавимся от аномальных значений: пожертвуем 2 процентами данных в нижних значениях признака. Оставим автомобили не старше 1990 года, у которых год создания анкеты не превышает год регистрации автомобиля:"
   ]
  },
  {
   "cell_type": "code",
   "execution_count": 28,
   "metadata": {},
   "outputs": [],
   "source": [
    "df = df.query('date_created >= registration_year and registration_year >= @registration_year_lower_limit')"
   ]
  },
  {
   "cell_type": "markdown",
   "metadata": {},
   "source": [
    "Посмотрим на очищенные от аномальных значений данные"
   ]
  },
  {
   "cell_type": "code",
   "execution_count": 29,
   "metadata": {
    "scrolled": false
   },
   "outputs": [
    {
     "data": {
      "image/png": "[encoded data removed]",
      "text/plain": [
       "<Figure size 720x576 with 2 Axes>"
      ]
     },
     "metadata": {
      "needs_background": "light"
     },
     "output_type": "display_data"
    }
   ],
   "source": [
    "histplot_boxplot(df, 'registration_year', bins=26)"
   ]
  },
  {
   "cell_type": "markdown",
   "metadata": {},
   "source": [
    "### Генерация новых признаков"
   ]
  },
  {
   "cell_type": "markdown",
   "metadata": {},
   "source": [
    "Сгенерируем новый признак `возраст автомобиля на момент продажи` как дельта между годом создания анкеты и годом регистрации автомобиля"
   ]
  },
  {
   "cell_type": "code",
   "execution_count": 30,
   "metadata": {},
   "outputs": [],
   "source": [
    "df['car_age'] = df['date_created'] - df['registration_year']"
   ]
  },
  {
   "cell_type": "code",
   "execution_count": 31,
   "metadata": {
    "scrolled": false
   },
   "outputs": [
    {
     "data": {
      "image/png": "[encoded data removed]",
      "text/plain": [
       "<Figure size 720x576 with 2 Axes>"
      ]
     },
     "metadata": {
      "needs_background": "light"
     },
     "output_type": "display_data"
    }
   ],
   "source": [
    "histplot_boxplot(df, 'car_age', bins=26)"
   ]
  },
  {
   "cell_type": "markdown",
   "metadata": {},
   "source": [
    "### Признак power"
   ]
  },
  {
   "cell_type": "code",
   "execution_count": 32,
   "metadata": {},
   "outputs": [
    {
     "data": {
      "image/png": "[encoded data removed]",
      "text/plain": [
       "<Figure size 720x576 with 2 Axes>"
      ]
     },
     "metadata": {
      "needs_background": "light"
     },
     "output_type": "display_data"
    }
   ],
   "source": [
    "histplot_boxplot(df, 'power')"
   ]
  },
  {
   "cell_type": "markdown",
   "metadata": {},
   "source": [
    "В значениях есть аномалии. Избавимся от аномальных значений: пожертвуем одним 0.1% данных в верхних значениях признака:"
   ]
  },
  {
   "cell_type": "code",
   "execution_count": 33,
   "metadata": {},
   "outputs": [
    {
     "name": "stdout",
     "output_type": "stream",
     "text": [
      "545.2660000004107\n"
     ]
    }
   ],
   "source": [
    "power_upper_limit = df['power'].quantile(0.999)\n",
    "print(power_upper_limit)"
   ]
  },
  {
   "cell_type": "code",
   "execution_count": 34,
   "metadata": {},
   "outputs": [],
   "source": [
    "df = df.query('power <= @power_upper_limit')"
   ]
  },
  {
   "cell_type": "code",
   "execution_count": 35,
   "metadata": {},
   "outputs": [
    {
     "data": {
      "text/plain": [
       "(26930, 17)"
      ]
     },
     "execution_count": 35,
     "metadata": {},
     "output_type": "execute_result"
    }
   ],
   "source": [
    "df.query('power == 0').shape"
   ]
  },
  {
   "cell_type": "markdown",
   "metadata": {},
   "source": [
    "Нулевые значения в признаке сначала заменим пропущенными значениями, а затем заполним средними значениями по группам признаков `brand`, `model`, `fuel_type` с помощью функции `fill_zero_with_mean` "
   ]
  },
  {
   "cell_type": "code",
   "execution_count": 36,
   "metadata": {},
   "outputs": [],
   "source": [
    "def fill_zero_with_mean(df, column):\n",
    "    df[column] = df[column].replace(0, np.nan)\n",
    "    df[column] = df[column].fillna(df.groupby(['brand', 'model', 'fuel_type'])[column].transform('mean'))"
   ]
  },
  {
   "cell_type": "code",
   "execution_count": 37,
   "metadata": {},
   "outputs": [],
   "source": [
    "fill_zero_with_mean(df, 'power')"
   ]
  },
  {
   "cell_type": "markdown",
   "metadata": {},
   "source": [
    "Посмотрим на очищенные от аномальных значений данные"
   ]
  },
  {
   "cell_type": "code",
   "execution_count": 38,
   "metadata": {
    "scrolled": false
   },
   "outputs": [
    {
     "data": {
      "image/png": "[encoded data removed]",
      "text/plain": [
       "<Figure size 720x576 with 2 Axes>"
      ]
     },
     "metadata": {
      "needs_background": "light"
     },
     "output_type": "display_data"
    }
   ],
   "source": [
    "histplot_boxplot(df, 'power')"
   ]
  },
  {
   "cell_type": "code",
   "execution_count": 39,
   "metadata": {
    "scrolled": true
   },
   "outputs": [
    {
     "data": {
      "text/html": [
       "<div>\n",
       "<style scoped>\n",
       "    .dataframe tbody tr th:only-of-type {\n",
       "        vertical-align: middle;\n",
       "    }\n",
       "\n",
       "    .dataframe tbody tr th {\n",
       "        vertical-align: top;\n",
       "    }\n",
       "\n",
       "    .dataframe thead th {\n",
       "        text-align: right;\n",
       "    }\n",
       "</style>\n",
       "<table border=\"1\" class=\"dataframe\">\n",
       "  <thead>\n",
       "    <tr style=\"text-align: right;\">\n",
       "      <th></th>\n",
       "      <th>количество пропущенных значений</th>\n",
       "      <th>процент пропущенных значений</th>\n",
       "    </tr>\n",
       "  </thead>\n",
       "  <tbody>\n",
       "    <tr>\n",
       "      <th>power</th>\n",
       "      <td>30</td>\n",
       "      <td>0.01%</td>\n",
       "    </tr>\n",
       "  </tbody>\n",
       "</table>\n",
       "</div>"
      ],
      "text/plain": [
       "       количество пропущенных значений процент пропущенных значений\n",
       "power                               30                        0.01%"
      ]
     },
     "execution_count": 39,
     "metadata": {},
     "output_type": "execute_result"
    }
   ],
   "source": [
    "na_stat(df)"
   ]
  },
  {
   "cell_type": "markdown",
   "metadata": {},
   "source": [
    "Удалим незаполнные пропуски:"
   ]
  },
  {
   "cell_type": "code",
   "execution_count": 40,
   "metadata": {},
   "outputs": [],
   "source": [
    "df.dropna(inplace=True)"
   ]
  },
  {
   "cell_type": "markdown",
   "metadata": {},
   "source": [
    "### Признак kilometer"
   ]
  },
  {
   "cell_type": "code",
   "execution_count": 41,
   "metadata": {
    "scrolled": false
   },
   "outputs": [
    {
     "data": {
      "image/png": "[encoded data removed]",
      "text/plain": [
       "<Figure size 720x576 with 2 Axes>"
      ]
     },
     "metadata": {
      "needs_background": "light"
     },
     "output_type": "display_data"
    }
   ],
   "source": [
    "histplot_boxplot(df, 'kilometer')"
   ]
  },
  {
   "cell_type": "code",
   "execution_count": 42,
   "metadata": {
    "scrolled": false
   },
   "outputs": [
    {
     "data": {
      "image/png": "[encoded data removed]",
      "text/plain": [
       "<Figure size 1296x576 with 1 Axes>"
      ]
     },
     "metadata": {
      "needs_background": "light"
     },
     "output_type": "display_data"
    }
   ],
   "source": [
    "plt.figure(figsize=(18,8))\n",
    "ax = sns.histplot(data=df[df['kilometer'] == 150_000], x='car_age', hue='not_repaired', multiple='dodge', shrink=2)\n",
    "ax.set_title('Распределение возраста автомобилей c пробегом в 150.000 км', fontsize=15)\n",
    "ax.set_ylabel('количество автомобилей', fontsize=15)\n",
    "ax.set_xlabel('возраст автомобилей', fontsize=15)\n",
    "plt.show()"
   ]
  },
  {
   "cell_type": "markdown",
   "metadata": {},
   "source": [
    "Количество автомобилей с пробегом в 150.000 км с возрастом автомобиля = 0:"
   ]
  },
  {
   "cell_type": "code",
   "execution_count": 43,
   "metadata": {},
   "outputs": [
    {
     "data": {
      "text/plain": [
       "6111"
      ]
     },
     "execution_count": 43,
     "metadata": {},
     "output_type": "execute_result"
    }
   ],
   "source": [
    "df[(df['kilometer'] == 150_000) & ((df['car_age'] == 0))]['model'].count()"
   ]
  },
  {
   "cell_type": "code",
   "execution_count": 44,
   "metadata": {},
   "outputs": [
    {
     "data": {
      "text/plain": [
       "brand       model   \n",
       "alfa_romeo  145          1\n",
       "            147         19\n",
       "            156         12\n",
       "            159          2\n",
       "audi        100          5\n",
       "                        ..\n",
       "volvo       c_reihe      2\n",
       "            v40         19\n",
       "            v50          4\n",
       "            v70          1\n",
       "            xc_reihe     2\n",
       "Name: model, Length: 190, dtype: int64"
      ]
     },
     "execution_count": 44,
     "metadata": {},
     "output_type": "execute_result"
    }
   ],
   "source": [
    "df[(df['kilometer'] == 150_000) & ((df['car_age'] == 0))].groupby(['brand', 'model'])['model'].count()"
   ]
  },
  {
   "cell_type": "markdown",
   "metadata": {},
   "source": [
    "Видим явное ограничение по пробегу на сервисе по продаже автомобилей в 150_000 км. \n",
    "\n",
    "Видим 6111 автомобилей с пробегом в 150.000 км с возрастом = 0: может быть, это такси"
   ]
  },
  {
   "cell_type": "markdown",
   "metadata": {},
   "source": [
    "### Признак price"
   ]
  },
  {
   "cell_type": "code",
   "execution_count": 45,
   "metadata": {
    "scrolled": false
   },
   "outputs": [
    {
     "data": {
      "image/png": "[encoded data removed]",
      "text/plain": [
       "<Figure size 720x576 with 2 Axes>"
      ]
     },
     "metadata": {
      "needs_background": "light"
     },
     "output_type": "display_data"
    }
   ],
   "source": [
    "histplot_boxplot(df, 'price')"
   ]
  },
  {
   "cell_type": "markdown",
   "metadata": {},
   "source": [
    "Посмотрим на подозрительно дешевые автомобили дешевле 100 евро"
   ]
  },
  {
   "cell_type": "code",
   "execution_count": 46,
   "metadata": {},
   "outputs": [
    {
     "data": {
      "text/plain": [
       "no     6754\n",
       "yes    1925\n",
       "Name: not_repaired, dtype: int64"
      ]
     },
     "execution_count": 46,
     "metadata": {},
     "output_type": "execute_result"
    }
   ],
   "source": [
    "df[df['price'] < 100]['not_repaired'].value_counts()"
   ]
  },
  {
   "cell_type": "code",
   "execution_count": 47,
   "metadata": {
    "scrolled": true
   },
   "outputs": [
    {
     "data": {
      "text/plain": [
       "no     5496\n",
       "yes    1490\n",
       "Name: not_repaired, dtype: int64"
      ]
     },
     "execution_count": 47,
     "metadata": {},
     "output_type": "execute_result"
    }
   ],
   "source": [
    "df[df['price'] == 0]['not_repaired'].value_counts()"
   ]
  },
  {
   "cell_type": "code",
   "execution_count": 48,
   "metadata": {},
   "outputs": [
    {
     "data": {
      "text/plain": [
       "brand       model      \n",
       "alfa_romeo  147             2\n",
       "            spider          1\n",
       "audi        80              1\n",
       "            a1              3\n",
       "            a3             17\n",
       "                           ..\n",
       "volkswagen  tiguan          5\n",
       "            touran          7\n",
       "            transporter    11\n",
       "            up              2\n",
       "volvo       xc_reihe        1\n",
       "Name: model, Length: 129, dtype: int64"
      ]
     },
     "execution_count": 48,
     "metadata": {},
     "output_type": "execute_result"
    }
   ],
   "source": [
    "(\n",
    "    df[(df['price'] < 100) & (df['car_age'] <= 5) & (df['not_repaired'] == 'no')]\n",
    "    .groupby(['brand', 'model'])['model'].count()\n",
    ")"
   ]
  },
  {
   "cell_type": "code",
   "execution_count": 49,
   "metadata": {
    "scrolled": false
   },
   "outputs": [
    {
     "data": {
      "image/png": "[encoded data removed]",
      "text/plain": [
       "<Figure size 1296x576 with 1 Axes>"
      ]
     },
     "metadata": {
      "needs_background": "light"
     },
     "output_type": "display_data"
    }
   ],
   "source": [
    "plt.figure(figsize=(18,8))\n",
    "ax = sns.histplot(data=df[df['price'] < 100], x=\"car_age\", hue=\"not_repaired\",multiple=\"dodge\", shrink=1)\n",
    "ax.set_title('Распределение возраста автомобилей стоимостью меньше 100 евро', fontsize=15)\n",
    "ax.set_ylabel('количество автомобилей', fontsize=15)\n",
    "ax.set_xlabel('возраст автомобилей', fontsize=15)\n",
    "plt.show()"
   ]
  },
  {
   "cell_type": "markdown",
   "metadata": {},
   "source": [
    "- до 100 евро в основном продаются автомобили c ремонтом\n",
    "- большое количество автомобилей с нулевой стоимостью. Возможно владельцы авто хотят избавиться от старого ненужного авто, но возможно, что это ошибка заполнения данных. В связи с тем, что невозможно установить истину относительно таких значений, то автомобили с 0-й ценой лучше исключить из датасета.\n",
    "- избавимся от автомобилей дешевле 100 евро"
   ]
  },
  {
   "cell_type": "code",
   "execution_count": 50,
   "metadata": {},
   "outputs": [],
   "source": [
    "df = df.drop(df[(df['price'] < 100)].index)"
   ]
  },
  {
   "cell_type": "code",
   "execution_count": 51,
   "metadata": {},
   "outputs": [
    {
     "name": "stdout",
     "output_type": "stream",
     "text": [
      "Процент удаленных строк в данных: 24.55%\n"
     ]
    }
   ],
   "source": [
    "print('Процент удаленных строк в данных: {:.2%}'.format((df_len_begin - len(df)) / len(df)))"
   ]
  },
  {
   "cell_type": "markdown",
   "metadata": {},
   "source": [
    "### Удаление лишних признаков"
   ]
  },
  {
   "cell_type": "markdown",
   "metadata": {},
   "source": [
    "Признаки, которые не влияют не цену автомобиля:"
   ]
  },
  {
   "cell_type": "code",
   "execution_count": 52,
   "metadata": {},
   "outputs": [],
   "source": [
    "columns_to_drop = ['date_created', 'registration_year', 'registration_month',\\\n",
    "                   'date_crawled', 'number_of_pictures', 'postal_code', 'last_seen']\n",
    "df.drop(columns=columns_to_drop, inplace=True)"
   ]
  },
  {
   "cell_type": "markdown",
   "metadata": {},
   "source": [
    "**Вывод:**\n",
    "- провели проверку признаков на мультиколлинеарность\n",
    "- обнаружили и удалили дубликаты\n",
    "- обработали пропущенные значения\n",
    "- обработали аномалии\n",
    "- создали новый признак \"возраст автомобиля на момент продажи\"\n",
    "- удалили признаки, не влияющие на цену автомобиля"
   ]
  },
  {
   "cell_type": "markdown",
   "metadata": {},
   "source": [
    "## Обучение моделей"
   ]
  },
  {
   "cell_type": "markdown",
   "metadata": {},
   "source": [
    "### Кодирование признаков"
   ]
  },
  {
   "cell_type": "markdown",
   "metadata": {},
   "source": [
    "Проведем кодирование категориальных признаков. В дальнейшем будем использовать различные модели, в зависимости от модели необходимо применять различные типы кодирования."
   ]
  },
  {
   "cell_type": "markdown",
   "metadata": {},
   "source": [
    "Для моделей градиентного бустинга преобразуем категориальные признаки в категориальный тип данных. Опытным путем данное преобразование уменьшило скорость обучения моделей"
   ]
  },
  {
   "cell_type": "code",
   "execution_count": 53,
   "metadata": {},
   "outputs": [
    {
     "name": "stdout",
     "output_type": "stream",
     "text": [
      "['vehicle_type', 'gearbox', 'model', 'fuel_type', 'brand', 'not_repaired']\n"
     ]
    }
   ],
   "source": [
    "# df_cat - для бустингов\n",
    "df_cat = df.copy()\n",
    "categorical_features = [column for column in df_cat.columns if df_cat[column].dtypes == 'object']\n",
    "print(categorical_features)\n",
    "for col in categorical_features:\n",
    "    df_cat[col] = df_cat[col].astype('category')"
   ]
  },
  {
   "cell_type": "markdown",
   "metadata": {},
   "source": [
    "Для случайного леса закодируем категориальные признаки с помощью `OrdinalEncoder`, который просто перенумеровывает значения признака натуральными числами "
   ]
  },
  {
   "cell_type": "code",
   "execution_count": 54,
   "metadata": {},
   "outputs": [],
   "source": [
    "# df_ord - для случайного леса\n",
    "df_ord = df.copy()\n",
    "ord_enc = OrdinalEncoder()\n",
    "df_ord[categorical_features] = ord_enc.fit_transform(df_ord[categorical_features])"
   ]
  },
  {
   "cell_type": "markdown",
   "metadata": {},
   "source": [
    "Для линейных моделей использовать быстрое кодирование `One Hot Encoding` с помощью `get_dummies`:\n",
    "\n",
    "`drop_first = True` используется, чтобы избежать ловушки переменных, которая также называется мультиколлинеарностью, когда одна переменная предсказывает значение других"
   ]
  },
  {
   "cell_type": "code",
   "execution_count": 55,
   "metadata": {},
   "outputs": [],
   "source": [
    "# df_ohe - для линейных моделей\n",
    "df_ohe = pd.get_dummies(data=df, drop_first=True)"
   ]
  },
  {
   "cell_type": "markdown",
   "metadata": {},
   "source": [
    "### Разделение данных"
   ]
  },
  {
   "cell_type": "markdown",
   "metadata": {},
   "source": [
    "Зафиксируем параметр псевдослучайности для наших моделей и выборок:"
   ]
  },
  {
   "cell_type": "code",
   "execution_count": 56,
   "metadata": {},
   "outputs": [],
   "source": [
    "rnd_st = 12345"
   ]
  },
  {
   "cell_type": "markdown",
   "metadata": {},
   "source": [
    "Разделим исходные данные на обучающую `train` и тестовую выборки `test` в пропорциях 4:1 с помощью функции `train_test_split_func`"
   ]
  },
  {
   "cell_type": "code",
   "execution_count": 57,
   "metadata": {},
   "outputs": [],
   "source": [
    "def train_test_split_func(df):\n",
    "    y = df['price']\n",
    "    X = df.drop('price', axis=1)\n",
    "    X_train, X_test, y_train, y_test = train_test_split(X, y, test_size=0.2, random_state=rnd_st)\n",
    "    return X_train, X_test, y_train, y_test"
   ]
  },
  {
   "cell_type": "code",
   "execution_count": 58,
   "metadata": {
    "scrolled": true
   },
   "outputs": [
    {
     "name": "stdout",
     "output_type": "stream",
     "text": [
      "(227619, 9) (56905, 9)\n",
      "(227619,) (56905,)\n"
     ]
    }
   ],
   "source": [
    "# для случайного леса\n",
    "X_train_ord, X_test_ord, y_train_ord, y_test_ord = train_test_split_func(df_ord)\n",
    "print(X_train_ord.shape, X_test_ord.shape)\n",
    "print(y_train_ord.shape, y_test_ord.shape)"
   ]
  },
  {
   "cell_type": "code",
   "execution_count": 59,
   "metadata": {
    "scrolled": false
   },
   "outputs": [
    {
     "name": "stdout",
     "output_type": "stream",
     "text": [
      "(227619, 9) (56905, 9)\n",
      "(227619,) (56905,)\n"
     ]
    }
   ],
   "source": [
    "# для бустингов\n",
    "X_train_cat, X_test_cat, y_train_cat, y_test_cat = train_test_split_func(df_cat)\n",
    "print(X_train_cat.shape, X_test_cat.shape)\n",
    "print(y_train_cat.shape, y_test_cat.shape)"
   ]
  },
  {
   "cell_type": "code",
   "execution_count": 60,
   "metadata": {},
   "outputs": [
    {
     "name": "stdout",
     "output_type": "stream",
     "text": [
      "(227619, 301) (56905, 301)\n",
      "(227619,) (56905,)\n"
     ]
    }
   ],
   "source": [
    "# для линейных моделей \n",
    "X_train_ohe, X_test_ohe, y_train_ohe, y_test_ohe = train_test_split_func(df_ohe)\n",
    "print(X_train_ohe.shape, X_test_ohe.shape)\n",
    "print(y_train_ohe.shape, y_test_ohe.shape)"
   ]
  },
  {
   "cell_type": "markdown",
   "metadata": {},
   "source": [
    "### Ridge"
   ]
  },
  {
   "cell_type": "markdown",
   "metadata": {},
   "source": [
    "Напишем функцию, для вычесления метрики `rmse_func`"
   ]
  },
  {
   "cell_type": "code",
   "execution_count": 61,
   "metadata": {},
   "outputs": [],
   "source": [
    "def rmse_func(y, y_pred):\n",
    "    \"\"\"\n",
    "    y - целевой признак\n",
    "    y_pred - предсказания модели\n",
    "    \n",
    "    \"\"\"\n",
    "    error = (y - y_pred) ** 2\n",
    "    rmse = np.sqrt(np.mean(error))\n",
    "    return rmse"
   ]
  },
  {
   "cell_type": "markdown",
   "metadata": {},
   "source": [
    "Определим кастомную функцию оценки качества модели`rmse_scorer`:"
   ]
  },
  {
   "cell_type": "code",
   "execution_count": 62,
   "metadata": {},
   "outputs": [],
   "source": [
    "rmse_scorer = make_scorer(rmse_func, greater_is_better=False)"
   ]
  },
  {
   "cell_type": "markdown",
   "metadata": {},
   "source": [
    "Напишем функцию `grid_search_func` для проведения поиска по решетке, вывода лучших параметров модели и метрики. Функция будет возвращать лучший оценщик"
   ]
  },
  {
   "cell_type": "code",
   "execution_count": 63,
   "metadata": {},
   "outputs": [],
   "source": [
    "def grid_search_func(model, parameters, features_train, target_train):\n",
    "    \"\"\"\n",
    "    model - модель\n",
    "    param_grid - параметры для поиска по решетке\n",
    "    features_train - входные признаки обучающая выборка\n",
    "    target_train - входные признаки тестовая выборка\n",
    "    \n",
    "    \"\"\"\n",
    "    gs = GridSearchCV(estimator=model, param_grid=parameters, \n",
    "                      scoring=rmse_scorer, cv=5, verbose=0)\n",
    "    gs.fit(features_train, target_train)\n",
    "    gs_best_estimator = gs.best_estimator_\n",
    "    print('Best parameters:', gs.best_params_)\n",
    "    print('Best RMSE = %.4f' % abs(gs.best_score_))\n",
    "    return gs_best_estimator, gs"
   ]
  },
  {
   "cell_type": "markdown",
   "metadata": {},
   "source": [
    "Ridge — линейная регрессия с оптимизацией MSE и $l_{2}$-регуляризацией"
   ]
  },
  {
   "cell_type": "code",
   "execution_count": 64,
   "metadata": {},
   "outputs": [],
   "source": [
    "ridge_pipeline = Pipeline([\n",
    "    ('scaler', StandardScaler()),\n",
    "    ('regression', Ridge(random_state=rnd_st))\n",
    "])\n",
    "\n",
    "param_grid = {\n",
    "    'regression__alpha': np.logspace(1, 3, 20)\n",
    "} "
   ]
  },
  {
   "cell_type": "code",
   "execution_count": 65,
   "metadata": {
    "scrolled": true
   },
   "outputs": [
    {
     "name": "stdout",
     "output_type": "stream",
     "text": [
      "Best parameters: {'regression__alpha': 183.29807108324357}\n",
      "Best RMSE = 2425.0859\n",
      "CPU times: user 6min 47s, sys: 1min 25s, total: 8min 13s\n",
      "Wall time: 2min 48s\n"
     ]
    }
   ],
   "source": [
    "%%time\n",
    "gs_ridge_best_estimator, gs_ridge = grid_search_func(ridge_pipeline, param_grid, X_train_ohe, y_train_ohe)"
   ]
  },
  {
   "cell_type": "code",
   "execution_count": 66,
   "metadata": {
    "scrolled": false
   },
   "outputs": [
    {
     "data": {
      "image/png": "[encoded data removed]",
      "text/plain": [
       "<Figure size 576x288 with 1 Axes>"
      ]
     },
     "metadata": {
      "needs_background": "light"
     },
     "output_type": "display_data"
    }
   ],
   "source": [
    "plt.figure(figsize=(8,4))\n",
    "plt.plot(param_grid['regression__alpha'], -gs_ridge.cv_results_['mean_test_score'])\n",
    "plt.xscale('log')\n",
    "plt.title('Зависимость rmse от коэф-та регуляриции')\n",
    "plt.xlabel('alpha')\n",
    "plt.ylabel('CV score')\n",
    "plt.show()"
   ]
  },
  {
   "cell_type": "markdown",
   "metadata": {},
   "source": [
    "### RandomForest"
   ]
  },
  {
   "cell_type": "markdown",
   "metadata": {},
   "source": [
    "Случайный лес:"
   ]
  },
  {
   "cell_type": "code",
   "execution_count": 67,
   "metadata": {
    "scrolled": true
   },
   "outputs": [],
   "source": [
    "rfr_model = RandomForestRegressor(random_state=rnd_st)\n",
    "param_grid = {\n",
    "#    'n_estimators': range(20, 60, 10],\n",
    "    'n_estimators': [50],\n",
    "#     'max_depth': [10,20,30]\n",
    "    'max_depth': [30]\n",
    "}"
   ]
  },
  {
   "cell_type": "code",
   "execution_count": 68,
   "metadata": {
    "scrolled": false
   },
   "outputs": [
    {
     "name": "stdout",
     "output_type": "stream",
     "text": [
      "Best parameters: {'max_depth': 30, 'n_estimators': 50}\n",
      "Best RMSE = 1490.0922\n",
      "CPU times: user 1min 19s, sys: 937 ms, total: 1min 20s\n",
      "Wall time: 1min 20s\n"
     ]
    }
   ],
   "source": [
    "%%time\n",
    "gs_rfr_best_estimator, _ = grid_search_func(rfr_model, param_grid, X_train_ord, y_train_ord)"
   ]
  },
  {
   "cell_type": "markdown",
   "metadata": {},
   "source": [
    "#### Важность признаков"
   ]
  },
  {
   "cell_type": "markdown",
   "metadata": {},
   "source": [
    "Посмотрим какие признаки являются самыми важными для модели в деле предсказания\n",
    "\n",
    "Визуализируем и квантифицируем показатели важности признаков, обратившись к атрибуту `feature_importances_`, который даёт нам важность признаков, оцененные моделью"
   ]
  },
  {
   "cell_type": "code",
   "execution_count": 69,
   "metadata": {},
   "outputs": [],
   "source": [
    "def feature_importances_tree(model, X_train, gain=1):\n",
    "    \"\"\"\n",
    "    model - обученная модель\n",
    "    X_train - входные признаки обучающая выборка\n",
    "    gain - коэффициент для масштабирования важности признаков для графика\n",
    "    \n",
    "    \"\"\"\n",
    "    feats = {}\n",
    "    for feature, importance in zip(X_train.columns, gain*model.feature_importances_):\n",
    "        feats[feature] = importance\n",
    "    importances = pd.DataFrame.from_dict(feats, orient='index').rename(columns={0: 'Gini-Importance'})\n",
    "    importances = importances.sort_values(by='Gini-Importance', ascending=False)\n",
    "    importances = importances.reset_index()\n",
    "    importances = importances.rename(columns={'index': 'Features'})\n",
    "    fig, ax = plt.subplots(figsize=(6,4))\n",
    "    sns.barplot(x=importances['Gini-Importance'], y=importances['Features'], data=importances, color='gold')\n",
    "    plt.xlabel('Важность, %', fontsize=13)\n",
    "    plt.ylabel('Признаки', fontsize=13)\n",
    "    model_name = model.__class__.__name__\n",
    "    plt.title('\"Важность\" признаков для модели {}'.format(model_name), fontsize=14)\n",
    "    plt.show()\n",
    "    display(importances)"
   ]
  },
  {
   "cell_type": "code",
   "execution_count": 70,
   "metadata": {
    "scrolled": false
   },
   "outputs": [
    {
     "data": {
      "image/png": "[encoded data removed]",
      "text/plain": [
       "<Figure size 432x288 with 1 Axes>"
      ]
     },
     "metadata": {
      "needs_background": "light"
     },
     "output_type": "display_data"
    },
    {
     "data": {
      "text/html": [
       "<div>\n",
       "<style scoped>\n",
       "    .dataframe tbody tr th:only-of-type {\n",
       "        vertical-align: middle;\n",
       "    }\n",
       "\n",
       "    .dataframe tbody tr th {\n",
       "        vertical-align: top;\n",
       "    }\n",
       "\n",
       "    .dataframe thead th {\n",
       "        text-align: right;\n",
       "    }\n",
       "</style>\n",
       "<table border=\"1\" class=\"dataframe\">\n",
       "  <thead>\n",
       "    <tr style=\"text-align: right;\">\n",
       "      <th></th>\n",
       "      <th>Features</th>\n",
       "      <th>Gini-Importance</th>\n",
       "    </tr>\n",
       "  </thead>\n",
       "  <tbody>\n",
       "    <tr>\n",
       "      <th>0</th>\n",
       "      <td>car_age</td>\n",
       "      <td>54.3964</td>\n",
       "    </tr>\n",
       "    <tr>\n",
       "      <th>1</th>\n",
       "      <td>power</td>\n",
       "      <td>26.8994</td>\n",
       "    </tr>\n",
       "    <tr>\n",
       "      <th>2</th>\n",
       "      <td>kilometer</td>\n",
       "      <td>6.1257</td>\n",
       "    </tr>\n",
       "    <tr>\n",
       "      <th>3</th>\n",
       "      <td>model</td>\n",
       "      <td>3.6819</td>\n",
       "    </tr>\n",
       "    <tr>\n",
       "      <th>4</th>\n",
       "      <td>brand</td>\n",
       "      <td>3.3998</td>\n",
       "    </tr>\n",
       "    <tr>\n",
       "      <th>5</th>\n",
       "      <td>vehicle_type</td>\n",
       "      <td>3.1327</td>\n",
       "    </tr>\n",
       "    <tr>\n",
       "      <th>6</th>\n",
       "      <td>not_repaired</td>\n",
       "      <td>0.9994</td>\n",
       "    </tr>\n",
       "    <tr>\n",
       "      <th>7</th>\n",
       "      <td>fuel_type</td>\n",
       "      <td>0.6925</td>\n",
       "    </tr>\n",
       "    <tr>\n",
       "      <th>8</th>\n",
       "      <td>gearbox</td>\n",
       "      <td>0.6723</td>\n",
       "    </tr>\n",
       "  </tbody>\n",
       "</table>\n",
       "</div>"
      ],
      "text/plain": [
       "       Features  Gini-Importance\n",
       "0       car_age          54.3964\n",
       "1         power          26.8994\n",
       "2     kilometer           6.1257\n",
       "3         model           3.6819\n",
       "4         brand           3.3998\n",
       "5  vehicle_type           3.1327\n",
       "6  not_repaired           0.9994\n",
       "7     fuel_type           0.6925\n",
       "8       gearbox           0.6723"
      ]
     },
     "metadata": {},
     "output_type": "display_data"
    }
   ],
   "source": [
    "feature_importances_tree(gs_rfr_best_estimator, X_train_ord, gain=100)"
   ]
  },
  {
   "cell_type": "markdown",
   "metadata": {},
   "source": [
    "Видим, что сгенерированный признак `car_age` является самым важным для модели"
   ]
  },
  {
   "cell_type": "markdown",
   "metadata": {},
   "source": [
    "### LightGBM"
   ]
  },
  {
   "cell_type": "code",
   "execution_count": 71,
   "metadata": {
    "scrolled": true
   },
   "outputs": [],
   "source": [
    "lgbm_model = LGBMRegressor(force_col_wise=True, verbose=0, seed=rnd_st)\n",
    "param_grid = {\n",
    "    'boosting_type' : ['gbdt'],\n",
    "#    'learning_rate': range(0.10, 0.30, 0.02],\n",
    "    'learning_rate': [0.16],\n",
    "#    'n_estimators': range(500, 800, 100),\n",
    "    'n_estimators': [700],\n",
    "}"
   ]
  },
  {
   "cell_type": "code",
   "execution_count": 72,
   "metadata": {},
   "outputs": [
    {
     "name": "stdout",
     "output_type": "stream",
     "text": [
      "Best parameters: {'boosting_type': 'gbdt', 'learning_rate': 0.16, 'n_estimators': 700}\n",
      "Best RMSE = 1420.8921\n",
      "CPU times: user 2min 53s, sys: 1.77 s, total: 2min 55s\n",
      "Wall time: 11.2 s\n"
     ]
    }
   ],
   "source": [
    "%%time\n",
    "gs_lgbm_best_estimator, _ = grid_search_func(lgbm_model, param_grid, X_train_cat, y_train_cat)"
   ]
  },
  {
   "cell_type": "markdown",
   "metadata": {},
   "source": [
    "#### Важность признаков"
   ]
  },
  {
   "cell_type": "code",
   "execution_count": 73,
   "metadata": {
    "scrolled": false
   },
   "outputs": [
    {
     "data": {
      "image/png": "[encoded data removed]",
      "text/plain": [
       "<Figure size 432x288 with 1 Axes>"
      ]
     },
     "metadata": {
      "needs_background": "light"
     },
     "output_type": "display_data"
    },
    {
     "data": {
      "text/html": [
       "<div>\n",
       "<style scoped>\n",
       "    .dataframe tbody tr th:only-of-type {\n",
       "        vertical-align: middle;\n",
       "    }\n",
       "\n",
       "    .dataframe tbody tr th {\n",
       "        vertical-align: top;\n",
       "    }\n",
       "\n",
       "    .dataframe thead th {\n",
       "        text-align: right;\n",
       "    }\n",
       "</style>\n",
       "<table border=\"1\" class=\"dataframe\">\n",
       "  <thead>\n",
       "    <tr style=\"text-align: right;\">\n",
       "      <th></th>\n",
       "      <th>Features</th>\n",
       "      <th>Gini-Importance</th>\n",
       "    </tr>\n",
       "  </thead>\n",
       "  <tbody>\n",
       "    <tr>\n",
       "      <th>0</th>\n",
       "      <td>power</td>\n",
       "      <td>22.3641</td>\n",
       "    </tr>\n",
       "    <tr>\n",
       "      <th>1</th>\n",
       "      <td>car_age</td>\n",
       "      <td>17.9883</td>\n",
       "    </tr>\n",
       "    <tr>\n",
       "      <th>2</th>\n",
       "      <td>kilometer</td>\n",
       "      <td>10.7184</td>\n",
       "    </tr>\n",
       "    <tr>\n",
       "      <th>3</th>\n",
       "      <td>model</td>\n",
       "      <td>10.5138</td>\n",
       "    </tr>\n",
       "    <tr>\n",
       "      <th>4</th>\n",
       "      <td>vehicle_type</td>\n",
       "      <td>2.3661</td>\n",
       "    </tr>\n",
       "    <tr>\n",
       "      <th>5</th>\n",
       "      <td>gearbox</td>\n",
       "      <td>2.2209</td>\n",
       "    </tr>\n",
       "    <tr>\n",
       "      <th>6</th>\n",
       "      <td>brand</td>\n",
       "      <td>1.2111</td>\n",
       "    </tr>\n",
       "    <tr>\n",
       "      <th>7</th>\n",
       "      <td>not_repaired</td>\n",
       "      <td>1.0725</td>\n",
       "    </tr>\n",
       "    <tr>\n",
       "      <th>8</th>\n",
       "      <td>fuel_type</td>\n",
       "      <td>0.8448</td>\n",
       "    </tr>\n",
       "  </tbody>\n",
       "</table>\n",
       "</div>"
      ],
      "text/plain": [
       "       Features  Gini-Importance\n",
       "0         power          22.3641\n",
       "1       car_age          17.9883\n",
       "2     kilometer          10.7184\n",
       "3         model          10.5138\n",
       "4  vehicle_type           2.3661\n",
       "5       gearbox           2.2209\n",
       "6         brand           1.2111\n",
       "7  not_repaired           1.0725\n",
       "8     fuel_type           0.8448"
      ]
     },
     "metadata": {},
     "output_type": "display_data"
    }
   ],
   "source": [
    "feature_importances_tree(gs_lgbm_best_estimator, X_train_cat, gain=0.0033)"
   ]
  },
  {
   "cell_type": "markdown",
   "metadata": {},
   "source": [
    "А тут сгенерированный признак `car_age` является вторым по важности для модели"
   ]
  },
  {
   "cell_type": "markdown",
   "metadata": {},
   "source": [
    "### CatBoostRegressor"
   ]
  },
  {
   "cell_type": "code",
   "execution_count": 74,
   "metadata": {},
   "outputs": [],
   "source": [
    "cbr_model = CatBoostRegressor(loss_function='RMSE', random_state=rnd_st, silent=True,\n",
    "                              cat_features=categorical_features)\n",
    "param_grid = {\n",
    "    'learning_rate': [0.5], \n",
    "    'iterations': [700]\n",
    "}"
   ]
  },
  {
   "cell_type": "code",
   "execution_count": 75,
   "metadata": {
    "scrolled": false
   },
   "outputs": [
    {
     "name": "stdout",
     "output_type": "stream",
     "text": [
      "Best parameters: {'iterations': 700, 'learning_rate': 0.5}\n",
      "Best RMSE = 1466.6187\n",
      "CPU times: user 19min 38s, sys: 17.4 s, total: 19min 55s\n",
      "Wall time: 1min 39s\n"
     ]
    }
   ],
   "source": [
    "%%time\n",
    "gs_cbr_best_estimator, _ = grid_search_func(cbr_model, param_grid, X_train_cat, y_train_cat)"
   ]
  },
  {
   "cell_type": "markdown",
   "metadata": {},
   "source": [
    "#### Важность признаков"
   ]
  },
  {
   "cell_type": "code",
   "execution_count": 76,
   "metadata": {
    "scrolled": false
   },
   "outputs": [
    {
     "data": {
      "image/png": "[encoded data removed]",
      "text/plain": [
       "<Figure size 432x288 with 1 Axes>"
      ]
     },
     "metadata": {
      "needs_background": "light"
     },
     "output_type": "display_data"
    },
    {
     "data": {
      "text/html": [
       "<div>\n",
       "<style scoped>\n",
       "    .dataframe tbody tr th:only-of-type {\n",
       "        vertical-align: middle;\n",
       "    }\n",
       "\n",
       "    .dataframe tbody tr th {\n",
       "        vertical-align: top;\n",
       "    }\n",
       "\n",
       "    .dataframe thead th {\n",
       "        text-align: right;\n",
       "    }\n",
       "</style>\n",
       "<table border=\"1\" class=\"dataframe\">\n",
       "  <thead>\n",
       "    <tr style=\"text-align: right;\">\n",
       "      <th></th>\n",
       "      <th>Features</th>\n",
       "      <th>Gini-Importance</th>\n",
       "    </tr>\n",
       "  </thead>\n",
       "  <tbody>\n",
       "    <tr>\n",
       "      <th>0</th>\n",
       "      <td>car_age</td>\n",
       "      <td>38.6890</td>\n",
       "    </tr>\n",
       "    <tr>\n",
       "      <th>1</th>\n",
       "      <td>power</td>\n",
       "      <td>28.6680</td>\n",
       "    </tr>\n",
       "    <tr>\n",
       "      <th>2</th>\n",
       "      <td>kilometer</td>\n",
       "      <td>11.6603</td>\n",
       "    </tr>\n",
       "    <tr>\n",
       "      <th>3</th>\n",
       "      <td>brand</td>\n",
       "      <td>6.9990</td>\n",
       "    </tr>\n",
       "    <tr>\n",
       "      <th>4</th>\n",
       "      <td>vehicle_type</td>\n",
       "      <td>5.7630</td>\n",
       "    </tr>\n",
       "    <tr>\n",
       "      <th>5</th>\n",
       "      <td>model</td>\n",
       "      <td>4.7071</td>\n",
       "    </tr>\n",
       "    <tr>\n",
       "      <th>6</th>\n",
       "      <td>not_repaired</td>\n",
       "      <td>1.5460</td>\n",
       "    </tr>\n",
       "    <tr>\n",
       "      <th>7</th>\n",
       "      <td>fuel_type</td>\n",
       "      <td>1.4064</td>\n",
       "    </tr>\n",
       "    <tr>\n",
       "      <th>8</th>\n",
       "      <td>gearbox</td>\n",
       "      <td>0.5612</td>\n",
       "    </tr>\n",
       "  </tbody>\n",
       "</table>\n",
       "</div>"
      ],
      "text/plain": [
       "       Features  Gini-Importance\n",
       "0       car_age          38.6890\n",
       "1         power          28.6680\n",
       "2     kilometer          11.6603\n",
       "3         brand           6.9990\n",
       "4  vehicle_type           5.7630\n",
       "5         model           4.7071\n",
       "6  not_repaired           1.5460\n",
       "7     fuel_type           1.4064\n",
       "8       gearbox           0.5612"
      ]
     },
     "metadata": {},
     "output_type": "display_data"
    }
   ],
   "source": [
    "feature_importances_tree(gs_cbr_best_estimator, X_train_cat)"
   ]
  },
  {
   "cell_type": "markdown",
   "metadata": {},
   "source": [
    "И снова сгенерированный признак `car_age` является самым важным для модели"
   ]
  },
  {
   "cell_type": "markdown",
   "metadata": {},
   "source": [
    "**Вывод:**\n",
    "- произвели кодирование признаков\n",
    "- разделили данные на обучающую и тестовую выборки\n",
    "- с помощью поиска по решетке нашли лучшие значения гиперпараметров для разных моделей\n",
    "- нашли важные признаки для моделей"
   ]
  },
  {
   "cell_type": "markdown",
   "metadata": {},
   "source": [
    "## Анализ моделей"
   ]
  },
  {
   "cell_type": "markdown",
   "metadata": {},
   "source": [
    "Таблица `results` для хранения результатов:"
   ]
  },
  {
   "cell_type": "code",
   "execution_count": 77,
   "metadata": {},
   "outputs": [],
   "source": [
    "data = {'model_name': [], 'rmse': [], 'r2': [], 'learning_time': [], 'predicting_time': []}\n",
    "results = pd.DataFrame(data=data)"
   ]
  },
  {
   "cell_type": "markdown",
   "metadata": {},
   "source": [
    "Напишем функцию `model_result` проверки качества моделей на тестовой выборке и добавления результатов в общую таблицу результатов:"
   ]
  },
  {
   "cell_type": "code",
   "execution_count": 78,
   "metadata": {
    "code_folding": []
   },
   "outputs": [],
   "source": [
    "def model_result(comment, model, X_train, X_test, y_train, y_test, plot=False):\n",
    "    \"\"\"\n",
    "    comment - комментарий в таблицу\n",
    "    model - модель\n",
    "    X_train - входные признаки обучающая выборка\n",
    "    X_test - входные признаки тестовая выборка\n",
    "    y_train - целевой признак обучающая выборка\n",
    "    y_test - целевой признак тестовая выборка\n",
    "    plot - True - визуализация ошибки прогнозирования\n",
    "    \n",
    "    \"\"\"\n",
    "    fit_time_start = time.time()\n",
    "    model.fit(X_train, y_train)\n",
    "    fit_time_stop = time.time()\n",
    "    fit_time = fit_time_stop - fit_time_start\n",
    "    predict_time_start = time.time()\n",
    "    y_pred = model.predict(X_test)\n",
    "    predict_time_stop = time.time()\n",
    "    predict_time = predict_time_stop - predict_time_start\n",
    "    rmse = rmse_func(y_test, y_pred)\n",
    "    r2 = r2_score(y_test, y_pred)\n",
    "    results.loc[len(results)] = [comment, rmse, r2, fit_time, predict_time]\n",
    "    results.drop_duplicates(subset=['model_name'], inplace=True)\n",
    "    if plot:\n",
    "        plt.figure(figsize=(16,8))\n",
    "        sns.lineplot(x=y_test,y=(y_test - y_pred))\n",
    "        plt.xlabel('Цена автомобиля, евро', fontsize=13)\n",
    "        plt.ylabel('Ошибка предсказания, евро', fontsize=13)\n",
    "        plt.grid(True, color = \"grey\", linewidth = \"1.4\")\n",
    "        plt.title('Ошибка предсказания для модели {}'.format(comment), fontsize=14)\n",
    "        plt.show()"
   ]
  },
  {
   "cell_type": "markdown",
   "metadata": {},
   "source": [
    "Добавим в таблицу результатов константную модель"
   ]
  },
  {
   "cell_type": "code",
   "execution_count": 79,
   "metadata": {},
   "outputs": [],
   "source": [
    "dummy = DummyRegressor(strategy='mean')"
   ]
  },
  {
   "cell_type": "markdown",
   "metadata": {},
   "source": [
    "В словари dict1, dict2 и dict3 запишем названия моделей и комментарии для таблицы результатов, а с помощью циклов вызовем функцию `model_result` для проверки качества моделей на тестовой выборке и добавления результатов в общую таблицу результатов:"
   ]
  },
  {
   "cell_type": "code",
   "execution_count": 80,
   "metadata": {},
   "outputs": [],
   "source": [
    "dict1_ohe = {\n",
    "    'Ridge': gs_ridge_best_estimator\n",
    "}\n",
    "dict2_ord = {\n",
    "    'RandomForest': gs_rfr_best_estimator\n",
    "}\n",
    "dict3_cat = {\n",
    "    'LightGBM': gs_lgbm_best_estimator,\n",
    "    'Catboost': gs_cbr_best_estimator,\n",
    "    'Dummy_mean': dummy\n",
    "}"
   ]
  },
  {
   "cell_type": "code",
   "execution_count": 81,
   "metadata": {},
   "outputs": [
    {
     "data": {
      "image/png": "[encoded data removed]",
      "text/plain": [
       "<Figure size 1152x576 with 1 Axes>"
      ]
     },
     "metadata": {
      "needs_background": "light"
     },
     "output_type": "display_data"
    }
   ],
   "source": [
    "dict1_ohe = {\n",
    "    'Ridge': gs_ridge_best_estimator\n",
    "}\n",
    "for comment, model in dict1_ohe.items():\n",
    "    model_result(comment, model, X_train_ohe, X_test_ohe, y_train_ohe, y_test_ohe, plot=True)"
   ]
  },
  {
   "cell_type": "code",
   "execution_count": 82,
   "metadata": {},
   "outputs": [],
   "source": [
    "for comment, model in dict2_ord.items():\n",
    "    model_result(comment, model, X_train_ord, X_test_ord, y_train_ord, y_test_ord)"
   ]
  },
  {
   "cell_type": "code",
   "execution_count": 83,
   "metadata": {
    "scrolled": false
   },
   "outputs": [],
   "source": [
    "for comment, model in dict3_cat.items():\n",
    "    model_result(comment, model, X_train_cat, X_test_cat, y_train_cat, y_test_cat)"
   ]
  },
  {
   "cell_type": "markdown",
   "metadata": {},
   "source": [
    "Результаты на тестовой выборке:"
   ]
  },
  {
   "cell_type": "code",
   "execution_count": 84,
   "metadata": {
    "scrolled": true
   },
   "outputs": [
    {
     "data": {
      "text/html": [
       "<div>\n",
       "<style scoped>\n",
       "    .dataframe tbody tr th:only-of-type {\n",
       "        vertical-align: middle;\n",
       "    }\n",
       "\n",
       "    .dataframe tbody tr th {\n",
       "        vertical-align: top;\n",
       "    }\n",
       "\n",
       "    .dataframe thead th {\n",
       "        text-align: right;\n",
       "    }\n",
       "</style>\n",
       "<table border=\"1\" class=\"dataframe\">\n",
       "  <thead>\n",
       "    <tr style=\"text-align: right;\">\n",
       "      <th></th>\n",
       "      <th>model_name</th>\n",
       "      <th>rmse</th>\n",
       "      <th>r2</th>\n",
       "      <th>learning_time</th>\n",
       "      <th>predicting_time</th>\n",
       "    </tr>\n",
       "  </thead>\n",
       "  <tbody>\n",
       "    <tr>\n",
       "      <th>0</th>\n",
       "      <td>Ridge</td>\n",
       "      <td>2,418.0709</td>\n",
       "      <td>0.7164</td>\n",
       "      <td>2.7717</td>\n",
       "      <td>0.1792</td>\n",
       "    </tr>\n",
       "    <tr>\n",
       "      <th>1</th>\n",
       "      <td>RandomForest</td>\n",
       "      <td>1,469.7708</td>\n",
       "      <td>0.8952</td>\n",
       "      <td>15.2620</td>\n",
       "      <td>0.7604</td>\n",
       "    </tr>\n",
       "    <tr>\n",
       "      <th>2</th>\n",
       "      <td>LightGBM</td>\n",
       "      <td>1,422.0744</td>\n",
       "      <td>0.9019</td>\n",
       "      <td>1.8473</td>\n",
       "      <td>0.2113</td>\n",
       "    </tr>\n",
       "    <tr>\n",
       "      <th>3</th>\n",
       "      <td>Catboost</td>\n",
       "      <td>1,468.4706</td>\n",
       "      <td>0.8954</td>\n",
       "      <td>18.9569</td>\n",
       "      <td>0.0600</td>\n",
       "    </tr>\n",
       "    <tr>\n",
       "      <th>4</th>\n",
       "      <td>Dummy_mean</td>\n",
       "      <td>4,540.9415</td>\n",
       "      <td>-0.0000</td>\n",
       "      <td>0.0003</td>\n",
       "      <td>0.0001</td>\n",
       "    </tr>\n",
       "  </tbody>\n",
       "</table>\n",
       "</div>"
      ],
      "text/plain": [
       "     model_name       rmse      r2  learning_time  predicting_time\n",
       "0         Ridge 2,418.0709  0.7164         2.7717           0.1792\n",
       "1  RandomForest 1,469.7708  0.8952        15.2620           0.7604\n",
       "2      LightGBM 1,422.0744  0.9019         1.8473           0.2113\n",
       "3      Catboost 1,468.4706  0.8954        18.9569           0.0600\n",
       "4    Dummy_mean 4,540.9415 -0.0000         0.0003           0.0001"
      ]
     },
     "execution_count": 84,
     "metadata": {},
     "output_type": "execute_result"
    }
   ],
   "source": [
    "results"
   ]
  },
  {
   "cell_type": "markdown",
   "metadata": {},
   "source": [
    "Посмотрим на результаты:"
   ]
  },
  {
   "cell_type": "code",
   "execution_count": 85,
   "metadata": {},
   "outputs": [
    {
     "data": {
      "image/png": "[encoded data removed]",
      "text/plain": [
       "<Figure size 864x1152 with 4 Axes>"
      ]
     },
     "metadata": {
      "needs_background": "light"
     },
     "output_type": "display_data"
    }
   ],
   "source": [
    "sns.set_palette(palette='pastel')\n",
    "fig, ax = plt.subplots(4, 1, figsize=(12, 16))\n",
    "sns.barplot(data=results, x='model_name', y='rmse', ax=ax[0])\n",
    "ax[0].set_title('Результаты обучения моделей')\n",
    "ax[0].set_xlabel('')\n",
    "sns.barplot(data=results, x='model_name', y='r2', ax=ax[1])\n",
    "ax[1].set_xlabel('')\n",
    "sns.barplot(data=results, x='model_name', y='learning_time', ax=ax[2])\n",
    "ax[2].set_xlabel('')\n",
    "sns.barplot(data=results, x='model_name', y='predicting_time', ax=ax[3])\n",
    "ax[3].set_xlabel('')\n",
    "for ax in fig.axes:\n",
    "    ax.tick_params(labelrotation=11)\n",
    "plt.show()"
   ]
  },
  {
   "cell_type": "markdown",
   "metadata": {},
   "source": [
    "**Вывод**:\n",
    "\n",
    "Проведенный анализ с проверкой моделей на тестовой выборке показал, что наилучшую метрику `rmse` возможно получить с применением библиотеки `LightGBM`: rmse = 1_416. Близкое к данной метрике значение дали модели `Catboost` и `случайного леса`, но при этом они значительно дольше обучается: 3.0702 сек у `LightGBM` против 17.4493 сек у `случайного леса` и 19.3662 сек у `Catboost`. Как показала практика, модели `случайного леса` и `Catboost` можно и дальше улучшать путем увеличения количества деревьев, но при этом растет время обучения моделей.\n",
    "\n",
    "Линейная модель дала плохой результат в предсказании, но показала самое быстрое время обучения и время предсказания"
   ]
  },
  {
   "cell_type": "markdown",
   "metadata": {},
   "source": [
    "## Вывод\n",
    "\n",
    "В ходе работы были созданы предсказательные модели, использующие различные алгоритмы обучения. В ходе обучения и предсказания, были сделаны замеры времения исполнения. Предсказания были сделаны на выделенной из исходных данных тестовой выборке. Можно сделать следующие выводы:\n",
    "\n",
    "- линейные модели дают плохой скор, но самое лучшее время обучения и предсказания;\n",
    "- Catboost и случайный лес дают высокое качество и скорость предсказания, но время обучения модели проигрывает LightGBM;\n",
    "- Модель LightGBM дает самое лучшее качество, приемлимое время обучения и низкое время предсказания.\n",
    "\n",
    "По условию задачи для заказчика важными параметрами являются качество предсказания, время обучения и скорость предсказания. Модель LightGBM является однозначным победителем среди всех других моделей\n",
    "\n",
    "Все рассмотренные модели предсказывают в разы лучше константной модели, но средняя ошибка предсказания в 1400 евро остается весьма ощутимой. Возможно, качество предсказаний можно улучшить оптимизировав методы сбора данных, так как в исходных данных было много пропусков"
   ]
  }
 ],
 "metadata": {
  "ExecuteTimeLog": [
   {
    "duration": 756,
    "start_time": "2022-02-07T04:33:41.751Z"
   },
   {
    "duration": 344,
    "start_time": "2022-02-07T04:34:13.677Z"
   },
   {
    "duration": 1937,
    "start_time": "2022-02-07T04:34:31.588Z"
   },
   {
    "duration": 178,
    "start_time": "2022-02-07T04:34:53.006Z"
   },
   {
    "duration": 26,
    "start_time": "2022-02-07T04:35:25.841Z"
   },
   {
    "duration": 33,
    "start_time": "2022-02-07T04:38:04.747Z"
   },
   {
    "duration": 224,
    "start_time": "2022-02-07T10:53:29.206Z"
   },
   {
    "duration": 184,
    "start_time": "2022-02-07T10:53:38.776Z"
   },
   {
    "duration": 528,
    "start_time": "2022-02-07T10:54:52.707Z"
   },
   {
    "duration": 135,
    "start_time": "2022-02-07T10:54:55.205Z"
   },
   {
    "duration": 18,
    "start_time": "2022-02-07T10:54:56.757Z"
   },
   {
    "duration": 24,
    "start_time": "2022-02-07T10:55:07.569Z"
   },
   {
    "duration": 5,
    "start_time": "2022-02-07T10:55:10.676Z"
   },
   {
    "duration": 4,
    "start_time": "2022-02-07T10:56:15.259Z"
   },
   {
    "duration": 4,
    "start_time": "2022-02-07T10:56:21.962Z"
   },
   {
    "duration": 60,
    "start_time": "2022-02-07T10:58:03.440Z"
   },
   {
    "duration": 38,
    "start_time": "2022-02-07T10:58:57.880Z"
   },
   {
    "duration": 198,
    "start_time": "2022-02-07T10:59:45.976Z"
   },
   {
    "duration": 4,
    "start_time": "2022-02-07T10:59:53.457Z"
   },
   {
    "duration": 40,
    "start_time": "2022-02-07T11:00:07.890Z"
   },
   {
    "duration": 4,
    "start_time": "2022-02-07T11:00:10.588Z"
   },
   {
    "duration": 13,
    "start_time": "2022-02-07T11:02:10.391Z"
   },
   {
    "duration": 5,
    "start_time": "2022-02-07T11:02:12.680Z"
   },
   {
    "duration": 619,
    "start_time": "2022-02-07T11:02:54.738Z"
   },
   {
    "duration": 158,
    "start_time": "2022-02-07T11:02:55.360Z"
   },
   {
    "duration": 16,
    "start_time": "2022-02-07T11:02:55.520Z"
   },
   {
    "duration": 46,
    "start_time": "2022-02-07T11:02:55.538Z"
   },
   {
    "duration": 13,
    "start_time": "2022-02-07T11:02:55.586Z"
   },
   {
    "duration": 19,
    "start_time": "2022-02-07T11:02:55.601Z"
   },
   {
    "duration": 8,
    "start_time": "2022-02-07T11:02:55.622Z"
   },
   {
    "duration": 3,
    "start_time": "2022-02-07T11:02:55.633Z"
   },
   {
    "duration": 3,
    "start_time": "2022-02-07T11:02:55.639Z"
   },
   {
    "duration": 5,
    "start_time": "2022-02-07T11:02:55.644Z"
   },
   {
    "duration": 9,
    "start_time": "2022-02-07T11:02:55.650Z"
   },
   {
    "duration": 14,
    "start_time": "2022-02-07T11:02:55.661Z"
   },
   {
    "duration": 5,
    "start_time": "2022-02-07T11:02:55.677Z"
   },
   {
    "duration": 4,
    "start_time": "2022-02-07T11:02:55.684Z"
   },
   {
    "duration": 5,
    "start_time": "2022-02-07T11:02:55.689Z"
   },
   {
    "duration": 11,
    "start_time": "2022-02-07T11:02:55.696Z"
   },
   {
    "duration": 13,
    "start_time": "2022-02-07T11:02:55.708Z"
   },
   {
    "duration": 19,
    "start_time": "2022-02-07T11:02:55.722Z"
   },
   {
    "duration": 15,
    "start_time": "2022-02-07T11:02:55.742Z"
   },
   {
    "duration": 19,
    "start_time": "2022-02-07T11:02:55.759Z"
   },
   {
    "duration": 21,
    "start_time": "2022-02-07T11:02:55.779Z"
   },
   {
    "duration": 8,
    "start_time": "2022-02-07T11:02:55.801Z"
   },
   {
    "duration": 16,
    "start_time": "2022-02-07T11:02:55.812Z"
   },
   {
    "duration": 12,
    "start_time": "2022-02-07T11:02:55.830Z"
   },
   {
    "duration": 15,
    "start_time": "2022-02-07T11:02:55.844Z"
   },
   {
    "duration": 37,
    "start_time": "2022-02-07T11:02:55.861Z"
   },
   {
    "duration": 16,
    "start_time": "2022-02-07T11:02:55.900Z"
   },
   {
    "duration": 15,
    "start_time": "2022-02-07T11:02:55.918Z"
   },
   {
    "duration": 21,
    "start_time": "2022-02-07T11:02:55.934Z"
   },
   {
    "duration": 28,
    "start_time": "2022-02-07T11:02:55.957Z"
   },
   {
    "duration": 27,
    "start_time": "2022-02-07T11:02:55.987Z"
   },
   {
    "duration": 15,
    "start_time": "2022-02-07T11:02:56.016Z"
   },
   {
    "duration": 22,
    "start_time": "2022-02-07T11:02:56.032Z"
   },
   {
    "duration": 22,
    "start_time": "2022-02-07T11:02:56.056Z"
   },
   {
    "duration": 21,
    "start_time": "2022-02-07T11:02:56.080Z"
   },
   {
    "duration": 7,
    "start_time": "2022-02-07T11:02:56.103Z"
   },
   {
    "duration": 13,
    "start_time": "2022-02-07T11:02:56.111Z"
   },
   {
    "duration": 19,
    "start_time": "2022-02-07T11:02:56.126Z"
   },
   {
    "duration": 26,
    "start_time": "2022-02-07T11:04:43.076Z"
   },
   {
    "duration": 224,
    "start_time": "2022-02-07T11:24:20.558Z"
   },
   {
    "duration": 531,
    "start_time": "2022-02-07T11:25:16.180Z"
   },
   {
    "duration": 137,
    "start_time": "2022-02-07T11:25:16.713Z"
   },
   {
    "duration": 16,
    "start_time": "2022-02-07T11:25:16.852Z"
   },
   {
    "duration": 25,
    "start_time": "2022-02-07T11:25:16.870Z"
   },
   {
    "duration": 4,
    "start_time": "2022-02-07T11:25:16.897Z"
   },
   {
    "duration": 17,
    "start_time": "2022-02-07T11:25:16.903Z"
   },
   {
    "duration": 12,
    "start_time": "2022-02-07T11:25:16.921Z"
   },
   {
    "duration": 22,
    "start_time": "2022-02-07T11:25:22.231Z"
   },
   {
    "duration": 18,
    "start_time": "2022-02-07T11:25:26.096Z"
   },
   {
    "duration": 23,
    "start_time": "2022-02-07T11:25:45.289Z"
   },
   {
    "duration": 778,
    "start_time": "2022-02-07T13:28:32.172Z"
   },
   {
    "duration": 172,
    "start_time": "2022-02-07T13:28:32.953Z"
   },
   {
    "duration": 30,
    "start_time": "2022-02-07T13:28:33.128Z"
   },
   {
    "duration": 36,
    "start_time": "2022-02-07T13:28:33.161Z"
   },
   {
    "duration": 5,
    "start_time": "2022-02-07T13:28:33.200Z"
   },
   {
    "duration": 50,
    "start_time": "2022-02-07T13:28:33.209Z"
   },
   {
    "duration": 10,
    "start_time": "2022-02-07T13:28:33.262Z"
   },
   {
    "duration": 31,
    "start_time": "2022-02-07T13:28:33.274Z"
   },
   {
    "duration": 50,
    "start_time": "2022-02-07T13:28:33.310Z"
   },
   {
    "duration": 34,
    "start_time": "2022-02-07T13:28:33.362Z"
   },
   {
    "duration": 94,
    "start_time": "2022-02-07T13:28:42.093Z"
   },
   {
    "duration": 86,
    "start_time": "2022-02-07T13:29:01.958Z"
   },
   {
    "duration": 120,
    "start_time": "2022-02-07T13:29:22.652Z"
   },
   {
    "duration": 77,
    "start_time": "2022-02-07T13:29:28.760Z"
   },
   {
    "duration": 453,
    "start_time": "2022-02-07T13:31:42.943Z"
   },
   {
    "duration": 95,
    "start_time": "2022-02-07T13:32:13.031Z"
   },
   {
    "duration": 77,
    "start_time": "2022-02-07T13:32:50.894Z"
   },
   {
    "duration": 352,
    "start_time": "2022-02-07T13:35:17.455Z"
   },
   {
    "duration": 273,
    "start_time": "2022-02-07T13:37:19.248Z"
   },
   {
    "duration": 9,
    "start_time": "2022-02-07T13:38:59.059Z"
   },
   {
    "duration": 300,
    "start_time": "2022-02-07T13:39:24.951Z"
   },
   {
    "duration": 281,
    "start_time": "2022-02-07T13:39:34.196Z"
   },
   {
    "duration": 11,
    "start_time": "2022-02-07T13:41:23.237Z"
   },
   {
    "duration": 98,
    "start_time": "2022-02-07T13:41:46.942Z"
   },
   {
    "duration": 115,
    "start_time": "2022-02-07T13:41:57.428Z"
   },
   {
    "duration": 14,
    "start_time": "2022-02-07T13:42:13.148Z"
   },
   {
    "duration": 60,
    "start_time": "2022-02-07T13:46:27.708Z"
   },
   {
    "duration": 55,
    "start_time": "2022-02-07T13:46:38.229Z"
   },
   {
    "duration": 119,
    "start_time": "2022-02-07T13:50:36.999Z"
   },
   {
    "duration": 95,
    "start_time": "2022-02-07T13:50:57.422Z"
   },
   {
    "duration": 5,
    "start_time": "2022-02-07T13:51:06.310Z"
   },
   {
    "duration": 703,
    "start_time": "2022-02-07T13:53:02.490Z"
   },
   {
    "duration": 5,
    "start_time": "2022-02-07T13:53:39.092Z"
   },
   {
    "duration": 816,
    "start_time": "2022-02-07T13:53:41.279Z"
   },
   {
    "duration": 141,
    "start_time": "2022-02-07T13:55:50.132Z"
   },
   {
    "duration": 4,
    "start_time": "2022-02-07T13:57:24.671Z"
   },
   {
    "duration": 15,
    "start_time": "2022-02-07T13:57:32.807Z"
   },
   {
    "duration": 66,
    "start_time": "2022-02-07T13:58:02.353Z"
   },
   {
    "duration": 95,
    "start_time": "2022-02-07T13:59:19.535Z"
   },
   {
    "duration": 101,
    "start_time": "2022-02-07T13:59:23.586Z"
   },
   {
    "duration": 60,
    "start_time": "2022-02-07T13:59:28.950Z"
   },
   {
    "duration": 5,
    "start_time": "2022-02-07T13:59:32.809Z"
   },
   {
    "duration": 14,
    "start_time": "2022-02-07T13:59:35.471Z"
   },
   {
    "duration": 57,
    "start_time": "2022-02-07T13:59:38.350Z"
   },
   {
    "duration": 9,
    "start_time": "2022-02-07T14:03:21.342Z"
   },
   {
    "duration": 7,
    "start_time": "2022-02-07T14:07:46.453Z"
   },
   {
    "duration": 7,
    "start_time": "2022-02-07T14:07:50.943Z"
   },
   {
    "duration": 9,
    "start_time": "2022-02-07T14:08:13.048Z"
   },
   {
    "duration": 8,
    "start_time": "2022-02-07T14:08:49.894Z"
   },
   {
    "duration": 9,
    "start_time": "2022-02-07T14:09:02.782Z"
   },
   {
    "duration": 49,
    "start_time": "2022-02-07T14:09:30.905Z"
   },
   {
    "duration": 47,
    "start_time": "2022-02-07T14:11:51.276Z"
   },
   {
    "duration": 94,
    "start_time": "2022-02-07T14:12:57.776Z"
   },
   {
    "duration": 13,
    "start_time": "2022-02-07T14:13:46.046Z"
   },
   {
    "duration": 318,
    "start_time": "2022-02-07T14:15:57.789Z"
   },
   {
    "duration": 297,
    "start_time": "2022-02-07T14:16:04.329Z"
   },
   {
    "duration": 17,
    "start_time": "2022-02-07T14:16:43.141Z"
   },
   {
    "duration": 365,
    "start_time": "2022-02-07T17:50:52.794Z"
   },
   {
    "duration": 590,
    "start_time": "2022-02-07T17:51:00.635Z"
   },
   {
    "duration": 162,
    "start_time": "2022-02-07T17:51:01.228Z"
   },
   {
    "duration": 21,
    "start_time": "2022-02-07T17:51:01.395Z"
   },
   {
    "duration": 25,
    "start_time": "2022-02-07T17:51:01.417Z"
   },
   {
    "duration": 5,
    "start_time": "2022-02-07T17:51:04.272Z"
   },
   {
    "duration": 3,
    "start_time": "2022-02-07T17:51:11.948Z"
   },
   {
    "duration": 4,
    "start_time": "2022-02-07T17:51:34.494Z"
   },
   {
    "duration": 14,
    "start_time": "2022-02-07T17:51:39.948Z"
   },
   {
    "duration": 3,
    "start_time": "2022-02-07T17:51:42.829Z"
   },
   {
    "duration": 22,
    "start_time": "2022-02-07T17:52:02.197Z"
   },
   {
    "duration": 84,
    "start_time": "2022-02-07T17:54:08.847Z"
   },
   {
    "duration": 16,
    "start_time": "2022-02-07T18:00:23.248Z"
   },
   {
    "duration": 20,
    "start_time": "2022-02-07T18:00:36.507Z"
   },
   {
    "duration": 15,
    "start_time": "2022-02-07T18:01:13.169Z"
   },
   {
    "duration": 17,
    "start_time": "2022-02-07T18:01:31.773Z"
   },
   {
    "duration": 11,
    "start_time": "2022-02-07T18:01:35.164Z"
   },
   {
    "duration": 101,
    "start_time": "2022-02-07T18:02:14.387Z"
   },
   {
    "duration": 17,
    "start_time": "2022-02-07T18:02:19.770Z"
   },
   {
    "duration": 3,
    "start_time": "2022-02-07T18:15:58.162Z"
   },
   {
    "duration": 2,
    "start_time": "2022-02-07T18:16:12.498Z"
   },
   {
    "duration": 18,
    "start_time": "2022-02-07T18:17:40.767Z"
   },
   {
    "duration": 22,
    "start_time": "2022-02-07T18:20:03.163Z"
   },
   {
    "duration": 13,
    "start_time": "2022-02-07T18:21:05.291Z"
   },
   {
    "duration": 3,
    "start_time": "2022-02-07T18:21:51.860Z"
   },
   {
    "duration": 138,
    "start_time": "2022-02-07T18:21:51.865Z"
   },
   {
    "duration": 10,
    "start_time": "2022-02-07T18:21:52.005Z"
   },
   {
    "duration": 23,
    "start_time": "2022-02-07T18:21:52.016Z"
   },
   {
    "duration": 3,
    "start_time": "2022-02-07T18:21:52.041Z"
   },
   {
    "duration": 27,
    "start_time": "2022-02-07T18:21:52.045Z"
   },
   {
    "duration": 4,
    "start_time": "2022-02-07T18:21:52.074Z"
   },
   {
    "duration": 23,
    "start_time": "2022-02-07T18:21:52.080Z"
   },
   {
    "duration": 15,
    "start_time": "2022-02-07T18:21:52.106Z"
   },
   {
    "duration": 19,
    "start_time": "2022-02-07T18:21:52.122Z"
   },
   {
    "duration": 86,
    "start_time": "2022-02-07T18:21:52.143Z"
   },
   {
    "duration": 87,
    "start_time": "2022-02-07T18:21:52.230Z"
   },
   {
    "duration": 45,
    "start_time": "2022-02-07T18:21:52.319Z"
   },
   {
    "duration": 55,
    "start_time": "2022-02-07T18:21:52.365Z"
   },
   {
    "duration": 2,
    "start_time": "2022-02-07T18:21:52.422Z"
   },
   {
    "duration": 12,
    "start_time": "2022-02-07T18:21:52.426Z"
   },
   {
    "duration": 56,
    "start_time": "2022-02-07T18:21:52.439Z"
   },
   {
    "duration": 8,
    "start_time": "2022-02-07T18:21:52.497Z"
   },
   {
    "duration": 8,
    "start_time": "2022-02-07T18:21:52.507Z"
   },
   {
    "duration": 3,
    "start_time": "2022-02-07T18:21:54.852Z"
   },
   {
    "duration": 11,
    "start_time": "2022-02-07T18:21:59.117Z"
   },
   {
    "duration": 15,
    "start_time": "2022-02-07T18:22:02.862Z"
   },
   {
    "duration": 12,
    "start_time": "2022-02-07T18:23:15.397Z"
   },
   {
    "duration": 523,
    "start_time": "2022-02-07T18:23:26.442Z"
   },
   {
    "duration": 3,
    "start_time": "2022-02-07T18:23:41.837Z"
   },
   {
    "duration": 16,
    "start_time": "2022-02-07T18:23:44.362Z"
   },
   {
    "duration": 4,
    "start_time": "2022-02-07T18:23:58.925Z"
   },
   {
    "duration": 13,
    "start_time": "2022-02-07T18:24:01.406Z"
   },
   {
    "duration": 12,
    "start_time": "2022-02-07T18:25:38.447Z"
   },
   {
    "duration": 12,
    "start_time": "2022-02-07T18:26:28.406Z"
   },
   {
    "duration": 13,
    "start_time": "2022-02-07T18:28:23.921Z"
   },
   {
    "duration": 13,
    "start_time": "2022-02-07T18:28:48.251Z"
   },
   {
    "duration": 12,
    "start_time": "2022-02-07T18:28:52.390Z"
   },
   {
    "duration": 11,
    "start_time": "2022-02-07T18:30:50.900Z"
   },
   {
    "duration": 12,
    "start_time": "2022-02-07T18:30:54.828Z"
   },
   {
    "duration": 12,
    "start_time": "2022-02-07T18:32:22.186Z"
   },
   {
    "duration": 12,
    "start_time": "2022-02-07T18:32:25.541Z"
   },
   {
    "duration": 13,
    "start_time": "2022-02-07T18:32:38.403Z"
   },
   {
    "duration": 11,
    "start_time": "2022-02-07T18:32:41.508Z"
   },
   {
    "duration": 13,
    "start_time": "2022-02-07T18:32:48.667Z"
   },
   {
    "duration": 13,
    "start_time": "2022-02-07T18:32:52.035Z"
   },
   {
    "duration": 17,
    "start_time": "2022-02-07T18:32:54.359Z"
   },
   {
    "duration": 12,
    "start_time": "2022-02-07T18:32:55.486Z"
   },
   {
    "duration": 16,
    "start_time": "2022-02-07T18:32:57.760Z"
   },
   {
    "duration": 12,
    "start_time": "2022-02-07T18:33:39.513Z"
   },
   {
    "duration": 12,
    "start_time": "2022-02-07T18:33:40.542Z"
   },
   {
    "duration": 3,
    "start_time": "2022-02-07T18:34:42.539Z"
   },
   {
    "duration": 3,
    "start_time": "2022-02-07T18:34:47.287Z"
   },
   {
    "duration": 20,
    "start_time": "2022-02-07T18:35:13.079Z"
   },
   {
    "duration": 23,
    "start_time": "2022-02-07T18:35:57.110Z"
   },
   {
    "duration": 5,
    "start_time": "2022-02-07T18:36:01.006Z"
   },
   {
    "duration": 22,
    "start_time": "2022-02-07T18:36:02.096Z"
   },
   {
    "duration": 4,
    "start_time": "2022-02-07T18:37:18.892Z"
   },
   {
    "duration": 27,
    "start_time": "2022-02-07T18:37:19.955Z"
   },
   {
    "duration": 5,
    "start_time": "2022-02-07T18:37:52.280Z"
   },
   {
    "duration": 23,
    "start_time": "2022-02-07T18:37:55.693Z"
   },
   {
    "duration": 3,
    "start_time": "2022-02-07T18:38:13.308Z"
   },
   {
    "duration": 16,
    "start_time": "2022-02-07T18:38:14.484Z"
   },
   {
    "duration": 13,
    "start_time": "2022-02-07T18:38:16.222Z"
   },
   {
    "duration": 14,
    "start_time": "2022-02-07T18:38:18.327Z"
   },
   {
    "duration": 18,
    "start_time": "2022-02-07T18:38:19.459Z"
   },
   {
    "duration": 14,
    "start_time": "2022-02-07T18:38:22.390Z"
   },
   {
    "duration": 14,
    "start_time": "2022-02-07T18:38:24.229Z"
   },
   {
    "duration": 4,
    "start_time": "2022-02-07T18:45:10.990Z"
   },
   {
    "duration": 7,
    "start_time": "2022-02-07T18:53:26.192Z"
   },
   {
    "duration": 27,
    "start_time": "2022-02-07T19:03:25.964Z"
   },
   {
    "duration": 36,
    "start_time": "2022-02-07T19:03:30.522Z"
   },
   {
    "duration": 26,
    "start_time": "2022-02-07T19:03:50.748Z"
   },
   {
    "duration": 38,
    "start_time": "2022-02-07T19:03:55.867Z"
   },
   {
    "duration": 663,
    "start_time": "2022-02-07T19:05:11.580Z"
   },
   {
    "duration": 582,
    "start_time": "2022-02-07T19:05:32.741Z"
   },
   {
    "duration": 12,
    "start_time": "2022-02-07T19:05:56.151Z"
   },
   {
    "duration": 37,
    "start_time": "2022-02-07T19:05:58.037Z"
   },
   {
    "duration": 13,
    "start_time": "2022-02-07T19:07:20.931Z"
   },
   {
    "duration": 38,
    "start_time": "2022-02-07T19:07:24.494Z"
   },
   {
    "duration": 12,
    "start_time": "2022-02-07T19:07:41.022Z"
   },
   {
    "duration": 15,
    "start_time": "2022-02-07T19:07:44.738Z"
   },
   {
    "duration": 4,
    "start_time": "2022-02-07T19:07:48.569Z"
   },
   {
    "duration": 15,
    "start_time": "2022-02-07T19:07:50.223Z"
   },
   {
    "duration": 13,
    "start_time": "2022-02-07T19:07:52.995Z"
   },
   {
    "duration": 13,
    "start_time": "2022-02-07T19:07:55.445Z"
   },
   {
    "duration": 15,
    "start_time": "2022-02-07T19:07:56.250Z"
   },
   {
    "duration": 14,
    "start_time": "2022-02-07T19:07:57.083Z"
   },
   {
    "duration": 14,
    "start_time": "2022-02-07T19:07:58.248Z"
   },
   {
    "duration": 7,
    "start_time": "2022-02-07T19:08:01.055Z"
   },
   {
    "duration": 60,
    "start_time": "2022-02-07T19:16:23.737Z"
   },
   {
    "duration": 85,
    "start_time": "2022-02-07T19:29:24.605Z"
   },
   {
    "duration": 9,
    "start_time": "2022-02-07T19:31:46.712Z"
   },
   {
    "duration": 16,
    "start_time": "2022-02-07T19:32:28.904Z"
   },
   {
    "duration": 23,
    "start_time": "2022-02-07T19:32:40.368Z"
   },
   {
    "duration": 26,
    "start_time": "2022-02-07T19:35:37.726Z"
   },
   {
    "duration": 17,
    "start_time": "2022-02-07T19:35:48.343Z"
   },
   {
    "duration": 12,
    "start_time": "2022-02-07T19:36:29.246Z"
   },
   {
    "duration": 9,
    "start_time": "2022-02-07T19:36:30.593Z"
   },
   {
    "duration": 336,
    "start_time": "2022-02-07T19:44:06.925Z"
   },
   {
    "duration": 24,
    "start_time": "2022-02-07T19:44:17.157Z"
   },
   {
    "duration": 20,
    "start_time": "2022-02-07T19:44:28.580Z"
   },
   {
    "duration": 95,
    "start_time": "2022-02-07T19:51:04.937Z"
   },
   {
    "duration": 4,
    "start_time": "2022-02-07T19:51:41.301Z"
   },
   {
    "duration": 19,
    "start_time": "2022-02-07T19:52:17.241Z"
   },
   {
    "duration": 11,
    "start_time": "2022-02-07T19:55:00.334Z"
   },
   {
    "duration": 10,
    "start_time": "2022-02-07T19:55:03.078Z"
   },
   {
    "duration": 3,
    "start_time": "2022-02-07T19:55:08.881Z"
   },
   {
    "duration": 16,
    "start_time": "2022-02-07T19:55:14.247Z"
   },
   {
    "duration": 315,
    "start_time": "2022-02-07T19:55:36.824Z"
   },
   {
    "duration": 290,
    "start_time": "2022-02-07T19:55:45.398Z"
   },
   {
    "duration": 12,
    "start_time": "2022-02-07T19:55:50.444Z"
   },
   {
    "duration": 4,
    "start_time": "2022-02-07T19:56:44.444Z"
   },
   {
    "duration": 38,
    "start_time": "2022-02-07T19:56:46.238Z"
   },
   {
    "duration": 3,
    "start_time": "2022-02-07T19:57:13.353Z"
   },
   {
    "duration": 1345,
    "start_time": "2022-02-07T19:57:14.437Z"
   },
   {
    "duration": 4,
    "start_time": "2022-02-07T19:57:28.324Z"
   },
   {
    "duration": 136,
    "start_time": "2022-02-07T19:57:29.471Z"
   },
   {
    "duration": 115,
    "start_time": "2022-02-07T19:58:25.290Z"
   },
   {
    "duration": 62,
    "start_time": "2022-02-07T19:58:35.850Z"
   },
   {
    "duration": 20,
    "start_time": "2022-02-07T19:58:56.205Z"
   },
   {
    "duration": 3,
    "start_time": "2022-02-07T19:59:18.436Z"
   },
   {
    "duration": 2260,
    "start_time": "2022-02-07T19:59:19.237Z"
   },
   {
    "duration": 1106,
    "start_time": "2022-02-07T19:59:21.499Z"
   },
   {
    "duration": 15,
    "start_time": "2022-02-07T19:59:59.048Z"
   },
   {
    "duration": 11,
    "start_time": "2022-02-07T20:00:01.649Z"
   },
   {
    "duration": 4,
    "start_time": "2022-02-07T20:06:01.748Z"
   },
   {
    "duration": 661,
    "start_time": "2022-02-07T20:06:03.905Z"
   },
   {
    "duration": 4,
    "start_time": "2022-02-07T20:06:34.470Z"
   },
   {
    "duration": 865,
    "start_time": "2022-02-07T20:06:42.511Z"
   },
   {
    "duration": 309,
    "start_time": "2022-02-07T20:10:25.749Z"
   },
   {
    "duration": 20,
    "start_time": "2022-02-07T20:10:50.800Z"
   },
   {
    "duration": 7,
    "start_time": "2022-02-07T20:11:45.097Z"
   },
   {
    "duration": 97,
    "start_time": "2022-02-07T20:12:26.424Z"
   },
   {
    "duration": 8,
    "start_time": "2022-02-07T20:12:37.268Z"
   },
   {
    "duration": 4,
    "start_time": "2022-02-07T20:12:40.181Z"
   },
   {
    "duration": 3,
    "start_time": "2022-02-07T20:12:58.036Z"
   },
   {
    "duration": 17,
    "start_time": "2022-02-07T20:12:59.321Z"
   },
   {
    "duration": 12,
    "start_time": "2022-02-07T20:13:01.024Z"
   },
   {
    "duration": 16,
    "start_time": "2022-02-07T20:13:03.107Z"
   },
   {
    "duration": 11,
    "start_time": "2022-02-07T20:13:04.932Z"
   },
   {
    "duration": 7,
    "start_time": "2022-02-07T20:13:08.242Z"
   },
   {
    "duration": 6,
    "start_time": "2022-02-07T20:13:10.262Z"
   },
   {
    "duration": 6,
    "start_time": "2022-02-07T20:13:59.676Z"
   },
   {
    "duration": 5,
    "start_time": "2022-02-07T20:14:00.670Z"
   },
   {
    "duration": 583,
    "start_time": "2022-02-08T13:19:57.063Z"
   },
   {
    "duration": 129,
    "start_time": "2022-02-08T13:19:57.648Z"
   },
   {
    "duration": 16,
    "start_time": "2022-02-08T13:19:57.779Z"
   },
   {
    "duration": 22,
    "start_time": "2022-02-08T13:19:57.796Z"
   },
   {
    "duration": 11,
    "start_time": "2022-02-08T13:19:57.819Z"
   },
   {
    "duration": 15,
    "start_time": "2022-02-08T13:19:57.832Z"
   },
   {
    "duration": 7,
    "start_time": "2022-02-08T13:19:57.848Z"
   },
   {
    "duration": 21,
    "start_time": "2022-02-08T13:19:57.857Z"
   },
   {
    "duration": 14,
    "start_time": "2022-02-08T13:19:57.880Z"
   },
   {
    "duration": 44,
    "start_time": "2022-02-08T13:19:57.895Z"
   },
   {
    "duration": 55,
    "start_time": "2022-02-08T13:19:57.941Z"
   },
   {
    "duration": 76,
    "start_time": "2022-02-08T13:19:57.997Z"
   },
   {
    "duration": 53,
    "start_time": "2022-02-08T13:19:58.075Z"
   },
   {
    "duration": 39,
    "start_time": "2022-02-08T13:19:58.130Z"
   },
   {
    "duration": 3,
    "start_time": "2022-02-08T13:19:58.170Z"
   },
   {
    "duration": 17,
    "start_time": "2022-02-08T13:19:58.174Z"
   },
   {
    "duration": 57,
    "start_time": "2022-02-08T13:19:58.192Z"
   },
   {
    "duration": 11,
    "start_time": "2022-02-08T13:19:58.251Z"
   },
   {
    "duration": 12,
    "start_time": "2022-02-08T13:19:58.263Z"
   },
   {
    "duration": 3,
    "start_time": "2022-02-08T13:19:58.276Z"
   },
   {
    "duration": 20,
    "start_time": "2022-02-08T13:19:58.281Z"
   },
   {
    "duration": 34,
    "start_time": "2022-02-08T13:19:58.302Z"
   },
   {
    "duration": 13,
    "start_time": "2022-02-08T13:19:58.339Z"
   },
   {
    "duration": 10,
    "start_time": "2022-02-08T13:19:58.354Z"
   },
   {
    "duration": 12,
    "start_time": "2022-02-08T13:19:58.365Z"
   },
   {
    "duration": 11,
    "start_time": "2022-02-08T13:19:58.379Z"
   },
   {
    "duration": 88,
    "start_time": "2022-02-08T13:19:58.391Z"
   },
   {
    "duration": 7,
    "start_time": "2022-02-08T13:19:58.481Z"
   },
   {
    "duration": 7,
    "start_time": "2022-02-08T13:19:58.490Z"
   },
   {
    "duration": 4,
    "start_time": "2022-02-08T13:19:58.498Z"
   },
   {
    "duration": 40,
    "start_time": "2022-02-08T13:19:58.503Z"
   },
   {
    "duration": 14,
    "start_time": "2022-02-08T13:19:58.545Z"
   },
   {
    "duration": 14,
    "start_time": "2022-02-08T13:19:58.561Z"
   },
   {
    "duration": 11,
    "start_time": "2022-02-08T13:19:58.576Z"
   },
   {
    "duration": 7,
    "start_time": "2022-02-08T13:19:58.588Z"
   },
   {
    "duration": 4,
    "start_time": "2022-02-08T13:19:58.596Z"
   },
   {
    "duration": 30,
    "start_time": "2022-02-08T13:19:58.601Z"
   },
   {
    "duration": 7,
    "start_time": "2022-02-08T13:19:58.634Z"
   },
   {
    "duration": 21,
    "start_time": "2022-02-08T13:37:51.857Z"
   },
   {
    "duration": 18,
    "start_time": "2022-02-08T13:41:29.300Z"
   },
   {
    "duration": 18,
    "start_time": "2022-02-08T13:44:42.277Z"
   },
   {
    "duration": 9,
    "start_time": "2022-02-08T13:45:23.352Z"
   },
   {
    "duration": 571,
    "start_time": "2022-02-08T13:46:44.451Z"
   },
   {
    "duration": 118,
    "start_time": "2022-02-08T13:46:46.727Z"
   },
   {
    "duration": 17,
    "start_time": "2022-02-08T13:46:47.945Z"
   },
   {
    "duration": 21,
    "start_time": "2022-02-08T13:46:50.620Z"
   },
   {
    "duration": 3,
    "start_time": "2022-02-08T13:47:01.923Z"
   },
   {
    "duration": 13,
    "start_time": "2022-02-08T13:47:04.154Z"
   },
   {
    "duration": 4,
    "start_time": "2022-02-08T13:47:05.248Z"
   },
   {
    "duration": 20,
    "start_time": "2022-02-08T13:47:07.116Z"
   },
   {
    "duration": 15,
    "start_time": "2022-02-08T13:47:17.879Z"
   },
   {
    "duration": 19,
    "start_time": "2022-02-08T13:47:20.234Z"
   },
   {
    "duration": 51,
    "start_time": "2022-02-08T13:47:22.506Z"
   },
   {
    "duration": 69,
    "start_time": "2022-02-08T13:47:24.202Z"
   },
   {
    "duration": 53,
    "start_time": "2022-02-08T13:47:40.817Z"
   },
   {
    "duration": 45,
    "start_time": "2022-02-08T13:48:54.760Z"
   },
   {
    "duration": 594,
    "start_time": "2022-02-08T13:51:07.099Z"
   },
   {
    "duration": 125,
    "start_time": "2022-02-08T13:51:08.180Z"
   },
   {
    "duration": 18,
    "start_time": "2022-02-08T13:51:08.955Z"
   },
   {
    "duration": 27,
    "start_time": "2022-02-08T13:51:12.235Z"
   },
   {
    "duration": 4,
    "start_time": "2022-02-08T13:51:17.288Z"
   },
   {
    "duration": 12,
    "start_time": "2022-02-08T13:51:18.543Z"
   },
   {
    "duration": 3,
    "start_time": "2022-02-08T13:51:20.986Z"
   },
   {
    "duration": 21,
    "start_time": "2022-02-08T13:51:23.265Z"
   },
   {
    "duration": 15,
    "start_time": "2022-02-08T13:51:25.857Z"
   },
   {
    "duration": 22,
    "start_time": "2022-02-08T13:51:27.135Z"
   },
   {
    "duration": 58,
    "start_time": "2022-02-08T13:51:31.226Z"
   },
   {
    "duration": 73,
    "start_time": "2022-02-08T13:51:36.718Z"
   },
   {
    "duration": 47,
    "start_time": "2022-02-08T13:52:06.987Z"
   },
   {
    "duration": 46,
    "start_time": "2022-02-08T13:52:18.365Z"
   },
   {
    "duration": 36,
    "start_time": "2022-02-08T13:53:43.606Z"
   },
   {
    "duration": 3,
    "start_time": "2022-02-08T13:55:45.332Z"
   },
   {
    "duration": 10,
    "start_time": "2022-02-08T14:00:06.137Z"
   },
   {
    "duration": 7,
    "start_time": "2022-02-08T14:00:17.592Z"
   },
   {
    "duration": 41,
    "start_time": "2022-02-08T14:01:53.809Z"
   },
   {
    "duration": 9,
    "start_time": "2022-02-08T14:04:50.917Z"
   },
   {
    "duration": 10,
    "start_time": "2022-02-08T14:05:44.306Z"
   },
   {
    "duration": 9,
    "start_time": "2022-02-08T14:05:55.870Z"
   },
   {
    "duration": 3,
    "start_time": "2022-02-08T14:11:46.391Z"
   },
   {
    "duration": 15,
    "start_time": "2022-02-08T14:12:07.499Z"
   },
   {
    "duration": 15,
    "start_time": "2022-02-08T14:12:53.250Z"
   },
   {
    "duration": 13,
    "start_time": "2022-02-08T14:12:54.351Z"
   },
   {
    "duration": 13,
    "start_time": "2022-02-08T14:12:55.608Z"
   },
   {
    "duration": 13,
    "start_time": "2022-02-08T14:12:56.204Z"
   },
   {
    "duration": 15,
    "start_time": "2022-02-08T14:12:56.668Z"
   },
   {
    "duration": 13,
    "start_time": "2022-02-08T14:12:57.201Z"
   },
   {
    "duration": 60,
    "start_time": "2022-02-08T14:15:55.055Z"
   },
   {
    "duration": 11,
    "start_time": "2022-02-08T14:19:57.875Z"
   },
   {
    "duration": 8,
    "start_time": "2022-02-08T14:19:58.905Z"
   },
   {
    "duration": 3,
    "start_time": "2022-02-08T14:22:22.323Z"
   },
   {
    "duration": 17,
    "start_time": "2022-02-08T14:23:41.044Z"
   },
   {
    "duration": 18,
    "start_time": "2022-02-08T14:24:02.000Z"
   },
   {
    "duration": 12,
    "start_time": "2022-02-08T14:24:07.796Z"
   },
   {
    "duration": 15,
    "start_time": "2022-02-08T14:24:18.360Z"
   },
   {
    "duration": 11,
    "start_time": "2022-02-08T14:24:28.182Z"
   },
   {
    "duration": 7,
    "start_time": "2022-02-08T14:26:08.915Z"
   },
   {
    "duration": 4,
    "start_time": "2022-02-08T14:26:21.382Z"
   },
   {
    "duration": 5,
    "start_time": "2022-02-08T14:26:52.550Z"
   },
   {
    "duration": 5,
    "start_time": "2022-02-08T14:27:05.216Z"
   },
   {
    "duration": 9,
    "start_time": "2022-02-08T14:31:29.058Z"
   },
   {
    "duration": 7,
    "start_time": "2022-02-08T14:31:36.794Z"
   },
   {
    "duration": 646,
    "start_time": "2022-02-08T14:38:56.727Z"
   },
   {
    "duration": 129,
    "start_time": "2022-02-08T14:38:57.375Z"
   },
   {
    "duration": 22,
    "start_time": "2022-02-08T14:38:57.506Z"
   },
   {
    "duration": 30,
    "start_time": "2022-02-08T14:38:57.530Z"
   },
   {
    "duration": 3,
    "start_time": "2022-02-08T14:38:57.561Z"
   },
   {
    "duration": 13,
    "start_time": "2022-02-08T14:38:57.566Z"
   },
   {
    "duration": 5,
    "start_time": "2022-02-08T14:38:57.581Z"
   },
   {
    "duration": 48,
    "start_time": "2022-02-08T14:38:57.587Z"
   },
   {
    "duration": 19,
    "start_time": "2022-02-08T14:38:57.638Z"
   },
   {
    "duration": 19,
    "start_time": "2022-02-08T14:38:57.659Z"
   },
   {
    "duration": 73,
    "start_time": "2022-02-08T14:38:57.679Z"
   },
   {
    "duration": 74,
    "start_time": "2022-02-08T14:38:57.754Z"
   },
   {
    "duration": 43,
    "start_time": "2022-02-08T14:38:57.830Z"
   },
   {
    "duration": 36,
    "start_time": "2022-02-08T14:38:57.874Z"
   },
   {
    "duration": 16,
    "start_time": "2022-02-08T14:38:57.911Z"
   },
   {
    "duration": 10,
    "start_time": "2022-02-08T14:38:57.929Z"
   },
   {
    "duration": 7,
    "start_time": "2022-02-08T14:38:57.941Z"
   },
   {
    "duration": 35,
    "start_time": "2022-02-08T14:38:57.949Z"
   },
   {
    "duration": 8,
    "start_time": "2022-02-08T14:38:57.986Z"
   },
   {
    "duration": 33,
    "start_time": "2022-02-08T14:38:57.995Z"
   },
   {
    "duration": 4,
    "start_time": "2022-02-08T14:38:58.029Z"
   },
   {
    "duration": 22,
    "start_time": "2022-02-08T14:38:58.034Z"
   },
   {
    "duration": 11,
    "start_time": "2022-02-08T14:38:58.057Z"
   },
   {
    "duration": 11,
    "start_time": "2022-02-08T14:38:58.070Z"
   },
   {
    "duration": 12,
    "start_time": "2022-02-08T14:38:58.083Z"
   },
   {
    "duration": 41,
    "start_time": "2022-02-08T14:38:58.096Z"
   },
   {
    "duration": 12,
    "start_time": "2022-02-08T14:38:58.140Z"
   },
   {
    "duration": 57,
    "start_time": "2022-02-08T14:38:58.154Z"
   },
   {
    "duration": 20,
    "start_time": "2022-02-08T14:38:58.213Z"
   },
   {
    "duration": 7,
    "start_time": "2022-02-08T14:38:58.235Z"
   },
   {
    "duration": 3,
    "start_time": "2022-02-08T14:38:58.244Z"
   },
   {
    "duration": 18,
    "start_time": "2022-02-08T14:38:58.249Z"
   },
   {
    "duration": 11,
    "start_time": "2022-02-08T14:38:58.268Z"
   },
   {
    "duration": 13,
    "start_time": "2022-02-08T14:38:58.280Z"
   },
   {
    "duration": 40,
    "start_time": "2022-02-08T14:38:58.295Z"
   },
   {
    "duration": 7,
    "start_time": "2022-02-08T14:38:58.336Z"
   },
   {
    "duration": 4,
    "start_time": "2022-02-08T14:38:58.344Z"
   },
   {
    "duration": 6,
    "start_time": "2022-02-08T14:38:58.350Z"
   },
   {
    "duration": 4,
    "start_time": "2022-02-08T14:38:58.357Z"
   },
   {
    "duration": 605,
    "start_time": "2022-02-08T14:43:11.701Z"
   },
   {
    "duration": 128,
    "start_time": "2022-02-08T14:43:12.307Z"
   },
   {
    "duration": 14,
    "start_time": "2022-02-08T14:43:12.437Z"
   },
   {
    "duration": 23,
    "start_time": "2022-02-08T14:43:12.453Z"
   },
   {
    "duration": 4,
    "start_time": "2022-02-08T14:43:12.478Z"
   },
   {
    "duration": 13,
    "start_time": "2022-02-08T14:43:12.483Z"
   },
   {
    "duration": 6,
    "start_time": "2022-02-08T14:43:12.497Z"
   },
   {
    "duration": 40,
    "start_time": "2022-02-08T14:43:12.504Z"
   },
   {
    "duration": 16,
    "start_time": "2022-02-08T14:43:12.547Z"
   },
   {
    "duration": 21,
    "start_time": "2022-02-08T14:43:12.565Z"
   },
   {
    "duration": 68,
    "start_time": "2022-02-08T14:43:12.588Z"
   },
   {
    "duration": 71,
    "start_time": "2022-02-08T14:43:12.657Z"
   },
   {
    "duration": 44,
    "start_time": "2022-02-08T14:43:12.729Z"
   },
   {
    "duration": 36,
    "start_time": "2022-02-08T14:43:12.775Z"
   },
   {
    "duration": 3,
    "start_time": "2022-02-08T14:43:12.827Z"
   },
   {
    "duration": 19,
    "start_time": "2022-02-08T14:43:12.831Z"
   },
   {
    "duration": 7,
    "start_time": "2022-02-08T14:43:12.852Z"
   },
   {
    "duration": 39,
    "start_time": "2022-02-08T14:43:12.860Z"
   },
   {
    "duration": 10,
    "start_time": "2022-02-08T14:43:12.901Z"
   },
   {
    "duration": 10,
    "start_time": "2022-02-08T14:43:12.927Z"
   },
   {
    "duration": 4,
    "start_time": "2022-02-08T14:43:12.939Z"
   },
   {
    "duration": 21,
    "start_time": "2022-02-08T14:43:12.944Z"
   },
   {
    "duration": 12,
    "start_time": "2022-02-08T14:43:12.966Z"
   },
   {
    "duration": 12,
    "start_time": "2022-02-08T14:43:12.980Z"
   },
   {
    "duration": 41,
    "start_time": "2022-02-08T14:43:12.994Z"
   },
   {
    "duration": 15,
    "start_time": "2022-02-08T14:43:13.036Z"
   },
   {
    "duration": 11,
    "start_time": "2022-02-08T14:43:13.054Z"
   },
   {
    "duration": 75,
    "start_time": "2022-02-08T14:43:13.067Z"
   },
   {
    "duration": 9,
    "start_time": "2022-02-08T14:43:13.144Z"
   },
   {
    "duration": 8,
    "start_time": "2022-02-08T14:43:13.154Z"
   },
   {
    "duration": 4,
    "start_time": "2022-02-08T14:43:13.164Z"
   },
   {
    "duration": 23,
    "start_time": "2022-02-08T14:43:13.169Z"
   },
   {
    "duration": 10,
    "start_time": "2022-02-08T14:43:13.194Z"
   },
   {
    "duration": 16,
    "start_time": "2022-02-08T14:43:13.227Z"
   },
   {
    "duration": 10,
    "start_time": "2022-02-08T14:43:13.245Z"
   },
   {
    "duration": 6,
    "start_time": "2022-02-08T14:43:13.257Z"
   },
   {
    "duration": 3,
    "start_time": "2022-02-08T14:43:13.265Z"
   },
   {
    "duration": 8,
    "start_time": "2022-02-08T14:43:13.269Z"
   },
   {
    "duration": 5,
    "start_time": "2022-02-08T14:43:13.279Z"
   },
   {
    "duration": 639,
    "start_time": "2022-02-13T18:03:09.594Z"
   },
   {
    "duration": 132,
    "start_time": "2022-02-13T18:03:10.235Z"
   },
   {
    "duration": 18,
    "start_time": "2022-02-13T18:03:10.369Z"
   },
   {
    "duration": 34,
    "start_time": "2022-02-13T18:03:10.389Z"
   },
   {
    "duration": 3,
    "start_time": "2022-02-13T18:03:10.425Z"
   },
   {
    "duration": 18,
    "start_time": "2022-02-13T18:03:10.430Z"
   },
   {
    "duration": 6,
    "start_time": "2022-02-13T18:03:10.450Z"
   },
   {
    "duration": 28,
    "start_time": "2022-02-13T18:03:10.459Z"
   },
   {
    "duration": 44,
    "start_time": "2022-02-13T18:03:10.489Z"
   },
   {
    "duration": 22,
    "start_time": "2022-02-13T18:03:10.534Z"
   },
   {
    "duration": 73,
    "start_time": "2022-02-13T18:03:10.558Z"
   },
   {
    "duration": 113,
    "start_time": "2022-02-13T18:03:10.633Z"
   },
   {
    "duration": 49,
    "start_time": "2022-02-13T18:03:10.747Z"
   },
   {
    "duration": 51,
    "start_time": "2022-02-13T18:03:10.798Z"
   },
   {
    "duration": 3,
    "start_time": "2022-02-13T18:03:10.851Z"
   },
   {
    "duration": 13,
    "start_time": "2022-02-13T18:03:10.856Z"
   },
   {
    "duration": 7,
    "start_time": "2022-02-13T18:03:10.870Z"
   },
   {
    "duration": 56,
    "start_time": "2022-02-13T18:03:10.878Z"
   },
   {
    "duration": 10,
    "start_time": "2022-02-13T18:03:10.936Z"
   },
   {
    "duration": 9,
    "start_time": "2022-02-13T18:03:10.948Z"
   },
   {
    "duration": 7,
    "start_time": "2022-02-13T18:03:10.959Z"
   },
   {
    "duration": 21,
    "start_time": "2022-02-13T18:03:10.968Z"
   },
   {
    "duration": 30,
    "start_time": "2022-02-13T18:03:10.992Z"
   },
   {
    "duration": 14,
    "start_time": "2022-02-13T18:03:11.024Z"
   },
   {
    "duration": 13,
    "start_time": "2022-02-13T18:03:11.040Z"
   },
   {
    "duration": 16,
    "start_time": "2022-02-13T18:03:11.055Z"
   },
   {
    "duration": 46,
    "start_time": "2022-02-13T18:03:11.073Z"
   },
   {
    "duration": 74,
    "start_time": "2022-02-13T18:03:11.121Z"
   },
   {
    "duration": 24,
    "start_time": "2022-02-13T18:03:11.197Z"
   },
   {
    "duration": 9,
    "start_time": "2022-02-13T18:03:11.223Z"
   },
   {
    "duration": 14,
    "start_time": "2022-02-13T18:03:11.234Z"
   },
   {
    "duration": 37,
    "start_time": "2022-02-13T18:03:11.250Z"
   },
   {
    "duration": 14,
    "start_time": "2022-02-13T18:03:11.289Z"
   },
   {
    "duration": 28,
    "start_time": "2022-02-13T18:03:11.305Z"
   },
   {
    "duration": 12,
    "start_time": "2022-02-13T18:03:11.335Z"
   },
   {
    "duration": 8,
    "start_time": "2022-02-13T18:03:11.349Z"
   },
   {
    "duration": 5,
    "start_time": "2022-02-13T18:03:11.358Z"
   },
   {
    "duration": 9,
    "start_time": "2022-02-13T18:03:11.364Z"
   },
   {
    "duration": 4,
    "start_time": "2022-02-13T18:03:11.375Z"
   },
   {
    "duration": 229,
    "start_time": "2022-02-14T09:03:31.738Z"
   },
   {
    "duration": 560,
    "start_time": "2022-02-14T09:04:03.745Z"
   },
   {
    "duration": 144,
    "start_time": "2022-02-14T09:04:04.307Z"
   },
   {
    "duration": 17,
    "start_time": "2022-02-14T09:04:10.792Z"
   },
   {
    "duration": 38,
    "start_time": "2022-02-14T09:09:23.694Z"
   },
   {
    "duration": 4,
    "start_time": "2022-02-14T09:10:02.111Z"
   },
   {
    "duration": 10,
    "start_time": "2022-02-14T09:10:06.972Z"
   },
   {
    "duration": 4,
    "start_time": "2022-02-14T09:10:14.483Z"
   },
   {
    "duration": 22,
    "start_time": "2022-02-14T09:10:33.456Z"
   },
   {
    "duration": 17,
    "start_time": "2022-02-14T09:10:44.376Z"
   },
   {
    "duration": 21,
    "start_time": "2022-02-14T09:10:48.928Z"
   },
   {
    "duration": 61,
    "start_time": "2022-02-14T09:11:03.898Z"
   },
   {
    "duration": 78,
    "start_time": "2022-02-14T09:11:19.781Z"
   },
   {
    "duration": 53,
    "start_time": "2022-02-14T09:11:31.993Z"
   },
   {
    "duration": 41,
    "start_time": "2022-02-14T09:12:47.615Z"
   },
   {
    "duration": 3,
    "start_time": "2022-02-14T09:13:06.350Z"
   },
   {
    "duration": 9,
    "start_time": "2022-02-14T09:17:48.363Z"
   },
   {
    "duration": 7,
    "start_time": "2022-02-14T09:17:53.084Z"
   },
   {
    "duration": 42,
    "start_time": "2022-02-14T09:17:56.124Z"
   },
   {
    "duration": 11,
    "start_time": "2022-02-14T09:18:21.708Z"
   },
   {
    "duration": 11,
    "start_time": "2022-02-14T09:18:28.111Z"
   },
   {
    "duration": 3,
    "start_time": "2022-02-14T09:22:05.082Z"
   },
   {
    "duration": 14,
    "start_time": "2022-02-14T09:22:33.693Z"
   },
   {
    "duration": 14,
    "start_time": "2022-02-14T09:22:35.256Z"
   },
   {
    "duration": 14,
    "start_time": "2022-02-14T09:22:36.552Z"
   },
   {
    "duration": 13,
    "start_time": "2022-02-14T09:22:40.489Z"
   },
   {
    "duration": 15,
    "start_time": "2022-02-14T09:22:40.687Z"
   },
   {
    "duration": 14,
    "start_time": "2022-02-14T09:22:41.611Z"
   },
   {
    "duration": 64,
    "start_time": "2022-02-14T09:22:59.175Z"
   },
   {
    "duration": 11,
    "start_time": "2022-02-14T09:23:12.243Z"
   },
   {
    "duration": 10,
    "start_time": "2022-02-14T09:23:12.873Z"
   },
   {
    "duration": 5,
    "start_time": "2022-02-14T09:23:18.788Z"
   },
   {
    "duration": 20,
    "start_time": "2022-02-14T09:23:24.307Z"
   },
   {
    "duration": 27,
    "start_time": "2022-02-14T09:23:43.598Z"
   },
   {
    "duration": 64,
    "start_time": "2022-02-14T09:24:57.312Z"
   },
   {
    "duration": 43,
    "start_time": "2022-02-14T09:25:10.635Z"
   },
   {
    "duration": 15,
    "start_time": "2022-02-14T09:25:24.739Z"
   },
   {
    "duration": 14,
    "start_time": "2022-02-14T09:25:33.004Z"
   },
   {
    "duration": 15,
    "start_time": "2022-02-14T09:25:34.096Z"
   },
   {
    "duration": 14,
    "start_time": "2022-02-14T09:25:42.330Z"
   },
   {
    "duration": 68,
    "start_time": "2022-02-14T09:25:50.193Z"
   },
   {
    "duration": 74,
    "start_time": "2022-02-14T09:26:03.585Z"
   },
   {
    "duration": 18,
    "start_time": "2022-02-14T09:26:23.748Z"
   },
   {
    "duration": 14,
    "start_time": "2022-02-14T09:26:27.696Z"
   },
   {
    "duration": 16,
    "start_time": "2022-02-14T09:26:31.274Z"
   },
   {
    "duration": 13,
    "start_time": "2022-02-14T09:26:35.078Z"
   },
   {
    "duration": 203,
    "start_time": "2022-02-14T09:26:56.765Z"
   },
   {
    "duration": 9,
    "start_time": "2022-02-14T09:27:04.457Z"
   },
   {
    "duration": 5,
    "start_time": "2022-02-14T09:27:09.359Z"
   },
   {
    "duration": 8,
    "start_time": "2022-02-14T09:27:18.094Z"
   },
   {
    "duration": 6,
    "start_time": "2022-02-14T09:27:21.142Z"
   },
   {
    "duration": 6,
    "start_time": "2022-02-14T09:27:25.376Z"
   },
   {
    "duration": 72,
    "start_time": "2022-02-14T09:28:52.408Z"
   },
   {
    "duration": 67,
    "start_time": "2022-02-14T09:29:27.130Z"
   },
   {
    "duration": 15,
    "start_time": "2022-02-14T09:30:10.658Z"
   },
   {
    "duration": 14,
    "start_time": "2022-02-14T09:30:12.679Z"
   },
   {
    "duration": 15,
    "start_time": "2022-02-14T09:30:16.176Z"
   },
   {
    "duration": 15,
    "start_time": "2022-02-14T09:30:17.340Z"
   },
   {
    "duration": 65,
    "start_time": "2022-02-14T09:30:21.304Z"
   },
   {
    "duration": 583,
    "start_time": "2022-02-14T09:31:01.079Z"
   },
   {
    "duration": 128,
    "start_time": "2022-02-14T09:31:01.663Z"
   },
   {
    "duration": 19,
    "start_time": "2022-02-14T09:31:01.793Z"
   },
   {
    "duration": 26,
    "start_time": "2022-02-14T09:31:01.814Z"
   },
   {
    "duration": 6,
    "start_time": "2022-02-14T09:31:01.842Z"
   },
   {
    "duration": 16,
    "start_time": "2022-02-14T09:31:01.849Z"
   },
   {
    "duration": 7,
    "start_time": "2022-02-14T09:31:01.866Z"
   },
   {
    "duration": 46,
    "start_time": "2022-02-14T09:31:01.875Z"
   },
   {
    "duration": 19,
    "start_time": "2022-02-14T09:31:01.924Z"
   },
   {
    "duration": 25,
    "start_time": "2022-02-14T09:31:01.945Z"
   },
   {
    "duration": 83,
    "start_time": "2022-02-14T09:31:01.971Z"
   },
   {
    "duration": 90,
    "start_time": "2022-02-14T09:31:02.056Z"
   },
   {
    "duration": 52,
    "start_time": "2022-02-14T09:31:02.147Z"
   },
   {
    "duration": 51,
    "start_time": "2022-02-14T09:31:02.201Z"
   },
   {
    "duration": 3,
    "start_time": "2022-02-14T09:31:02.253Z"
   },
   {
    "duration": 11,
    "start_time": "2022-02-14T09:31:02.258Z"
   },
   {
    "duration": 7,
    "start_time": "2022-02-14T09:31:02.271Z"
   },
   {
    "duration": 70,
    "start_time": "2022-02-14T09:31:02.280Z"
   },
   {
    "duration": 11,
    "start_time": "2022-02-14T09:31:02.352Z"
   },
   {
    "duration": 10,
    "start_time": "2022-02-14T09:31:02.365Z"
   },
   {
    "duration": 3,
    "start_time": "2022-02-14T09:31:02.377Z"
   },
   {
    "duration": 42,
    "start_time": "2022-02-14T09:31:02.382Z"
   },
   {
    "duration": 14,
    "start_time": "2022-02-14T09:31:02.428Z"
   },
   {
    "duration": 15,
    "start_time": "2022-02-14T09:31:02.444Z"
   },
   {
    "duration": 16,
    "start_time": "2022-02-14T09:31:02.460Z"
   },
   {
    "duration": 45,
    "start_time": "2022-02-14T09:31:02.478Z"
   },
   {
    "duration": 15,
    "start_time": "2022-02-14T09:31:02.524Z"
   },
   {
    "duration": 87,
    "start_time": "2022-02-14T09:31:02.541Z"
   },
   {
    "duration": 11,
    "start_time": "2022-02-14T09:31:02.630Z"
   },
   {
    "duration": 9,
    "start_time": "2022-02-14T09:31:02.643Z"
   },
   {
    "duration": 9,
    "start_time": "2022-02-14T09:31:02.654Z"
   },
   {
    "duration": 23,
    "start_time": "2022-02-14T09:31:02.665Z"
   },
   {
    "duration": 30,
    "start_time": "2022-02-14T09:31:02.690Z"
   },
   {
    "duration": 16,
    "start_time": "2022-02-14T09:31:02.722Z"
   },
   {
    "duration": 12,
    "start_time": "2022-02-14T09:31:02.740Z"
   },
   {
    "duration": 8,
    "start_time": "2022-02-14T09:31:02.753Z"
   },
   {
    "duration": 5,
    "start_time": "2022-02-14T09:31:02.762Z"
   },
   {
    "duration": 6,
    "start_time": "2022-02-14T09:31:02.768Z"
   },
   {
    "duration": 4,
    "start_time": "2022-02-14T09:31:02.813Z"
   },
   {
    "duration": 4,
    "start_time": "2022-02-14T09:31:08.173Z"
   },
   {
    "duration": 3,
    "start_time": "2022-02-14T09:31:20.267Z"
   },
   {
    "duration": 141,
    "start_time": "2022-02-14T09:31:20.271Z"
   },
   {
    "duration": 10,
    "start_time": "2022-02-14T09:31:20.414Z"
   },
   {
    "duration": 29,
    "start_time": "2022-02-14T09:31:20.426Z"
   },
   {
    "duration": 4,
    "start_time": "2022-02-14T09:31:20.456Z"
   },
   {
    "duration": 13,
    "start_time": "2022-02-14T09:31:20.461Z"
   },
   {
    "duration": 4,
    "start_time": "2022-02-14T09:31:20.476Z"
   },
   {
    "duration": 48,
    "start_time": "2022-02-14T09:31:20.482Z"
   },
   {
    "duration": 17,
    "start_time": "2022-02-14T09:31:20.533Z"
   },
   {
    "duration": 23,
    "start_time": "2022-02-14T09:31:20.552Z"
   },
   {
    "duration": 81,
    "start_time": "2022-02-14T09:31:20.577Z"
   },
   {
    "duration": 76,
    "start_time": "2022-02-14T09:31:20.659Z"
   },
   {
    "duration": 48,
    "start_time": "2022-02-14T09:31:20.736Z"
   },
   {
    "duration": 52,
    "start_time": "2022-02-14T09:31:20.786Z"
   },
   {
    "duration": 5,
    "start_time": "2022-02-14T09:31:20.840Z"
   },
   {
    "duration": 18,
    "start_time": "2022-02-14T09:31:20.847Z"
   },
   {
    "duration": 21,
    "start_time": "2022-02-14T09:31:20.867Z"
   },
   {
    "duration": 51,
    "start_time": "2022-02-14T09:31:20.889Z"
   },
   {
    "duration": 14,
    "start_time": "2022-02-14T09:31:20.942Z"
   },
   {
    "duration": 15,
    "start_time": "2022-02-14T09:31:20.958Z"
   },
   {
    "duration": 11,
    "start_time": "2022-02-14T09:31:20.975Z"
   },
   {
    "duration": 26,
    "start_time": "2022-02-14T09:31:20.987Z"
   },
   {
    "duration": 20,
    "start_time": "2022-02-14T09:31:21.015Z"
   },
   {
    "duration": 20,
    "start_time": "2022-02-14T09:31:21.037Z"
   },
   {
    "duration": 14,
    "start_time": "2022-02-14T09:31:21.059Z"
   },
   {
    "duration": 40,
    "start_time": "2022-02-14T09:31:21.075Z"
   },
   {
    "duration": 14,
    "start_time": "2022-02-14T09:31:21.118Z"
   },
   {
    "duration": 85,
    "start_time": "2022-02-14T09:31:21.134Z"
   },
   {
    "duration": 11,
    "start_time": "2022-02-14T09:31:21.221Z"
   },
   {
    "duration": 9,
    "start_time": "2022-02-14T09:31:21.234Z"
   },
   {
    "duration": 4,
    "start_time": "2022-02-14T09:31:21.245Z"
   },
   {
    "duration": 23,
    "start_time": "2022-02-14T09:31:21.250Z"
   },
   {
    "duration": 41,
    "start_time": "2022-02-14T09:31:21.275Z"
   },
   {
    "duration": 16,
    "start_time": "2022-02-14T09:31:21.318Z"
   },
   {
    "duration": 12,
    "start_time": "2022-02-14T09:31:21.336Z"
   },
   {
    "duration": 8,
    "start_time": "2022-02-14T09:31:21.349Z"
   },
   {
    "duration": 4,
    "start_time": "2022-02-14T09:31:21.358Z"
   },
   {
    "duration": 7,
    "start_time": "2022-02-14T09:31:21.364Z"
   },
   {
    "duration": 5,
    "start_time": "2022-02-14T09:31:24.495Z"
   }
  ],
  "colab": {
   "collapsed_sections": [
    "E0vqbgi9ay0H",
    "VUC88oWjTJw2"
   ],
   "name": "yandex_music_project_2021.2.ipynb",
   "provenance": []
  },
  "kernelspec": {
   "display_name": "Python 3 (ipykernel)",
   "language": "python",
   "name": "python3"
  },
  "language_info": {
   "codemirror_mode": {
    "name": "ipython",
    "version": 3
   },
   "file_extension": ".py",
   "mimetype": "text/x-python",
   "name": "python",
   "nbconvert_exporter": "python",
   "pygments_lexer": "ipython3",
   "version": "3.9.13"
  },
  "toc": {
   "base_numbering": 1,
   "nav_menu": {},
   "number_sections": true,
   "sideBar": true,
   "skip_h1_title": true,
   "title_cell": "Содержание",
   "title_sidebar": "Contents",
   "toc_cell": true,
   "toc_position": {
    "height": "calc(100% - 180px)",
    "left": "10px",
    "top": "150px",
    "width": "262.9779357910156px"
   },
   "toc_section_display": true,
   "toc_window_display": true
  }
 },
 "nbformat": 4,
 "nbformat_minor": 1
}
