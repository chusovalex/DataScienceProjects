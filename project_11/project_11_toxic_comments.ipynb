{
 "cells": [
  {
   "cell_type": "markdown",
   "id": "211e6451",
   "metadata": {},
   "source": [
    "# Классификации комментариев для интернет-магазина\n",
    "\n",
    "\n",
    "**Постановка задачи:**\n",
    "\n",
    "Интернет-магазин запускает новый сервис. Теперь пользователи могут редактировать и дополнять описания товаров, как в вики-сообществах. То есть, клиенты предлагают свои правки и комментируют изменения других. Магазину нужен инструмент, который будет искать токсичные комментарии и отправлять их на модерацию.\n",
    "\n",
    "**Небходимо:**\n",
    "\n",
    "Обучить модель классифицировать комментарии на позитивные и негативные. Значение метрики качества `f1` у модели должно быть не меньше 0.75.\n",
    "\n",
    "Данные находятся в файле `toxic_comments.csv`. Столбец `text` в нём содержит текст комментария, а `toxic` — целевой признак."
   ]
  },
  {
   "cell_type": "markdown",
   "id": "83a4e9b9",
   "metadata": {
    "toc": true
   },
   "source": [
    "<h1>Содержание<span class=\"tocSkip\"></span></h1>\n",
    "<div class=\"toc\"><ul class=\"toc-item\"><li><span><a href=\"#Загрузка-и-подготовка-данных\" data-toc-modified-id=\"Загрузка-и-подготовка-данных-1\"><span class=\"toc-item-num\">1&nbsp;&nbsp;</span>Загрузка и подготовка данных</a></span><ul class=\"toc-item\"><li><span><a href=\"#Очистка-текста\" data-toc-modified-id=\"Очистка-текста-1.1\"><span class=\"toc-item-num\">1.1&nbsp;&nbsp;</span>Очистка текста</a></span></li><li><span><a href=\"#Лемматизация\" data-toc-modified-id=\"Лемматизация-1.2\"><span class=\"toc-item-num\">1.2&nbsp;&nbsp;</span>Лемматизация</a></span></li><li><span><a href=\"#Количество-символов-тексте\" data-toc-modified-id=\"Количество-символов-тексте-1.3\"><span class=\"toc-item-num\">1.3&nbsp;&nbsp;</span>Количество символов тексте</a></span></li></ul></li><li><span><a href=\"#Обучение-моделей\" data-toc-modified-id=\"Обучение-моделей-2\"><span class=\"toc-item-num\">2&nbsp;&nbsp;</span>Обучение моделей</a></span><ul class=\"toc-item\"><li><span><a href=\"#Разделение-данных\" data-toc-modified-id=\"Разделение-данных-2.1\"><span class=\"toc-item-num\">2.1&nbsp;&nbsp;</span>Разделение данных</a></span></li><li><span><a href=\"#Баланс-классов\" data-toc-modified-id=\"Баланс-классов-2.2\"><span class=\"toc-item-num\">2.2&nbsp;&nbsp;</span>Баланс классов</a></span></li><li><span><a href=\"#LogisticRegression\" data-toc-modified-id=\"LogisticRegression-2.3\"><span class=\"toc-item-num\">2.3&nbsp;&nbsp;</span>LogisticRegression</a></span></li><li><span><a href=\"#LinearSVC\" data-toc-modified-id=\"LinearSVC-2.4\"><span class=\"toc-item-num\">2.4&nbsp;&nbsp;</span>LinearSVC</a></span></li><li><span><a href=\"#BernoulliNB\" data-toc-modified-id=\"BernoulliNB-2.5\"><span class=\"toc-item-num\">2.5&nbsp;&nbsp;</span>BernoulliNB</a></span></li></ul></li><li><span><a href=\"#Анализ-моделей\" data-toc-modified-id=\"Анализ-моделей-3\"><span class=\"toc-item-num\">3&nbsp;&nbsp;</span>Анализ моделей</a></span></li><li><span><a href=\"#Выводы\" data-toc-modified-id=\"Выводы-4\"><span class=\"toc-item-num\">4&nbsp;&nbsp;</span>Выводы</a></span></li></ul></div>"
   ]
  },
  {
   "cell_type": "markdown",
   "id": "44cab05a",
   "metadata": {},
   "source": [
    "## Загрузка и подготовка данных"
   ]
  },
  {
   "cell_type": "code",
   "execution_count": 1,
   "id": "7ef23048",
   "metadata": {},
   "outputs": [],
   "source": [
    "import matplotlib.pyplot as plt\n",
    "import nltk\n",
    "import numpy as np\n",
    "import os\n",
    "import pandas as pd\n",
    "import re\n",
    "import seaborn as sns\n",
    "import spacy\n",
    "import warnings\n",
    "\n",
    "from catboost import CatBoostClassifier\n",
    "from functools import reduce\n",
    "from nltk.corpus import stopwords as nltk_stopwords\n",
    "from sklearn.dummy import DummyClassifier\n",
    "from sklearn.feature_extraction.text import TfidfVectorizer\n",
    "from sklearn.linear_model import LogisticRegression\n",
    "from sklearn.metrics import confusion_matrix\n",
    "from sklearn.metrics import f1_score\n",
    "from sklearn.model_selection import GridSearchCV\n",
    "from sklearn.model_selection import train_test_split\n",
    "from sklearn.naive_bayes import BernoulliNB\n",
    "from sklearn.pipeline import Pipeline\n",
    "from sklearn.svm import LinearSVC"
   ]
  },
  {
   "cell_type": "code",
   "execution_count": 2,
   "id": "8d226965",
   "metadata": {},
   "outputs": [],
   "source": [
    "warnings.filterwarnings('ignore')"
   ]
  },
  {
   "cell_type": "code",
   "execution_count": 3,
   "id": "852bf8a9",
   "metadata": {},
   "outputs": [],
   "source": [
    "pd.options.display.max_colwidth = 1000\n",
    "pd.set_option('display.max_columns', 500)"
   ]
  },
  {
   "cell_type": "markdown",
   "id": "9db2fb81",
   "metadata": {},
   "source": [
    "Прочитаем файл `toxic_comments.csv` из папки `datasets` и сохраним его в переменной `df`:"
   ]
  },
  {
   "cell_type": "code",
   "execution_count": 4,
   "id": "86c9e0ea",
   "metadata": {
    "scrolled": true
   },
   "outputs": [
    {
     "name": "stdout",
     "output_type": "stream",
     "text": [
      "Прочитали файл путь: datasets/\n"
     ]
    }
   ],
   "source": [
    "try:\n",
    "    PATH = 'datasets/'\n",
    "    df = pd.read_csv(os.path.join(PATH, 'toxic_comments.csv'))\n",
    "    print('Прочитали файл путь:', PATH)\n",
    "except:\n",
    "    print('У нас проблема')"
   ]
  },
  {
   "cell_type": "markdown",
   "id": "f3240b3a",
   "metadata": {},
   "source": [
    "Выведем на экран первые 5 строк таблицы `df`:"
   ]
  },
  {
   "cell_type": "code",
   "execution_count": 5,
   "id": "aec2c68a",
   "metadata": {},
   "outputs": [
    {
     "data": {
      "text/html": [
       "<div>\n",
       "<style scoped>\n",
       "    .dataframe tbody tr th:only-of-type {\n",
       "        vertical-align: middle;\n",
       "    }\n",
       "\n",
       "    .dataframe tbody tr th {\n",
       "        vertical-align: top;\n",
       "    }\n",
       "\n",
       "    .dataframe thead th {\n",
       "        text-align: right;\n",
       "    }\n",
       "</style>\n",
       "<table border=\"1\" class=\"dataframe\">\n",
       "  <thead>\n",
       "    <tr style=\"text-align: right;\">\n",
       "      <th></th>\n",
       "      <th>text</th>\n",
       "      <th>toxic</th>\n",
       "    </tr>\n",
       "  </thead>\n",
       "  <tbody>\n",
       "    <tr>\n",
       "      <th>0</th>\n",
       "      <td>Explanation\\nWhy the edits made under my username Hardcore Metallica Fan were reverted? They weren't vandalisms, just closure on some GAs after I voted at New York Dolls FAC. And please don't remove the template from the talk page since I'm retired now.89.205.38.27</td>\n",
       "      <td>0</td>\n",
       "    </tr>\n",
       "    <tr>\n",
       "      <th>1</th>\n",
       "      <td>D'aww! He matches this background colour I'm seemingly stuck with. Thanks.  (talk) 21:51, January 11, 2016 (UTC)</td>\n",
       "      <td>0</td>\n",
       "    </tr>\n",
       "    <tr>\n",
       "      <th>2</th>\n",
       "      <td>Hey man, I'm really not trying to edit war. It's just that this guy is constantly removing relevant information and talking to me through edits instead of my talk page. He seems to care more about the formatting than the actual info.</td>\n",
       "      <td>0</td>\n",
       "    </tr>\n",
       "    <tr>\n",
       "      <th>3</th>\n",
       "      <td>\"\\nMore\\nI can't make any real suggestions on improvement - I wondered if the section statistics should be later on, or a subsection of \"\"types of accidents\"\"  -I think the references may need tidying so that they are all in the exact same format ie date format etc. I can do that later on, if no-one else does first - if you have any preferences for formatting style on references or want to do it yourself please let me know.\\n\\nThere appears to be a backlog on articles for review so I guess there may be a delay until a reviewer turns up. It's listed in the relevant form eg Wikipedia:Good_article_nominations#Transport  \"</td>\n",
       "      <td>0</td>\n",
       "    </tr>\n",
       "    <tr>\n",
       "      <th>4</th>\n",
       "      <td>You, sir, are my hero. Any chance you remember what page that's on?</td>\n",
       "      <td>0</td>\n",
       "    </tr>\n",
       "  </tbody>\n",
       "</table>\n",
       "</div>"
      ],
      "text/plain": [
       "                                                                                                                                                                                                                                                                                                                                                                                                                                                                                                                                                                                                                                                 text  \\\n",
       "0                                                                                                                                                                                                                                                                                                                                                                           Explanation\\nWhy the edits made under my username Hardcore Metallica Fan were reverted? They weren't vandalisms, just closure on some GAs after I voted at New York Dolls FAC. And please don't remove the template from the talk page since I'm retired now.89.205.38.27   \n",
       "1                                                                                                                                                                                                                                                                                                                                                                                                                                                                                                                                    D'aww! He matches this background colour I'm seemingly stuck with. Thanks.  (talk) 21:51, January 11, 2016 (UTC)   \n",
       "2                                                                                                                                                                                                                                                                                                                                                                                                           Hey man, I'm really not trying to edit war. It's just that this guy is constantly removing relevant information and talking to me through edits instead of my talk page. He seems to care more about the formatting than the actual info.   \n",
       "3  \"\\nMore\\nI can't make any real suggestions on improvement - I wondered if the section statistics should be later on, or a subsection of \"\"types of accidents\"\"  -I think the references may need tidying so that they are all in the exact same format ie date format etc. I can do that later on, if no-one else does first - if you have any preferences for formatting style on references or want to do it yourself please let me know.\\n\\nThere appears to be a backlog on articles for review so I guess there may be a delay until a reviewer turns up. It's listed in the relevant form eg Wikipedia:Good_article_nominations#Transport  \"   \n",
       "4                                                                                                                                                                                                                                                                                                                                                                                                                                                                                                                                                                                 You, sir, are my hero. Any chance you remember what page that's on?   \n",
       "\n",
       "   toxic  \n",
       "0      0  \n",
       "1      0  \n",
       "2      0  \n",
       "3      0  \n",
       "4      0  "
      ]
     },
     "execution_count": 5,
     "metadata": {},
     "output_type": "execute_result"
    }
   ],
   "source": [
    "df.head()"
   ]
  },
  {
   "cell_type": "markdown",
   "id": "4ab3a20c",
   "metadata": {},
   "source": [
    "Получим общую информацию о таблице:"
   ]
  },
  {
   "cell_type": "code",
   "execution_count": 6,
   "id": "713b1eb7",
   "metadata": {
    "scrolled": true
   },
   "outputs": [
    {
     "name": "stdout",
     "output_type": "stream",
     "text": [
      "<class 'pandas.core.frame.DataFrame'>\n",
      "RangeIndex: 159571 entries, 0 to 159570\n",
      "Data columns (total 2 columns):\n",
      " #   Column  Non-Null Count   Dtype \n",
      "---  ------  --------------   ----- \n",
      " 0   text    159571 non-null  object\n",
      " 1   toxic   159571 non-null  int64 \n",
      "dtypes: int64(1), object(1)\n",
      "memory usage: 2.4+ MB\n"
     ]
    }
   ],
   "source": [
    "df.info()"
   ]
  },
  {
   "cell_type": "markdown",
   "id": "58561e27",
   "metadata": {},
   "source": [
    "Посмотрим на пропуски:"
   ]
  },
  {
   "cell_type": "code",
   "execution_count": 7,
   "id": "871b6bd6",
   "metadata": {},
   "outputs": [
    {
     "data": {
      "text/plain": [
       "text     0\n",
       "toxic    0\n",
       "dtype: int64"
      ]
     },
     "execution_count": 7,
     "metadata": {},
     "output_type": "execute_result"
    }
   ],
   "source": [
    "df.isna().sum()"
   ]
  },
  {
   "cell_type": "markdown",
   "id": "e77f86de",
   "metadata": {},
   "source": [
    "В таблице 2 колонки, 159_571 строк. Тип данных в столбцах: object, int64. Пропущенных значений нет"
   ]
  },
  {
   "cell_type": "markdown",
   "id": "4c933016",
   "metadata": {},
   "source": [
    "### Очистка текста"
   ]
  },
  {
   "cell_type": "markdown",
   "id": "bffd989d",
   "metadata": {},
   "source": [
    "Начнем с предобработки текста. Оставим только слова, состоящие из букв, c помощью функции `text_clean_func`"
   ]
  },
  {
   "cell_type": "code",
   "execution_count": 8,
   "id": "17b6bf63",
   "metadata": {},
   "outputs": [],
   "source": [
    "def text_clean_func(text):\n",
    "    text = text.lower()\n",
    "    text = re.sub(r\"'s\", \" is\", text)\n",
    "    text = re.sub(r\"'ve\", \" have\", text)\n",
    "    text = re.sub(r\"'t\", \" not\", text)\n",
    "    text = re.sub(r\"i'm\", \"i am \", text)\n",
    "    text = re.sub(r\"'re\", \" are \", text)\n",
    "    text = re.sub(r\"'ll\", \" will \", text)\n",
    "    text = re.sub(\"[^a-z]\", \" \", text)\n",
    "    text = re.sub(\"\\s+\", \" \", text)\n",
    "    text = text.strip(' ')\n",
    "    return text"
   ]
  },
  {
   "cell_type": "code",
   "execution_count": 9,
   "id": "696bab82",
   "metadata": {},
   "outputs": [
    {
     "name": "stdout",
     "output_type": "stream",
     "text": [
      "CPU times: user 6.26 s, sys: 20.4 ms, total: 6.28 s\n",
      "Wall time: 6.28 s\n"
     ]
    }
   ],
   "source": [
    "%%time\n",
    "df['text_clean'] = df['text'].apply(text_clean_func)"
   ]
  },
  {
   "cell_type": "markdown",
   "id": "c7871a67",
   "metadata": {},
   "source": [
    "Посмотрим на результат очистки текста:"
   ]
  },
  {
   "cell_type": "code",
   "execution_count": 10,
   "id": "42457761",
   "metadata": {},
   "outputs": [
    {
     "data": {
      "text/html": [
       "<div>\n",
       "<style scoped>\n",
       "    .dataframe tbody tr th:only-of-type {\n",
       "        vertical-align: middle;\n",
       "    }\n",
       "\n",
       "    .dataframe tbody tr th {\n",
       "        vertical-align: top;\n",
       "    }\n",
       "\n",
       "    .dataframe thead th {\n",
       "        text-align: right;\n",
       "    }\n",
       "</style>\n",
       "<table border=\"1\" class=\"dataframe\">\n",
       "  <thead>\n",
       "    <tr style=\"text-align: right;\">\n",
       "      <th></th>\n",
       "      <th>text</th>\n",
       "      <th>text_clean</th>\n",
       "    </tr>\n",
       "  </thead>\n",
       "  <tbody>\n",
       "    <tr>\n",
       "      <th>0</th>\n",
       "      <td>Explanation\\nWhy the edits made under my username Hardcore Metallica Fan were reverted? They weren't vandalisms, just closure on some GAs after I voted at New York Dolls FAC. And please don't remove the template from the talk page since I'm retired now.89.205.38.27</td>\n",
       "      <td>explanation why the edits made under my username hardcore metallica fan were reverted they weren not vandalisms just closure on some gas after i voted at new york dolls fac and please don not remove the template from the talk page since i am retired now</td>\n",
       "    </tr>\n",
       "    <tr>\n",
       "      <th>1</th>\n",
       "      <td>D'aww! He matches this background colour I'm seemingly stuck with. Thanks.  (talk) 21:51, January 11, 2016 (UTC)</td>\n",
       "      <td>d aww he matches this background colour i am seemingly stuck with thanks talk january utc</td>\n",
       "    </tr>\n",
       "    <tr>\n",
       "      <th>2</th>\n",
       "      <td>Hey man, I'm really not trying to edit war. It's just that this guy is constantly removing relevant information and talking to me through edits instead of my talk page. He seems to care more about the formatting than the actual info.</td>\n",
       "      <td>hey man i am really not trying to edit war it is just that this guy is constantly removing relevant information and talking to me through edits instead of my talk page he seems to care more about the formatting than the actual info</td>\n",
       "    </tr>\n",
       "    <tr>\n",
       "      <th>3</th>\n",
       "      <td>\"\\nMore\\nI can't make any real suggestions on improvement - I wondered if the section statistics should be later on, or a subsection of \"\"types of accidents\"\"  -I think the references may need tidying so that they are all in the exact same format ie date format etc. I can do that later on, if no-one else does first - if you have any preferences for formatting style on references or want to do it yourself please let me know.\\n\\nThere appears to be a backlog on articles for review so I guess there may be a delay until a reviewer turns up. It's listed in the relevant form eg Wikipedia:Good_article_nominations#Transport  \"</td>\n",
       "      <td>more i can not make any real suggestions on improvement i wondered if the section statistics should be later on or a subsection of types of accidents i think the references may need tidying so that they are all in the exact same format ie date format etc i can do that later on if no one else does first if you have any preferences for formatting style on references or want to do it yourself please let me know there appears to be a backlog on articles for review so i guess there may be a delay until a reviewer turns up it is listed in the relevant form eg wikipedia good article nominations transport</td>\n",
       "    </tr>\n",
       "    <tr>\n",
       "      <th>4</th>\n",
       "      <td>You, sir, are my hero. Any chance you remember what page that's on?</td>\n",
       "      <td>you sir are my hero any chance you remember what page that is on</td>\n",
       "    </tr>\n",
       "  </tbody>\n",
       "</table>\n",
       "</div>"
      ],
      "text/plain": [
       "                                                                                                                                                                                                                                                                                                                                                                                                                                                                                                                                                                                                                                                 text  \\\n",
       "0                                                                                                                                                                                                                                                                                                                                                                           Explanation\\nWhy the edits made under my username Hardcore Metallica Fan were reverted? They weren't vandalisms, just closure on some GAs after I voted at New York Dolls FAC. And please don't remove the template from the talk page since I'm retired now.89.205.38.27   \n",
       "1                                                                                                                                                                                                                                                                                                                                                                                                                                                                                                                                    D'aww! He matches this background colour I'm seemingly stuck with. Thanks.  (talk) 21:51, January 11, 2016 (UTC)   \n",
       "2                                                                                                                                                                                                                                                                                                                                                                                                           Hey man, I'm really not trying to edit war. It's just that this guy is constantly removing relevant information and talking to me through edits instead of my talk page. He seems to care more about the formatting than the actual info.   \n",
       "3  \"\\nMore\\nI can't make any real suggestions on improvement - I wondered if the section statistics should be later on, or a subsection of \"\"types of accidents\"\"  -I think the references may need tidying so that they are all in the exact same format ie date format etc. I can do that later on, if no-one else does first - if you have any preferences for formatting style on references or want to do it yourself please let me know.\\n\\nThere appears to be a backlog on articles for review so I guess there may be a delay until a reviewer turns up. It's listed in the relevant form eg Wikipedia:Good_article_nominations#Transport  \"   \n",
       "4                                                                                                                                                                                                                                                                                                                                                                                                                                                                                                                                                                                 You, sir, are my hero. Any chance you remember what page that's on?   \n",
       "\n",
       "                                                                                                                                                                                                                                                                                                                                                                                                                                                                                                                                                                                                                     text_clean  \n",
       "0                                                                                                                                                                                                                                                                                                                                                                 explanation why the edits made under my username hardcore metallica fan were reverted they weren not vandalisms just closure on some gas after i voted at new york dolls fac and please don not remove the template from the talk page since i am retired now  \n",
       "1                                                                                                                                                                                                                                                                                                                                                                                                                                                                                                                                     d aww he matches this background colour i am seemingly stuck with thanks talk january utc  \n",
       "2                                                                                                                                                                                                                                                                                                                                                                                       hey man i am really not trying to edit war it is just that this guy is constantly removing relevant information and talking to me through edits instead of my talk page he seems to care more about the formatting than the actual info  \n",
       "3  more i can not make any real suggestions on improvement i wondered if the section statistics should be later on or a subsection of types of accidents i think the references may need tidying so that they are all in the exact same format ie date format etc i can do that later on if no one else does first if you have any preferences for formatting style on references or want to do it yourself please let me know there appears to be a backlog on articles for review so i guess there may be a delay until a reviewer turns up it is listed in the relevant form eg wikipedia good article nominations transport  \n",
       "4                                                                                                                                                                                                                                                                                                                                                                                                                                                                                                                                                              you sir are my hero any chance you remember what page that is on  "
      ]
     },
     "execution_count": 10,
     "metadata": {},
     "output_type": "execute_result"
    }
   ],
   "source": [
    "df[['text', 'text_clean']].head()"
   ]
  },
  {
   "cell_type": "markdown",
   "id": "d720341f",
   "metadata": {},
   "source": [
    "### Лемматизация"
   ]
  },
  {
   "cell_type": "markdown",
   "id": "a5ecfe6d",
   "metadata": {},
   "source": [
    "Приведём слова в комментариях к их началой форме, лемме, с помощью библиотеки `spacy`"
   ]
  },
  {
   "cell_type": "markdown",
   "id": "b4f4ccac",
   "metadata": {},
   "source": [
    "Напишем функцию `text_lemm_func` для лемматизации текста:"
   ]
  },
  {
   "cell_type": "code",
   "execution_count": 11,
   "id": "8ed947d9",
   "metadata": {},
   "outputs": [],
   "source": [
    "disabled_pipes = ['parser',  'ner']\n",
    "nlp = spacy.load('en_core_web_sm', disable=disabled_pipes)\n",
    "def text_lemm_func(row):\n",
    "    doc = nlp(row)\n",
    "    words = [token.lemma_ for token in doc]\n",
    "    lemm_row = ' '.join(words)\n",
    "    return lemm_row"
   ]
  },
  {
   "cell_type": "code",
   "execution_count": 12,
   "id": "732a2515",
   "metadata": {},
   "outputs": [
    {
     "name": "stdout",
     "output_type": "stream",
     "text": [
      "CPU times: user 9min 38s, sys: 11.8 s, total: 9min 50s\n",
      "Wall time: 9min 50s\n"
     ]
    }
   ],
   "source": [
    "%%time\n",
    "df['text_lemm'] = df['text_clean'].apply(text_lemm_func)"
   ]
  },
  {
   "cell_type": "markdown",
   "id": "7dfaea59",
   "metadata": {},
   "source": [
    "Посмотрим на результат лемматизации:"
   ]
  },
  {
   "cell_type": "code",
   "execution_count": 13,
   "id": "21b38f75",
   "metadata": {},
   "outputs": [
    {
     "data": {
      "text/html": [
       "<div>\n",
       "<style scoped>\n",
       "    .dataframe tbody tr th:only-of-type {\n",
       "        vertical-align: middle;\n",
       "    }\n",
       "\n",
       "    .dataframe tbody tr th {\n",
       "        vertical-align: top;\n",
       "    }\n",
       "\n",
       "    .dataframe thead th {\n",
       "        text-align: right;\n",
       "    }\n",
       "</style>\n",
       "<table border=\"1\" class=\"dataframe\">\n",
       "  <thead>\n",
       "    <tr style=\"text-align: right;\">\n",
       "      <th></th>\n",
       "      <th>text_clean</th>\n",
       "      <th>text_lemm</th>\n",
       "    </tr>\n",
       "  </thead>\n",
       "  <tbody>\n",
       "    <tr>\n",
       "      <th>24942</th>\n",
       "      <td>my selections though this list needs further paring down just as koch inherited his oil business from his father americans for prosperity borrows from the ultra right group also founded in part by his dad the john birch society conceived by robert welch and a small group of conservative industrialists including fred koch david is father and the namesake of the family firm of koch industries the john birch society cloaked its pro business anti civil rights agenda in the rhetoric of the cold war cushioned with large donations from koch and others the birch society helped propel barry goldwater to the republican nomination in and helped republicans make gains in the congressional midterms of like americans for prosperity the john birch society rarely acknowledged its funding from the very rich instead it depicted itself as a citizens group merely interested in american ideals of freedom rather than argue the policy nuances of entitlement programs or new regulations the birch society m...</td>\n",
       "      <td>my selection though this list need far pare down just as koch inherit his oil business from his father americans for prosperity borrow from the ultra right group also found in part by his dad the john birch society conceive by robert welch and a small group of conservative industrialist include fred koch david be father and the namesake of the family firm of koch industry the john birch society cloak its pro business anti civil right agenda in the rhetoric of the cold war cushion with large donation from koch and other the birch society help propel barry goldwater to the republican nomination in and help republicans make gain in the congressional midterm of like americans for prosperity the john birch society rarely acknowledge its funding from the very rich instead it depict itself as a citizen group merely interested in american ideal of freedom rather than argue the policy nuance of entitlement program or new regulation the birch society marshal opposition by depict progressive ...</td>\n",
       "    </tr>\n",
       "    <tr>\n",
       "      <th>76615</th>\n",
       "      <td>on frank do you listen to that station every single day</td>\n",
       "      <td>on frank do you listen to that station every single day</td>\n",
       "    </tr>\n",
       "    <tr>\n",
       "      <th>86703</th>\n",
       "      <td>i am sorry i am sorry for the vandalizim i have done but what i wrote is true</td>\n",
       "      <td>I be sorry I be sorry for the vandalizim I have do but what I write be true</td>\n",
       "    </tr>\n",
       "  </tbody>\n",
       "</table>\n",
       "</div>"
      ],
      "text/plain": [
       "                                                                                                                                                                                                                                                                                                                                                                                                                                                                                                                                                                                                                                                                                                                                                                                                                                                                                                                                                                                                                                    text_clean  \\\n",
       "24942  my selections though this list needs further paring down just as koch inherited his oil business from his father americans for prosperity borrows from the ultra right group also founded in part by his dad the john birch society conceived by robert welch and a small group of conservative industrialists including fred koch david is father and the namesake of the family firm of koch industries the john birch society cloaked its pro business anti civil rights agenda in the rhetoric of the cold war cushioned with large donations from koch and others the birch society helped propel barry goldwater to the republican nomination in and helped republicans make gains in the congressional midterms of like americans for prosperity the john birch society rarely acknowledged its funding from the very rich instead it depicted itself as a citizens group merely interested in american ideals of freedom rather than argue the policy nuances of entitlement programs or new regulations the birch society m...   \n",
       "76615                                                                                                                                                                                                                                                                                                                                                                                                                                                                                                                                                                                                                                                                                                                                                                                                                                                                                                                                                                                  on frank do you listen to that station every single day   \n",
       "86703                                                                                                                                                                                                                                                                                                                                                                                                                                                                                                                                                                                                                                                                                                                                                                                                                                                                                                                                                            i am sorry i am sorry for the vandalizim i have done but what i wrote is true   \n",
       "\n",
       "                                                                                                                                                                                                                                                                                                                                                                                                                                                                                                                                                                                                                                                                                                                                                                                                                                                                                                                                                                                                                                     text_lemm  \n",
       "24942  my selection though this list need far pare down just as koch inherit his oil business from his father americans for prosperity borrow from the ultra right group also found in part by his dad the john birch society conceive by robert welch and a small group of conservative industrialist include fred koch david be father and the namesake of the family firm of koch industry the john birch society cloak its pro business anti civil right agenda in the rhetoric of the cold war cushion with large donation from koch and other the birch society help propel barry goldwater to the republican nomination in and help republicans make gain in the congressional midterm of like americans for prosperity the john birch society rarely acknowledge its funding from the very rich instead it depict itself as a citizen group merely interested in american ideal of freedom rather than argue the policy nuance of entitlement program or new regulation the birch society marshal opposition by depict progressive ...  \n",
       "76615                                                                                                                                                                                                                                                                                                                                                                                                                                                                                                                                                                                                                                                                                                                                                                                                                                                                                                                                                                                  on frank do you listen to that station every single day  \n",
       "86703                                                                                                                                                                                                                                                                                                                                                                                                                                                                                                                                                                                                                                                                                                                                                                                                                                                                                                                                                              I be sorry I be sorry for the vandalizim I have do but what I write be true  "
      ]
     },
     "execution_count": 13,
     "metadata": {},
     "output_type": "execute_result"
    }
   ],
   "source": [
    "df[['text_clean', 'text_lemm']].sample(3)"
   ]
  },
  {
   "cell_type": "code",
   "execution_count": 14,
   "id": "cd3bd6ee",
   "metadata": {},
   "outputs": [],
   "source": [
    "df['text_clean'] = df['text_clean'].astype('U')\n",
    "df['text_lemm'] = df['text_lemm'].astype('U')"
   ]
  },
  {
   "cell_type": "markdown",
   "id": "01fca2e2",
   "metadata": {},
   "source": [
    "### Количество символов тексте"
   ]
  },
  {
   "cell_type": "markdown",
   "id": "314cbce3",
   "metadata": {},
   "source": [
    "Добавим признак с количеством символов в тексте"
   ]
  },
  {
   "cell_type": "code",
   "execution_count": 15,
   "id": "2a79aef9",
   "metadata": {},
   "outputs": [],
   "source": [
    "df['length'] = df['text_lemm'].apply(len)"
   ]
  },
  {
   "cell_type": "markdown",
   "id": "351d1b61",
   "metadata": {},
   "source": [
    "Посмотрим на распределение длинны текста в наших данных"
   ]
  },
  {
   "cell_type": "code",
   "execution_count": 16,
   "id": "0291f31c",
   "metadata": {
    "scrolled": true
   },
   "outputs": [],
   "source": [
    "def histplot_boxplot(df, column, bins=50):\n",
    "    \"\"\"\n",
    "    df - датафрейм\n",
    "    column - название признака для построения графиков\n",
    "    bins - количество корзин (50 по умолчанию)\n",
    "    \n",
    "    \"\"\"\n",
    "    f, (ax_box, ax_hist) = plt.subplots(2, sharex=True, gridspec_kw={'height_ratios': (.13, .87)},\n",
    "                                        figsize=(12, 8))\n",
    "    sns.boxplot(data=df, \n",
    "                x=column,  \n",
    "                orient='h',\n",
    "                order=[1,0],\n",
    "                palette='pastel',\n",
    "                ax=ax_box)\n",
    "    sns.histplot(data=df, \n",
    "                 x=column, \n",
    "                 bins=bins, \n",
    "                 kde=True, \n",
    "                 palette='pastel', \n",
    "                 hue_order=[1,0],\n",
    "                 ax=ax_hist)\n",
    " \n",
    "    ax_box.set(xlabel='')\n",
    "    ax_box.set(title='Ящик с усами для \"{}\"'.format(column))\n",
    "    ax_hist.set(title='Распределение признака \"{}\"'.format(column))\n",
    "    plt.show()"
   ]
  },
  {
   "cell_type": "code",
   "execution_count": 17,
   "id": "f58c0969",
   "metadata": {
    "scrolled": false
   },
   "outputs": [
    {
     "data": {
      "image/png": "[encoded data removed]",
      "text/plain": [
       "<Figure size 864x576 with 2 Axes>"
      ]
     },
     "metadata": {
      "needs_background": "light"
     },
     "output_type": "display_data"
    }
   ],
   "source": [
    "histplot_boxplot(df, 'length')"
   ]
  },
  {
   "cell_type": "markdown",
   "id": "7c482dae",
   "metadata": {},
   "source": [
    "Посмотрим на комментарии с количеством символов меньше 10:"
   ]
  },
  {
   "cell_type": "code",
   "execution_count": 18,
   "id": "69c74888",
   "metadata": {},
   "outputs": [
    {
     "data": {
      "text/html": [
       "<div>\n",
       "<style scoped>\n",
       "    .dataframe tbody tr th:only-of-type {\n",
       "        vertical-align: middle;\n",
       "    }\n",
       "\n",
       "    .dataframe tbody tr th {\n",
       "        vertical-align: top;\n",
       "    }\n",
       "\n",
       "    .dataframe thead th {\n",
       "        text-align: right;\n",
       "    }\n",
       "</style>\n",
       "<table border=\"1\" class=\"dataframe\">\n",
       "  <thead>\n",
       "    <tr style=\"text-align: right;\">\n",
       "      <th></th>\n",
       "      <th>text</th>\n",
       "      <th>toxic</th>\n",
       "      <th>text_clean</th>\n",
       "      <th>text_lemm</th>\n",
       "      <th>length</th>\n",
       "    </tr>\n",
       "  </thead>\n",
       "  <tbody>\n",
       "    <tr>\n",
       "      <th>29508</th>\n",
       "      <td>I think so. 222.35.87.233</td>\n",
       "      <td>0</td>\n",
       "      <td>i think so</td>\n",
       "      <td>I think so</td>\n",
       "      <td>10</td>\n",
       "    </tr>\n",
       "    <tr>\n",
       "      <th>109075</th>\n",
       "      <td>\":* Fixed that.  (T) \\n\"</td>\n",
       "      <td>0</td>\n",
       "      <td>fixed that t</td>\n",
       "      <td>fix that t</td>\n",
       "      <td>10</td>\n",
       "    </tr>\n",
       "    <tr>\n",
       "      <th>37699</th>\n",
       "      <td>\"\\nSounds good.— (竜龍) \"</td>\n",
       "      <td>0</td>\n",
       "      <td>sounds good</td>\n",
       "      <td>sound good</td>\n",
       "      <td>10</td>\n",
       "    </tr>\n",
       "    <tr>\n",
       "      <th>75860</th>\n",
       "      <td>) 11:30, 24 August 2009 (UTC</td>\n",
       "      <td>0</td>\n",
       "      <td>august utc</td>\n",
       "      <td>august utc</td>\n",
       "      <td>10</td>\n",
       "    </tr>\n",
       "    <tr>\n",
       "      <th>78243</th>\n",
       "      <td>\"\\nSounds good.    ♦ ♣ ♠ \"</td>\n",
       "      <td>0</td>\n",
       "      <td>sounds good</td>\n",
       "      <td>sound good</td>\n",
       "      <td>10</td>\n",
       "    </tr>\n",
       "    <tr>\n",
       "      <th>...</th>\n",
       "      <td>...</td>\n",
       "      <td>...</td>\n",
       "      <td>...</td>\n",
       "      <td>...</td>\n",
       "      <td>...</td>\n",
       "    </tr>\n",
       "    <tr>\n",
       "      <th>61758</th>\n",
       "      <td>\"\\n\\n 199.209.144.211  \"</td>\n",
       "      <td>0</td>\n",
       "      <td></td>\n",
       "      <td></td>\n",
       "      <td>0</td>\n",
       "    </tr>\n",
       "    <tr>\n",
       "      <th>53787</th>\n",
       "      <td>92.24.199.233|92.24.199.233]]</td>\n",
       "      <td>0</td>\n",
       "      <td></td>\n",
       "      <td></td>\n",
       "      <td>0</td>\n",
       "    </tr>\n",
       "    <tr>\n",
       "      <th>82681</th>\n",
       "      <td>\"\\n '''''' 2010/2013 \"</td>\n",
       "      <td>0</td>\n",
       "      <td></td>\n",
       "      <td></td>\n",
       "      <td>0</td>\n",
       "    </tr>\n",
       "    <tr>\n",
       "      <th>52442</th>\n",
       "      <td>14:53,</td>\n",
       "      <td>0</td>\n",
       "      <td></td>\n",
       "      <td></td>\n",
       "      <td>0</td>\n",
       "    </tr>\n",
       "    <tr>\n",
       "      <th>17311</th>\n",
       "      <td>~ \\n\\n68.193.147.157</td>\n",
       "      <td>0</td>\n",
       "      <td></td>\n",
       "      <td></td>\n",
       "      <td>0</td>\n",
       "    </tr>\n",
       "  </tbody>\n",
       "</table>\n",
       "<p>424 rows × 5 columns</p>\n",
       "</div>"
      ],
      "text/plain": [
       "                                 text  toxic    text_clean   text_lemm  length\n",
       "29508       I think so. 222.35.87.233      0    i think so  I think so      10\n",
       "109075       \":* Fixed that.  (T) \\n\"      0  fixed that t  fix that t      10\n",
       "37699         \"\\nSounds good.— (竜龍) \"      0   sounds good  sound good      10\n",
       "75860    ) 11:30, 24 August 2009 (UTC      0    august utc  august utc      10\n",
       "78243      \"\\nSounds good.    ♦ ♣ ♠ \"      0   sounds good  sound good      10\n",
       "...                               ...    ...           ...         ...     ...\n",
       "61758        \"\\n\\n 199.209.144.211  \"      0                                 0\n",
       "53787   92.24.199.233|92.24.199.233]]      0                                 0\n",
       "82681          \"\\n '''''' 2010/2013 \"      0                                 0\n",
       "52442                          14:53,      0                                 0\n",
       "17311            ~ \\n\\n68.193.147.157      0                                 0\n",
       "\n",
       "[424 rows x 5 columns]"
      ]
     },
     "execution_count": 18,
     "metadata": {},
     "output_type": "execute_result"
    }
   ],
   "source": [
    "df.query('length <= 10').sort_values(by='length', ascending=False)"
   ]
  },
  {
   "cell_type": "code",
   "execution_count": 19,
   "id": "bc23d7cc",
   "metadata": {},
   "outputs": [
    {
     "name": "stdout",
     "output_type": "stream",
     "text": [
      "Количесво комментариев с 0 символами: 7\n"
     ]
    }
   ],
   "source": [
    "print('Количесво комментариев с 0 символами:', len(df.query('length == 0')))"
   ]
  },
  {
   "cell_type": "markdown",
   "id": "b4962c97",
   "metadata": {},
   "source": [
    "Посмотрим на самые длинные комментарии:"
   ]
  },
  {
   "cell_type": "code",
   "execution_count": 20,
   "id": "ee9d117a",
   "metadata": {},
   "outputs": [
    {
     "data": {
      "text/html": [
       "<div>\n",
       "<style scoped>\n",
       "    .dataframe tbody tr th:only-of-type {\n",
       "        vertical-align: middle;\n",
       "    }\n",
       "\n",
       "    .dataframe tbody tr th {\n",
       "        vertical-align: top;\n",
       "    }\n",
       "\n",
       "    .dataframe thead th {\n",
       "        text-align: right;\n",
       "    }\n",
       "</style>\n",
       "<table border=\"1\" class=\"dataframe\">\n",
       "  <thead>\n",
       "    <tr style=\"text-align: right;\">\n",
       "      <th></th>\n",
       "      <th>text_clean</th>\n",
       "      <th>length</th>\n",
       "    </tr>\n",
       "  </thead>\n",
       "  <tbody>\n",
       "    <tr>\n",
       "      <th>82636</th>\n",
       "      <td>muahahahahahahahahahahahahahahahahahaha you can not stop my vandalism muahahahahahahahahahahahahahahahahahaha you can not stop my vandalism muahahahahahahahahahahahahahahahahahaha you can not stop my vandalism muahahahahahahahahahahahahahahahahahaha you can not stop my vandalism muahahahahahahahahahahahahahahahahahaha you can not stop my vandalism muahahahahahahahahahahahahahahahahahaha you can not stop my vandalism muahahahahahahahahahahahahahahahahahaha you can not stop my vandalism muahahahahahahahahahahahahahahahahahaha you can not stop my vandalism muahahahahahahahahahahahahahahahahahaha you can not stop my vandalism muahahahahahahahahahahahahahahahahahaha you can not stop my vandalism muahahahahahahahahahahahahahahahahahaha you can not stop my vandalism muahahahahahahahahahahahahahahahahahaha you can not stop my vandalism muahahahahahahahahahahahahahahahahahaha you can not stop my vandalism muahahahahahahahahahahahahahahahahahaha you can not stop my vandalism muahahahahahahah...</td>\n",
       "      <td>5072</td>\n",
       "    </tr>\n",
       "    <tr>\n",
       "      <th>27148</th>\n",
       "      <td>damn you u cunt damn you u cunt damn you u cunt damn you u cunt damn you u cunt damn you u cunt damn you u cunt damn you u cunt damn you u cunt damn you u cunt damn you u cunt damn you u cunt damn you u cunt damn you u cunt damn you u cunt damn you u cunt damn you u cunt damn you u cunt damn you u cunt damn you u cunt damn you u cunt damn you u cunt damn you u cunt damn you u cunt damn you u cunt damn you u cunt damn you u cunt damn you u cunt damn you u cunt damn you u cunt damn you u cunt damn you u cunt damn you u cunt damn you u cunt damn you u cunt damn you u cunt damn you u cunt damn you u cunt damn you u cunt damn you u cunt damn you u cunt damn you u cunt damn you u cunt damn you u cunt damn you u cunt damn you u cunt damn you u cunt damn you u cunt damn you u cunt damn you u cunt damn you u cunt damn you u cunt damn you u cunt damn you u cunt damn you u cunt damn you u cunt damn you u cunt damn you u cunt damn you u cunt damn you u cunt damn you u cunt damn you u cunt damn...</td>\n",
       "      <td>5000</td>\n",
       "    </tr>\n",
       "    <tr>\n",
       "      <th>93952</th>\n",
       "      <td>wiki noobs wiki noobs wiki noobs wiki noobs wiki noobs wiki noobs wiki noobs wiki noobs wiki noobs wiki noobs wiki noobs wiki noobs wiki noobs wiki noobs wiki noobs wiki noobs wiki noobs wiki noobs wiki noobs wiki noobs wiki noobs wiki noobs wiki noobs wiki noobs wiki noobs wiki noobs wiki noobs wiki noobs wiki noobs wiki noobs wiki noobs wiki noobs wiki noobs wiki noobs wiki noobs wiki noobs wiki noobs wiki noobs wiki noobs wiki noobs wiki noobs wiki noobs wiki noobs wiki noobs wiki noobs wiki noobs wiki noobs wiki noobs wiki noobs wiki noobs wiki noobs wiki noobs wiki noobs wiki noobs wiki noobs wiki noobs wiki noobs wiki noobs wiki noobs wiki noobs wiki noobs wiki noobs wiki noobs wiki noobs wiki noobs wiki noobs wiki noobs wiki noobs wiki noobs wiki noobs wiki noobs wiki noobs wiki noobs wiki noobs wiki noobs wiki noobs wiki noobs wiki noobs wiki noobs wiki noobs wiki noobs wiki noobs wiki noobs wiki noobs wiki noobs wiki noobs wiki noobs wiki noobs wiki noobs wiki noobs wiki n...</td>\n",
       "      <td>5000</td>\n",
       "    </tr>\n",
       "  </tbody>\n",
       "</table>\n",
       "</div>"
      ],
      "text/plain": [
       "                                                                                                                                                                                                                                                                                                                                                                                                                                                                                                                                                                                                                                                                                                                                                                                                                                                                                                                                                                                                                                    text_clean  \\\n",
       "82636  muahahahahahahahahahahahahahahahahahaha you can not stop my vandalism muahahahahahahahahahahahahahahahahahaha you can not stop my vandalism muahahahahahahahahahahahahahahahahahaha you can not stop my vandalism muahahahahahahahahahahahahahahahahahaha you can not stop my vandalism muahahahahahahahahahahahahahahahahahaha you can not stop my vandalism muahahahahahahahahahahahahahahahahahaha you can not stop my vandalism muahahahahahahahahahahahahahahahahahaha you can not stop my vandalism muahahahahahahahahahahahahahahahahahaha you can not stop my vandalism muahahahahahahahahahahahahahahahahahaha you can not stop my vandalism muahahahahahahahahahahahahahahahahahaha you can not stop my vandalism muahahahahahahahahahahahahahahahahahaha you can not stop my vandalism muahahahahahahahahahahahahahahahahahaha you can not stop my vandalism muahahahahahahahahahahahahahahahahahaha you can not stop my vandalism muahahahahahahahahahahahahahahahahahaha you can not stop my vandalism muahahahahahahah...   \n",
       "27148  damn you u cunt damn you u cunt damn you u cunt damn you u cunt damn you u cunt damn you u cunt damn you u cunt damn you u cunt damn you u cunt damn you u cunt damn you u cunt damn you u cunt damn you u cunt damn you u cunt damn you u cunt damn you u cunt damn you u cunt damn you u cunt damn you u cunt damn you u cunt damn you u cunt damn you u cunt damn you u cunt damn you u cunt damn you u cunt damn you u cunt damn you u cunt damn you u cunt damn you u cunt damn you u cunt damn you u cunt damn you u cunt damn you u cunt damn you u cunt damn you u cunt damn you u cunt damn you u cunt damn you u cunt damn you u cunt damn you u cunt damn you u cunt damn you u cunt damn you u cunt damn you u cunt damn you u cunt damn you u cunt damn you u cunt damn you u cunt damn you u cunt damn you u cunt damn you u cunt damn you u cunt damn you u cunt damn you u cunt damn you u cunt damn you u cunt damn you u cunt damn you u cunt damn you u cunt damn you u cunt damn you u cunt damn you u cunt damn...   \n",
       "93952  wiki noobs wiki noobs wiki noobs wiki noobs wiki noobs wiki noobs wiki noobs wiki noobs wiki noobs wiki noobs wiki noobs wiki noobs wiki noobs wiki noobs wiki noobs wiki noobs wiki noobs wiki noobs wiki noobs wiki noobs wiki noobs wiki noobs wiki noobs wiki noobs wiki noobs wiki noobs wiki noobs wiki noobs wiki noobs wiki noobs wiki noobs wiki noobs wiki noobs wiki noobs wiki noobs wiki noobs wiki noobs wiki noobs wiki noobs wiki noobs wiki noobs wiki noobs wiki noobs wiki noobs wiki noobs wiki noobs wiki noobs wiki noobs wiki noobs wiki noobs wiki noobs wiki noobs wiki noobs wiki noobs wiki noobs wiki noobs wiki noobs wiki noobs wiki noobs wiki noobs wiki noobs wiki noobs wiki noobs wiki noobs wiki noobs wiki noobs wiki noobs wiki noobs wiki noobs wiki noobs wiki noobs wiki noobs wiki noobs wiki noobs wiki noobs wiki noobs wiki noobs wiki noobs wiki noobs wiki noobs wiki noobs wiki noobs wiki noobs wiki noobs wiki noobs wiki noobs wiki noobs wiki noobs wiki noobs wiki noobs wiki n...   \n",
       "\n",
       "       length  \n",
       "82636    5072  \n",
       "27148    5000  \n",
       "93952    5000  "
      ]
     },
     "execution_count": 20,
     "metadata": {},
     "output_type": "execute_result"
    }
   ],
   "source": [
    "df[['text_clean', 'length']].sort_values(by='length', ascending=False).head(3)"
   ]
  },
  {
   "cell_type": "markdown",
   "id": "f616bab8",
   "metadata": {},
   "source": [
    "Видим проблему наличия сверхдлинных слов, а также множества повторяющихся слов в одном сообщении"
   ]
  },
  {
   "cell_type": "markdown",
   "id": "d6e4695c",
   "metadata": {},
   "source": [
    "## Обучение моделей"
   ]
  },
  {
   "cell_type": "markdown",
   "id": "5decd01d",
   "metadata": {},
   "source": [
    "### Разделение данных"
   ]
  },
  {
   "cell_type": "markdown",
   "id": "7500da96",
   "metadata": {},
   "source": [
    "Зафиксируем параметр псевдослучайности для наших моделей и выборок:"
   ]
  },
  {
   "cell_type": "code",
   "execution_count": 21,
   "id": "c32a7c76",
   "metadata": {},
   "outputs": [],
   "source": [
    "rnd_st = 12345"
   ]
  },
  {
   "cell_type": "markdown",
   "id": "718c7e77",
   "metadata": {},
   "source": [
    "Разделим исходные данные на обучающую `train` и тестовую выборки `test`:"
   ]
  },
  {
   "cell_type": "code",
   "execution_count": 22,
   "id": "92cdb117",
   "metadata": {},
   "outputs": [],
   "source": [
    "X = df['text_lemm']\n",
    "y = df['toxic'] "
   ]
  },
  {
   "cell_type": "code",
   "execution_count": 23,
   "id": "84c55be2",
   "metadata": {},
   "outputs": [],
   "source": [
    "X_train, X_test, y_train, y_test = train_test_split(X, y, test_size=0.3, stratify=y)"
   ]
  },
  {
   "cell_type": "code",
   "execution_count": 24,
   "id": "e3818c66",
   "metadata": {},
   "outputs": [
    {
     "name": "stdout",
     "output_type": "stream",
     "text": [
      "111699 111699\n",
      "47872 47872\n"
     ]
    }
   ],
   "source": [
    "print(len(X_train), len(y_train))\n",
    "print(len(X_test), len(y_test))"
   ]
  },
  {
   "cell_type": "markdown",
   "id": "4f285ff9",
   "metadata": {},
   "source": [
    "### Баланс классов"
   ]
  },
  {
   "cell_type": "code",
   "execution_count": 25,
   "id": "a4d88930",
   "metadata": {},
   "outputs": [
    {
     "data": {
      "image/png": "[encoded data removed]",
      "text/plain": [
       "<Figure size 432x288 with 1 Axes>"
      ]
     },
     "metadata": {
      "needs_background": "light"
     },
     "output_type": "display_data"
    }
   ],
   "source": [
    "sns.countplot(data = df, x='toxic')\n",
    "plt.title('no toxic (0) vs. toxic (1)')\n",
    "plt.show()"
   ]
  },
  {
   "cell_type": "code",
   "execution_count": 26,
   "id": "15115fa5",
   "metadata": {
    "scrolled": true
   },
   "outputs": [
    {
     "data": {
      "text/plain": [
       "0    89.83%\n",
       "1    10.17%\n",
       "Name: toxic, dtype: object"
      ]
     },
     "execution_count": 26,
     "metadata": {},
     "output_type": "execute_result"
    }
   ],
   "source": [
    "y.value_counts(normalize=True).map('{:.2%}'.format)"
   ]
  },
  {
   "cell_type": "markdown",
   "id": "ff5e5b41",
   "metadata": {},
   "source": [
    "Классы неслабансированы: соотношение 9 к 1"
   ]
  },
  {
   "cell_type": "markdown",
   "id": "fb5bee0a",
   "metadata": {},
   "source": [
    "### LogisticRegression"
   ]
  },
  {
   "cell_type": "markdown",
   "id": "c87ebd6c",
   "metadata": {},
   "source": [
    "Напишем функцию `grid_search_func` для проведения поиска по решетке, вывода лучших параметров модели и метрики. Функция будет возвращать лучший оценщик"
   ]
  },
  {
   "cell_type": "code",
   "execution_count": 27,
   "id": "4cf3fc2b",
   "metadata": {},
   "outputs": [],
   "source": [
    "def grid_search_func(model, parameters, features_train, target_train):\n",
    "    \"\"\"\n",
    "    model - модель\n",
    "    param_grid - параметры для поиска по решетке\n",
    "    features_train - входные признаки обучающая выборка\n",
    "    target_train - входные признаки тестовая выборка\n",
    "    \n",
    "    \"\"\"\n",
    "    gs = GridSearchCV(estimator=model, param_grid=parameters, \n",
    "                      scoring='f1', cv=3, verbose=0)\n",
    "    gs.fit(features_train, target_train)\n",
    "    gs_best_estimator = gs.best_estimator_\n",
    "    print('Best parameters:', gs.best_params_)\n",
    "    print('Best f1 = %.4f' % abs(gs.best_score_))\n",
    "    return gs_best_estimator"
   ]
  },
  {
   "cell_type": "markdown",
   "id": "03f181f1",
   "metadata": {},
   "source": [
    "Объединим операции обработки данных в конвейер `pipe`: `TF-IDF` векторизатор и Логистическая регрессия:"
   ]
  },
  {
   "cell_type": "code",
   "execution_count": 28,
   "id": "3df4adea",
   "metadata": {
    "scrolled": true
   },
   "outputs": [
    {
     "name": "stderr",
     "output_type": "stream",
     "text": [
      "[nltk_data] Downloading package stopwords to /Users/home/nltk_data...\n",
      "[nltk_data]   Package stopwords is already up-to-date!\n"
     ]
    }
   ],
   "source": [
    "nltk.download('stopwords')\n",
    "stop_words = set(nltk_stopwords.words('english'))"
   ]
  },
  {
   "cell_type": "code",
   "execution_count": 29,
   "id": "3b031ab1",
   "metadata": {},
   "outputs": [],
   "source": [
    "logreg_pipe = Pipeline([\n",
    "    ('tfidf', TfidfVectorizer(stop_words=stop_words)),\n",
    "    ('logreg', LogisticRegression(random_state=rnd_st, class_weight='balanced'))\n",
    "])\n",
    "    \n",
    "param_grid = {\n",
    "    'logreg__C': [10],\n",
    "#    'logreg__C': [1, 3, 5, 10, 20],\n",
    "    'tfidf__ngram_range': [(1, 3)],\n",
    "#    'tfidf__ngram_range': [(1, 1), (1, 2), (1, 3)],\n",
    "    'tfidf__min_df': [2]\n",
    "#    'tfidf__min_df': [1, 2, 3]\n",
    "}"
   ]
  },
  {
   "cell_type": "code",
   "execution_count": 30,
   "id": "ffac3d5e",
   "metadata": {},
   "outputs": [
    {
     "name": "stdout",
     "output_type": "stream",
     "text": [
      "Best parameters: {'logreg__C': 10, 'tfidf__min_df': 2, 'tfidf__ngram_range': (1, 3)}\n",
      "Best f1 = 0.7736\n",
      "CPU times: user 6min 5s, sys: 1min 8s, total: 7min 13s\n",
      "Wall time: 1min 24s\n"
     ]
    }
   ],
   "source": [
    "%%time\n",
    "logreg_gs_best_estimator = grid_search_func(logreg_pipe, param_grid, X_train, y_train)"
   ]
  },
  {
   "cell_type": "markdown",
   "id": "3acb839a",
   "metadata": {},
   "source": [
    "### LinearSVC"
   ]
  },
  {
   "cell_type": "markdown",
   "id": "7539ca67",
   "metadata": {},
   "source": [
    "Объединим операции обработки данных в конвейер `pipe`: `TF-IDF` векторизатор и LinearSVC:"
   ]
  },
  {
   "cell_type": "code",
   "execution_count": 31,
   "id": "a6c7de9b",
   "metadata": {},
   "outputs": [],
   "source": [
    "lin_svc_pipe = Pipeline([\n",
    "    ('tfidf', TfidfVectorizer(stop_words=stop_words)),\n",
    "    ('lin_svc', LinearSVC(random_state=rnd_st, class_weight='balanced'))\n",
    "])\n",
    "    \n",
    "param_grid = {\n",
    "    'lin_svc__C': [0.7],\n",
    "#     'lin_svc__C': [0.5, 0.7, 1]\n",
    "    'tfidf__ngram_range': [(1, 3)],\n",
    "    'tfidf__min_df': [2]\n",
    "}"
   ]
  },
  {
   "cell_type": "code",
   "execution_count": 32,
   "id": "ab1e4992",
   "metadata": {},
   "outputs": [
    {
     "name": "stdout",
     "output_type": "stream",
     "text": [
      "Best parameters: {'lin_svc__C': 0.7, 'tfidf__min_df': 2, 'tfidf__ngram_range': (1, 3)}\n",
      "Best f1 = 0.7731\n",
      "CPU times: user 1min, sys: 1.32 s, total: 1min 1s\n",
      "Wall time: 1min 1s\n"
     ]
    }
   ],
   "source": [
    "%%time\n",
    "lin_svc_gs_best_estimator = grid_search_func(lin_svc_pipe, param_grid, X_train, y_train)"
   ]
  },
  {
   "cell_type": "markdown",
   "id": "d8590ba5",
   "metadata": {},
   "source": [
    "### BernoulliNB"
   ]
  },
  {
   "cell_type": "markdown",
   "id": "5e8c6eb0",
   "metadata": {},
   "source": [
    "Объединим операции обработки данных в конвейер `pipe`: `TF-IDF` векторизатор и Бернулли Наивный баесовский классификатор:"
   ]
  },
  {
   "cell_type": "code",
   "execution_count": 33,
   "id": "af888b18",
   "metadata": {},
   "outputs": [],
   "source": [
    "bernulli_pipe = Pipeline([\n",
    "    ('tfidf', TfidfVectorizer(stop_words=stop_words)),\n",
    "    ('bernulli', BernoulliNB())\n",
    "])\n",
    "\n",
    "param_grid = {\n",
    "    'bernulli__alpha': [0.25],\n",
    "#    'bernulli__alpha': np.arange(0.1, 0.3, 0.05),\n",
    "    'tfidf__ngram_range': [(1, 3)],\n",
    "    'tfidf__min_df': [2]\n",
    "} "
   ]
  },
  {
   "cell_type": "code",
   "execution_count": 34,
   "id": "f6729b8c",
   "metadata": {},
   "outputs": [
    {
     "name": "stdout",
     "output_type": "stream",
     "text": [
      "Best parameters: {'bernulli__alpha': 0.25, 'tfidf__min_df': 2, 'tfidf__ngram_range': (1, 3)}\n",
      "Best f1 = 0.4306\n",
      "CPU times: user 54.4 s, sys: 1.15 s, total: 55.6 s\n",
      "Wall time: 55.6 s\n"
     ]
    }
   ],
   "source": [
    "%%time\n",
    "bnb_gs_best_estimator = grid_search_func(bernulli_pipe, param_grid, X_train, y_train)"
   ]
  },
  {
   "cell_type": "markdown",
   "id": "1e4fd481",
   "metadata": {},
   "source": [
    "**Вывод:**\n",
    "\n",
    "Модель-победитель на обучающей выборке с кросс-валидацией cv=5: логистическая регрессия с f1 = 0.7805"
   ]
  },
  {
   "cell_type": "markdown",
   "id": "29109383",
   "metadata": {},
   "source": [
    "## Анализ моделей"
   ]
  },
  {
   "cell_type": "markdown",
   "id": "0399b0d9",
   "metadata": {},
   "source": [
    "Создадим таблицу `results` для хранения результатов:"
   ]
  },
  {
   "cell_type": "code",
   "execution_count": 35,
   "id": "032c0bb4",
   "metadata": {},
   "outputs": [],
   "source": [
    "data = {'model_name': [], 'f1': []}\n",
    "results = pd.DataFrame(data=data)"
   ]
  },
  {
   "cell_type": "markdown",
   "id": "4634f936",
   "metadata": {},
   "source": [
    "Напишем функцию `model_result` проверки качества моделей на тестовой выборке и добавления результатов в общую таблицу результатов:"
   ]
  },
  {
   "cell_type": "code",
   "execution_count": 36,
   "id": "f5617c79",
   "metadata": {},
   "outputs": [],
   "source": [
    "def model_result(comment, model, X_train, X_test, y_train, y_test):\n",
    "    \"\"\"\n",
    "    comment - комментарий в таблицу\n",
    "    model - модель\n",
    "    X_train - входные признаки обучающая выборка\n",
    "    X_test - входные признаки тестовая выборка\n",
    "    y_train - целевой признак обучающая выборка\n",
    "    y_test - целевой признак тестовая выборка\n",
    "    \n",
    "    \"\"\"\n",
    "    model.fit(X_train, y_train)\n",
    "    y_pred = model.predict(X_test)\n",
    "    f1 = f1_score(y_test, y_pred)\n",
    "    results.loc[len(results)] = [comment, f1]\n",
    "    results.drop_duplicates(subset=['model_name'], inplace=True)"
   ]
  },
  {
   "cell_type": "markdown",
   "id": "f531fc0b",
   "metadata": {},
   "source": [
    "Добавим в таблицу результатов константную модель:"
   ]
  },
  {
   "cell_type": "code",
   "execution_count": 37,
   "id": "1a17f01d",
   "metadata": {},
   "outputs": [],
   "source": [
    "dict1 = {\n",
    "    'LogisticRegression': logreg_gs_best_estimator,\n",
    "    'Dummy_stratified': DummyClassifier(strategy='stratified')\n",
    "}"
   ]
  },
  {
   "cell_type": "code",
   "execution_count": 38,
   "id": "39be8976",
   "metadata": {
    "scrolled": true
   },
   "outputs": [],
   "source": [
    "for comment, model in dict1.items():\n",
    "    model_result(comment, model, X_train, X_test, y_train, y_test)"
   ]
  },
  {
   "cell_type": "markdown",
   "id": "b21249fd",
   "metadata": {},
   "source": [
    "Результаты на тестовой выборке:"
   ]
  },
  {
   "cell_type": "code",
   "execution_count": 39,
   "id": "d1b72e34",
   "metadata": {
    "scrolled": false
   },
   "outputs": [
    {
     "data": {
      "text/html": [
       "<div>\n",
       "<style scoped>\n",
       "    .dataframe tbody tr th:only-of-type {\n",
       "        vertical-align: middle;\n",
       "    }\n",
       "\n",
       "    .dataframe tbody tr th {\n",
       "        vertical-align: top;\n",
       "    }\n",
       "\n",
       "    .dataframe thead th {\n",
       "        text-align: right;\n",
       "    }\n",
       "</style>\n",
       "<table border=\"1\" class=\"dataframe\">\n",
       "  <thead>\n",
       "    <tr style=\"text-align: right;\">\n",
       "      <th></th>\n",
       "      <th>model_name</th>\n",
       "      <th>f1</th>\n",
       "    </tr>\n",
       "  </thead>\n",
       "  <tbody>\n",
       "    <tr>\n",
       "      <th>0</th>\n",
       "      <td>LogisticRegression</td>\n",
       "      <td>0.790589</td>\n",
       "    </tr>\n",
       "    <tr>\n",
       "      <th>1</th>\n",
       "      <td>Dummy_stratified</td>\n",
       "      <td>0.106963</td>\n",
       "    </tr>\n",
       "  </tbody>\n",
       "</table>\n",
       "</div>"
      ],
      "text/plain": [
       "           model_name        f1\n",
       "0  LogisticRegression  0.790589\n",
       "1    Dummy_stratified  0.106963"
      ]
     },
     "execution_count": 39,
     "metadata": {},
     "output_type": "execute_result"
    }
   ],
   "source": [
    "results"
   ]
  },
  {
   "cell_type": "markdown",
   "id": "3c9af02a",
   "metadata": {},
   "source": [
    "На тестовой выборке LogisticRegression `f1` = 0.790589"
   ]
  },
  {
   "cell_type": "markdown",
   "id": "1569d6d9",
   "metadata": {},
   "source": [
    "Посмотрим на матрицу ошибок логистической регрессии:"
   ]
  },
  {
   "cell_type": "code",
   "execution_count": 42,
   "id": "f869c9c2",
   "metadata": {},
   "outputs": [
    {
     "data": {
      "image/png": "[encoded data removed]",
      "text/plain": [
       "<Figure size 288x216 with 2 Axes>"
      ]
     },
     "metadata": {
      "needs_background": "light"
     },
     "output_type": "display_data"
    }
   ],
   "source": [
    "logreg_gs_best_estimator.fit(X_train, y_train)\n",
    "y_pred = model.predict(X_test)\n",
    "cm = confusion_matrix(y_test, y_pred)    \n",
    "plt.figure(figsize=(4,3))\n",
    "sns.heatmap(cm, annot=True, fmt='d', linewidths=3, cmap='YlGnBu', linecolor='black')\n",
    "plt.xlabel('Предсказания')\n",
    "plt.ylabel('Ответы')\n",
    "plt.title('Матрица ошибок')\n",
    "plt.show()"
   ]
  },
  {
   "cell_type": "markdown",
   "id": "bfb7eabd",
   "metadata": {},
   "source": [
    "Видим большое количества ложноотрицательных ответов (FN) и ложноположительных ответов (FP). Ложноотрицательные ответы ведут к уменьшению полноты, которая негативно влияет на f1 метрику. Ложноположительные ответы ведут к уменьшению точности, которая негативно влияет на f1 метрику"
   ]
  },
  {
   "cell_type": "markdown",
   "id": "2d0b2a6c",
   "metadata": {},
   "source": [
    "## Выводы\n",
    "\n",
    "\n",
    "Обучили несколько моделей на классификацию комментариев пользователей.\n",
    "\n",
    "`f1` на тестовой выборке для лучшей модели составляет 0.790589, что является достаточным для выполнения поставленной задачи"
   ]
  }
 ],
 "metadata": {
  "kernelspec": {
   "display_name": "Python 3 (ipykernel)",
   "language": "python",
   "name": "python3"
  },
  "language_info": {
   "codemirror_mode": {
    "name": "ipython",
    "version": 3
   },
   "file_extension": ".py",
   "mimetype": "text/x-python",
   "name": "python",
   "nbconvert_exporter": "python",
   "pygments_lexer": "ipython3",
   "version": "3.9.13"
  },
  "toc": {
   "base_numbering": 1,
   "nav_menu": {},
   "number_sections": true,
   "sideBar": true,
   "skip_h1_title": true,
   "title_cell": "Содержание",
   "title_sidebar": "Содержание",
   "toc_cell": true,
   "toc_position": {},
   "toc_section_display": true,
   "toc_window_display": true
  }
 },
 "nbformat": 4,
 "nbformat_minor": 5
}
